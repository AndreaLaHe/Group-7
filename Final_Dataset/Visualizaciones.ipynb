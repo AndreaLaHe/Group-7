{
 "cells": [
  {
   "cell_type": "code",
   "execution_count": 28,
   "metadata": {},
   "outputs": [],
   "source": [
    "# Importamos pandas y numpy\n",
    "import pandas as pd\n",
    "import numpy as np\n",
    "import re\n",
    "import seaborn as sns\n",
    "import matplotlib.pyplot as plt\n",
    "import numpy as np\n",
    "import scipy.stats as stats\n",
    "import plotly.express as px"
   ]
  },
  {
   "cell_type": "code",
   "execution_count": 3,
   "metadata": {},
   "outputs": [],
   "source": [
    "pd.options.display.float_format = '{:,.2f}'.format"
   ]
  },
  {
   "cell_type": "code",
   "execution_count": 56,
   "metadata": {},
   "outputs": [],
   "source": [
    "#Expecificamos ruta\n",
    "\n",
    "url = r'https://raw.githubusercontent.com/cdeniaca/Group-7/refs/heads/main/Poblacion_Salarios_Gastos.csv'\n",
    "\n",
    "url2 = r'https://raw.githubusercontent.com/cdeniaca/Group-7/refs/heads/main/Poblacion_Final_Teletrabajo.csv'"
   ]
  },
  {
   "cell_type": "code",
   "execution_count": 57,
   "metadata": {},
   "outputs": [
    {
     "data": {
      "text/html": [
       "<div><div id=9ea08c7f-176f-4bbf-980c-0a10875cc754 style=\"display:none; background-color:#9D6CFF; color:white; width:200px; height:30px; padding-left:5px; border-radius:4px; flex-direction:row; justify-content:space-around; align-items:center;\" onmouseover=\"this.style.backgroundColor='#BA9BF8'\" onmouseout=\"this.style.backgroundColor='#9D6CFF'\" onclick=\"window.commands?.execute('create-mitosheet-from-dataframe-output');\">See Full Dataframe in Mito</div> <script> if (window.commands?.hasCommand('create-mitosheet-from-dataframe-output')) document.getElementById('9ea08c7f-176f-4bbf-980c-0a10875cc754').style.display = 'flex' </script> <table border=\"1\" class=\"dataframe\">\n",
       "  <thead>\n",
       "    <tr style=\"text-align: right;\">\n",
       "      <th></th>\n",
       "      <th>AÑO</th>\n",
       "      <th>Comunidad autónoma</th>\n",
       "      <th>Ocupados</th>\n",
       "      <th>Parados</th>\n",
       "      <th>Inactivos</th>\n",
       "      <th>Total Actividad</th>\n",
       "      <th>Han teletrabajado</th>\n",
       "      <th>No han teletrabajado aunque su trabajo les permitiría teletrabajar</th>\n",
       "      <th>No han teletrabajado porque su trabajo no les permitiría teletrabajar</th>\n",
       "    </tr>\n",
       "  </thead>\n",
       "  <tbody>\n",
       "    <tr>\n",
       "      <th>0</th>\n",
       "      <td>2021</td>\n",
       "      <td>Andalucía</td>\n",
       "      <td>3,152,500.00</td>\n",
       "      <td>881,400.00</td>\n",
       "      <td>3,043,700.00</td>\n",
       "      <td>7,077,600.00</td>\n",
       "      <td>396.69</td>\n",
       "      <td>557.84</td>\n",
       "      <td>2,144.58</td>\n",
       "    </tr>\n",
       "    <tr>\n",
       "      <th>1</th>\n",
       "      <td>2021</td>\n",
       "      <td>Aragón</td>\n",
       "      <td>588,625.00</td>\n",
       "      <td>67,800.00</td>\n",
       "      <td>467,950.00</td>\n",
       "      <td>1,124,375.00</td>\n",
       "      <td>70.27</td>\n",
       "      <td>96.69</td>\n",
       "      <td>395.18</td>\n",
       "    </tr>\n",
       "    <tr>\n",
       "      <th>2</th>\n",
       "      <td>2021</td>\n",
       "      <td>Asturias, Principado de</td>\n",
       "      <td>391,475.00</td>\n",
       "      <td>55,125.00</td>\n",
       "      <td>439,275.00</td>\n",
       "      <td>885,875.00</td>\n",
       "      <td>42.93</td>\n",
       "      <td>70.04</td>\n",
       "      <td>263.20</td>\n",
       "    </tr>\n",
       "    <tr>\n",
       "      <th>3</th>\n",
       "      <td>2021</td>\n",
       "      <td>Balears, Illes</td>\n",
       "      <td>538,000.00</td>\n",
       "      <td>89,950.00</td>\n",
       "      <td>365,450.00</td>\n",
       "      <td>993,400.00</td>\n",
       "      <td>41.82</td>\n",
       "      <td>91.05</td>\n",
       "      <td>396.51</td>\n",
       "    </tr>\n",
       "    <tr>\n",
       "      <th>4</th>\n",
       "      <td>2021</td>\n",
       "      <td>Canarias</td>\n",
       "      <td>830,425.00</td>\n",
       "      <td>254,550.00</td>\n",
       "      <td>790,500.00</td>\n",
       "      <td>1,875,475.00</td>\n",
       "      <td>123.35</td>\n",
       "      <td>115.39</td>\n",
       "      <td>557.06</td>\n",
       "    </tr>\n",
       "    <tr>\n",
       "      <th>...</th>\n",
       "      <td>...</td>\n",
       "      <td>...</td>\n",
       "      <td>...</td>\n",
       "      <td>...</td>\n",
       "      <td>...</td>\n",
       "      <td>...</td>\n",
       "      <td>...</td>\n",
       "      <td>...</td>\n",
       "      <td>...</td>\n",
       "    </tr>\n",
       "    <tr>\n",
       "      <th>52</th>\n",
       "      <td>2023</td>\n",
       "      <td>Melilla</td>\n",
       "      <td>26,775.00</td>\n",
       "      <td>9,725.00</td>\n",
       "      <td>29,375.00</td>\n",
       "      <td>65,875.00</td>\n",
       "      <td>2.63</td>\n",
       "      <td>7.45</td>\n",
       "      <td>23.63</td>\n",
       "    </tr>\n",
       "    <tr>\n",
       "      <th>53</th>\n",
       "      <td>2023</td>\n",
       "      <td>Murcia, Región de</td>\n",
       "      <td>668,625.00</td>\n",
       "      <td>97,950.00</td>\n",
       "      <td>519,850.00</td>\n",
       "      <td>1,286,425.00</td>\n",
       "      <td>47.13</td>\n",
       "      <td>124.79</td>\n",
       "      <td>491.86</td>\n",
       "    </tr>\n",
       "    <tr>\n",
       "      <th>54</th>\n",
       "      <td>2023</td>\n",
       "      <td>Navarra, Comunidad Foral de</td>\n",
       "      <td>298,725.00</td>\n",
       "      <td>33,000.00</td>\n",
       "      <td>232,575.00</td>\n",
       "      <td>564,300.00</td>\n",
       "      <td>36.40</td>\n",
       "      <td>51.92</td>\n",
       "      <td>194.14</td>\n",
       "    </tr>\n",
       "    <tr>\n",
       "      <th>55</th>\n",
       "      <td>2023</td>\n",
       "      <td>País Vasco</td>\n",
       "      <td>995,750.00</td>\n",
       "      <td>83,375.00</td>\n",
       "      <td>818,725.00</td>\n",
       "      <td>1,897,850.00</td>\n",
       "      <td>131.90</td>\n",
       "      <td>243.12</td>\n",
       "      <td>609.28</td>\n",
       "    </tr>\n",
       "    <tr>\n",
       "      <th>56</th>\n",
       "      <td>2023</td>\n",
       "      <td>Rioja, La</td>\n",
       "      <td>146,625.00</td>\n",
       "      <td>15,150.00</td>\n",
       "      <td>112,600.00</td>\n",
       "      <td>274,375.00</td>\n",
       "      <td>10.76</td>\n",
       "      <td>32.58</td>\n",
       "      <td>100.18</td>\n",
       "    </tr>\n",
       "  </tbody>\n",
       "</table></div>"
      ],
      "text/plain": [
       "     AÑO           Comunidad autónoma     Ocupados    Parados    Inactivos  \\\n",
       "0   2021                    Andalucía 3,152,500.00 881,400.00 3,043,700.00   \n",
       "1   2021                       Aragón   588,625.00  67,800.00   467,950.00   \n",
       "2   2021      Asturias, Principado de   391,475.00  55,125.00   439,275.00   \n",
       "3   2021               Balears, Illes   538,000.00  89,950.00   365,450.00   \n",
       "4   2021                     Canarias   830,425.00 254,550.00   790,500.00   \n",
       "5   2021                    Cantabria   244,975.00  31,025.00   223,875.00   \n",
       "6   2021         Castilla - La Mancha   847,875.00 157,475.00   713,050.00   \n",
       "7   2021              Castilla y León   975,975.00 128,225.00   960,100.00   \n",
       "8   2021                     Cataluña 3,490,075.00 462,075.00 2,507,400.00   \n",
       "9   2021                        Ceuta    24,350.00  11,450.00    28,600.00   \n",
       "10  2021         Comunitat Valenciana 2,076,750.00 397,875.00 1,808,600.00   \n",
       "11  2021                  Extremadura   394,925.00  99,750.00   409,525.00   \n",
       "12  2021                      Galicia 1,087,075.00 141,825.00 1,115,475.00   \n",
       "13  2021         Madrid, Comunidad de 3,146,475.00 416,450.00 2,063,125.00   \n",
       "14  2021                      Melilla    29,950.00   9,600.00    25,475.00   \n",
       "15  2021            Murcia, Región de   638,750.00 110,200.00   495,375.00   \n",
       "16  2021  Navarra, Comunidad Foral de   285,850.00  34,275.00   230,200.00   \n",
       "17  2021                   País Vasco   946,825.00 108,575.00   820,550.00   \n",
       "18  2021                    Rioja, La   142,500.00  18,700.00   108,025.00   \n",
       "19  2022                    Andalucía 3,275,750.00 774,150.00 3,101,300.00   \n",
       "20  2022                       Aragón   599,850.00  63,875.00   466,600.00   \n",
       "21  2022      Asturias, Principado de   383,825.00  54,950.00   449,000.00   \n",
       "22  2022               Balears, Illes   575,975.00  68,425.00   362,450.00   \n",
       "23  2022                     Canarias   925,200.00 198,075.00   775,450.00   \n",
       "24  2022                    Cantabria   249,150.00  26,375.00   228,200.00   \n",
       "25  2022         Castilla - La Mancha   871,550.00 149,500.00   717,775.00   \n",
       "26  2022              Castilla y León 1,010,050.00 111,375.00   944,100.00   \n",
       "27  2022                     Cataluña 3,593,525.00 398,000.00 2,558,525.00   \n",
       "28  2022                        Ceuta    27,850.00  12,050.00    24,850.00   \n",
       "29  2022         Comunitat Valenciana 2,216,100.00 339,800.00 1,797,550.00   \n",
       "30  2022                  Extremadura   409,525.00  85,750.00   407,675.00   \n",
       "31  2022                      Galicia 1,103,550.00 136,900.00 1,108,625.00   \n",
       "32  2022         Madrid, Comunidad de 3,218,500.00 406,600.00 2,101,775.00   \n",
       "33  2022                      Melilla    27,775.00   9,600.00    27,050.00   \n",
       "34  2022            Murcia, Región de   650,675.00 102,250.00   511,300.00   \n",
       "35  2022  Navarra, Comunidad Foral de   295,550.00  31,875.00   230,175.00   \n",
       "36  2022                   País Vasco   967,275.00  94,250.00   818,750.00   \n",
       "37  2022                    Rioja, La   145,775.00  15,375.00   109,550.00   \n",
       "38  2023                    Andalucía 3,383,850.00 754,975.00 3,088,850.00   \n",
       "39  2023                       Aragón   611,300.00  57,350.00   472,650.00   \n",
       "40  2023      Asturias, Principado de   392,500.00  54,150.00   445,125.00   \n",
       "41  2023               Balears, Illes   589,575.00  67,850.00   375,950.00   \n",
       "42  2023                     Canarias   968,425.00 185,550.00   775,650.00   \n",
       "43  2023                    Cantabria   254,850.00  22,550.00   228,700.00   \n",
       "44  2023         Castilla - La Mancha   895,075.00 136,275.00   729,350.00   \n",
       "45  2023              Castilla y León 1,011,375.00 108,450.00   953,900.00   \n",
       "46  2023                     Cataluña 3,734,525.00 384,450.00 2,578,225.00   \n",
       "47  2023                        Ceuta    28,000.00  12,000.00    24,450.00   \n",
       "48  2023         Comunitat Valenciana 2,304,100.00 338,125.00 1,821,125.00   \n",
       "49  2023                  Extremadura   415,250.00  87,275.00   399,450.00   \n",
       "50  2023                      Galicia 1,128,550.00 121,450.00 1,108,800.00   \n",
       "51  2023         Madrid, Comunidad de 3,328,225.00 367,850.00 2,147,775.00   \n",
       "52  2023                      Melilla    26,775.00   9,725.00    29,375.00   \n",
       "53  2023            Murcia, Región de   668,625.00  97,950.00   519,850.00   \n",
       "54  2023  Navarra, Comunidad Foral de   298,725.00  33,000.00   232,575.00   \n",
       "55  2023                   País Vasco   995,750.00  83,375.00   818,725.00   \n",
       "56  2023                    Rioja, La   146,625.00  15,150.00   112,600.00   \n",
       "\n",
       "    Total Actividad  Han teletrabajado  \\\n",
       "0      7,077,600.00             396.69   \n",
       "1      1,124,375.00              70.27   \n",
       "2        885,875.00              42.93   \n",
       "3        993,400.00              41.82   \n",
       "4      1,875,475.00             123.35   \n",
       "5        499,875.00              15.17   \n",
       "6      1,718,400.00              67.62   \n",
       "7      2,064,300.00              96.93   \n",
       "8      6,459,550.00             761.12   \n",
       "9         64,400.00               1.37   \n",
       "10     4,283,225.00             290.27   \n",
       "11       904,200.00              44.02   \n",
       "12     2,344,375.00             107.22   \n",
       "13     5,626,050.00           1,001.73   \n",
       "14        65,025.00               2.09   \n",
       "15     1,244,325.00              62.32   \n",
       "16       550,325.00              29.64   \n",
       "17     1,875,950.00             114.66   \n",
       "18       269,225.00              14.91   \n",
       "19     7,151,200.00             320.63   \n",
       "20     1,130,325.00              44.51   \n",
       "21       887,775.00              29.48   \n",
       "22     1,006,850.00              41.76   \n",
       "23     1,898,725.00             104.19   \n",
       "24       503,725.00              21.78   \n",
       "25     1,738,825.00              47.90   \n",
       "26     2,065,525.00             121.30   \n",
       "27     6,550,050.00             772.48   \n",
       "28        64,750.00               2.10   \n",
       "29     4,353,450.00             247.00   \n",
       "30       902,950.00              24.55   \n",
       "31     2,349,075.00              91.06   \n",
       "32     5,726,875.00             784.42   \n",
       "33        64,425.00               1.34   \n",
       "34     1,264,225.00              54.05   \n",
       "35       557,600.00              32.06   \n",
       "36     1,880,275.00             123.05   \n",
       "37       270,700.00              11.03   \n",
       "38     7,227,675.00             286.09   \n",
       "39     1,141,300.00              52.86   \n",
       "40       891,775.00              34.84   \n",
       "41     1,033,375.00              77.50   \n",
       "42     1,929,625.00             109.63   \n",
       "43       506,100.00              16.68   \n",
       "44     1,760,700.00              45.66   \n",
       "45     2,073,725.00              83.67   \n",
       "46     6,697,200.00             730.42   \n",
       "47        64,450.00               1.14   \n",
       "48     4,463,350.00             297.91   \n",
       "49       901,975.00              35.14   \n",
       "50     2,358,800.00              94.59   \n",
       "51     5,843,850.00             793.44   \n",
       "52        65,875.00               2.63   \n",
       "53     1,286,425.00              47.13   \n",
       "54       564,300.00              36.40   \n",
       "55     1,897,850.00             131.90   \n",
       "56       274,375.00              10.76   \n",
       "\n",
       "    No han teletrabajado aunque su trabajo les permitiría teletrabajar  \\\n",
       "0                                              557.84                    \n",
       "1                                               96.69                    \n",
       "2                                               70.04                    \n",
       "3                                               91.05                    \n",
       "4                                              115.39                    \n",
       "5                                               47.35                    \n",
       "6                                              134.36                    \n",
       "7                                              135.51                    \n",
       "8                                              484.65                    \n",
       "9                                                9.73                    \n",
       "10                                             338.96                    \n",
       "11                                              81.30                    \n",
       "12                                             197.56                    \n",
       "13                                             479.09                    \n",
       "14                                               3.16                    \n",
       "15                                             133.62                    \n",
       "16                                              56.79                    \n",
       "17                                             206.40                    \n",
       "18                                              24.00                    \n",
       "19                                             607.14                    \n",
       "20                                             105.79                    \n",
       "21                                              68.27                    \n",
       "22                                             105.33                    \n",
       "23                                             132.97                    \n",
       "24                                              46.71                    \n",
       "25                                             146.48                    \n",
       "26                                             158.09                    \n",
       "27                                             783.11                    \n",
       "28                                               4.85                    \n",
       "29                                             493.99                    \n",
       "30                                              73.65                    \n",
       "31                                             210.07                    \n",
       "32                                             510.35                    \n",
       "33                                               5.69                    \n",
       "34                                             136.68                    \n",
       "35                                              76.94                    \n",
       "36                                             182.76                    \n",
       "37                                              28.10                    \n",
       "38                                             656.71                    \n",
       "39                                             108.10                    \n",
       "40                                              70.88                    \n",
       "41                                             102.53                    \n",
       "42                                             206.18                    \n",
       "43                                              40.65                    \n",
       "44                                             181.74                    \n",
       "45                                             163.40                    \n",
       "46                                             666.42                    \n",
       "47                                               1.82                    \n",
       "48                                             458.83                    \n",
       "49                                              68.71                    \n",
       "50                                             219.97                    \n",
       "51                                             535.57                    \n",
       "52                                               7.45                    \n",
       "53                                             124.79                    \n",
       "54                                              51.92                    \n",
       "55                                             243.12                    \n",
       "56                                              32.58                    \n",
       "\n",
       "    No han teletrabajado porque su trabajo no les permitiría teletrabajar  \n",
       "0                                            2,144.58                      \n",
       "1                                              395.18                      \n",
       "2                                              263.20                      \n",
       "3                                              396.51                      \n",
       "4                                              557.06                      \n",
       "5                                              167.35                      \n",
       "6                                              664.88                      \n",
       "7                                              708.60                      \n",
       "8                                            2,006.89                      \n",
       "9                                                8.72                      \n",
       "10                                           1,243.47                      \n",
       "11                                             271.28                      \n",
       "12                                             686.98                      \n",
       "13                                           1,422.75                      \n",
       "14                                              26.01                      \n",
       "15                                             403.26                      \n",
       "16                                             162.66                      \n",
       "17                                             527.46                      \n",
       "18                                              96.66                      \n",
       "19                                           2,483.15                      \n",
       "20                                             427.79                      \n",
       "21                                             290.52                      \n",
       "22                                             476.79                      \n",
       "23                                             756.15                      \n",
       "24                                             193.94                      \n",
       "25                                             725.93                      \n",
       "26                                             714.90                      \n",
       "27                                           1,987.91                      \n",
       "28                                              21.40                      \n",
       "29                                           1,406.80                      \n",
       "30                                             311.39                      \n",
       "31                                             733.68                      \n",
       "32                                           1,858.67                      \n",
       "33                                              28.30                      \n",
       "34                                             430.53                      \n",
       "35                                             196.62                      \n",
       "36                                             599.86                      \n",
       "37                                             107.98                      \n",
       "38                                           2,308.26                      \n",
       "39                                             432.98                      \n",
       "40                                             294.35                      \n",
       "41                                             416.09                      \n",
       "42                                             689.95                      \n",
       "43                                             203.24                      \n",
       "44                                             686.79                      \n",
       "45                                             737.26                      \n",
       "46                                           2,368.22                      \n",
       "47                                              21.28                      \n",
       "48                                           1,417.81                      \n",
       "49                                             286.55                      \n",
       "50                                             786.41                      \n",
       "51                                           1,976.99                      \n",
       "52                                              23.63                      \n",
       "53                                             491.86                      \n",
       "54                                             194.14                      \n",
       "55                                             609.28                      \n",
       "56                                             100.18                      "
      ]
     },
     "execution_count": 57,
     "metadata": {},
     "output_type": "execute_result"
    }
   ],
   "source": [
    "df_final = pd.read_csv(url2, delimiter=',')\n",
    "\n",
    "df_final"
   ]
  },
  {
   "cell_type": "code",
   "execution_count": 62,
   "metadata": {},
   "outputs": [
    {
     "data": {
      "application/vnd.plotly.v1+json": {
       "config": {
        "plotlyServerURL": "https://plot.ly"
       },
       "data": [
        {
         "hovertemplate": "Estado de Teletrabajo=Han teletrabajado<br>Comunidad autónoma=Andalucía<br>AÑO=%{x}<br>Número de Personas (k)=%{y}<extra></extra>",
         "legendgroup": "Han teletrabajado",
         "line": {
          "color": "#F4D2CE",
          "dash": "solid"
         },
         "marker": {
          "symbol": "circle"
         },
         "mode": "markers+lines",
         "name": "Han teletrabajado",
         "orientation": "v",
         "showlegend": true,
         "type": "scatter",
         "x": [
          2021,
          2022,
          2023
         ],
         "xaxis": "x17",
         "y": [
          396.685312,
          320.62648,
          286.093632
         ],
         "yaxis": "y17"
        },
        {
         "hovertemplate": "Estado de Teletrabajo=Han teletrabajado<br>Comunidad autónoma=Aragón<br>AÑO=%{x}<br>Número de Personas (k)=%{y}<extra></extra>",
         "legendgroup": "Han teletrabajado",
         "line": {
          "color": "#F4D2CE",
          "dash": "solid"
         },
         "marker": {
          "symbol": "circle"
         },
         "mode": "markers+lines",
         "name": "Han teletrabajado",
         "orientation": "v",
         "showlegend": false,
         "type": "scatter",
         "x": [
          2021,
          2022,
          2023
         ],
         "xaxis": "x18",
         "y": [
          70.266375,
          44.513007,
          52.860482000000005
         ],
         "yaxis": "y18"
        },
        {
         "hovertemplate": "Estado de Teletrabajo=Han teletrabajado<br>Comunidad autónoma=Asturias, Principado de<br>AÑO=%{x}<br>Número de Personas (k)=%{y}<extra></extra>",
         "legendgroup": "Han teletrabajado",
         "line": {
          "color": "#F4D2CE",
          "dash": "solid"
         },
         "marker": {
          "symbol": "circle"
         },
         "mode": "markers+lines",
         "name": "Han teletrabajado",
         "orientation": "v",
         "showlegend": false,
         "type": "scatter",
         "x": [
          2021,
          2022,
          2023
         ],
         "xaxis": "x19",
         "y": [
          42.925218,
          29.478424,
          34.840889999999995
         ],
         "yaxis": "y19"
        },
        {
         "hovertemplate": "Estado de Teletrabajo=Han teletrabajado<br>Comunidad autónoma=Balears, Illes<br>AÑO=%{x}<br>Número de Personas (k)=%{y}<extra></extra>",
         "legendgroup": "Han teletrabajado",
         "line": {
          "color": "#F4D2CE",
          "dash": "solid"
         },
         "marker": {
          "symbol": "circle"
         },
         "mode": "markers+lines",
         "name": "Han teletrabajado",
         "orientation": "v",
         "showlegend": false,
         "type": "scatter",
         "x": [
          2021,
          2022,
          2023
         ],
         "xaxis": "x20",
         "y": [
          41.821099,
          41.758152,
          77.49611999999999
         ],
         "yaxis": "y20"
        },
        {
         "hovertemplate": "Estado de Teletrabajo=Han teletrabajado<br>Comunidad autónoma=Canarias<br>AÑO=%{x}<br>Número de Personas (k)=%{y}<extra></extra>",
         "legendgroup": "Han teletrabajado",
         "line": {
          "color": "#F4D2CE",
          "dash": "solid"
         },
         "marker": {
          "symbol": "circle"
         },
         "mode": "markers+lines",
         "name": "Han teletrabajado",
         "orientation": "v",
         "showlegend": false,
         "type": "scatter",
         "x": [
          2021,
          2022,
          2023
         ],
         "xaxis": "x13",
         "y": [
          123.349465,
          104.193915,
          109.627077
         ],
         "yaxis": "y13"
        },
        {
         "hovertemplate": "Estado de Teletrabajo=Han teletrabajado<br>Comunidad autónoma=Cantabria<br>AÑO=%{x}<br>Número de Personas (k)=%{y}<extra></extra>",
         "legendgroup": "Han teletrabajado",
         "line": {
          "color": "#F4D2CE",
          "dash": "solid"
         },
         "marker": {
          "symbol": "circle"
         },
         "mode": "markers+lines",
         "name": "Han teletrabajado",
         "orientation": "v",
         "showlegend": false,
         "type": "scatter",
         "x": [
          2021,
          2022,
          2023
         ],
         "xaxis": "x14",
         "y": [
          15.171618,
          21.782022,
          16.675904000000003
         ],
         "yaxis": "y14"
        },
        {
         "hovertemplate": "Estado de Teletrabajo=Han teletrabajado<br>Comunidad autónoma=Castilla - La Mancha<br>AÑO=%{x}<br>Número de Personas (k)=%{y}<extra></extra>",
         "legendgroup": "Han teletrabajado",
         "line": {
          "color": "#F4D2CE",
          "dash": "solid"
         },
         "marker": {
          "symbol": "circle"
         },
         "mode": "markers+lines",
         "name": "Han teletrabajado",
         "orientation": "v",
         "showlegend": false,
         "type": "scatter",
         "x": [
          2021,
          2022,
          2023
         ],
         "xaxis": "x15",
         "y": [
          67.615158,
          47.903856000000005,
          45.6641
         ],
         "yaxis": "y15"
        },
        {
         "hovertemplate": "Estado de Teletrabajo=Han teletrabajado<br>Comunidad autónoma=Castilla y León<br>AÑO=%{x}<br>Número de Personas (k)=%{y}<extra></extra>",
         "legendgroup": "Han teletrabajado",
         "line": {
          "color": "#F4D2CE",
          "dash": "solid"
         },
         "marker": {
          "symbol": "circle"
         },
         "mode": "markers+lines",
         "name": "Han teletrabajado",
         "orientation": "v",
         "showlegend": false,
         "type": "scatter",
         "x": [
          2021,
          2022,
          2023
         ],
         "xaxis": "x16",
         "y": [
          96.926502,
          121.304356,
          83.667625
         ],
         "yaxis": "y16"
        },
        {
         "hovertemplate": "Estado de Teletrabajo=Han teletrabajado<br>Comunidad autónoma=Cataluña<br>AÑO=%{x}<br>Número de Personas (k)=%{y}<extra></extra>",
         "legendgroup": "Han teletrabajado",
         "line": {
          "color": "#F4D2CE",
          "dash": "solid"
         },
         "marker": {
          "symbol": "circle"
         },
         "mode": "markers+lines",
         "name": "Han teletrabajado",
         "orientation": "v",
         "showlegend": false,
         "type": "scatter",
         "x": [
          2021,
          2022,
          2023
         ],
         "xaxis": "x9",
         "y": [
          761.1229079999999,
          772.4843079999999,
          730.422028
         ],
         "yaxis": "y9"
        },
        {
         "hovertemplate": "Estado de Teletrabajo=Han teletrabajado<br>Comunidad autónoma=Ceuta<br>AÑO=%{x}<br>Número de Personas (k)=%{y}<extra></extra>",
         "legendgroup": "Han teletrabajado",
         "line": {
          "color": "#F4D2CE",
          "dash": "solid"
         },
         "marker": {
          "symbol": "circle"
         },
         "mode": "markers+lines",
         "name": "Han teletrabajado",
         "orientation": "v",
         "showlegend": false,
         "type": "scatter",
         "x": [
          2021,
          2022,
          2023
         ],
         "xaxis": "x10",
         "y": [
          1.3666830000000003,
          2.100268,
          1.139045
         ],
         "yaxis": "y10"
        },
        {
         "hovertemplate": "Estado de Teletrabajo=Han teletrabajado<br>Comunidad autónoma=Comunitat Valenciana<br>AÑO=%{x}<br>Número de Personas (k)=%{y}<extra></extra>",
         "legendgroup": "Han teletrabajado",
         "line": {
          "color": "#F4D2CE",
          "dash": "solid"
         },
         "marker": {
          "symbol": "circle"
         },
         "mode": "markers+lines",
         "name": "Han teletrabajado",
         "orientation": "v",
         "showlegend": false,
         "type": "scatter",
         "x": [
          2021,
          2022,
          2023
         ],
         "xaxis": "x11",
         "y": [
          290.26881,
          246.99608,
          297.91472
         ],
         "yaxis": "y11"
        },
        {
         "hovertemplate": "Estado de Teletrabajo=Han teletrabajado<br>Comunidad autónoma=Extremadura<br>AÑO=%{x}<br>Número de Personas (k)=%{y}<extra></extra>",
         "legendgroup": "Han teletrabajado",
         "line": {
          "color": "#F4D2CE",
          "dash": "solid"
         },
         "marker": {
          "symbol": "circle"
         },
         "mode": "markers+lines",
         "name": "Han teletrabajado",
         "orientation": "v",
         "showlegend": false,
         "type": "scatter",
         "x": [
          2021,
          2022,
          2023
         ],
         "xaxis": "x12",
         "y": [
          44.022822,
          24.55146,
          35.13501
         ],
         "yaxis": "y12"
        },
        {
         "hovertemplate": "Estado de Teletrabajo=Han teletrabajado<br>Comunidad autónoma=Galicia<br>AÑO=%{x}<br>Número de Personas (k)=%{y}<extra></extra>",
         "legendgroup": "Han teletrabajado",
         "line": {
          "color": "#F4D2CE",
          "dash": "solid"
         },
         "marker": {
          "symbol": "circle"
         },
         "mode": "markers+lines",
         "name": "Han teletrabajado",
         "orientation": "v",
         "showlegend": false,
         "type": "scatter",
         "x": [
          2021,
          2022,
          2023
         ],
         "xaxis": "x5",
         "y": [
          107.21667600000002,
          91.06328,
          94.588734
         ],
         "yaxis": "y5"
        },
        {
         "hovertemplate": "Estado de Teletrabajo=Han teletrabajado<br>Comunidad autónoma=Madrid, Comunidad de<br>AÑO=%{x}<br>Número de Personas (k)=%{y}<extra></extra>",
         "legendgroup": "Han teletrabajado",
         "line": {
          "color": "#F4D2CE",
          "dash": "solid"
         },
         "marker": {
          "symbol": "circle"
         },
         "mode": "markers+lines",
         "name": "Han teletrabajado",
         "orientation": "v",
         "showlegend": false,
         "type": "scatter",
         "x": [
          2021,
          2022,
          2023
         ],
         "xaxis": "x6",
         "y": [
          1001.73441,
          784.4204669999998,
          793.4407199999999
         ],
         "yaxis": "y6"
        },
        {
         "hovertemplate": "Estado de Teletrabajo=Han teletrabajado<br>Comunidad autónoma=Melilla<br>AÑO=%{x}<br>Número de Personas (k)=%{y}<extra></extra>",
         "legendgroup": "Han teletrabajado",
         "line": {
          "color": "#F4D2CE",
          "dash": "solid"
         },
         "marker": {
          "symbol": "circle"
         },
         "mode": "markers+lines",
         "name": "Han teletrabajado",
         "orientation": "v",
         "showlegend": false,
         "type": "scatter",
         "x": [
          2021,
          2022,
          2023
         ],
         "xaxis": "x7",
         "y": [
          2.0949560000000003,
          1.342806,
          2.62977
         ],
         "yaxis": "y7"
        },
        {
         "hovertemplate": "Estado de Teletrabajo=Han teletrabajado<br>Comunidad autónoma=Murcia, Región de<br>AÑO=%{x}<br>Número de Personas (k)=%{y}<extra></extra>",
         "legendgroup": "Han teletrabajado",
         "line": {
          "color": "#F4D2CE",
          "dash": "solid"
         },
         "marker": {
          "symbol": "circle"
         },
         "mode": "markers+lines",
         "name": "Han teletrabajado",
         "orientation": "v",
         "showlegend": false,
         "type": "scatter",
         "x": [
          2021,
          2022,
          2023
         ],
         "xaxis": "x8",
         "y": [
          62.31721600000001,
          54.04979399999999,
          47.128593
         ],
         "yaxis": "y8"
        },
        {
         "hovertemplate": "Estado de Teletrabajo=Han teletrabajado<br>Comunidad autónoma=Navarra, Comunidad Foral de<br>AÑO=%{x}<br>Número de Personas (k)=%{y}<extra></extra>",
         "legendgroup": "Han teletrabajado",
         "line": {
          "color": "#F4D2CE",
          "dash": "solid"
         },
         "marker": {
          "symbol": "circle"
         },
         "mode": "markers+lines",
         "name": "Han teletrabajado",
         "orientation": "v",
         "showlegend": false,
         "type": "scatter",
         "x": [
          2021,
          2022,
          2023
         ],
         "xaxis": "x",
         "y": [
          29.642305,
          32.057865,
          36.402123
         ],
         "yaxis": "y"
        },
        {
         "hovertemplate": "Estado de Teletrabajo=Han teletrabajado<br>Comunidad autónoma=País Vasco<br>AÑO=%{x}<br>Número de Personas (k)=%{y}<extra></extra>",
         "legendgroup": "Han teletrabajado",
         "line": {
          "color": "#F4D2CE",
          "dash": "solid"
         },
         "marker": {
          "symbol": "circle"
         },
         "mode": "markers+lines",
         "name": "Han teletrabajado",
         "orientation": "v",
         "showlegend": false,
         "type": "scatter",
         "x": [
          2021,
          2022,
          2023
         ],
         "xaxis": "x2",
         "y": [
          114.66468,
          123.048584,
          131.896468
         ],
         "yaxis": "y2"
        },
        {
         "hovertemplate": "Estado de Teletrabajo=Han teletrabajado<br>Comunidad autónoma=Rioja, La<br>AÑO=%{x}<br>Número de Personas (k)=%{y}<extra></extra>",
         "legendgroup": "Han teletrabajado",
         "line": {
          "color": "#F4D2CE",
          "dash": "solid"
         },
         "marker": {
          "symbol": "circle"
         },
         "mode": "markers+lines",
         "name": "Han teletrabajado",
         "orientation": "v",
         "showlegend": false,
         "type": "scatter",
         "x": [
          2021,
          2022,
          2023
         ],
         "xaxis": "x3",
         "y": [
          14.9127,
          11.03295,
          10.764225
         ],
         "yaxis": "y3"
        },
        {
         "hovertemplate": "Estado de Teletrabajo=No han teletrabajado aunque su trabajo les permitiría teletrabajar<br>Comunidad autónoma=Andalucía<br>AÑO=%{x}<br>Número de Personas (k)=%{y}<extra></extra>",
         "legendgroup": "No han teletrabajado aunque su trabajo les permitiría teletrabajar",
         "line": {
          "color": "#E6AFA9",
          "dash": "solid"
         },
         "marker": {
          "symbol": "circle"
         },
         "mode": "markers+lines",
         "name": "No han teletrabajado aunque su trabajo les permitiría teletrabajar",
         "orientation": "v",
         "showlegend": true,
         "type": "scatter",
         "x": [
          2021,
          2022,
          2023
         ],
         "xaxis": "x17",
         "y": [
          557.83872,
          607.14376,
          656.714928
         ],
         "yaxis": "y17"
        },
        {
         "hovertemplate": "Estado de Teletrabajo=No han teletrabajado aunque su trabajo les permitiría teletrabajar<br>Comunidad autónoma=Aragón<br>AÑO=%{x}<br>Número de Personas (k)=%{y}<extra></extra>",
         "legendgroup": "No han teletrabajado aunque su trabajo les permitiría teletrabajar",
         "line": {
          "color": "#E6AFA9",
          "dash": "solid"
         },
         "marker": {
          "symbol": "circle"
         },
         "mode": "markers+lines",
         "name": "No han teletrabajado aunque su trabajo les permitiría teletrabajar",
         "orientation": "v",
         "showlegend": false,
         "type": "scatter",
         "x": [
          2021,
          2022,
          2023
         ],
         "xaxis": "x18",
         "y": [
          96.686532,
          105.790653,
          108.096716
         ],
         "yaxis": "y18"
        },
        {
         "hovertemplate": "Estado de Teletrabajo=No han teletrabajado aunque su trabajo les permitiría teletrabajar<br>Comunidad autónoma=Asturias, Principado de<br>AÑO=%{x}<br>Número de Personas (k)=%{y}<extra></extra>",
         "legendgroup": "No han teletrabajado aunque su trabajo les permitiría teletrabajar",
         "line": {
          "color": "#E6AFA9",
          "dash": "solid"
         },
         "marker": {
          "symbol": "circle"
         },
         "mode": "markers+lines",
         "name": "No han teletrabajado aunque su trabajo les permitiría teletrabajar",
         "orientation": "v",
         "showlegend": false,
         "type": "scatter",
         "x": [
          2021,
          2022,
          2023
         ],
         "xaxis": "x19",
         "y": [
          70.035882,
          68.26582400000001,
          70.88319
         ],
         "yaxis": "y19"
        },
        {
         "hovertemplate": "Estado de Teletrabajo=No han teletrabajado aunque su trabajo les permitiría teletrabajar<br>Comunidad autónoma=Balears, Illes<br>AÑO=%{x}<br>Número de Personas (k)=%{y}<extra></extra>",
         "legendgroup": "No han teletrabajado aunque su trabajo les permitiría teletrabajar",
         "line": {
          "color": "#E6AFA9",
          "dash": "solid"
         },
         "marker": {
          "symbol": "circle"
         },
         "mode": "markers+lines",
         "name": "No han teletrabajado aunque su trabajo les permitiría teletrabajar",
         "orientation": "v",
         "showlegend": false,
         "type": "scatter",
         "x": [
          2021,
          2022,
          2023
         ],
         "xaxis": "x20",
         "y": [
          91.053532,
          105.330264,
          102.533328
         ],
         "yaxis": "y20"
        },
        {
         "hovertemplate": "Estado de Teletrabajo=No han teletrabajado aunque su trabajo les permitiría teletrabajar<br>Comunidad autónoma=Canarias<br>AÑO=%{x}<br>Número de Personas (k)=%{y}<extra></extra>",
         "legendgroup": "No han teletrabajado aunque su trabajo les permitiría teletrabajar",
         "line": {
          "color": "#E6AFA9",
          "dash": "solid"
         },
         "marker": {
          "symbol": "circle"
         },
         "mode": "markers+lines",
         "name": "No han teletrabajado aunque su trabajo les permitiría teletrabajar",
         "orientation": "v",
         "showlegend": false,
         "type": "scatter",
         "x": [
          2021,
          2022,
          2023
         ],
         "xaxis": "x13",
         "y": [
          115.391435,
          132.971282,
          206.179365
         ],
         "yaxis": "y13"
        },
        {
         "hovertemplate": "Estado de Teletrabajo=No han teletrabajado aunque su trabajo les permitiría teletrabajar<br>Comunidad autónoma=Cantabria<br>AÑO=%{x}<br>Número de Personas (k)=%{y}<extra></extra>",
         "legendgroup": "No han teletrabajado aunque su trabajo les permitiría teletrabajar",
         "line": {
          "color": "#E6AFA9",
          "dash": "solid"
         },
         "marker": {
          "symbol": "circle"
         },
         "mode": "markers+lines",
         "name": "No han teletrabajado aunque su trabajo les permitiría teletrabajar",
         "orientation": "v",
         "showlegend": false,
         "type": "scatter",
         "x": [
          2021,
          2022,
          2023
         ],
         "xaxis": "x14",
         "y": [
          47.35383800000001,
          46.713252,
          40.647516
         ],
         "yaxis": "y14"
        },
        {
         "hovertemplate": "Estado de Teletrabajo=No han teletrabajado aunque su trabajo les permitiría teletrabajar<br>Comunidad autónoma=Castilla - La Mancha<br>AÑO=%{x}<br>Número de Personas (k)=%{y}<extra></extra>",
         "legendgroup": "No han teletrabajado aunque su trabajo les permitiría teletrabajar",
         "line": {
          "color": "#E6AFA9",
          "dash": "solid"
         },
         "marker": {
          "symbol": "circle"
         },
         "mode": "markers+lines",
         "name": "No han teletrabajado aunque su trabajo les permitiría teletrabajar",
         "orientation": "v",
         "showlegend": false,
         "type": "scatter",
         "x": [
          2021,
          2022,
          2023
         ],
         "xaxis": "x15",
         "y": [
          134.363455,
          146.475252,
          181.74311799999995
         ],
         "yaxis": "y15"
        },
        {
         "hovertemplate": "Estado de Teletrabajo=No han teletrabajado aunque su trabajo les permitiría teletrabajar<br>Comunidad autónoma=Castilla y León<br>AÑO=%{x}<br>Número de Personas (k)=%{y}<extra></extra>",
         "legendgroup": "No han teletrabajado aunque su trabajo les permitiría teletrabajar",
         "line": {
          "color": "#E6AFA9",
          "dash": "solid"
         },
         "marker": {
          "symbol": "circle"
         },
         "mode": "markers+lines",
         "name": "No han teletrabajado aunque su trabajo les permitiría teletrabajar",
         "orientation": "v",
         "showlegend": false,
         "type": "scatter",
         "x": [
          2021,
          2022,
          2023
         ],
         "xaxis": "x16",
         "y": [
          135.50889600000002,
          158.09338200000002,
          163.39795
         ],
         "yaxis": "y16"
        },
        {
         "hovertemplate": "Estado de Teletrabajo=No han teletrabajado aunque su trabajo les permitiría teletrabajar<br>Comunidad autónoma=Cataluña<br>AÑO=%{x}<br>Número de Personas (k)=%{y}<extra></extra>",
         "legendgroup": "No han teletrabajado aunque su trabajo les permitiría teletrabajar",
         "line": {
          "color": "#E6AFA9",
          "dash": "solid"
         },
         "marker": {
          "symbol": "circle"
         },
         "mode": "markers+lines",
         "name": "No han teletrabajado aunque su trabajo les permitiría teletrabajar",
         "orientation": "v",
         "showlegend": false,
         "type": "scatter",
         "x": [
          2021,
          2022,
          2023
         ],
         "xaxis": "x9",
         "y": [
          484.64663800000005,
          783.1148260000001,
          666.4159739999999
         ],
         "yaxis": "y9"
        },
        {
         "hovertemplate": "Estado de Teletrabajo=No han teletrabajado aunque su trabajo les permitiría teletrabajar<br>Comunidad autónoma=Ceuta<br>AÑO=%{x}<br>Número de Personas (k)=%{y}<extra></extra>",
         "legendgroup": "No han teletrabajado aunque su trabajo les permitiría teletrabajar",
         "line": {
          "color": "#E6AFA9",
          "dash": "solid"
         },
         "marker": {
          "symbol": "circle"
         },
         "mode": "markers+lines",
         "name": "No han teletrabajado aunque su trabajo les permitiría teletrabajar",
         "orientation": "v",
         "showlegend": false,
         "type": "scatter",
         "x": [
          2021,
          2022,
          2023
         ],
         "xaxis": "x10",
         "y": [
          9.725237000000002,
          4.853322,
          1.817625
         ],
         "yaxis": "y10"
        },
        {
         "hovertemplate": "Estado de Teletrabajo=No han teletrabajado aunque su trabajo les permitiría teletrabajar<br>Comunidad autónoma=Comunitat Valenciana<br>AÑO=%{x}<br>Número de Personas (k)=%{y}<extra></extra>",
         "legendgroup": "No han teletrabajado aunque su trabajo les permitiría teletrabajar",
         "line": {
          "color": "#E6AFA9",
          "dash": "solid"
         },
         "marker": {
          "symbol": "circle"
         },
         "mode": "markers+lines",
         "name": "No han teletrabajado aunque su trabajo les permitiría teletrabajar",
         "orientation": "v",
         "showlegend": false,
         "type": "scatter",
         "x": [
          2021,
          2022,
          2023
         ],
         "xaxis": "x11",
         "y": [
          338.959062,
          493.99216,
          458.83216
         ],
         "yaxis": "y11"
        },
        {
         "hovertemplate": "Estado de Teletrabajo=No han teletrabajado aunque su trabajo les permitiría teletrabajar<br>Comunidad autónoma=Extremadura<br>AÑO=%{x}<br>Número de Personas (k)=%{y}<extra></extra>",
         "legendgroup": "No han teletrabajado aunque su trabajo les permitiría teletrabajar",
         "line": {
          "color": "#E6AFA9",
          "dash": "solid"
         },
         "marker": {
          "symbol": "circle"
         },
         "mode": "markers+lines",
         "name": "No han teletrabajado aunque su trabajo les permitiría teletrabajar",
         "orientation": "v",
         "showlegend": false,
         "type": "scatter",
         "x": [
          2021,
          2022,
          2023
         ],
         "xaxis": "x12",
         "y": [
          81.30341,
          73.65438,
          68.708464
         ],
         "yaxis": "y12"
        },
        {
         "hovertemplate": "Estado de Teletrabajo=No han teletrabajado aunque su trabajo les permitiría teletrabajar<br>Comunidad autónoma=Galicia<br>AÑO=%{x}<br>Número de Personas (k)=%{y}<extra></extra>",
         "legendgroup": "No han teletrabajado aunque su trabajo les permitiría teletrabajar",
         "line": {
          "color": "#E6AFA9",
          "dash": "solid"
         },
         "marker": {
          "symbol": "circle"
         },
         "mode": "markers+lines",
         "name": "No han teletrabajado aunque su trabajo les permitiría teletrabajar",
         "orientation": "v",
         "showlegend": false,
         "type": "scatter",
         "x": [
          2021,
          2022,
          2023
         ],
         "xaxis": "x5",
         "y": [
          197.55665299999995,
          210.06643,
          219.9738
         ],
         "yaxis": "y5"
        },
        {
         "hovertemplate": "Estado de Teletrabajo=No han teletrabajado aunque su trabajo les permitiría teletrabajar<br>Comunidad autónoma=Madrid, Comunidad de<br>AÑO=%{x}<br>Número de Personas (k)=%{y}<extra></extra>",
         "legendgroup": "No han teletrabajado aunque su trabajo les permitiría teletrabajar",
         "line": {
          "color": "#E6AFA9",
          "dash": "solid"
         },
         "marker": {
          "symbol": "circle"
         },
         "mode": "markers+lines",
         "name": "No han teletrabajado aunque su trabajo les permitiría teletrabajar",
         "orientation": "v",
         "showlegend": false,
         "type": "scatter",
         "x": [
          2021,
          2022,
          2023
         ],
         "xaxis": "x6",
         "y": [
          479.09037,
          510.345846,
          535.5724859999999
         ],
         "yaxis": "y6"
        },
        {
         "hovertemplate": "Estado de Teletrabajo=No han teletrabajado aunque su trabajo les permitiría teletrabajar<br>Comunidad autónoma=Melilla<br>AÑO=%{x}<br>Número de Personas (k)=%{y}<extra></extra>",
         "legendgroup": "No han teletrabajado aunque su trabajo les permitiría teletrabajar",
         "line": {
          "color": "#E6AFA9",
          "dash": "solid"
         },
         "marker": {
          "symbol": "circle"
         },
         "mode": "markers+lines",
         "name": "No han teletrabajado aunque su trabajo les permitiría teletrabajar",
         "orientation": "v",
         "showlegend": false,
         "type": "scatter",
         "x": [
          2021,
          2022,
          2023
         ],
         "xaxis": "x7",
         "y": [
          3.158068,
          5.6892570000000005,
          7.451015
         ],
         "yaxis": "y7"
        },
        {
         "hovertemplate": "Estado de Teletrabajo=No han teletrabajado aunque su trabajo les permitiría teletrabajar<br>Comunidad autónoma=Murcia, Región de<br>AÑO=%{x}<br>Número de Personas (k)=%{y}<extra></extra>",
         "legendgroup": "No han teletrabajado aunque su trabajo les permitiría teletrabajar",
         "line": {
          "color": "#E6AFA9",
          "dash": "solid"
         },
         "marker": {
          "symbol": "circle"
         },
         "mode": "markers+lines",
         "name": "No han teletrabajado aunque su trabajo les permitiría teletrabajar",
         "orientation": "v",
         "showlegend": false,
         "type": "scatter",
         "x": [
          2021,
          2022,
          2023
         ],
         "xaxis": "x8",
         "y": [
          133.622492,
          136.67764000000005,
          124.791204
         ],
         "yaxis": "y8"
        },
        {
         "hovertemplate": "Estado de Teletrabajo=No han teletrabajado aunque su trabajo les permitiría teletrabajar<br>Comunidad autónoma=Navarra, Comunidad Foral de<br>AÑO=%{x}<br>Número de Personas (k)=%{y}<extra></extra>",
         "legendgroup": "No han teletrabajado aunque su trabajo les permitiría teletrabajar",
         "line": {
          "color": "#E6AFA9",
          "dash": "solid"
         },
         "marker": {
          "symbol": "circle"
         },
         "mode": "markers+lines",
         "name": "No han teletrabajado aunque su trabajo les permitiría teletrabajar",
         "orientation": "v",
         "showlegend": false,
         "type": "scatter",
         "x": [
          2021,
          2022,
          2023
         ],
         "xaxis": "x",
         "y": [
          56.79366,
          76.938876,
          51.922408
         ],
         "yaxis": "y"
        },
        {
         "hovertemplate": "Estado de Teletrabajo=No han teletrabajado aunque su trabajo les permitiría teletrabajar<br>Comunidad autónoma=País Vasco<br>AÑO=%{x}<br>Número de Personas (k)=%{y}<extra></extra>",
         "legendgroup": "No han teletrabajado aunque su trabajo les permitiría teletrabajar",
         "line": {
          "color": "#E6AFA9",
          "dash": "solid"
         },
         "marker": {
          "symbol": "circle"
         },
         "mode": "markers+lines",
         "name": "No han teletrabajado aunque su trabajo les permitiría teletrabajar",
         "orientation": "v",
         "showlegend": false,
         "type": "scatter",
         "x": [
          2021,
          2022,
          2023
         ],
         "xaxis": "x2",
         "y": [
          206.396424,
          182.763338,
          243.122594
         ],
         "yaxis": "y2"
        },
        {
         "hovertemplate": "Estado de Teletrabajo=No han teletrabajado aunque su trabajo les permitiría teletrabajar<br>Comunidad autónoma=Rioja, La<br>AÑO=%{x}<br>Número de Personas (k)=%{y}<extra></extra>",
         "legendgroup": "No han teletrabajado aunque su trabajo les permitiría teletrabajar",
         "line": {
          "color": "#E6AFA9",
          "dash": "solid"
         },
         "marker": {
          "symbol": "circle"
         },
         "mode": "markers+lines",
         "name": "No han teletrabajado aunque su trabajo les permitiría teletrabajar",
         "orientation": "v",
         "showlegend": false,
         "type": "scatter",
         "x": [
          2021,
          2022,
          2023
         ],
         "xaxis": "x3",
         "y": [
          23.99589,
          28.097246,
          32.579721
         ],
         "yaxis": "y3"
        },
        {
         "hovertemplate": "Estado de Teletrabajo=No han teletrabajado porque su trabajo no les permitiría teletrabajar<br>Comunidad autónoma=Andalucía<br>AÑO=%{x}<br>Número de Personas (k)=%{y}<extra></extra>",
         "legendgroup": "No han teletrabajado porque su trabajo no les permitiría teletrabajar",
         "line": {
          "color": "#C08C83",
          "dash": "solid"
         },
         "marker": {
          "symbol": "circle"
         },
         "mode": "markers+lines",
         "name": "No han teletrabajado porque su trabajo no les permitiría teletrabajar",
         "orientation": "v",
         "showlegend": true,
         "type": "scatter",
         "x": [
          2021,
          2022,
          2023
         ],
         "xaxis": "x17",
         "y": [
          2144.5799680000005,
          2483.14976,
          2308.25544
         ],
         "yaxis": "y17"
        },
        {
         "hovertemplate": "Estado de Teletrabajo=No han teletrabajado porque su trabajo no les permitiría teletrabajar<br>Comunidad autónoma=Aragón<br>AÑO=%{x}<br>Número de Personas (k)=%{y}<extra></extra>",
         "legendgroup": "No han teletrabajado porque su trabajo no les permitiría teletrabajar",
         "line": {
          "color": "#C08C83",
          "dash": "solid"
         },
         "marker": {
          "symbol": "circle"
         },
         "mode": "markers+lines",
         "name": "No han teletrabajado porque su trabajo no les permitiría teletrabajar",
         "orientation": "v",
         "showlegend": false,
         "type": "scatter",
         "x": [
          2021,
          2022,
          2023
         ],
         "xaxis": "x18",
         "y": [
          395.178093,
          427.78734,
          432.980802
         ],
         "yaxis": "y18"
        },
        {
         "hovertemplate": "Estado de Teletrabajo=No han teletrabajado porque su trabajo no les permitiría teletrabajar<br>Comunidad autónoma=Asturias, Principado de<br>AÑO=%{x}<br>Número de Personas (k)=%{y}<extra></extra>",
         "legendgroup": "No han teletrabajado porque su trabajo no les permitiría teletrabajar",
         "line": {
          "color": "#C08C83",
          "dash": "solid"
         },
         "marker": {
          "symbol": "circle"
         },
         "mode": "markers+lines",
         "name": "No han teletrabajado porque su trabajo no les permitiría teletrabajar",
         "orientation": "v",
         "showlegend": false,
         "type": "scatter",
         "x": [
          2021,
          2022,
          2023
         ],
         "xaxis": "x19",
         "y": [
          263.199363,
          290.517626,
          294.34545
         ],
         "yaxis": "y19"
        },
        {
         "hovertemplate": "Estado de Teletrabajo=No han teletrabajado porque su trabajo no les permitiría teletrabajar<br>Comunidad autónoma=Balears, Illes<br>AÑO=%{x}<br>Número de Personas (k)=%{y}<extra></extra>",
         "legendgroup": "No han teletrabajado porque su trabajo no les permitiría teletrabajar",
         "line": {
          "color": "#C08C83",
          "dash": "solid"
         },
         "marker": {
          "symbol": "circle"
         },
         "mode": "markers+lines",
         "name": "No han teletrabajado porque su trabajo no les permitiría teletrabajar",
         "orientation": "v",
         "showlegend": false,
         "type": "scatter",
         "x": [
          2021,
          2022,
          2023
         ],
         "xaxis": "x20",
         "y": [
          396.50636900000006,
          476.79084,
          416.094552
         ],
         "yaxis": "y20"
        },
        {
         "hovertemplate": "Estado de Teletrabajo=No han teletrabajado porque su trabajo no les permitiría teletrabajar<br>Comunidad autónoma=Canarias<br>AÑO=%{x}<br>Número de Personas (k)=%{y}<extra></extra>",
         "legendgroup": "No han teletrabajado porque su trabajo no les permitiría teletrabajar",
         "line": {
          "color": "#C08C83",
          "dash": "solid"
         },
         "marker": {
          "symbol": "circle"
         },
         "mode": "markers+lines",
         "name": "No han teletrabajado porque su trabajo no les permitiría teletrabajar",
         "orientation": "v",
         "showlegend": false,
         "type": "scatter",
         "x": [
          2021,
          2022,
          2023
         ],
         "xaxis": "x13",
         "y": [
          557.0621,
          756.150126,
          689.946558
         ],
         "yaxis": "y13"
        },
        {
         "hovertemplate": "Estado de Teletrabajo=No han teletrabajado porque su trabajo no les permitiría teletrabajar<br>Comunidad autónoma=Cantabria<br>AÑO=%{x}<br>Número de Personas (k)=%{y}<extra></extra>",
         "legendgroup": "No han teletrabajado porque su trabajo no les permitiría teletrabajar",
         "line": {
          "color": "#C08C83",
          "dash": "solid"
         },
         "marker": {
          "symbol": "circle"
         },
         "mode": "markers+lines",
         "name": "No han teletrabajado porque su trabajo no les permitiría teletrabajar",
         "orientation": "v",
         "showlegend": false,
         "type": "scatter",
         "x": [
          2021,
          2022,
          2023
         ],
         "xaxis": "x14",
         "y": [
          167.347544,
          193.93872600000003,
          203.23758
         ],
         "yaxis": "y14"
        },
        {
         "hovertemplate": "Estado de Teletrabajo=No han teletrabajado porque su trabajo no les permitiría teletrabajar<br>Comunidad autónoma=Castilla - La Mancha<br>AÑO=%{x}<br>Número de Personas (k)=%{y}<extra></extra>",
         "legendgroup": "No han teletrabajado porque su trabajo no les permitiría teletrabajar",
         "line": {
          "color": "#C08C83",
          "dash": "solid"
         },
         "marker": {
          "symbol": "circle"
         },
         "mode": "markers+lines",
         "name": "No han teletrabajado porque su trabajo no les permitiría teletrabajar",
         "orientation": "v",
         "showlegend": false,
         "type": "scatter",
         "x": [
          2021,
          2022,
          2023
         ],
         "xaxis": "x15",
         "y": [
          664.882387,
          725.9276639999998,
          686.788064
         ],
         "yaxis": "y15"
        },
        {
         "hovertemplate": "Estado de Teletrabajo=No han teletrabajado porque su trabajo no les permitiría teletrabajar<br>Comunidad autónoma=Castilla y León<br>AÑO=%{x}<br>Número de Personas (k)=%{y}<extra></extra>",
         "legendgroup": "No han teletrabajado porque su trabajo no les permitiría teletrabajar",
         "line": {
          "color": "#C08C83",
          "dash": "solid"
         },
         "marker": {
          "symbol": "circle"
         },
         "mode": "markers+lines",
         "name": "No han teletrabajado porque su trabajo no les permitiría teletrabajar",
         "orientation": "v",
         "showlegend": false,
         "type": "scatter",
         "x": [
          2021,
          2022,
          2023
         ],
         "xaxis": "x16",
         "y": [
          708.598602,
          714.900262,
          737.2594250000001
         ],
         "yaxis": "y16"
        },
        {
         "hovertemplate": "Estado de Teletrabajo=No han teletrabajado porque su trabajo no les permitiría teletrabajar<br>Comunidad autónoma=Cataluña<br>AÑO=%{x}<br>Número de Personas (k)=%{y}<extra></extra>",
         "legendgroup": "No han teletrabajado porque su trabajo no les permitiría teletrabajar",
         "line": {
          "color": "#C08C83",
          "dash": "solid"
         },
         "marker": {
          "symbol": "circle"
         },
         "mode": "markers+lines",
         "name": "No han teletrabajado porque su trabajo no les permitiría teletrabajar",
         "orientation": "v",
         "showlegend": false,
         "type": "scatter",
         "x": [
          2021,
          2022,
          2023
         ],
         "xaxis": "x9",
         "y": [
          2006.892454,
          1987.906866,
          2368.2239979999995
         ],
         "yaxis": "y9"
        },
        {
         "hovertemplate": "Estado de Teletrabajo=No han teletrabajado porque su trabajo no les permitiría teletrabajar<br>Comunidad autónoma=Ceuta<br>AÑO=%{x}<br>Número de Personas (k)=%{y}<extra></extra>",
         "legendgroup": "No han teletrabajado porque su trabajo no les permitiría teletrabajar",
         "line": {
          "color": "#C08C83",
          "dash": "solid"
         },
         "marker": {
          "symbol": "circle"
         },
         "mode": "markers+lines",
         "name": "No han teletrabajado porque su trabajo no les permitiría teletrabajar",
         "orientation": "v",
         "showlegend": false,
         "type": "scatter",
         "x": [
          2021,
          2022,
          2023
         ],
         "xaxis": "x10",
         "y": [
          8.71508,
          21.400028,
          21.27833
         ],
         "yaxis": "y10"
        },
        {
         "hovertemplate": "Estado de Teletrabajo=No han teletrabajado porque su trabajo no les permitiría teletrabajar<br>Comunidad autónoma=Comunitat Valenciana<br>AÑO=%{x}<br>Número de Personas (k)=%{y}<extra></extra>",
         "legendgroup": "No han teletrabajado porque su trabajo no les permitiría teletrabajar",
         "line": {
          "color": "#C08C83",
          "dash": "solid"
         },
         "marker": {
          "symbol": "circle"
         },
         "mode": "markers+lines",
         "name": "No han teletrabajado porque su trabajo no les permitiría teletrabajar",
         "orientation": "v",
         "showlegend": false,
         "type": "scatter",
         "x": [
          2021,
          2022,
          2023
         ],
         "xaxis": "x11",
         "y": [
          1243.474128,
          1406.80376,
          1417.81312
         ],
         "yaxis": "y11"
        },
        {
         "hovertemplate": "Estado de Teletrabajo=No han teletrabajado porque su trabajo no les permitiría teletrabajar<br>Comunidad autónoma=Extremadura<br>AÑO=%{x}<br>Número de Personas (k)=%{y}<extra></extra>",
         "legendgroup": "No han teletrabajado porque su trabajo no les permitiría teletrabajar",
         "line": {
          "color": "#C08C83",
          "dash": "solid"
         },
         "marker": {
          "symbol": "circle"
         },
         "mode": "markers+lines",
         "name": "No han teletrabajado porque su trabajo no les permitiría teletrabajar",
         "orientation": "v",
         "showlegend": false,
         "type": "scatter",
         "x": [
          2021,
          2022,
          2023
         ],
         "xaxis": "x12",
         "y": [
          271.275768,
          311.394351,
          286.545526
         ],
         "yaxis": "y12"
        },
        {
         "hovertemplate": "Estado de Teletrabajo=No han teletrabajado porque su trabajo no les permitiría teletrabajar<br>Comunidad autónoma=Galicia<br>AÑO=%{x}<br>Número de Personas (k)=%{y}<extra></extra>",
         "legendgroup": "No han teletrabajado porque su trabajo no les permitiría teletrabajar",
         "line": {
          "color": "#C08C83",
          "dash": "solid"
         },
         "marker": {
          "symbol": "circle"
         },
         "mode": "markers+lines",
         "name": "No han teletrabajado porque su trabajo no les permitiría teletrabajar",
         "orientation": "v",
         "showlegend": false,
         "type": "scatter",
         "x": [
          2021,
          2022,
          2023
         ],
         "xaxis": "x5",
         "y": [
          686.9809240000001,
          733.68029,
          786.406335
         ],
         "yaxis": "y5"
        },
        {
         "hovertemplate": "Estado de Teletrabajo=No han teletrabajado porque su trabajo no les permitiría teletrabajar<br>Comunidad autónoma=Madrid, Comunidad de<br>AÑO=%{x}<br>Número de Personas (k)=%{y}<extra></extra>",
         "legendgroup": "No han teletrabajado porque su trabajo no les permitiría teletrabajar",
         "line": {
          "color": "#C08C83",
          "dash": "solid"
         },
         "marker": {
          "symbol": "circle"
         },
         "mode": "markers+lines",
         "name": "No han teletrabajado porque su trabajo no les permitiría teletrabajar",
         "orientation": "v",
         "showlegend": false,
         "type": "scatter",
         "x": [
          2021,
          2022,
          2023
         ],
         "xaxis": "x6",
         "y": [
          1422.75322,
          1858.66697,
          1976.989794
         ],
         "yaxis": "y6"
        },
        {
         "hovertemplate": "Estado de Teletrabajo=No han teletrabajado porque su trabajo no les permitiría teletrabajar<br>Comunidad autónoma=Melilla<br>AÑO=%{x}<br>Número de Personas (k)=%{y}<extra></extra>",
         "legendgroup": "No han teletrabajado porque su trabajo no les permitiría teletrabajar",
         "line": {
          "color": "#C08C83",
          "dash": "solid"
         },
         "marker": {
          "symbol": "circle"
         },
         "mode": "markers+lines",
         "name": "No han teletrabajado porque su trabajo no les permitiría teletrabajar",
         "orientation": "v",
         "showlegend": false,
         "type": "scatter",
         "x": [
          2021,
          2022,
          2023
         ],
         "xaxis": "x7",
         "y": [
          26.014976,
          28.304937,
          23.634215
         ],
         "yaxis": "y7"
        },
        {
         "hovertemplate": "Estado de Teletrabajo=No han teletrabajado porque su trabajo no les permitiría teletrabajar<br>Comunidad autónoma=Murcia, Región de<br>AÑO=%{x}<br>Número de Personas (k)=%{y}<extra></extra>",
         "legendgroup": "No han teletrabajado porque su trabajo no les permitiría teletrabajar",
         "line": {
          "color": "#C08C83",
          "dash": "solid"
         },
         "marker": {
          "symbol": "circle"
         },
         "mode": "markers+lines",
         "name": "No han teletrabajado porque su trabajo no les permitiría teletrabajar",
         "orientation": "v",
         "showlegend": false,
         "type": "scatter",
         "x": [
          2021,
          2022,
          2023
         ],
         "xaxis": "x8",
         "y": [
          403.264292,
          430.534566,
          491.863203
         ],
         "yaxis": "y8"
        },
        {
         "hovertemplate": "Estado de Teletrabajo=No han teletrabajado porque su trabajo no les permitiría teletrabajar<br>Comunidad autónoma=Navarra, Comunidad Foral de<br>AÑO=%{x}<br>Número de Personas (k)=%{y}<extra></extra>",
         "legendgroup": "No han teletrabajado porque su trabajo no les permitiría teletrabajar",
         "line": {
          "color": "#C08C83",
          "dash": "solid"
         },
         "marker": {
          "symbol": "circle"
         },
         "mode": "markers+lines",
         "name": "No han teletrabajado porque su trabajo no les permitiría teletrabajar",
         "orientation": "v",
         "showlegend": false,
         "type": "scatter",
         "x": [
          2021,
          2022,
          2023
         ],
         "xaxis": "x",
         "y": [
          162.65903500000002,
          196.62157200000004,
          194.144656
         ],
         "yaxis": "y"
        },
        {
         "hovertemplate": "Estado de Teletrabajo=No han teletrabajado porque su trabajo no les permitiría teletrabajar<br>Comunidad autónoma=País Vasco<br>AÑO=%{x}<br>Número de Personas (k)=%{y}<extra></extra>",
         "legendgroup": "No han teletrabajado porque su trabajo no les permitiría teletrabajar",
         "line": {
          "color": "#C08C83",
          "dash": "solid"
         },
         "marker": {
          "symbol": "circle"
         },
         "mode": "markers+lines",
         "name": "No han teletrabajado porque su trabajo no les permitiría teletrabajar",
         "orientation": "v",
         "showlegend": false,
         "type": "scatter",
         "x": [
          2021,
          2022,
          2023
         ],
         "xaxis": "x2",
         "y": [
          527.457528,
          599.8618469999999,
          609.282938
         ],
         "yaxis": "y2"
        },
        {
         "hovertemplate": "Estado de Teletrabajo=No han teletrabajado porque su trabajo no les permitiría teletrabajar<br>Comunidad autónoma=Rioja, La<br>AÑO=%{x}<br>Número de Personas (k)=%{y}<extra></extra>",
         "legendgroup": "No han teletrabajado porque su trabajo no les permitiría teletrabajar",
         "line": {
          "color": "#C08C83",
          "dash": "solid"
         },
         "marker": {
          "symbol": "circle"
         },
         "mode": "markers+lines",
         "name": "No han teletrabajado porque su trabajo no les permitiría teletrabajar",
         "orientation": "v",
         "showlegend": false,
         "type": "scatter",
         "x": [
          2021,
          2022,
          2023
         ],
         "xaxis": "x3",
         "y": [
          96.66141,
          107.975804,
          100.179054
         ],
         "yaxis": "y3"
        }
       ],
       "layout": {
        "annotations": [
         {
          "font": {},
          "showarrow": false,
          "text": "Navarra, Comunidad Foral de",
          "x": 0.1175,
          "xanchor": "center",
          "xref": "paper",
          "y": 0.144,
          "yanchor": "bottom",
          "yref": "paper"
         },
         {
          "font": {},
          "showarrow": false,
          "text": "País Vasco",
          "x": 0.3725,
          "xanchor": "center",
          "xref": "paper",
          "y": 0.144,
          "yanchor": "bottom",
          "yref": "paper"
         },
         {
          "font": {},
          "showarrow": false,
          "text": "Rioja, La",
          "x": 0.6275,
          "xanchor": "center",
          "xref": "paper",
          "y": 0.144,
          "yanchor": "bottom",
          "yref": "paper"
         },
         {
          "font": {},
          "showarrow": false,
          "text": "Galicia",
          "x": 0.1175,
          "xanchor": "center",
          "xref": "paper",
          "y": 0.358,
          "yanchor": "bottom",
          "yref": "paper"
         },
         {
          "font": {},
          "showarrow": false,
          "text": "Madrid, Comunidad de",
          "x": 0.3725,
          "xanchor": "center",
          "xref": "paper",
          "y": 0.358,
          "yanchor": "bottom",
          "yref": "paper"
         },
         {
          "font": {},
          "showarrow": false,
          "text": "Melilla",
          "x": 0.6275,
          "xanchor": "center",
          "xref": "paper",
          "y": 0.358,
          "yanchor": "bottom",
          "yref": "paper"
         },
         {
          "font": {},
          "showarrow": false,
          "text": "Murcia, Región de",
          "x": 0.8824999999999998,
          "xanchor": "center",
          "xref": "paper",
          "y": 0.358,
          "yanchor": "bottom",
          "yref": "paper"
         },
         {
          "font": {},
          "showarrow": false,
          "text": "Cataluña",
          "x": 0.1175,
          "xanchor": "center",
          "xref": "paper",
          "y": 0.572,
          "yanchor": "bottom",
          "yref": "paper"
         },
         {
          "font": {},
          "showarrow": false,
          "text": "Ceuta",
          "x": 0.3725,
          "xanchor": "center",
          "xref": "paper",
          "y": 0.572,
          "yanchor": "bottom",
          "yref": "paper"
         },
         {
          "font": {},
          "showarrow": false,
          "text": "Comunitat Valenciana",
          "x": 0.6275,
          "xanchor": "center",
          "xref": "paper",
          "y": 0.572,
          "yanchor": "bottom",
          "yref": "paper"
         },
         {
          "font": {},
          "showarrow": false,
          "text": "Extremadura",
          "x": 0.8824999999999998,
          "xanchor": "center",
          "xref": "paper",
          "y": 0.572,
          "yanchor": "bottom",
          "yref": "paper"
         },
         {
          "font": {},
          "showarrow": false,
          "text": "Canarias",
          "x": 0.1175,
          "xanchor": "center",
          "xref": "paper",
          "y": 0.7859999999999999,
          "yanchor": "bottom",
          "yref": "paper"
         },
         {
          "font": {},
          "showarrow": false,
          "text": "Cantabria",
          "x": 0.3725,
          "xanchor": "center",
          "xref": "paper",
          "y": 0.7859999999999999,
          "yanchor": "bottom",
          "yref": "paper"
         },
         {
          "font": {},
          "showarrow": false,
          "text": "Castilla - La Mancha",
          "x": 0.6275,
          "xanchor": "center",
          "xref": "paper",
          "y": 0.7859999999999999,
          "yanchor": "bottom",
          "yref": "paper"
         },
         {
          "font": {},
          "showarrow": false,
          "text": "Castilla y León",
          "x": 0.8824999999999998,
          "xanchor": "center",
          "xref": "paper",
          "y": 0.7859999999999999,
          "yanchor": "bottom",
          "yref": "paper"
         },
         {
          "font": {},
          "showarrow": false,
          "text": "Andalucía",
          "x": 0.1175,
          "xanchor": "center",
          "xref": "paper",
          "y": 1,
          "yanchor": "bottom",
          "yref": "paper"
         },
         {
          "font": {},
          "showarrow": false,
          "text": "Aragón",
          "x": 0.3725,
          "xanchor": "center",
          "xref": "paper",
          "y": 1,
          "yanchor": "bottom",
          "yref": "paper"
         },
         {
          "font": {},
          "showarrow": false,
          "text": "Asturias, Principado de",
          "x": 0.6275,
          "xanchor": "center",
          "xref": "paper",
          "y": 1,
          "yanchor": "bottom",
          "yref": "paper"
         },
         {
          "font": {},
          "showarrow": false,
          "text": "Balears, Illes",
          "x": 0.8824999999999998,
          "xanchor": "center",
          "xref": "paper",
          "y": 1,
          "yanchor": "bottom",
          "yref": "paper"
         }
        ],
        "height": 800,
        "legend": {
         "title": {
          "text": "Estado de Teletrabajo"
         },
         "tracegroupgap": 0
        },
        "showlegend": true,
        "template": {
         "data": {
          "bar": [
           {
            "error_x": {
             "color": "#2a3f5f"
            },
            "error_y": {
             "color": "#2a3f5f"
            },
            "marker": {
             "line": {
              "color": "#E5ECF6",
              "width": 0.5
             },
             "pattern": {
              "fillmode": "overlay",
              "size": 10,
              "solidity": 0.2
             }
            },
            "type": "bar"
           }
          ],
          "barpolar": [
           {
            "marker": {
             "line": {
              "color": "#E5ECF6",
              "width": 0.5
             },
             "pattern": {
              "fillmode": "overlay",
              "size": 10,
              "solidity": 0.2
             }
            },
            "type": "barpolar"
           }
          ],
          "carpet": [
           {
            "aaxis": {
             "endlinecolor": "#2a3f5f",
             "gridcolor": "white",
             "linecolor": "white",
             "minorgridcolor": "white",
             "startlinecolor": "#2a3f5f"
            },
            "baxis": {
             "endlinecolor": "#2a3f5f",
             "gridcolor": "white",
             "linecolor": "white",
             "minorgridcolor": "white",
             "startlinecolor": "#2a3f5f"
            },
            "type": "carpet"
           }
          ],
          "choropleth": [
           {
            "colorbar": {
             "outlinewidth": 0,
             "ticks": ""
            },
            "type": "choropleth"
           }
          ],
          "contour": [
           {
            "colorbar": {
             "outlinewidth": 0,
             "ticks": ""
            },
            "colorscale": [
             [
              0,
              "#0d0887"
             ],
             [
              0.1111111111111111,
              "#46039f"
             ],
             [
              0.2222222222222222,
              "#7201a8"
             ],
             [
              0.3333333333333333,
              "#9c179e"
             ],
             [
              0.4444444444444444,
              "#bd3786"
             ],
             [
              0.5555555555555556,
              "#d8576b"
             ],
             [
              0.6666666666666666,
              "#ed7953"
             ],
             [
              0.7777777777777778,
              "#fb9f3a"
             ],
             [
              0.8888888888888888,
              "#fdca26"
             ],
             [
              1,
              "#f0f921"
             ]
            ],
            "type": "contour"
           }
          ],
          "contourcarpet": [
           {
            "colorbar": {
             "outlinewidth": 0,
             "ticks": ""
            },
            "type": "contourcarpet"
           }
          ],
          "heatmap": [
           {
            "colorbar": {
             "outlinewidth": 0,
             "ticks": ""
            },
            "colorscale": [
             [
              0,
              "#0d0887"
             ],
             [
              0.1111111111111111,
              "#46039f"
             ],
             [
              0.2222222222222222,
              "#7201a8"
             ],
             [
              0.3333333333333333,
              "#9c179e"
             ],
             [
              0.4444444444444444,
              "#bd3786"
             ],
             [
              0.5555555555555556,
              "#d8576b"
             ],
             [
              0.6666666666666666,
              "#ed7953"
             ],
             [
              0.7777777777777778,
              "#fb9f3a"
             ],
             [
              0.8888888888888888,
              "#fdca26"
             ],
             [
              1,
              "#f0f921"
             ]
            ],
            "type": "heatmap"
           }
          ],
          "heatmapgl": [
           {
            "colorbar": {
             "outlinewidth": 0,
             "ticks": ""
            },
            "colorscale": [
             [
              0,
              "#0d0887"
             ],
             [
              0.1111111111111111,
              "#46039f"
             ],
             [
              0.2222222222222222,
              "#7201a8"
             ],
             [
              0.3333333333333333,
              "#9c179e"
             ],
             [
              0.4444444444444444,
              "#bd3786"
             ],
             [
              0.5555555555555556,
              "#d8576b"
             ],
             [
              0.6666666666666666,
              "#ed7953"
             ],
             [
              0.7777777777777778,
              "#fb9f3a"
             ],
             [
              0.8888888888888888,
              "#fdca26"
             ],
             [
              1,
              "#f0f921"
             ]
            ],
            "type": "heatmapgl"
           }
          ],
          "histogram": [
           {
            "marker": {
             "pattern": {
              "fillmode": "overlay",
              "size": 10,
              "solidity": 0.2
             }
            },
            "type": "histogram"
           }
          ],
          "histogram2d": [
           {
            "colorbar": {
             "outlinewidth": 0,
             "ticks": ""
            },
            "colorscale": [
             [
              0,
              "#0d0887"
             ],
             [
              0.1111111111111111,
              "#46039f"
             ],
             [
              0.2222222222222222,
              "#7201a8"
             ],
             [
              0.3333333333333333,
              "#9c179e"
             ],
             [
              0.4444444444444444,
              "#bd3786"
             ],
             [
              0.5555555555555556,
              "#d8576b"
             ],
             [
              0.6666666666666666,
              "#ed7953"
             ],
             [
              0.7777777777777778,
              "#fb9f3a"
             ],
             [
              0.8888888888888888,
              "#fdca26"
             ],
             [
              1,
              "#f0f921"
             ]
            ],
            "type": "histogram2d"
           }
          ],
          "histogram2dcontour": [
           {
            "colorbar": {
             "outlinewidth": 0,
             "ticks": ""
            },
            "colorscale": [
             [
              0,
              "#0d0887"
             ],
             [
              0.1111111111111111,
              "#46039f"
             ],
             [
              0.2222222222222222,
              "#7201a8"
             ],
             [
              0.3333333333333333,
              "#9c179e"
             ],
             [
              0.4444444444444444,
              "#bd3786"
             ],
             [
              0.5555555555555556,
              "#d8576b"
             ],
             [
              0.6666666666666666,
              "#ed7953"
             ],
             [
              0.7777777777777778,
              "#fb9f3a"
             ],
             [
              0.8888888888888888,
              "#fdca26"
             ],
             [
              1,
              "#f0f921"
             ]
            ],
            "type": "histogram2dcontour"
           }
          ],
          "mesh3d": [
           {
            "colorbar": {
             "outlinewidth": 0,
             "ticks": ""
            },
            "type": "mesh3d"
           }
          ],
          "parcoords": [
           {
            "line": {
             "colorbar": {
              "outlinewidth": 0,
              "ticks": ""
             }
            },
            "type": "parcoords"
           }
          ],
          "pie": [
           {
            "automargin": true,
            "type": "pie"
           }
          ],
          "scatter": [
           {
            "marker": {
             "colorbar": {
              "outlinewidth": 0,
              "ticks": ""
             }
            },
            "type": "scatter"
           }
          ],
          "scatter3d": [
           {
            "line": {
             "colorbar": {
              "outlinewidth": 0,
              "ticks": ""
             }
            },
            "marker": {
             "colorbar": {
              "outlinewidth": 0,
              "ticks": ""
             }
            },
            "type": "scatter3d"
           }
          ],
          "scattercarpet": [
           {
            "marker": {
             "colorbar": {
              "outlinewidth": 0,
              "ticks": ""
             }
            },
            "type": "scattercarpet"
           }
          ],
          "scattergeo": [
           {
            "marker": {
             "colorbar": {
              "outlinewidth": 0,
              "ticks": ""
             }
            },
            "type": "scattergeo"
           }
          ],
          "scattergl": [
           {
            "marker": {
             "colorbar": {
              "outlinewidth": 0,
              "ticks": ""
             }
            },
            "type": "scattergl"
           }
          ],
          "scattermapbox": [
           {
            "marker": {
             "colorbar": {
              "outlinewidth": 0,
              "ticks": ""
             }
            },
            "type": "scattermapbox"
           }
          ],
          "scatterpolar": [
           {
            "marker": {
             "colorbar": {
              "outlinewidth": 0,
              "ticks": ""
             }
            },
            "type": "scatterpolar"
           }
          ],
          "scatterpolargl": [
           {
            "marker": {
             "colorbar": {
              "outlinewidth": 0,
              "ticks": ""
             }
            },
            "type": "scatterpolargl"
           }
          ],
          "scatterternary": [
           {
            "marker": {
             "colorbar": {
              "outlinewidth": 0,
              "ticks": ""
             }
            },
            "type": "scatterternary"
           }
          ],
          "surface": [
           {
            "colorbar": {
             "outlinewidth": 0,
             "ticks": ""
            },
            "colorscale": [
             [
              0,
              "#0d0887"
             ],
             [
              0.1111111111111111,
              "#46039f"
             ],
             [
              0.2222222222222222,
              "#7201a8"
             ],
             [
              0.3333333333333333,
              "#9c179e"
             ],
             [
              0.4444444444444444,
              "#bd3786"
             ],
             [
              0.5555555555555556,
              "#d8576b"
             ],
             [
              0.6666666666666666,
              "#ed7953"
             ],
             [
              0.7777777777777778,
              "#fb9f3a"
             ],
             [
              0.8888888888888888,
              "#fdca26"
             ],
             [
              1,
              "#f0f921"
             ]
            ],
            "type": "surface"
           }
          ],
          "table": [
           {
            "cells": {
             "fill": {
              "color": "#EBF0F8"
             },
             "line": {
              "color": "white"
             }
            },
            "header": {
             "fill": {
              "color": "#C8D4E3"
             },
             "line": {
              "color": "white"
             }
            },
            "type": "table"
           }
          ]
         },
         "layout": {
          "annotationdefaults": {
           "arrowcolor": "#2a3f5f",
           "arrowhead": 0,
           "arrowwidth": 1
          },
          "autotypenumbers": "strict",
          "coloraxis": {
           "colorbar": {
            "outlinewidth": 0,
            "ticks": ""
           }
          },
          "colorscale": {
           "diverging": [
            [
             0,
             "#8e0152"
            ],
            [
             0.1,
             "#c51b7d"
            ],
            [
             0.2,
             "#de77ae"
            ],
            [
             0.3,
             "#f1b6da"
            ],
            [
             0.4,
             "#fde0ef"
            ],
            [
             0.5,
             "#f7f7f7"
            ],
            [
             0.6,
             "#e6f5d0"
            ],
            [
             0.7,
             "#b8e186"
            ],
            [
             0.8,
             "#7fbc41"
            ],
            [
             0.9,
             "#4d9221"
            ],
            [
             1,
             "#276419"
            ]
           ],
           "sequential": [
            [
             0,
             "#0d0887"
            ],
            [
             0.1111111111111111,
             "#46039f"
            ],
            [
             0.2222222222222222,
             "#7201a8"
            ],
            [
             0.3333333333333333,
             "#9c179e"
            ],
            [
             0.4444444444444444,
             "#bd3786"
            ],
            [
             0.5555555555555556,
             "#d8576b"
            ],
            [
             0.6666666666666666,
             "#ed7953"
            ],
            [
             0.7777777777777778,
             "#fb9f3a"
            ],
            [
             0.8888888888888888,
             "#fdca26"
            ],
            [
             1,
             "#f0f921"
            ]
           ],
           "sequentialminus": [
            [
             0,
             "#0d0887"
            ],
            [
             0.1111111111111111,
             "#46039f"
            ],
            [
             0.2222222222222222,
             "#7201a8"
            ],
            [
             0.3333333333333333,
             "#9c179e"
            ],
            [
             0.4444444444444444,
             "#bd3786"
            ],
            [
             0.5555555555555556,
             "#d8576b"
            ],
            [
             0.6666666666666666,
             "#ed7953"
            ],
            [
             0.7777777777777778,
             "#fb9f3a"
            ],
            [
             0.8888888888888888,
             "#fdca26"
            ],
            [
             1,
             "#f0f921"
            ]
           ]
          },
          "colorway": [
           "#636efa",
           "#EF553B",
           "#00cc96",
           "#ab63fa",
           "#FFA15A",
           "#19d3f3",
           "#FF6692",
           "#B6E880",
           "#FF97FF",
           "#FECB52"
          ],
          "font": {
           "color": "#2a3f5f"
          },
          "geo": {
           "bgcolor": "white",
           "lakecolor": "white",
           "landcolor": "#E5ECF6",
           "showlakes": true,
           "showland": true,
           "subunitcolor": "white"
          },
          "hoverlabel": {
           "align": "left"
          },
          "hovermode": "closest",
          "mapbox": {
           "style": "light"
          },
          "paper_bgcolor": "white",
          "plot_bgcolor": "#E5ECF6",
          "polar": {
           "angularaxis": {
            "gridcolor": "white",
            "linecolor": "white",
            "ticks": ""
           },
           "bgcolor": "#E5ECF6",
           "radialaxis": {
            "gridcolor": "white",
            "linecolor": "white",
            "ticks": ""
           }
          },
          "scene": {
           "xaxis": {
            "backgroundcolor": "#E5ECF6",
            "gridcolor": "white",
            "gridwidth": 2,
            "linecolor": "white",
            "showbackground": true,
            "ticks": "",
            "zerolinecolor": "white"
           },
           "yaxis": {
            "backgroundcolor": "#E5ECF6",
            "gridcolor": "white",
            "gridwidth": 2,
            "linecolor": "white",
            "showbackground": true,
            "ticks": "",
            "zerolinecolor": "white"
           },
           "zaxis": {
            "backgroundcolor": "#E5ECF6",
            "gridcolor": "white",
            "gridwidth": 2,
            "linecolor": "white",
            "showbackground": true,
            "ticks": "",
            "zerolinecolor": "white"
           }
          },
          "shapedefaults": {
           "line": {
            "color": "#2a3f5f"
           }
          },
          "ternary": {
           "aaxis": {
            "gridcolor": "white",
            "linecolor": "white",
            "ticks": ""
           },
           "baxis": {
            "gridcolor": "white",
            "linecolor": "white",
            "ticks": ""
           },
           "bgcolor": "#E5ECF6",
           "caxis": {
            "gridcolor": "white",
            "linecolor": "white",
            "ticks": ""
           }
          },
          "title": {
           "x": 0.05
          },
          "xaxis": {
           "automargin": true,
           "gridcolor": "white",
           "linecolor": "white",
           "ticks": "",
           "title": {
            "standoff": 15
           },
           "zerolinecolor": "white",
           "zerolinewidth": 2
          },
          "yaxis": {
           "automargin": true,
           "gridcolor": "white",
           "linecolor": "white",
           "ticks": "",
           "title": {
            "standoff": 15
           },
           "zerolinecolor": "white",
           "zerolinewidth": 2
          }
         }
        },
        "title": {
         "text": "Evolución del Teletrabajo por Comunidad Autónoma"
        },
        "xaxis": {
         "anchor": "y",
         "domain": [
          0,
          0.235
         ],
         "title": {
          "text": "AÑO"
         }
        },
        "xaxis10": {
         "anchor": "y10",
         "domain": [
          0.255,
          0.49
         ],
         "matches": "x",
         "showticklabels": false
        },
        "xaxis11": {
         "anchor": "y11",
         "domain": [
          0.51,
          0.745
         ],
         "matches": "x",
         "showticklabels": false
        },
        "xaxis12": {
         "anchor": "y12",
         "domain": [
          0.7649999999999999,
          0.9999999999999999
         ],
         "matches": "x",
         "showticklabels": false
        },
        "xaxis13": {
         "anchor": "y13",
         "domain": [
          0,
          0.235
         ],
         "matches": "x",
         "showticklabels": false
        },
        "xaxis14": {
         "anchor": "y14",
         "domain": [
          0.255,
          0.49
         ],
         "matches": "x",
         "showticklabels": false
        },
        "xaxis15": {
         "anchor": "y15",
         "domain": [
          0.51,
          0.745
         ],
         "matches": "x",
         "showticklabels": false
        },
        "xaxis16": {
         "anchor": "y16",
         "domain": [
          0.7649999999999999,
          0.9999999999999999
         ],
         "matches": "x",
         "showticklabels": false
        },
        "xaxis17": {
         "anchor": "y17",
         "domain": [
          0,
          0.235
         ],
         "matches": "x",
         "showticklabels": false
        },
        "xaxis18": {
         "anchor": "y18",
         "domain": [
          0.255,
          0.49
         ],
         "matches": "x",
         "showticklabels": false
        },
        "xaxis19": {
         "anchor": "y19",
         "domain": [
          0.51,
          0.745
         ],
         "matches": "x",
         "showticklabels": false
        },
        "xaxis2": {
         "anchor": "y2",
         "domain": [
          0.255,
          0.49
         ],
         "matches": "x",
         "title": {
          "text": "AÑO"
         }
        },
        "xaxis20": {
         "anchor": "y20",
         "domain": [
          0.7649999999999999,
          0.9999999999999999
         ],
         "matches": "x",
         "showticklabels": false
        },
        "xaxis3": {
         "anchor": "y3",
         "domain": [
          0.51,
          0.745
         ],
         "matches": "x",
         "title": {
          "text": "AÑO"
         }
        },
        "xaxis4": {
         "anchor": "y4",
         "domain": [
          0.7649999999999999,
          0.9999999999999999
         ],
         "matches": "x",
         "title": {
          "text": "AÑO"
         }
        },
        "xaxis5": {
         "anchor": "y5",
         "domain": [
          0,
          0.235
         ],
         "matches": "x",
         "showticklabels": false
        },
        "xaxis6": {
         "anchor": "y6",
         "domain": [
          0.255,
          0.49
         ],
         "matches": "x",
         "showticklabels": false
        },
        "xaxis7": {
         "anchor": "y7",
         "domain": [
          0.51,
          0.745
         ],
         "matches": "x",
         "showticklabels": false
        },
        "xaxis8": {
         "anchor": "y8",
         "domain": [
          0.7649999999999999,
          0.9999999999999999
         ],
         "matches": "x",
         "showticklabels": false
        },
        "xaxis9": {
         "anchor": "y9",
         "domain": [
          0,
          0.235
         ],
         "matches": "x",
         "showticklabels": false
        },
        "yaxis": {
         "anchor": "x",
         "domain": [
          0,
          0.144
         ],
         "tickformat": ".0fk",
         "title": {
          "text": "Número de Personas (k)"
         }
        },
        "yaxis10": {
         "anchor": "x10",
         "domain": [
          0.428,
          0.572
         ],
         "matches": "y",
         "showticklabels": false,
         "tickformat": ".0fk"
        },
        "yaxis11": {
         "anchor": "x11",
         "domain": [
          0.428,
          0.572
         ],
         "matches": "y",
         "showticklabels": false,
         "tickformat": ".0fk"
        },
        "yaxis12": {
         "anchor": "x12",
         "domain": [
          0.428,
          0.572
         ],
         "matches": "y",
         "showticklabels": false,
         "tickformat": ".0fk"
        },
        "yaxis13": {
         "anchor": "x13",
         "domain": [
          0.6419999999999999,
          0.7859999999999999
         ],
         "matches": "y",
         "tickformat": ".0fk",
         "title": {
          "text": "Número de Personas (k)"
         }
        },
        "yaxis14": {
         "anchor": "x14",
         "domain": [
          0.6419999999999999,
          0.7859999999999999
         ],
         "matches": "y",
         "showticklabels": false,
         "tickformat": ".0fk"
        },
        "yaxis15": {
         "anchor": "x15",
         "domain": [
          0.6419999999999999,
          0.7859999999999999
         ],
         "matches": "y",
         "showticklabels": false,
         "tickformat": ".0fk"
        },
        "yaxis16": {
         "anchor": "x16",
         "domain": [
          0.6419999999999999,
          0.7859999999999999
         ],
         "matches": "y",
         "showticklabels": false,
         "tickformat": ".0fk"
        },
        "yaxis17": {
         "anchor": "x17",
         "domain": [
          0.856,
          1
         ],
         "matches": "y",
         "tickformat": ".0fk",
         "title": {
          "text": "Número de Personas (k)"
         }
        },
        "yaxis18": {
         "anchor": "x18",
         "domain": [
          0.856,
          1
         ],
         "matches": "y",
         "showticklabels": false,
         "tickformat": ".0fk"
        },
        "yaxis19": {
         "anchor": "x19",
         "domain": [
          0.856,
          1
         ],
         "matches": "y",
         "showticklabels": false,
         "tickformat": ".0fk"
        },
        "yaxis2": {
         "anchor": "x2",
         "domain": [
          0,
          0.144
         ],
         "matches": "y",
         "showticklabels": false,
         "tickformat": ".0fk"
        },
        "yaxis20": {
         "anchor": "x20",
         "domain": [
          0.856,
          1
         ],
         "matches": "y",
         "showticklabels": false,
         "tickformat": ".0fk"
        },
        "yaxis3": {
         "anchor": "x3",
         "domain": [
          0,
          0.144
         ],
         "matches": "y",
         "showticklabels": false,
         "tickformat": ".0fk"
        },
        "yaxis4": {
         "anchor": "x4",
         "domain": [
          0,
          0.144
         ],
         "matches": "y",
         "showticklabels": false,
         "tickformat": ".0fk"
        },
        "yaxis5": {
         "anchor": "x5",
         "domain": [
          0.214,
          0.358
         ],
         "matches": "y",
         "tickformat": ".0fk",
         "title": {
          "text": "Número de Personas (k)"
         }
        },
        "yaxis6": {
         "anchor": "x6",
         "domain": [
          0.214,
          0.358
         ],
         "matches": "y",
         "showticklabels": false,
         "tickformat": ".0fk"
        },
        "yaxis7": {
         "anchor": "x7",
         "domain": [
          0.214,
          0.358
         ],
         "matches": "y",
         "showticklabels": false,
         "tickformat": ".0fk"
        },
        "yaxis8": {
         "anchor": "x8",
         "domain": [
          0.214,
          0.358
         ],
         "matches": "y",
         "showticklabels": false,
         "tickformat": ".0fk"
        },
        "yaxis9": {
         "anchor": "x9",
         "domain": [
          0.428,
          0.572
         ],
         "matches": "y",
         "tickformat": ".0fk",
         "title": {
          "text": "Número de Personas (k)"
         }
        }
       }
      }
     },
     "metadata": {},
     "output_type": "display_data"
    }
   ],
   "source": [
    "\n",
    "custom_palette = ['#F4D2CE', '#E6AFA9', '#C08C83']\n",
    "\n",
    "# Gráfico de líneas con facetas para múltiples comunidades autónomas en una sola visualización\n",
    "fig = px.line(df_final, x='AÑO', \n",
    "              y=['Han teletrabajado', \n",
    "                 'No han teletrabajado aunque su trabajo les permitiría teletrabajar', \n",
    "                 'No han teletrabajado porque su trabajo no les permitiría teletrabajar'],\n",
    "              facet_col='Comunidad autónoma', facet_col_wrap=4,  # Agrupar en una cuadrícula de 4 columnas\n",
    "              title=\"Evolución del Teletrabajo por Comunidad Autónoma\",\n",
    "              labels={'value': 'Número de Personas (k)', 'variable': 'Estado de Teletrabajo'},\n",
    "              color_discrete_sequence=custom_palette,  # Usar la paleta personalizada\n",
    "              markers=True)\n",
    "\n",
    "# Ajustes adicionales\n",
    "fig.update_layout(height=800, showlegend=True)  # Ajustar altura del gráfico\n",
    "fig.for_each_yaxis(lambda yaxis: yaxis.update(tickformat=\".0fk\"))  # Formato en miles (k) para el eje y\n",
    "fig.for_each_annotation(lambda a: a.update(text=a.text.split(\"=\")[-1]))  # Simplificar los títulos de cada faceta\n",
    "\n",
    "fig.show()\n",
    "\n"
   ]
  },
  {
   "cell_type": "code",
   "execution_count": null,
   "metadata": {},
   "outputs": [],
   "source": []
  },
  {
   "cell_type": "code",
   "execution_count": 7,
   "metadata": {},
   "outputs": [
    {
     "data": {
      "text/html": [
       "<div><div id=12025424-fa43-4caa-8e04-73ee76d1865d style=\"display:none; background-color:#9D6CFF; color:white; width:200px; height:30px; padding-left:5px; border-radius:4px; flex-direction:row; justify-content:space-around; align-items:center;\" onmouseover=\"this.style.backgroundColor='#BA9BF8'\" onmouseout=\"this.style.backgroundColor='#9D6CFF'\" onclick=\"window.commands?.execute('create-mitosheet-from-dataframe-output');\">See Full Dataframe in Mito</div> <script> if (window.commands?.hasCommand('create-mitosheet-from-dataframe-output')) document.getElementById('12025424-fa43-4caa-8e04-73ee76d1865d').style.display = 'flex' </script> <table border=\"1\" class=\"dataframe\">\n",
       "  <thead>\n",
       "    <tr style=\"text-align: right;\">\n",
       "      <th></th>\n",
       "      <th>AÑO</th>\n",
       "      <th>Comunidad autónoma</th>\n",
       "      <th>Ocupados</th>\n",
       "      <th>Parados</th>\n",
       "      <th>Inactivos</th>\n",
       "      <th>Total Actividad</th>\n",
       "      <th>Sector</th>\n",
       "      <th>Gastos en transporte unitarios</th>\n",
       "      <th>Gasto total en transporte</th>\n",
       "      <th>Sueldos y salarios unitarios</th>\n",
       "      <th>Sueldos y salarios totales</th>\n",
       "    </tr>\n",
       "  </thead>\n",
       "  <tbody>\n",
       "    <tr>\n",
       "      <th>0</th>\n",
       "      <td>2018</td>\n",
       "      <td>Andalucía</td>\n",
       "      <td>3,030,750.00</td>\n",
       "      <td>904,625.00</td>\n",
       "      <td>2,983,100.00</td>\n",
       "      <td>6,918,475.00</td>\n",
       "      <td>Industria</td>\n",
       "      <td>37.15</td>\n",
       "      <td>112,592,362.50</td>\n",
       "      <td>24,335.01</td>\n",
       "      <td>73,753,331,557.50</td>\n",
       "    </tr>\n",
       "    <tr>\n",
       "      <th>1</th>\n",
       "      <td>2018</td>\n",
       "      <td>Andalucía</td>\n",
       "      <td>3,030,750.00</td>\n",
       "      <td>904,625.00</td>\n",
       "      <td>2,983,100.00</td>\n",
       "      <td>6,918,475.00</td>\n",
       "      <td>Construcción</td>\n",
       "      <td>21.25</td>\n",
       "      <td>64,403,437.50</td>\n",
       "      <td>20,853.79</td>\n",
       "      <td>63,202,624,042.50</td>\n",
       "    </tr>\n",
       "    <tr>\n",
       "      <th>2</th>\n",
       "      <td>2018</td>\n",
       "      <td>Andalucía</td>\n",
       "      <td>3,030,750.00</td>\n",
       "      <td>904,625.00</td>\n",
       "      <td>2,983,100.00</td>\n",
       "      <td>6,918,475.00</td>\n",
       "      <td>Servicios</td>\n",
       "      <td>3.39</td>\n",
       "      <td>10,274,242.50</td>\n",
       "      <td>19,438.66</td>\n",
       "      <td>58,913,718,795.00</td>\n",
       "    </tr>\n",
       "    <tr>\n",
       "      <th>3</th>\n",
       "      <td>2018</td>\n",
       "      <td>Aragón</td>\n",
       "      <td>573,825.00</td>\n",
       "      <td>68,250.00</td>\n",
       "      <td>452,275.00</td>\n",
       "      <td>1,094,350.00</td>\n",
       "      <td>Industria</td>\n",
       "      <td>109.99</td>\n",
       "      <td>63,115,011.75</td>\n",
       "      <td>26,716.39</td>\n",
       "      <td>15,330,532,491.75</td>\n",
       "    </tr>\n",
       "    <tr>\n",
       "      <th>4</th>\n",
       "      <td>2018</td>\n",
       "      <td>Aragón</td>\n",
       "      <td>573,825.00</td>\n",
       "      <td>68,250.00</td>\n",
       "      <td>452,275.00</td>\n",
       "      <td>1,094,350.00</td>\n",
       "      <td>Construcción</td>\n",
       "      <td>5.97</td>\n",
       "      <td>3,425,735.25</td>\n",
       "      <td>23,471.18</td>\n",
       "      <td>13,468,349,863.50</td>\n",
       "    </tr>\n",
       "    <tr>\n",
       "      <th>...</th>\n",
       "      <td>...</td>\n",
       "      <td>...</td>\n",
       "      <td>...</td>\n",
       "      <td>...</td>\n",
       "      <td>...</td>\n",
       "      <td>...</td>\n",
       "      <td>...</td>\n",
       "      <td>...</td>\n",
       "      <td>...</td>\n",
       "      <td>...</td>\n",
       "      <td>...</td>\n",
       "    </tr>\n",
       "    <tr>\n",
       "      <th>301</th>\n",
       "      <td>2023</td>\n",
       "      <td>País Vasco</td>\n",
       "      <td>995,750.00</td>\n",
       "      <td>83,375.00</td>\n",
       "      <td>818,725.00</td>\n",
       "      <td>1,897,850.00</td>\n",
       "      <td>Construcción</td>\n",
       "      <td>30.82</td>\n",
       "      <td>30,689,015.00</td>\n",
       "      <td>29,392.81</td>\n",
       "      <td>29,267,890,557.50</td>\n",
       "    </tr>\n",
       "    <tr>\n",
       "      <th>302</th>\n",
       "      <td>2023</td>\n",
       "      <td>País Vasco</td>\n",
       "      <td>995,750.00</td>\n",
       "      <td>83,375.00</td>\n",
       "      <td>818,725.00</td>\n",
       "      <td>1,897,850.00</td>\n",
       "      <td>Servicios</td>\n",
       "      <td>7.54</td>\n",
       "      <td>7,507,955.00</td>\n",
       "      <td>28,236.98</td>\n",
       "      <td>28,116,972,835.00</td>\n",
       "    </tr>\n",
       "    <tr>\n",
       "      <th>303</th>\n",
       "      <td>2023</td>\n",
       "      <td>Rioja, La</td>\n",
       "      <td>146,625.00</td>\n",
       "      <td>15,150.00</td>\n",
       "      <td>112,600.00</td>\n",
       "      <td>274,375.00</td>\n",
       "      <td>Industria</td>\n",
       "      <td>16.48</td>\n",
       "      <td>2,416,380.00</td>\n",
       "      <td>25,845.14</td>\n",
       "      <td>3,789,543,652.50</td>\n",
       "    </tr>\n",
       "    <tr>\n",
       "      <th>304</th>\n",
       "      <td>2023</td>\n",
       "      <td>Rioja, La</td>\n",
       "      <td>146,625.00</td>\n",
       "      <td>15,150.00</td>\n",
       "      <td>112,600.00</td>\n",
       "      <td>274,375.00</td>\n",
       "      <td>Construcción</td>\n",
       "      <td>11.38</td>\n",
       "      <td>1,668,592.50</td>\n",
       "      <td>25,321.95</td>\n",
       "      <td>3,712,830,918.75</td>\n",
       "    </tr>\n",
       "    <tr>\n",
       "      <th>305</th>\n",
       "      <td>2023</td>\n",
       "      <td>Rioja, La</td>\n",
       "      <td>146,625.00</td>\n",
       "      <td>15,150.00</td>\n",
       "      <td>112,600.00</td>\n",
       "      <td>274,375.00</td>\n",
       "      <td>Servicios</td>\n",
       "      <td>7.70</td>\n",
       "      <td>1,129,012.50</td>\n",
       "      <td>23,139.17</td>\n",
       "      <td>3,392,780,801.25</td>\n",
       "    </tr>\n",
       "  </tbody>\n",
       "</table></div>"
      ],
      "text/plain": [
       "      AÑO Comunidad autónoma     Ocupados    Parados    Inactivos  \\\n",
       "0    2018          Andalucía 3,030,750.00 904,625.00 2,983,100.00   \n",
       "1    2018          Andalucía 3,030,750.00 904,625.00 2,983,100.00   \n",
       "2    2018          Andalucía 3,030,750.00 904,625.00 2,983,100.00   \n",
       "3    2018             Aragón   573,825.00  68,250.00   452,275.00   \n",
       "4    2018             Aragón   573,825.00  68,250.00   452,275.00   \n",
       "..    ...                ...          ...        ...          ...   \n",
       "301  2023         País Vasco   995,750.00  83,375.00   818,725.00   \n",
       "302  2023         País Vasco   995,750.00  83,375.00   818,725.00   \n",
       "303  2023          Rioja, La   146,625.00  15,150.00   112,600.00   \n",
       "304  2023          Rioja, La   146,625.00  15,150.00   112,600.00   \n",
       "305  2023          Rioja, La   146,625.00  15,150.00   112,600.00   \n",
       "\n",
       "     Total Actividad        Sector  Gastos en transporte unitarios  \\\n",
       "0       6,918,475.00     Industria                           37.15   \n",
       "1       6,918,475.00  Construcción                           21.25   \n",
       "2       6,918,475.00     Servicios                            3.39   \n",
       "3       1,094,350.00     Industria                          109.99   \n",
       "4       1,094,350.00  Construcción                            5.97   \n",
       "..               ...           ...                             ...   \n",
       "301     1,897,850.00  Construcción                           30.82   \n",
       "302     1,897,850.00     Servicios                            7.54   \n",
       "303       274,375.00     Industria                           16.48   \n",
       "304       274,375.00  Construcción                           11.38   \n",
       "305       274,375.00     Servicios                            7.70   \n",
       "\n",
       "     Gasto total en transporte  Sueldos y salarios unitarios  \\\n",
       "0               112,592,362.50                     24,335.01   \n",
       "1                64,403,437.50                     20,853.79   \n",
       "2                10,274,242.50                     19,438.66   \n",
       "3                63,115,011.75                     26,716.39   \n",
       "4                 3,425,735.25                     23,471.18   \n",
       "..                         ...                           ...   \n",
       "301              30,689,015.00                     29,392.81   \n",
       "302               7,507,955.00                     28,236.98   \n",
       "303               2,416,380.00                     25,845.14   \n",
       "304               1,668,592.50                     25,321.95   \n",
       "305               1,129,012.50                     23,139.17   \n",
       "\n",
       "     Sueldos y salarios totales  \n",
       "0             73,753,331,557.50  \n",
       "1             63,202,624,042.50  \n",
       "2             58,913,718,795.00  \n",
       "3             15,330,532,491.75  \n",
       "4             13,468,349,863.50  \n",
       "..                          ...  \n",
       "301           29,267,890,557.50  \n",
       "302           28,116,972,835.00  \n",
       "303            3,789,543,652.50  \n",
       "304            3,712,830,918.75  \n",
       "305            3,392,780,801.25  \n",
       "\n",
       "[306 rows x 11 columns]"
      ]
     },
     "execution_count": 7,
     "metadata": {},
     "output_type": "execute_result"
    }
   ],
   "source": [
    "#Cargamos el df\n",
    "\n",
    "df_poblacion = pd.read_csv(url, sep=',')\n",
    "df_poblacion"
   ]
  },
  {
   "cell_type": "code",
   "execution_count": 15,
   "metadata": {},
   "outputs": [
    {
     "name": "stdout",
     "output_type": "stream",
     "text": [
      "Index(['AÑO', 'Comunidad autónoma', 'Ocupados', 'Parados', 'Inactivos',\n",
      "       'Total Actividad', 'Sector', 'Gastos en transporte unitarios',\n",
      "       'Gasto total en transporte', 'Sueldos y salarios unitarios',\n",
      "       'Sueldos y salarios totales'],\n",
      "      dtype='object')\n"
     ]
    }
   ],
   "source": [
    "print(df_poblacion.columns)\n"
   ]
  },
  {
   "cell_type": "code",
   "execution_count": 23,
   "metadata": {},
   "outputs": [],
   "source": [
    "# Definir la paleta de colores personalizada\n",
    "custom_palette = ['#F4D2CE', '#E6AFA9', '#C08C83', '#9A6A5F', '#755348']\n"
   ]
  },
  {
   "cell_type": "code",
   "execution_count": 27,
   "metadata": {},
   "outputs": [
    {
     "data": {
      "application/vnd.plotly.v1+json": {
       "config": {
        "plotlyServerURL": "https://plot.ly"
       },
       "data": [
        {
         "alignmentgroup": "True",
         "hovertemplate": "Tipo de Población=Ocupados<br>Comunidad autónoma=Andalucía<br>Año=%{x}<br>Población (millones)=%{y}<extra></extra>",
         "legendgroup": "Ocupados",
         "marker": {
          "color": "#F4D2CE",
          "pattern": {
           "shape": ""
          }
         },
         "name": "Ocupados",
         "offsetgroup": "Ocupados",
         "orientation": "v",
         "showlegend": true,
         "textposition": "auto",
         "type": "bar",
         "x": [
          2018,
          2018,
          2018,
          2019,
          2019,
          2019,
          2020,
          2020,
          2020,
          2021,
          2021,
          2021,
          2022,
          2022,
          2022,
          2023,
          2023,
          2023
         ],
         "xaxis": "x17",
         "y": [
          3.03075,
          3.03075,
          3.03075,
          3.11975,
          3.11975,
          3.11975,
          3.021125,
          3.021125,
          3.021125,
          3.1525,
          3.1525,
          3.1525,
          3.27575,
          3.27575,
          3.27575,
          3.38385,
          3.38385,
          3.38385
         ],
         "yaxis": "y17"
        },
        {
         "alignmentgroup": "True",
         "hovertemplate": "Tipo de Población=Ocupados<br>Comunidad autónoma=Aragón<br>Año=%{x}<br>Población (millones)=%{y}<extra></extra>",
         "legendgroup": "Ocupados",
         "marker": {
          "color": "#F4D2CE",
          "pattern": {
           "shape": ""
          }
         },
         "name": "Ocupados",
         "offsetgroup": "Ocupados",
         "orientation": "v",
         "showlegend": false,
         "textposition": "auto",
         "type": "bar",
         "x": [
          2018,
          2018,
          2018,
          2019,
          2019,
          2019,
          2020,
          2020,
          2020,
          2021,
          2021,
          2021,
          2022,
          2022,
          2022,
          2023,
          2023,
          2023
         ],
         "xaxis": "x18",
         "y": [
          0.573825,
          0.573825,
          0.573825,
          0.58755,
          0.58755,
          0.58755,
          0.569875,
          0.569875,
          0.569875,
          0.588625,
          0.588625,
          0.588625,
          0.59985,
          0.59985,
          0.59985,
          0.6113,
          0.6113,
          0.6113
         ],
         "yaxis": "y18"
        },
        {
         "alignmentgroup": "True",
         "hovertemplate": "Tipo de Población=Ocupados<br>Comunidad autónoma=Asturias, Principado de<br>Año=%{x}<br>Población (millones)=%{y}<extra></extra>",
         "legendgroup": "Ocupados",
         "marker": {
          "color": "#F4D2CE",
          "pattern": {
           "shape": ""
          }
         },
         "name": "Ocupados",
         "offsetgroup": "Ocupados",
         "orientation": "v",
         "showlegend": false,
         "textposition": "auto",
         "type": "bar",
         "x": [
          2018,
          2018,
          2018,
          2019,
          2019,
          2019,
          2020,
          2020,
          2020,
          2021,
          2021,
          2021,
          2022,
          2022,
          2022,
          2023,
          2023,
          2023
         ],
         "xaxis": "x19",
         "y": [
          0.3919,
          0.3919,
          0.3919,
          0.38705,
          0.38705,
          0.38705,
          0.3811,
          0.3811,
          0.3811,
          0.391475,
          0.391475,
          0.391475,
          0.383825,
          0.383825,
          0.383825,
          0.3925,
          0.3925,
          0.3925
         ],
         "yaxis": "y19"
        },
        {
         "alignmentgroup": "True",
         "hovertemplate": "Tipo de Población=Ocupados<br>Comunidad autónoma=Balears, Illes<br>Año=%{x}<br>Población (millones)=%{y}<extra></extra>",
         "legendgroup": "Ocupados",
         "marker": {
          "color": "#F4D2CE",
          "pattern": {
           "shape": ""
          }
         },
         "name": "Ocupados",
         "offsetgroup": "Ocupados",
         "orientation": "v",
         "showlegend": false,
         "textposition": "auto",
         "type": "bar",
         "x": [
          2018,
          2018,
          2018,
          2019,
          2019,
          2019,
          2020,
          2020,
          2020,
          2021,
          2021,
          2021,
          2022,
          2022,
          2022,
          2023,
          2023,
          2023
         ],
         "xaxis": "x20",
         "y": [
          0.560175,
          0.560175,
          0.560175,
          0.57115,
          0.57115,
          0.57115,
          0.528225,
          0.528225,
          0.528225,
          0.538,
          0.538,
          0.538,
          0.575975,
          0.575975,
          0.575975,
          0.589575,
          0.589575,
          0.589575
         ],
         "yaxis": "y20"
        },
        {
         "alignmentgroup": "True",
         "hovertemplate": "Tipo de Población=Ocupados<br>Comunidad autónoma=Canarias<br>Año=%{x}<br>Población (millones)=%{y}<extra></extra>",
         "legendgroup": "Ocupados",
         "marker": {
          "color": "#F4D2CE",
          "pattern": {
           "shape": ""
          }
         },
         "name": "Ocupados",
         "offsetgroup": "Ocupados",
         "orientation": "v",
         "showlegend": false,
         "textposition": "auto",
         "type": "bar",
         "x": [
          2018,
          2018,
          2018,
          2019,
          2019,
          2019,
          2020,
          2020,
          2020,
          2021,
          2021,
          2021,
          2022,
          2022,
          2022,
          2023,
          2023,
          2023
         ],
         "xaxis": "x13",
         "y": [
          0.8972,
          0.8972,
          0.8972,
          0.905925,
          0.905925,
          0.905925,
          0.849775,
          0.849775,
          0.849775,
          0.830425,
          0.830425,
          0.830425,
          0.9252,
          0.9252,
          0.9252,
          0.968425,
          0.968425,
          0.968425
         ],
         "yaxis": "y13"
        },
        {
         "alignmentgroup": "True",
         "hovertemplate": "Tipo de Población=Ocupados<br>Comunidad autónoma=Cantabria<br>Año=%{x}<br>Población (millones)=%{y}<extra></extra>",
         "legendgroup": "Ocupados",
         "marker": {
          "color": "#F4D2CE",
          "pattern": {
           "shape": ""
          }
         },
         "name": "Ocupados",
         "offsetgroup": "Ocupados",
         "orientation": "v",
         "showlegend": false,
         "textposition": "auto",
         "type": "bar",
         "x": [
          2018,
          2018,
          2018,
          2019,
          2019,
          2019,
          2020,
          2020,
          2020,
          2021,
          2021,
          2021,
          2022,
          2022,
          2022,
          2023,
          2023,
          2023
         ],
         "xaxis": "x14",
         "y": [
          0.240975,
          0.240975,
          0.240975,
          0.243825,
          0.243825,
          0.243825,
          0.2344,
          0.2344,
          0.2344,
          0.244975,
          0.244975,
          0.244975,
          0.24915,
          0.24915,
          0.24915,
          0.25485,
          0.25485,
          0.25485
         ],
         "yaxis": "y14"
        },
        {
         "alignmentgroup": "True",
         "hovertemplate": "Tipo de Población=Ocupados<br>Comunidad autónoma=Castilla - La Mancha<br>Año=%{x}<br>Población (millones)=%{y}<extra></extra>",
         "legendgroup": "Ocupados",
         "marker": {
          "color": "#F4D2CE",
          "pattern": {
           "shape": ""
          }
         },
         "name": "Ocupados",
         "offsetgroup": "Ocupados",
         "orientation": "v",
         "showlegend": false,
         "textposition": "auto",
         "type": "bar",
         "x": [
          2018,
          2018,
          2018,
          2019,
          2019,
          2019,
          2020,
          2020,
          2020,
          2021,
          2021,
          2021,
          2022,
          2022,
          2022,
          2023,
          2023,
          2023
         ],
         "xaxis": "x15",
         "y": [
          0.804975,
          0.804975,
          0.804975,
          0.825075,
          0.825075,
          0.825075,
          0.798375,
          0.798375,
          0.798375,
          0.847875,
          0.847875,
          0.847875,
          0.87155,
          0.87155,
          0.87155,
          0.895075,
          0.895075,
          0.895075
         ],
         "yaxis": "y15"
        },
        {
         "alignmentgroup": "True",
         "hovertemplate": "Tipo de Población=Ocupados<br>Comunidad autónoma=Castilla y León<br>Año=%{x}<br>Población (millones)=%{y}<extra></extra>",
         "legendgroup": "Ocupados",
         "marker": {
          "color": "#F4D2CE",
          "pattern": {
           "shape": ""
          }
         },
         "name": "Ocupados",
         "offsetgroup": "Ocupados",
         "orientation": "v",
         "showlegend": false,
         "textposition": "auto",
         "type": "bar",
         "x": [
          2018,
          2018,
          2018,
          2019,
          2019,
          2019,
          2020,
          2020,
          2020,
          2021,
          2021,
          2021,
          2022,
          2022,
          2022,
          2023,
          2023,
          2023
         ],
         "xaxis": "x16",
         "y": [
          0.982775,
          0.982775,
          0.982775,
          0.990775,
          0.990775,
          0.990775,
          0.9647,
          0.9647,
          0.9647,
          0.975975,
          0.975975,
          0.975975,
          1.01005,
          1.01005,
          1.01005,
          1.011375,
          1.011375,
          1.011375
         ],
         "yaxis": "y16"
        },
        {
         "alignmentgroup": "True",
         "hovertemplate": "Tipo de Población=Ocupados<br>Comunidad autónoma=Cataluña<br>Año=%{x}<br>Población (millones)=%{y}<extra></extra>",
         "legendgroup": "Ocupados",
         "marker": {
          "color": "#F4D2CE",
          "pattern": {
           "shape": ""
          }
         },
         "name": "Ocupados",
         "offsetgroup": "Ocupados",
         "orientation": "v",
         "showlegend": false,
         "textposition": "auto",
         "type": "bar",
         "x": [
          2018,
          2018,
          2018,
          2019,
          2019,
          2019,
          2020,
          2020,
          2020,
          2021,
          2021,
          2021,
          2022,
          2022,
          2022,
          2023,
          2023,
          2023
         ],
         "xaxis": "x9",
         "y": [
          3.362175,
          3.362175,
          3.362175,
          3.440675,
          3.440675,
          3.440675,
          3.3358,
          3.3358,
          3.3358,
          3.490075,
          3.490075,
          3.490075,
          3.593525,
          3.593525,
          3.593525,
          3.734525,
          3.734525,
          3.734525
         ],
         "yaxis": "y9"
        },
        {
         "alignmentgroup": "True",
         "hovertemplate": "Tipo de Población=Ocupados<br>Comunidad autónoma=Comunitat Valenciana<br>Año=%{x}<br>Población (millones)=%{y}<extra></extra>",
         "legendgroup": "Ocupados",
         "marker": {
          "color": "#F4D2CE",
          "pattern": {
           "shape": ""
          }
         },
         "name": "Ocupados",
         "offsetgroup": "Ocupados",
         "orientation": "v",
         "showlegend": false,
         "textposition": "auto",
         "type": "bar",
         "x": [
          2018,
          2018,
          2018,
          2019,
          2019,
          2019,
          2020,
          2020,
          2020,
          2021,
          2021,
          2021,
          2022,
          2022,
          2022,
          2023,
          2023,
          2023
         ],
         "xaxis": "x10",
         "y": [
          2.042875,
          2.042875,
          2.042875,
          2.08725,
          2.08725,
          2.08725,
          2.02035,
          2.02035,
          2.02035,
          2.07675,
          2.07675,
          2.07675,
          2.2161,
          2.2161,
          2.2161,
          2.3041,
          2.3041,
          2.3041
         ],
         "yaxis": "y10"
        },
        {
         "alignmentgroup": "True",
         "hovertemplate": "Tipo de Población=Ocupados<br>Comunidad autónoma=Extremadura<br>Año=%{x}<br>Población (millones)=%{y}<extra></extra>",
         "legendgroup": "Ocupados",
         "marker": {
          "color": "#F4D2CE",
          "pattern": {
           "shape": ""
          }
         },
         "name": "Ocupados",
         "offsetgroup": "Ocupados",
         "orientation": "v",
         "showlegend": false,
         "textposition": "auto",
         "type": "bar",
         "x": [
          2018,
          2018,
          2018,
          2019,
          2019,
          2019,
          2020,
          2020,
          2020,
          2021,
          2021,
          2021,
          2022,
          2022,
          2022,
          2023,
          2023,
          2023
         ],
         "xaxis": "x11",
         "y": [
          0.3789,
          0.3789,
          0.3789,
          0.390675,
          0.390675,
          0.390675,
          0.3803,
          0.3803,
          0.3803,
          0.394925,
          0.394925,
          0.394925,
          0.409525,
          0.409525,
          0.409525,
          0.41525,
          0.41525,
          0.41525
         ],
         "yaxis": "y11"
        },
        {
         "alignmentgroup": "True",
         "hovertemplate": "Tipo de Población=Ocupados<br>Comunidad autónoma=Galicia<br>Año=%{x}<br>Población (millones)=%{y}<extra></extra>",
         "legendgroup": "Ocupados",
         "marker": {
          "color": "#F4D2CE",
          "pattern": {
           "shape": ""
          }
         },
         "name": "Ocupados",
         "offsetgroup": "Ocupados",
         "orientation": "v",
         "showlegend": false,
         "textposition": "auto",
         "type": "bar",
         "x": [
          2018,
          2018,
          2018,
          2019,
          2019,
          2019,
          2020,
          2020,
          2020,
          2021,
          2021,
          2021,
          2022,
          2022,
          2022,
          2023,
          2023,
          2023
         ],
         "xaxis": "x12",
         "y": [
          1.077625,
          1.077625,
          1.077625,
          1.095175,
          1.095175,
          1.095175,
          1.074225,
          1.074225,
          1.074225,
          1.087075,
          1.087075,
          1.087075,
          1.10355,
          1.10355,
          1.10355,
          1.12855,
          1.12855,
          1.12855
         ],
         "yaxis": "y12"
        },
        {
         "alignmentgroup": "True",
         "hovertemplate": "Tipo de Población=Ocupados<br>Comunidad autónoma=Madrid, Comunidad de<br>Año=%{x}<br>Población (millones)=%{y}<extra></extra>",
         "legendgroup": "Ocupados",
         "marker": {
          "color": "#F4D2CE",
          "pattern": {
           "shape": ""
          }
         },
         "name": "Ocupados",
         "offsetgroup": "Ocupados",
         "orientation": "v",
         "showlegend": false,
         "textposition": "auto",
         "type": "bar",
         "x": [
          2018,
          2018,
          2018,
          2019,
          2019,
          2019,
          2020,
          2020,
          2020,
          2021,
          2021,
          2021,
          2022,
          2022,
          2022,
          2023,
          2023,
          2023
         ],
         "xaxis": "x5",
         "y": [
          2.9909,
          2.9909,
          2.9909,
          3.09895,
          3.09895,
          3.09895,
          3.0456,
          3.0456,
          3.0456,
          3.146475,
          3.146475,
          3.146475,
          3.2185,
          3.2185,
          3.2185,
          3.328225,
          3.328225,
          3.328225
         ],
         "yaxis": "y5"
        },
        {
         "alignmentgroup": "True",
         "hovertemplate": "Tipo de Población=Ocupados<br>Comunidad autónoma=Murcia, Región de<br>Año=%{x}<br>Población (millones)=%{y}<extra></extra>",
         "legendgroup": "Ocupados",
         "marker": {
          "color": "#F4D2CE",
          "pattern": {
           "shape": ""
          }
         },
         "name": "Ocupados",
         "offsetgroup": "Ocupados",
         "orientation": "v",
         "showlegend": false,
         "textposition": "auto",
         "type": "bar",
         "x": [
          2018,
          2018,
          2018,
          2019,
          2019,
          2019,
          2020,
          2020,
          2020,
          2021,
          2021,
          2021,
          2022,
          2022,
          2022,
          2023,
          2023,
          2023
         ],
         "xaxis": "x6",
         "y": [
          0.592275,
          0.592275,
          0.592275,
          0.61375,
          0.61375,
          0.61375,
          0.6069,
          0.6069,
          0.6069,
          0.63875,
          0.63875,
          0.63875,
          0.650675,
          0.650675,
          0.650675,
          0.668625,
          0.668625,
          0.668625
         ],
         "yaxis": "y6"
        },
        {
         "alignmentgroup": "True",
         "hovertemplate": "Tipo de Población=Ocupados<br>Comunidad autónoma=Navarra, Comunidad Foral de<br>Año=%{x}<br>Población (millones)=%{y}<extra></extra>",
         "legendgroup": "Ocupados",
         "marker": {
          "color": "#F4D2CE",
          "pattern": {
           "shape": ""
          }
         },
         "name": "Ocupados",
         "offsetgroup": "Ocupados",
         "orientation": "v",
         "showlegend": false,
         "textposition": "auto",
         "type": "bar",
         "x": [
          2018,
          2018,
          2018,
          2019,
          2019,
          2019,
          2020,
          2020,
          2020,
          2021,
          2021,
          2021,
          2022,
          2022,
          2022,
          2023,
          2023,
          2023
         ],
         "xaxis": "x7",
         "y": [
          0.282175,
          0.282175,
          0.282175,
          0.288875,
          0.288875,
          0.288875,
          0.2784,
          0.2784,
          0.2784,
          0.28585,
          0.28585,
          0.28585,
          0.29555,
          0.29555,
          0.29555,
          0.298725,
          0.298725,
          0.298725
         ],
         "yaxis": "y7"
        },
        {
         "alignmentgroup": "True",
         "hovertemplate": "Tipo de Población=Ocupados<br>Comunidad autónoma=País Vasco<br>Año=%{x}<br>Población (millones)=%{y}<extra></extra>",
         "legendgroup": "Ocupados",
         "marker": {
          "color": "#F4D2CE",
          "pattern": {
           "shape": ""
          }
         },
         "name": "Ocupados",
         "offsetgroup": "Ocupados",
         "orientation": "v",
         "showlegend": false,
         "textposition": "auto",
         "type": "bar",
         "x": [
          2018,
          2018,
          2018,
          2019,
          2019,
          2019,
          2020,
          2020,
          2020,
          2021,
          2021,
          2021,
          2022,
          2022,
          2022,
          2023,
          2023,
          2023
         ],
         "xaxis": "x8",
         "y": [
          0.923525,
          0.923525,
          0.923525,
          0.9361,
          0.9361,
          0.9361,
          0.91755,
          0.91755,
          0.91755,
          0.946825,
          0.946825,
          0.946825,
          0.967275,
          0.967275,
          0.967275,
          0.99575,
          0.99575,
          0.99575
         ],
         "yaxis": "y8"
        },
        {
         "alignmentgroup": "True",
         "hovertemplate": "Tipo de Población=Ocupados<br>Comunidad autónoma=Rioja, La<br>Año=%{x}<br>Población (millones)=%{y}<extra></extra>",
         "legendgroup": "Ocupados",
         "marker": {
          "color": "#F4D2CE",
          "pattern": {
           "shape": ""
          }
         },
         "name": "Ocupados",
         "offsetgroup": "Ocupados",
         "orientation": "v",
         "showlegend": false,
         "textposition": "auto",
         "type": "bar",
         "x": [
          2018,
          2018,
          2018,
          2019,
          2019,
          2019,
          2020,
          2020,
          2020,
          2021,
          2021,
          2021,
          2022,
          2022,
          2022,
          2023,
          2023,
          2023
         ],
         "xaxis": "x",
         "y": [
          0.138025,
          0.138025,
          0.138025,
          0.140625,
          0.140625,
          0.140625,
          0.13785,
          0.13785,
          0.13785,
          0.1425,
          0.1425,
          0.1425,
          0.145775,
          0.145775,
          0.145775,
          0.146625,
          0.146625,
          0.146625
         ],
         "yaxis": "y"
        },
        {
         "alignmentgroup": "True",
         "hovertemplate": "Tipo de Población=Parados<br>Comunidad autónoma=Andalucía<br>Año=%{x}<br>Población (millones)=%{y}<extra></extra>",
         "legendgroup": "Parados",
         "marker": {
          "color": "#E6AFA9",
          "pattern": {
           "shape": ""
          }
         },
         "name": "Parados",
         "offsetgroup": "Parados",
         "orientation": "v",
         "showlegend": true,
         "textposition": "auto",
         "type": "bar",
         "x": [
          2018,
          2018,
          2018,
          2019,
          2019,
          2019,
          2020,
          2020,
          2020,
          2021,
          2021,
          2021,
          2022,
          2022,
          2022,
          2023,
          2023,
          2023
         ],
         "xaxis": "x17",
         "y": [
          0.904625,
          0.904625,
          0.904625,
          0.838675,
          0.838675,
          0.838675,
          0.866175,
          0.866175,
          0.866175,
          0.8814,
          0.8814,
          0.8814,
          0.77415,
          0.77415,
          0.77415,
          0.754975,
          0.754975,
          0.754975
         ],
         "yaxis": "y17"
        },
        {
         "alignmentgroup": "True",
         "hovertemplate": "Tipo de Población=Parados<br>Comunidad autónoma=Aragón<br>Año=%{x}<br>Población (millones)=%{y}<extra></extra>",
         "legendgroup": "Parados",
         "marker": {
          "color": "#E6AFA9",
          "pattern": {
           "shape": ""
          }
         },
         "name": "Parados",
         "offsetgroup": "Parados",
         "orientation": "v",
         "showlegend": false,
         "textposition": "auto",
         "type": "bar",
         "x": [
          2018,
          2018,
          2018,
          2019,
          2019,
          2019,
          2020,
          2020,
          2020,
          2021,
          2021,
          2021,
          2022,
          2022,
          2022,
          2023,
          2023,
          2023
         ],
         "xaxis": "x18",
         "y": [
          0.06825,
          0.06825,
          0.06825,
          0.0655,
          0.0655,
          0.0655,
          0.0755,
          0.0755,
          0.0755,
          0.0678,
          0.0678,
          0.0678,
          0.063875,
          0.063875,
          0.063875,
          0.05735,
          0.05735,
          0.05735
         ],
         "yaxis": "y18"
        },
        {
         "alignmentgroup": "True",
         "hovertemplate": "Tipo de Población=Parados<br>Comunidad autónoma=Asturias, Principado de<br>Año=%{x}<br>Población (millones)=%{y}<extra></extra>",
         "legendgroup": "Parados",
         "marker": {
          "color": "#E6AFA9",
          "pattern": {
           "shape": ""
          }
         },
         "name": "Parados",
         "offsetgroup": "Parados",
         "orientation": "v",
         "showlegend": false,
         "textposition": "auto",
         "type": "bar",
         "x": [
          2018,
          2018,
          2018,
          2019,
          2019,
          2019,
          2020,
          2020,
          2020,
          2021,
          2021,
          2021,
          2022,
          2022,
          2022,
          2023,
          2023,
          2023
         ],
         "xaxis": "x19",
         "y": [
          0.06175,
          0.06175,
          0.06175,
          0.064025,
          0.064025,
          0.064025,
          0.06265,
          0.06265,
          0.06265,
          0.055125,
          0.055125,
          0.055125,
          0.05495,
          0.05495,
          0.05495,
          0.05415,
          0.05415,
          0.05415
         ],
         "yaxis": "y19"
        },
        {
         "alignmentgroup": "True",
         "hovertemplate": "Tipo de Población=Parados<br>Comunidad autónoma=Balears, Illes<br>Año=%{x}<br>Población (millones)=%{y}<extra></extra>",
         "legendgroup": "Parados",
         "marker": {
          "color": "#E6AFA9",
          "pattern": {
           "shape": ""
          }
         },
         "name": "Parados",
         "offsetgroup": "Parados",
         "orientation": "v",
         "showlegend": false,
         "textposition": "auto",
         "type": "bar",
         "x": [
          2018,
          2018,
          2018,
          2019,
          2019,
          2019,
          2020,
          2020,
          2020,
          2021,
          2021,
          2021,
          2022,
          2022,
          2022,
          2023,
          2023,
          2023
         ],
         "xaxis": "x20",
         "y": [
          0.072925,
          0.072925,
          0.072925,
          0.076,
          0.076,
          0.076,
          0.1017,
          0.1017,
          0.1017,
          0.08995,
          0.08995,
          0.08995,
          0.068425,
          0.068425,
          0.068425,
          0.06785,
          0.06785,
          0.06785
         ],
         "yaxis": "y20"
        },
        {
         "alignmentgroup": "True",
         "hovertemplate": "Tipo de Población=Parados<br>Comunidad autónoma=Canarias<br>Año=%{x}<br>Población (millones)=%{y}<extra></extra>",
         "legendgroup": "Parados",
         "marker": {
          "color": "#E6AFA9",
          "pattern": {
           "shape": ""
          }
         },
         "name": "Parados",
         "offsetgroup": "Parados",
         "orientation": "v",
         "showlegend": false,
         "textposition": "auto",
         "type": "bar",
         "x": [
          2018,
          2018,
          2018,
          2019,
          2019,
          2019,
          2020,
          2020,
          2020,
          2021,
          2021,
          2021,
          2022,
          2022,
          2022,
          2023,
          2023,
          2023
         ],
         "xaxis": "x13",
         "y": [
          0.225325,
          0.225325,
          0.225325,
          0.233475,
          0.233475,
          0.233475,
          0.248475,
          0.248475,
          0.248475,
          0.25455,
          0.25455,
          0.25455,
          0.198075,
          0.198075,
          0.198075,
          0.18555,
          0.18555,
          0.18555
         ],
         "yaxis": "y13"
        },
        {
         "alignmentgroup": "True",
         "hovertemplate": "Tipo de Población=Parados<br>Comunidad autónoma=Cantabria<br>Año=%{x}<br>Población (millones)=%{y}<extra></extra>",
         "legendgroup": "Parados",
         "marker": {
          "color": "#E6AFA9",
          "pattern": {
           "shape": ""
          }
         },
         "name": "Parados",
         "offsetgroup": "Parados",
         "orientation": "v",
         "showlegend": false,
         "textposition": "auto",
         "type": "bar",
         "x": [
          2018,
          2018,
          2018,
          2019,
          2019,
          2019,
          2020,
          2020,
          2020,
          2021,
          2021,
          2021,
          2022,
          2022,
          2022,
          2023,
          2023,
          2023
         ],
         "xaxis": "x14",
         "y": [
          0.0288,
          0.0288,
          0.0288,
          0.02795,
          0.02795,
          0.02795,
          0.032375,
          0.032375,
          0.032375,
          0.031025,
          0.031025,
          0.031025,
          0.026375,
          0.026375,
          0.026375,
          0.02255,
          0.02255,
          0.02255
         ],
         "yaxis": "y14"
        },
        {
         "alignmentgroup": "True",
         "hovertemplate": "Tipo de Población=Parados<br>Comunidad autónoma=Castilla - La Mancha<br>Año=%{x}<br>Población (millones)=%{y}<extra></extra>",
         "legendgroup": "Parados",
         "marker": {
          "color": "#E6AFA9",
          "pattern": {
           "shape": ""
          }
         },
         "name": "Parados",
         "offsetgroup": "Parados",
         "orientation": "v",
         "showlegend": false,
         "textposition": "auto",
         "type": "bar",
         "x": [
          2018,
          2018,
          2018,
          2019,
          2019,
          2019,
          2020,
          2020,
          2020,
          2021,
          2021,
          2021,
          2022,
          2022,
          2022,
          2023,
          2023,
          2023
         ],
         "xaxis": "x15",
         "y": [
          0.178625,
          0.178625,
          0.178625,
          0.15955,
          0.15955,
          0.15955,
          0.171475,
          0.171475,
          0.171475,
          0.157475,
          0.157475,
          0.157475,
          0.1495,
          0.1495,
          0.1495,
          0.136275,
          0.136275,
          0.136275
         ],
         "yaxis": "y15"
        },
        {
         "alignmentgroup": "True",
         "hovertemplate": "Tipo de Población=Parados<br>Comunidad autónoma=Castilla y León<br>Año=%{x}<br>Población (millones)=%{y}<extra></extra>",
         "legendgroup": "Parados",
         "marker": {
          "color": "#E6AFA9",
          "pattern": {
           "shape": ""
          }
         },
         "name": "Parados",
         "offsetgroup": "Parados",
         "orientation": "v",
         "showlegend": false,
         "textposition": "auto",
         "type": "bar",
         "x": [
          2018,
          2018,
          2018,
          2019,
          2019,
          2019,
          2020,
          2020,
          2020,
          2021,
          2021,
          2021,
          2022,
          2022,
          2022,
          2023,
          2023,
          2023
         ],
         "xaxis": "x16",
         "y": [
          0.1353,
          0.1353,
          0.1353,
          0.130425,
          0.130425,
          0.130425,
          0.13235,
          0.13235,
          0.13235,
          0.128225,
          0.128225,
          0.128225,
          0.111375,
          0.111375,
          0.111375,
          0.10845,
          0.10845,
          0.10845
         ],
         "yaxis": "y16"
        },
        {
         "alignmentgroup": "True",
         "hovertemplate": "Tipo de Población=Parados<br>Comunidad autónoma=Cataluña<br>Año=%{x}<br>Población (millones)=%{y}<extra></extra>",
         "legendgroup": "Parados",
         "marker": {
          "color": "#E6AFA9",
          "pattern": {
           "shape": ""
          }
         },
         "name": "Parados",
         "offsetgroup": "Parados",
         "orientation": "v",
         "showlegend": false,
         "textposition": "auto",
         "type": "bar",
         "x": [
          2018,
          2018,
          2018,
          2019,
          2019,
          2019,
          2020,
          2020,
          2020,
          2021,
          2021,
          2021,
          2022,
          2022,
          2022,
          2023,
          2023,
          2023
         ],
         "xaxis": "x9",
         "y": [
          0.43645,
          0.43645,
          0.43645,
          0.42645,
          0.42645,
          0.42645,
          0.48225,
          0.48225,
          0.48225,
          0.462075,
          0.462075,
          0.462075,
          0.398,
          0.398,
          0.398,
          0.38445,
          0.38445,
          0.38445
         ],
         "yaxis": "y9"
        },
        {
         "alignmentgroup": "True",
         "hovertemplate": "Tipo de Población=Parados<br>Comunidad autónoma=Comunitat Valenciana<br>Año=%{x}<br>Población (millones)=%{y}<extra></extra>",
         "legendgroup": "Parados",
         "marker": {
          "color": "#E6AFA9",
          "pattern": {
           "shape": ""
          }
         },
         "name": "Parados",
         "offsetgroup": "Parados",
         "orientation": "v",
         "showlegend": false,
         "textposition": "auto",
         "type": "bar",
         "x": [
          2018,
          2018,
          2018,
          2019,
          2019,
          2019,
          2020,
          2020,
          2020,
          2021,
          2021,
          2021,
          2022,
          2022,
          2022,
          2023,
          2023,
          2023
         ],
         "xaxis": "x10",
         "y": [
          0.377325,
          0.377325,
          0.377325,
          0.342925,
          0.342925,
          0.342925,
          0.39015,
          0.39015,
          0.39015,
          0.397875,
          0.397875,
          0.397875,
          0.3398,
          0.3398,
          0.3398,
          0.338125,
          0.338125,
          0.338125
         ],
         "yaxis": "y10"
        },
        {
         "alignmentgroup": "True",
         "hovertemplate": "Tipo de Población=Parados<br>Comunidad autónoma=Extremadura<br>Año=%{x}<br>Población (millones)=%{y}<extra></extra>",
         "legendgroup": "Parados",
         "marker": {
          "color": "#E6AFA9",
          "pattern": {
           "shape": ""
          }
         },
         "name": "Parados",
         "offsetgroup": "Parados",
         "orientation": "v",
         "showlegend": false,
         "textposition": "auto",
         "type": "bar",
         "x": [
          2018,
          2018,
          2018,
          2019,
          2019,
          2019,
          2020,
          2020,
          2020,
          2021,
          2021,
          2021,
          2022,
          2022,
          2022,
          2023,
          2023,
          2023
         ],
         "xaxis": "x11",
         "y": [
          0.117275,
          0.117275,
          0.117275,
          0.107225,
          0.107225,
          0.107225,
          0.105975,
          0.105975,
          0.105975,
          0.09975,
          0.09975,
          0.09975,
          0.08575,
          0.08575,
          0.08575,
          0.087275,
          0.087275,
          0.087275
         ],
         "yaxis": "y11"
        },
        {
         "alignmentgroup": "True",
         "hovertemplate": "Tipo de Población=Parados<br>Comunidad autónoma=Galicia<br>Año=%{x}<br>Población (millones)=%{y}<extra></extra>",
         "legendgroup": "Parados",
         "marker": {
          "color": "#E6AFA9",
          "pattern": {
           "shape": ""
          }
         },
         "name": "Parados",
         "offsetgroup": "Parados",
         "orientation": "v",
         "showlegend": false,
         "textposition": "auto",
         "type": "bar",
         "x": [
          2018,
          2018,
          2018,
          2019,
          2019,
          2019,
          2020,
          2020,
          2020,
          2021,
          2021,
          2021,
          2022,
          2022,
          2022,
          2023,
          2023,
          2023
         ],
         "xaxis": "x12",
         "y": [
          0.16585,
          0.16585,
          0.16585,
          0.1459,
          0.1459,
          0.1459,
          0.146675,
          0.146675,
          0.146675,
          0.141825,
          0.141825,
          0.141825,
          0.1369,
          0.1369,
          0.1369,
          0.12145,
          0.12145,
          0.12145
         ],
         "yaxis": "y12"
        },
        {
         "alignmentgroup": "True",
         "hovertemplate": "Tipo de Población=Parados<br>Comunidad autónoma=Madrid, Comunidad de<br>Año=%{x}<br>Población (millones)=%{y}<extra></extra>",
         "legendgroup": "Parados",
         "marker": {
          "color": "#E6AFA9",
          "pattern": {
           "shape": ""
          }
         },
         "name": "Parados",
         "offsetgroup": "Parados",
         "orientation": "v",
         "showlegend": false,
         "textposition": "auto",
         "type": "bar",
         "x": [
          2018,
          2018,
          2018,
          2019,
          2019,
          2019,
          2020,
          2020,
          2020,
          2021,
          2021,
          2021,
          2022,
          2022,
          2022,
          2023,
          2023,
          2023
         ],
         "xaxis": "x5",
         "y": [
          0.4163,
          0.4163,
          0.4163,
          0.368225,
          0.368225,
          0.368225,
          0.4349,
          0.4349,
          0.4349,
          0.41645,
          0.41645,
          0.41645,
          0.4066,
          0.4066,
          0.4066,
          0.36785,
          0.36785,
          0.36785
         ],
         "yaxis": "y5"
        },
        {
         "alignmentgroup": "True",
         "hovertemplate": "Tipo de Población=Parados<br>Comunidad autónoma=Murcia, Región de<br>Año=%{x}<br>Población (millones)=%{y}<extra></extra>",
         "legendgroup": "Parados",
         "marker": {
          "color": "#E6AFA9",
          "pattern": {
           "shape": ""
          }
         },
         "name": "Parados",
         "offsetgroup": "Parados",
         "orientation": "v",
         "showlegend": false,
         "textposition": "auto",
         "type": "bar",
         "x": [
          2018,
          2018,
          2018,
          2019,
          2019,
          2019,
          2020,
          2020,
          2020,
          2021,
          2021,
          2021,
          2022,
          2022,
          2022,
          2023,
          2023,
          2023
         ],
         "xaxis": "x6",
         "y": [
          0.119225,
          0.119225,
          0.119225,
          0.105625,
          0.105625,
          0.105625,
          0.117175,
          0.117175,
          0.117175,
          0.1102,
          0.1102,
          0.1102,
          0.10225,
          0.10225,
          0.10225,
          0.09795,
          0.09795,
          0.09795
         ],
         "yaxis": "y6"
        },
        {
         "alignmentgroup": "True",
         "hovertemplate": "Tipo de Población=Parados<br>Comunidad autónoma=Navarra, Comunidad Foral de<br>Año=%{x}<br>Población (millones)=%{y}<extra></extra>",
         "legendgroup": "Parados",
         "marker": {
          "color": "#E6AFA9",
          "pattern": {
           "shape": ""
          }
         },
         "name": "Parados",
         "offsetgroup": "Parados",
         "orientation": "v",
         "showlegend": false,
         "textposition": "auto",
         "type": "bar",
         "x": [
          2018,
          2018,
          2018,
          2019,
          2019,
          2019,
          2020,
          2020,
          2020,
          2021,
          2021,
          2021,
          2022,
          2022,
          2022,
          2023,
          2023,
          2023
         ],
         "xaxis": "x7",
         "y": [
          0.031425,
          0.031425,
          0.031425,
          0.02595,
          0.02595,
          0.02595,
          0.03115,
          0.03115,
          0.03115,
          0.034275,
          0.034275,
          0.034275,
          0.031875,
          0.031875,
          0.031875,
          0.033,
          0.033,
          0.033
         ],
         "yaxis": "y7"
        },
        {
         "alignmentgroup": "True",
         "hovertemplate": "Tipo de Población=Parados<br>Comunidad autónoma=País Vasco<br>Año=%{x}<br>Población (millones)=%{y}<extra></extra>",
         "legendgroup": "Parados",
         "marker": {
          "color": "#E6AFA9",
          "pattern": {
           "shape": ""
          }
         },
         "name": "Parados",
         "offsetgroup": "Parados",
         "orientation": "v",
         "showlegend": false,
         "textposition": "auto",
         "type": "bar",
         "x": [
          2018,
          2018,
          2018,
          2019,
          2019,
          2019,
          2020,
          2020,
          2020,
          2021,
          2021,
          2021,
          2022,
          2022,
          2022,
          2023,
          2023,
          2023
         ],
         "xaxis": "x8",
         "y": [
          0.1023,
          0.1023,
          0.1023,
          0.094275,
          0.094275,
          0.094275,
          0.0968,
          0.0968,
          0.0968,
          0.108575,
          0.108575,
          0.108575,
          0.09425,
          0.09425,
          0.09425,
          0.083375,
          0.083375,
          0.083375
         ],
         "yaxis": "y8"
        },
        {
         "alignmentgroup": "True",
         "hovertemplate": "Tipo de Población=Parados<br>Comunidad autónoma=Rioja, La<br>Año=%{x}<br>Población (millones)=%{y}<extra></extra>",
         "legendgroup": "Parados",
         "marker": {
          "color": "#E6AFA9",
          "pattern": {
           "shape": ""
          }
         },
         "name": "Parados",
         "offsetgroup": "Parados",
         "orientation": "v",
         "showlegend": false,
         "textposition": "auto",
         "type": "bar",
         "x": [
          2018,
          2018,
          2018,
          2019,
          2019,
          2019,
          2020,
          2020,
          2020,
          2021,
          2021,
          2021,
          2022,
          2022,
          2022,
          2023,
          2023,
          2023
         ],
         "xaxis": "x",
         "y": [
          0.016,
          0.016,
          0.016,
          0.015575,
          0.015575,
          0.015575,
          0.0167,
          0.0167,
          0.0167,
          0.0187,
          0.0187,
          0.0187,
          0.015375,
          0.015375,
          0.015375,
          0.01515,
          0.01515,
          0.01515
         ],
         "yaxis": "y"
        },
        {
         "alignmentgroup": "True",
         "hovertemplate": "Tipo de Población=Inactivos<br>Comunidad autónoma=Andalucía<br>Año=%{x}<br>Población (millones)=%{y}<extra></extra>",
         "legendgroup": "Inactivos",
         "marker": {
          "color": "#C08C83",
          "pattern": {
           "shape": ""
          }
         },
         "name": "Inactivos",
         "offsetgroup": "Inactivos",
         "orientation": "v",
         "showlegend": true,
         "textposition": "auto",
         "type": "bar",
         "x": [
          2018,
          2018,
          2018,
          2019,
          2019,
          2019,
          2020,
          2020,
          2020,
          2021,
          2021,
          2021,
          2022,
          2022,
          2022,
          2023,
          2023,
          2023
         ],
         "xaxis": "x17",
         "y": [
          2.9831,
          2.9831,
          2.9831,
          3.011225,
          3.011225,
          3.011225,
          3.1333,
          3.1333,
          3.1333,
          3.0437,
          3.0437,
          3.0437,
          3.1013,
          3.1013,
          3.1013,
          3.08885,
          3.08885,
          3.08885
         ],
         "yaxis": "y17"
        },
        {
         "alignmentgroup": "True",
         "hovertemplate": "Tipo de Población=Inactivos<br>Comunidad autónoma=Aragón<br>Año=%{x}<br>Población (millones)=%{y}<extra></extra>",
         "legendgroup": "Inactivos",
         "marker": {
          "color": "#C08C83",
          "pattern": {
           "shape": ""
          }
         },
         "name": "Inactivos",
         "offsetgroup": "Inactivos",
         "orientation": "v",
         "showlegend": false,
         "textposition": "auto",
         "type": "bar",
         "x": [
          2018,
          2018,
          2018,
          2019,
          2019,
          2019,
          2020,
          2020,
          2020,
          2021,
          2021,
          2021,
          2022,
          2022,
          2022,
          2023,
          2023,
          2023
         ],
         "xaxis": "x18",
         "y": [
          0.452275,
          0.452275,
          0.452275,
          0.45005,
          0.45005,
          0.45005,
          0.465225,
          0.465225,
          0.465225,
          0.46795,
          0.46795,
          0.46795,
          0.4666,
          0.4666,
          0.4666,
          0.47265,
          0.47265,
          0.47265
         ],
         "yaxis": "y18"
        },
        {
         "alignmentgroup": "True",
         "hovertemplate": "Tipo de Población=Inactivos<br>Comunidad autónoma=Asturias, Principado de<br>Año=%{x}<br>Población (millones)=%{y}<extra></extra>",
         "legendgroup": "Inactivos",
         "marker": {
          "color": "#C08C83",
          "pattern": {
           "shape": ""
          }
         },
         "name": "Inactivos",
         "offsetgroup": "Inactivos",
         "orientation": "v",
         "showlegend": false,
         "textposition": "auto",
         "type": "bar",
         "x": [
          2018,
          2018,
          2018,
          2019,
          2019,
          2019,
          2020,
          2020,
          2020,
          2021,
          2021,
          2021,
          2022,
          2022,
          2022,
          2023,
          2023,
          2023
         ],
         "xaxis": "x19",
         "y": [
          0.439825,
          0.439825,
          0.439825,
          0.43865,
          0.43865,
          0.43865,
          0.44335,
          0.44335,
          0.44335,
          0.439275,
          0.439275,
          0.439275,
          0.449,
          0.449,
          0.449,
          0.445125,
          0.445125,
          0.445125
         ],
         "yaxis": "y19"
        },
        {
         "alignmentgroup": "True",
         "hovertemplate": "Tipo de Población=Inactivos<br>Comunidad autónoma=Balears, Illes<br>Año=%{x}<br>Población (millones)=%{y}<extra></extra>",
         "legendgroup": "Inactivos",
         "marker": {
          "color": "#C08C83",
          "pattern": {
           "shape": ""
          }
         },
         "name": "Inactivos",
         "offsetgroup": "Inactivos",
         "orientation": "v",
         "showlegend": false,
         "textposition": "auto",
         "type": "bar",
         "x": [
          2018,
          2018,
          2018,
          2019,
          2019,
          2019,
          2020,
          2020,
          2020,
          2021,
          2021,
          2021,
          2022,
          2022,
          2022,
          2023,
          2023,
          2023
         ],
         "xaxis": "x20",
         "y": [
          0.3496,
          0.3496,
          0.3496,
          0.35765,
          0.35765,
          0.35765,
          0.39245,
          0.39245,
          0.39245,
          0.36545,
          0.36545,
          0.36545,
          0.36245,
          0.36245,
          0.36245,
          0.37595,
          0.37595,
          0.37595
         ],
         "yaxis": "y20"
        },
        {
         "alignmentgroup": "True",
         "hovertemplate": "Tipo de Población=Inactivos<br>Comunidad autónoma=Canarias<br>Año=%{x}<br>Población (millones)=%{y}<extra></extra>",
         "legendgroup": "Inactivos",
         "marker": {
          "color": "#C08C83",
          "pattern": {
           "shape": ""
          }
         },
         "name": "Inactivos",
         "offsetgroup": "Inactivos",
         "orientation": "v",
         "showlegend": false,
         "textposition": "auto",
         "type": "bar",
         "x": [
          2018,
          2018,
          2018,
          2019,
          2019,
          2019,
          2020,
          2020,
          2020,
          2021,
          2021,
          2021,
          2022,
          2022,
          2022,
          2023,
          2023,
          2023
         ],
         "xaxis": "x13",
         "y": [
          0.7358,
          0.7358,
          0.7358,
          0.756525,
          0.756525,
          0.756525,
          0.82415,
          0.82415,
          0.82415,
          0.7905,
          0.7905,
          0.7905,
          0.77545,
          0.77545,
          0.77545,
          0.77565,
          0.77565,
          0.77565
         ],
         "yaxis": "y13"
        },
        {
         "alignmentgroup": "True",
         "hovertemplate": "Tipo de Población=Inactivos<br>Comunidad autónoma=Cantabria<br>Año=%{x}<br>Población (millones)=%{y}<extra></extra>",
         "legendgroup": "Inactivos",
         "marker": {
          "color": "#C08C83",
          "pattern": {
           "shape": ""
          }
         },
         "name": "Inactivos",
         "offsetgroup": "Inactivos",
         "orientation": "v",
         "showlegend": false,
         "textposition": "auto",
         "type": "bar",
         "x": [
          2018,
          2018,
          2018,
          2019,
          2019,
          2019,
          2020,
          2020,
          2020,
          2021,
          2021,
          2021,
          2022,
          2022,
          2022,
          2023,
          2023,
          2023
         ],
         "xaxis": "x14",
         "y": [
          0.222375,
          0.222375,
          0.222375,
          0.221875,
          0.221875,
          0.221875,
          0.228975,
          0.228975,
          0.228975,
          0.223875,
          0.223875,
          0.223875,
          0.2282,
          0.2282,
          0.2282,
          0.2287,
          0.2287,
          0.2287
         ],
         "yaxis": "y14"
        },
        {
         "alignmentgroup": "True",
         "hovertemplate": "Tipo de Población=Inactivos<br>Comunidad autónoma=Castilla - La Mancha<br>Año=%{x}<br>Población (millones)=%{y}<extra></extra>",
         "legendgroup": "Inactivos",
         "marker": {
          "color": "#C08C83",
          "pattern": {
           "shape": ""
          }
         },
         "name": "Inactivos",
         "offsetgroup": "Inactivos",
         "orientation": "v",
         "showlegend": false,
         "textposition": "auto",
         "type": "bar",
         "x": [
          2018,
          2018,
          2018,
          2019,
          2019,
          2019,
          2020,
          2020,
          2020,
          2021,
          2021,
          2021,
          2022,
          2022,
          2022,
          2023,
          2023,
          2023
         ],
         "xaxis": "x15",
         "y": [
          0.690175,
          0.690175,
          0.690175,
          0.6991,
          0.6991,
          0.6991,
          0.723775,
          0.723775,
          0.723775,
          0.71305,
          0.71305,
          0.71305,
          0.717775,
          0.717775,
          0.717775,
          0.72935,
          0.72935,
          0.72935
         ],
         "yaxis": "y15"
        },
        {
         "alignmentgroup": "True",
         "hovertemplate": "Tipo de Población=Inactivos<br>Comunidad autónoma=Castilla y León<br>Año=%{x}<br>Población (millones)=%{y}<extra></extra>",
         "legendgroup": "Inactivos",
         "marker": {
          "color": "#C08C83",
          "pattern": {
           "shape": ""
          }
         },
         "name": "Inactivos",
         "offsetgroup": "Inactivos",
         "orientation": "v",
         "showlegend": false,
         "textposition": "auto",
         "type": "bar",
         "x": [
          2018,
          2018,
          2018,
          2019,
          2019,
          2019,
          2020,
          2020,
          2020,
          2021,
          2021,
          2021,
          2022,
          2022,
          2022,
          2023,
          2023,
          2023
         ],
         "xaxis": "x16",
         "y": [
          0.931875,
          0.931875,
          0.931875,
          0.92365,
          0.92365,
          0.92365,
          0.943,
          0.943,
          0.943,
          0.9601,
          0.9601,
          0.9601,
          0.9441,
          0.9441,
          0.9441,
          0.9539,
          0.9539,
          0.9539
         ],
         "yaxis": "y16"
        },
        {
         "alignmentgroup": "True",
         "hovertemplate": "Tipo de Población=Inactivos<br>Comunidad autónoma=Cataluña<br>Año=%{x}<br>Población (millones)=%{y}<extra></extra>",
         "legendgroup": "Inactivos",
         "marker": {
          "color": "#C08C83",
          "pattern": {
           "shape": ""
          }
         },
         "name": "Inactivos",
         "offsetgroup": "Inactivos",
         "orientation": "v",
         "showlegend": false,
         "textposition": "auto",
         "type": "bar",
         "x": [
          2018,
          2018,
          2018,
          2019,
          2019,
          2019,
          2020,
          2020,
          2020,
          2021,
          2021,
          2021,
          2022,
          2022,
          2022,
          2023,
          2023,
          2023
         ],
         "xaxis": "x9",
         "y": [
          2.400625,
          2.400625,
          2.400625,
          2.41515,
          2.41515,
          2.41515,
          2.509575,
          2.509575,
          2.509575,
          2.5074,
          2.5074,
          2.5074,
          2.558525,
          2.558525,
          2.558525,
          2.578225,
          2.578225,
          2.578225
         ],
         "yaxis": "y9"
        },
        {
         "alignmentgroup": "True",
         "hovertemplate": "Tipo de Población=Inactivos<br>Comunidad autónoma=Comunitat Valenciana<br>Año=%{x}<br>Población (millones)=%{y}<extra></extra>",
         "legendgroup": "Inactivos",
         "marker": {
          "color": "#C08C83",
          "pattern": {
           "shape": ""
          }
         },
         "name": "Inactivos",
         "offsetgroup": "Inactivos",
         "orientation": "v",
         "showlegend": false,
         "textposition": "auto",
         "type": "bar",
         "x": [
          2018,
          2018,
          2018,
          2019,
          2019,
          2019,
          2020,
          2020,
          2020,
          2021,
          2021,
          2021,
          2022,
          2022,
          2022,
          2023,
          2023,
          2023
         ],
         "xaxis": "x10",
         "y": [
          1.713675,
          1.713675,
          1.713675,
          1.74445,
          1.74445,
          1.74445,
          1.8058,
          1.8058,
          1.8058,
          1.8086,
          1.8086,
          1.8086,
          1.79755,
          1.79755,
          1.79755,
          1.821125,
          1.821125,
          1.821125
         ],
         "yaxis": "y10"
        },
        {
         "alignmentgroup": "True",
         "hovertemplate": "Tipo de Población=Inactivos<br>Comunidad autónoma=Extremadura<br>Año=%{x}<br>Población (millones)=%{y}<extra></extra>",
         "legendgroup": "Inactivos",
         "marker": {
          "color": "#C08C83",
          "pattern": {
           "shape": ""
          }
         },
         "name": "Inactivos",
         "offsetgroup": "Inactivos",
         "orientation": "v",
         "showlegend": false,
         "textposition": "auto",
         "type": "bar",
         "x": [
          2018,
          2018,
          2018,
          2019,
          2019,
          2019,
          2020,
          2020,
          2020,
          2021,
          2021,
          2021,
          2022,
          2022,
          2022,
          2023,
          2023,
          2023
         ],
         "xaxis": "x11",
         "y": [
          0.400925,
          0.400925,
          0.400925,
          0.396925,
          0.396925,
          0.396925,
          0.4076,
          0.4076,
          0.4076,
          0.409525,
          0.409525,
          0.409525,
          0.407675,
          0.407675,
          0.407675,
          0.39945,
          0.39945,
          0.39945
         ],
         "yaxis": "y11"
        },
        {
         "alignmentgroup": "True",
         "hovertemplate": "Tipo de Población=Inactivos<br>Comunidad autónoma=Galicia<br>Año=%{x}<br>Población (millones)=%{y}<extra></extra>",
         "legendgroup": "Inactivos",
         "marker": {
          "color": "#C08C83",
          "pattern": {
           "shape": ""
          }
         },
         "name": "Inactivos",
         "offsetgroup": "Inactivos",
         "orientation": "v",
         "showlegend": false,
         "textposition": "auto",
         "type": "bar",
         "x": [
          2018,
          2018,
          2018,
          2019,
          2019,
          2019,
          2020,
          2020,
          2020,
          2021,
          2021,
          2021,
          2022,
          2022,
          2022,
          2023,
          2023,
          2023
         ],
         "xaxis": "x12",
         "y": [
          1.090525,
          1.090525,
          1.090525,
          1.09425,
          1.09425,
          1.09425,
          1.1181,
          1.1181,
          1.1181,
          1.115475,
          1.115475,
          1.115475,
          1.108625,
          1.108625,
          1.108625,
          1.1088,
          1.1088,
          1.1088
         ],
         "yaxis": "y12"
        },
        {
         "alignmentgroup": "True",
         "hovertemplate": "Tipo de Población=Inactivos<br>Comunidad autónoma=Madrid, Comunidad de<br>Año=%{x}<br>Población (millones)=%{y}<extra></extra>",
         "legendgroup": "Inactivos",
         "marker": {
          "color": "#C08C83",
          "pattern": {
           "shape": ""
          }
         },
         "name": "Inactivos",
         "offsetgroup": "Inactivos",
         "orientation": "v",
         "showlegend": false,
         "textposition": "auto",
         "type": "bar",
         "x": [
          2018,
          2018,
          2018,
          2019,
          2019,
          2019,
          2020,
          2020,
          2020,
          2021,
          2021,
          2021,
          2022,
          2022,
          2022,
          2023,
          2023,
          2023
         ],
         "xaxis": "x5",
         "y": [
          2.0102,
          2.0102,
          2.0102,
          2.05085,
          2.05085,
          2.05085,
          2.120625,
          2.120625,
          2.120625,
          2.063125,
          2.063125,
          2.063125,
          2.101775,
          2.101775,
          2.101775,
          2.147775,
          2.147775,
          2.147775
         ],
         "yaxis": "y5"
        },
        {
         "alignmentgroup": "True",
         "hovertemplate": "Tipo de Población=Inactivos<br>Comunidad autónoma=Murcia, Región de<br>Año=%{x}<br>Población (millones)=%{y}<extra></extra>",
         "legendgroup": "Inactivos",
         "marker": {
          "color": "#C08C83",
          "pattern": {
           "shape": ""
          }
         },
         "name": "Inactivos",
         "offsetgroup": "Inactivos",
         "orientation": "v",
         "showlegend": false,
         "textposition": "auto",
         "type": "bar",
         "x": [
          2018,
          2018,
          2018,
          2019,
          2019,
          2019,
          2020,
          2020,
          2020,
          2021,
          2021,
          2021,
          2022,
          2022,
          2022,
          2023,
          2023,
          2023
         ],
         "xaxis": "x6",
         "y": [
          0.48805,
          0.48805,
          0.48805,
          0.497375,
          0.497375,
          0.497375,
          0.50655,
          0.50655,
          0.50655,
          0.495375,
          0.495375,
          0.495375,
          0.5113,
          0.5113,
          0.5113,
          0.51985,
          0.51985,
          0.51985
         ],
         "yaxis": "y6"
        },
        {
         "alignmentgroup": "True",
         "hovertemplate": "Tipo de Población=Inactivos<br>Comunidad autónoma=Navarra, Comunidad Foral de<br>Año=%{x}<br>Población (millones)=%{y}<extra></extra>",
         "legendgroup": "Inactivos",
         "marker": {
          "color": "#C08C83",
          "pattern": {
           "shape": ""
          }
         },
         "name": "Inactivos",
         "offsetgroup": "Inactivos",
         "orientation": "v",
         "showlegend": false,
         "textposition": "auto",
         "type": "bar",
         "x": [
          2018,
          2018,
          2018,
          2019,
          2019,
          2019,
          2020,
          2020,
          2020,
          2021,
          2021,
          2021,
          2022,
          2022,
          2022,
          2023,
          2023,
          2023
         ],
         "xaxis": "x7",
         "y": [
          0.217125,
          0.217125,
          0.217125,
          0.222125,
          0.222125,
          0.222125,
          0.2323,
          0.2323,
          0.2323,
          0.2302,
          0.2302,
          0.2302,
          0.230175,
          0.230175,
          0.230175,
          0.232575,
          0.232575,
          0.232575
         ],
         "yaxis": "y7"
        },
        {
         "alignmentgroup": "True",
         "hovertemplate": "Tipo de Población=Inactivos<br>Comunidad autónoma=País Vasco<br>Año=%{x}<br>Población (millones)=%{y}<extra></extra>",
         "legendgroup": "Inactivos",
         "marker": {
          "color": "#C08C83",
          "pattern": {
           "shape": ""
          }
         },
         "name": "Inactivos",
         "offsetgroup": "Inactivos",
         "orientation": "v",
         "showlegend": false,
         "textposition": "auto",
         "type": "bar",
         "x": [
          2018,
          2018,
          2018,
          2019,
          2019,
          2019,
          2020,
          2020,
          2020,
          2021,
          2021,
          2021,
          2022,
          2022,
          2022,
          2023,
          2023,
          2023
         ],
         "xaxis": "x8",
         "y": [
          0.797075,
          0.797075,
          0.797075,
          0.8037,
          0.8037,
          0.8037,
          0.828225,
          0.828225,
          0.828225,
          0.82055,
          0.82055,
          0.82055,
          0.81875,
          0.81875,
          0.81875,
          0.818725,
          0.818725,
          0.818725
         ],
         "yaxis": "y8"
        },
        {
         "alignmentgroup": "True",
         "hovertemplate": "Tipo de Población=Inactivos<br>Comunidad autónoma=Rioja, La<br>Año=%{x}<br>Población (millones)=%{y}<extra></extra>",
         "legendgroup": "Inactivos",
         "marker": {
          "color": "#C08C83",
          "pattern": {
           "shape": ""
          }
         },
         "name": "Inactivos",
         "offsetgroup": "Inactivos",
         "orientation": "v",
         "showlegend": false,
         "textposition": "auto",
         "type": "bar",
         "x": [
          2018,
          2018,
          2018,
          2019,
          2019,
          2019,
          2020,
          2020,
          2020,
          2021,
          2021,
          2021,
          2022,
          2022,
          2022,
          2023,
          2023,
          2023
         ],
         "xaxis": "x",
         "y": [
          0.106375,
          0.106375,
          0.106375,
          0.106275,
          0.106275,
          0.106275,
          0.110075,
          0.110075,
          0.110075,
          0.108025,
          0.108025,
          0.108025,
          0.10955,
          0.10955,
          0.10955,
          0.1126,
          0.1126,
          0.1126
         ],
         "yaxis": "y"
        }
       ],
       "layout": {
        "annotations": [
         {
          "font": {},
          "showarrow": false,
          "text": "Comunidad autónoma=Rioja, La",
          "x": 0.1175,
          "xanchor": "center",
          "xref": "paper",
          "y": 0.144,
          "yanchor": "bottom",
          "yref": "paper"
         },
         {
          "font": {},
          "showarrow": false,
          "text": "Comunidad autónoma=Madrid, Comunidad de",
          "x": 0.1175,
          "xanchor": "center",
          "xref": "paper",
          "y": 0.358,
          "yanchor": "bottom",
          "yref": "paper"
         },
         {
          "font": {},
          "showarrow": false,
          "text": "Comunidad autónoma=Murcia, Región de",
          "x": 0.3725,
          "xanchor": "center",
          "xref": "paper",
          "y": 0.358,
          "yanchor": "bottom",
          "yref": "paper"
         },
         {
          "font": {},
          "showarrow": false,
          "text": "Comunidad autónoma=Navarra, Comunidad Foral de",
          "x": 0.6275,
          "xanchor": "center",
          "xref": "paper",
          "y": 0.358,
          "yanchor": "bottom",
          "yref": "paper"
         },
         {
          "font": {},
          "showarrow": false,
          "text": "Comunidad autónoma=País Vasco",
          "x": 0.8824999999999998,
          "xanchor": "center",
          "xref": "paper",
          "y": 0.358,
          "yanchor": "bottom",
          "yref": "paper"
         },
         {
          "font": {},
          "showarrow": false,
          "text": "Comunidad autónoma=Cataluña",
          "x": 0.1175,
          "xanchor": "center",
          "xref": "paper",
          "y": 0.572,
          "yanchor": "bottom",
          "yref": "paper"
         },
         {
          "font": {},
          "showarrow": false,
          "text": "Comunidad autónoma=Comunitat Valenciana",
          "x": 0.3725,
          "xanchor": "center",
          "xref": "paper",
          "y": 0.572,
          "yanchor": "bottom",
          "yref": "paper"
         },
         {
          "font": {},
          "showarrow": false,
          "text": "Comunidad autónoma=Extremadura",
          "x": 0.6275,
          "xanchor": "center",
          "xref": "paper",
          "y": 0.572,
          "yanchor": "bottom",
          "yref": "paper"
         },
         {
          "font": {},
          "showarrow": false,
          "text": "Comunidad autónoma=Galicia",
          "x": 0.8824999999999998,
          "xanchor": "center",
          "xref": "paper",
          "y": 0.572,
          "yanchor": "bottom",
          "yref": "paper"
         },
         {
          "font": {},
          "showarrow": false,
          "text": "Comunidad autónoma=Canarias",
          "x": 0.1175,
          "xanchor": "center",
          "xref": "paper",
          "y": 0.7859999999999999,
          "yanchor": "bottom",
          "yref": "paper"
         },
         {
          "font": {},
          "showarrow": false,
          "text": "Comunidad autónoma=Cantabria",
          "x": 0.3725,
          "xanchor": "center",
          "xref": "paper",
          "y": 0.7859999999999999,
          "yanchor": "bottom",
          "yref": "paper"
         },
         {
          "font": {},
          "showarrow": false,
          "text": "Comunidad autónoma=Castilla - La Mancha",
          "x": 0.6275,
          "xanchor": "center",
          "xref": "paper",
          "y": 0.7859999999999999,
          "yanchor": "bottom",
          "yref": "paper"
         },
         {
          "font": {},
          "showarrow": false,
          "text": "Comunidad autónoma=Castilla y León",
          "x": 0.8824999999999998,
          "xanchor": "center",
          "xref": "paper",
          "y": 0.7859999999999999,
          "yanchor": "bottom",
          "yref": "paper"
         },
         {
          "font": {},
          "showarrow": false,
          "text": "Comunidad autónoma=Andalucía",
          "x": 0.1175,
          "xanchor": "center",
          "xref": "paper",
          "y": 1,
          "yanchor": "bottom",
          "yref": "paper"
         },
         {
          "font": {},
          "showarrow": false,
          "text": "Comunidad autónoma=Aragón",
          "x": 0.3725,
          "xanchor": "center",
          "xref": "paper",
          "y": 1,
          "yanchor": "bottom",
          "yref": "paper"
         },
         {
          "font": {},
          "showarrow": false,
          "text": "Comunidad autónoma=Asturias, Principado de",
          "x": 0.6275,
          "xanchor": "center",
          "xref": "paper",
          "y": 1,
          "yanchor": "bottom",
          "yref": "paper"
         },
         {
          "font": {},
          "showarrow": false,
          "text": "Comunidad autónoma=Balears, Illes",
          "x": 0.8824999999999998,
          "xanchor": "center",
          "xref": "paper",
          "y": 1,
          "yanchor": "bottom",
          "yref": "paper"
         }
        ],
        "barmode": "relative",
        "height": 1000,
        "legend": {
         "orientation": "h",
         "title": {
          "text": "Tipo de Población"
         },
         "tracegroupgap": 0,
         "x": 0.5,
         "xanchor": "center",
         "y": 1.02,
         "yanchor": "bottom"
        },
        "showlegend": true,
        "template": {
         "data": {
          "bar": [
           {
            "error_x": {
             "color": "#2a3f5f"
            },
            "error_y": {
             "color": "#2a3f5f"
            },
            "marker": {
             "line": {
              "color": "#E5ECF6",
              "width": 0.5
             },
             "pattern": {
              "fillmode": "overlay",
              "size": 10,
              "solidity": 0.2
             }
            },
            "type": "bar"
           }
          ],
          "barpolar": [
           {
            "marker": {
             "line": {
              "color": "#E5ECF6",
              "width": 0.5
             },
             "pattern": {
              "fillmode": "overlay",
              "size": 10,
              "solidity": 0.2
             }
            },
            "type": "barpolar"
           }
          ],
          "carpet": [
           {
            "aaxis": {
             "endlinecolor": "#2a3f5f",
             "gridcolor": "white",
             "linecolor": "white",
             "minorgridcolor": "white",
             "startlinecolor": "#2a3f5f"
            },
            "baxis": {
             "endlinecolor": "#2a3f5f",
             "gridcolor": "white",
             "linecolor": "white",
             "minorgridcolor": "white",
             "startlinecolor": "#2a3f5f"
            },
            "type": "carpet"
           }
          ],
          "choropleth": [
           {
            "colorbar": {
             "outlinewidth": 0,
             "ticks": ""
            },
            "type": "choropleth"
           }
          ],
          "contour": [
           {
            "colorbar": {
             "outlinewidth": 0,
             "ticks": ""
            },
            "colorscale": [
             [
              0,
              "#0d0887"
             ],
             [
              0.1111111111111111,
              "#46039f"
             ],
             [
              0.2222222222222222,
              "#7201a8"
             ],
             [
              0.3333333333333333,
              "#9c179e"
             ],
             [
              0.4444444444444444,
              "#bd3786"
             ],
             [
              0.5555555555555556,
              "#d8576b"
             ],
             [
              0.6666666666666666,
              "#ed7953"
             ],
             [
              0.7777777777777778,
              "#fb9f3a"
             ],
             [
              0.8888888888888888,
              "#fdca26"
             ],
             [
              1,
              "#f0f921"
             ]
            ],
            "type": "contour"
           }
          ],
          "contourcarpet": [
           {
            "colorbar": {
             "outlinewidth": 0,
             "ticks": ""
            },
            "type": "contourcarpet"
           }
          ],
          "heatmap": [
           {
            "colorbar": {
             "outlinewidth": 0,
             "ticks": ""
            },
            "colorscale": [
             [
              0,
              "#0d0887"
             ],
             [
              0.1111111111111111,
              "#46039f"
             ],
             [
              0.2222222222222222,
              "#7201a8"
             ],
             [
              0.3333333333333333,
              "#9c179e"
             ],
             [
              0.4444444444444444,
              "#bd3786"
             ],
             [
              0.5555555555555556,
              "#d8576b"
             ],
             [
              0.6666666666666666,
              "#ed7953"
             ],
             [
              0.7777777777777778,
              "#fb9f3a"
             ],
             [
              0.8888888888888888,
              "#fdca26"
             ],
             [
              1,
              "#f0f921"
             ]
            ],
            "type": "heatmap"
           }
          ],
          "heatmapgl": [
           {
            "colorbar": {
             "outlinewidth": 0,
             "ticks": ""
            },
            "colorscale": [
             [
              0,
              "#0d0887"
             ],
             [
              0.1111111111111111,
              "#46039f"
             ],
             [
              0.2222222222222222,
              "#7201a8"
             ],
             [
              0.3333333333333333,
              "#9c179e"
             ],
             [
              0.4444444444444444,
              "#bd3786"
             ],
             [
              0.5555555555555556,
              "#d8576b"
             ],
             [
              0.6666666666666666,
              "#ed7953"
             ],
             [
              0.7777777777777778,
              "#fb9f3a"
             ],
             [
              0.8888888888888888,
              "#fdca26"
             ],
             [
              1,
              "#f0f921"
             ]
            ],
            "type": "heatmapgl"
           }
          ],
          "histogram": [
           {
            "marker": {
             "pattern": {
              "fillmode": "overlay",
              "size": 10,
              "solidity": 0.2
             }
            },
            "type": "histogram"
           }
          ],
          "histogram2d": [
           {
            "colorbar": {
             "outlinewidth": 0,
             "ticks": ""
            },
            "colorscale": [
             [
              0,
              "#0d0887"
             ],
             [
              0.1111111111111111,
              "#46039f"
             ],
             [
              0.2222222222222222,
              "#7201a8"
             ],
             [
              0.3333333333333333,
              "#9c179e"
             ],
             [
              0.4444444444444444,
              "#bd3786"
             ],
             [
              0.5555555555555556,
              "#d8576b"
             ],
             [
              0.6666666666666666,
              "#ed7953"
             ],
             [
              0.7777777777777778,
              "#fb9f3a"
             ],
             [
              0.8888888888888888,
              "#fdca26"
             ],
             [
              1,
              "#f0f921"
             ]
            ],
            "type": "histogram2d"
           }
          ],
          "histogram2dcontour": [
           {
            "colorbar": {
             "outlinewidth": 0,
             "ticks": ""
            },
            "colorscale": [
             [
              0,
              "#0d0887"
             ],
             [
              0.1111111111111111,
              "#46039f"
             ],
             [
              0.2222222222222222,
              "#7201a8"
             ],
             [
              0.3333333333333333,
              "#9c179e"
             ],
             [
              0.4444444444444444,
              "#bd3786"
             ],
             [
              0.5555555555555556,
              "#d8576b"
             ],
             [
              0.6666666666666666,
              "#ed7953"
             ],
             [
              0.7777777777777778,
              "#fb9f3a"
             ],
             [
              0.8888888888888888,
              "#fdca26"
             ],
             [
              1,
              "#f0f921"
             ]
            ],
            "type": "histogram2dcontour"
           }
          ],
          "mesh3d": [
           {
            "colorbar": {
             "outlinewidth": 0,
             "ticks": ""
            },
            "type": "mesh3d"
           }
          ],
          "parcoords": [
           {
            "line": {
             "colorbar": {
              "outlinewidth": 0,
              "ticks": ""
             }
            },
            "type": "parcoords"
           }
          ],
          "pie": [
           {
            "automargin": true,
            "type": "pie"
           }
          ],
          "scatter": [
           {
            "marker": {
             "colorbar": {
              "outlinewidth": 0,
              "ticks": ""
             }
            },
            "type": "scatter"
           }
          ],
          "scatter3d": [
           {
            "line": {
             "colorbar": {
              "outlinewidth": 0,
              "ticks": ""
             }
            },
            "marker": {
             "colorbar": {
              "outlinewidth": 0,
              "ticks": ""
             }
            },
            "type": "scatter3d"
           }
          ],
          "scattercarpet": [
           {
            "marker": {
             "colorbar": {
              "outlinewidth": 0,
              "ticks": ""
             }
            },
            "type": "scattercarpet"
           }
          ],
          "scattergeo": [
           {
            "marker": {
             "colorbar": {
              "outlinewidth": 0,
              "ticks": ""
             }
            },
            "type": "scattergeo"
           }
          ],
          "scattergl": [
           {
            "marker": {
             "colorbar": {
              "outlinewidth": 0,
              "ticks": ""
             }
            },
            "type": "scattergl"
           }
          ],
          "scattermapbox": [
           {
            "marker": {
             "colorbar": {
              "outlinewidth": 0,
              "ticks": ""
             }
            },
            "type": "scattermapbox"
           }
          ],
          "scatterpolar": [
           {
            "marker": {
             "colorbar": {
              "outlinewidth": 0,
              "ticks": ""
             }
            },
            "type": "scatterpolar"
           }
          ],
          "scatterpolargl": [
           {
            "marker": {
             "colorbar": {
              "outlinewidth": 0,
              "ticks": ""
             }
            },
            "type": "scatterpolargl"
           }
          ],
          "scatterternary": [
           {
            "marker": {
             "colorbar": {
              "outlinewidth": 0,
              "ticks": ""
             }
            },
            "type": "scatterternary"
           }
          ],
          "surface": [
           {
            "colorbar": {
             "outlinewidth": 0,
             "ticks": ""
            },
            "colorscale": [
             [
              0,
              "#0d0887"
             ],
             [
              0.1111111111111111,
              "#46039f"
             ],
             [
              0.2222222222222222,
              "#7201a8"
             ],
             [
              0.3333333333333333,
              "#9c179e"
             ],
             [
              0.4444444444444444,
              "#bd3786"
             ],
             [
              0.5555555555555556,
              "#d8576b"
             ],
             [
              0.6666666666666666,
              "#ed7953"
             ],
             [
              0.7777777777777778,
              "#fb9f3a"
             ],
             [
              0.8888888888888888,
              "#fdca26"
             ],
             [
              1,
              "#f0f921"
             ]
            ],
            "type": "surface"
           }
          ],
          "table": [
           {
            "cells": {
             "fill": {
              "color": "#EBF0F8"
             },
             "line": {
              "color": "white"
             }
            },
            "header": {
             "fill": {
              "color": "#C8D4E3"
             },
             "line": {
              "color": "white"
             }
            },
            "type": "table"
           }
          ]
         },
         "layout": {
          "annotationdefaults": {
           "arrowcolor": "#2a3f5f",
           "arrowhead": 0,
           "arrowwidth": 1
          },
          "autotypenumbers": "strict",
          "coloraxis": {
           "colorbar": {
            "outlinewidth": 0,
            "ticks": ""
           }
          },
          "colorscale": {
           "diverging": [
            [
             0,
             "#8e0152"
            ],
            [
             0.1,
             "#c51b7d"
            ],
            [
             0.2,
             "#de77ae"
            ],
            [
             0.3,
             "#f1b6da"
            ],
            [
             0.4,
             "#fde0ef"
            ],
            [
             0.5,
             "#f7f7f7"
            ],
            [
             0.6,
             "#e6f5d0"
            ],
            [
             0.7,
             "#b8e186"
            ],
            [
             0.8,
             "#7fbc41"
            ],
            [
             0.9,
             "#4d9221"
            ],
            [
             1,
             "#276419"
            ]
           ],
           "sequential": [
            [
             0,
             "#0d0887"
            ],
            [
             0.1111111111111111,
             "#46039f"
            ],
            [
             0.2222222222222222,
             "#7201a8"
            ],
            [
             0.3333333333333333,
             "#9c179e"
            ],
            [
             0.4444444444444444,
             "#bd3786"
            ],
            [
             0.5555555555555556,
             "#d8576b"
            ],
            [
             0.6666666666666666,
             "#ed7953"
            ],
            [
             0.7777777777777778,
             "#fb9f3a"
            ],
            [
             0.8888888888888888,
             "#fdca26"
            ],
            [
             1,
             "#f0f921"
            ]
           ],
           "sequentialminus": [
            [
             0,
             "#0d0887"
            ],
            [
             0.1111111111111111,
             "#46039f"
            ],
            [
             0.2222222222222222,
             "#7201a8"
            ],
            [
             0.3333333333333333,
             "#9c179e"
            ],
            [
             0.4444444444444444,
             "#bd3786"
            ],
            [
             0.5555555555555556,
             "#d8576b"
            ],
            [
             0.6666666666666666,
             "#ed7953"
            ],
            [
             0.7777777777777778,
             "#fb9f3a"
            ],
            [
             0.8888888888888888,
             "#fdca26"
            ],
            [
             1,
             "#f0f921"
            ]
           ]
          },
          "colorway": [
           "#636efa",
           "#EF553B",
           "#00cc96",
           "#ab63fa",
           "#FFA15A",
           "#19d3f3",
           "#FF6692",
           "#B6E880",
           "#FF97FF",
           "#FECB52"
          ],
          "font": {
           "color": "#2a3f5f"
          },
          "geo": {
           "bgcolor": "white",
           "lakecolor": "white",
           "landcolor": "#E5ECF6",
           "showlakes": true,
           "showland": true,
           "subunitcolor": "white"
          },
          "hoverlabel": {
           "align": "left"
          },
          "hovermode": "closest",
          "mapbox": {
           "style": "light"
          },
          "paper_bgcolor": "white",
          "plot_bgcolor": "#E5ECF6",
          "polar": {
           "angularaxis": {
            "gridcolor": "white",
            "linecolor": "white",
            "ticks": ""
           },
           "bgcolor": "#E5ECF6",
           "radialaxis": {
            "gridcolor": "white",
            "linecolor": "white",
            "ticks": ""
           }
          },
          "scene": {
           "xaxis": {
            "backgroundcolor": "#E5ECF6",
            "gridcolor": "white",
            "gridwidth": 2,
            "linecolor": "white",
            "showbackground": true,
            "ticks": "",
            "zerolinecolor": "white"
           },
           "yaxis": {
            "backgroundcolor": "#E5ECF6",
            "gridcolor": "white",
            "gridwidth": 2,
            "linecolor": "white",
            "showbackground": true,
            "ticks": "",
            "zerolinecolor": "white"
           },
           "zaxis": {
            "backgroundcolor": "#E5ECF6",
            "gridcolor": "white",
            "gridwidth": 2,
            "linecolor": "white",
            "showbackground": true,
            "ticks": "",
            "zerolinecolor": "white"
           }
          },
          "shapedefaults": {
           "line": {
            "color": "#2a3f5f"
           }
          },
          "ternary": {
           "aaxis": {
            "gridcolor": "white",
            "linecolor": "white",
            "ticks": ""
           },
           "baxis": {
            "gridcolor": "white",
            "linecolor": "white",
            "ticks": ""
           },
           "bgcolor": "#E5ECF6",
           "caxis": {
            "gridcolor": "white",
            "linecolor": "white",
            "ticks": ""
           }
          },
          "title": {
           "x": 0.05
          },
          "xaxis": {
           "automargin": true,
           "gridcolor": "white",
           "linecolor": "white",
           "ticks": "",
           "title": {
            "standoff": 15
           },
           "zerolinecolor": "white",
           "zerolinewidth": 2
          },
          "yaxis": {
           "automargin": true,
           "gridcolor": "white",
           "linecolor": "white",
           "ticks": "",
           "title": {
            "standoff": 15
           },
           "zerolinecolor": "white",
           "zerolinewidth": 2
          }
         }
        },
        "title": {
         "text": "Composición de la Población Ocupada, Parada e Inactiva por Comunidad Autónoma y Año"
        },
        "xaxis": {
         "anchor": "y",
         "domain": [
          0,
          0.235
         ],
         "title": {
          "text": "Año"
         }
        },
        "xaxis10": {
         "anchor": "y10",
         "domain": [
          0.255,
          0.49
         ],
         "matches": "x",
         "showticklabels": false
        },
        "xaxis11": {
         "anchor": "y11",
         "domain": [
          0.51,
          0.745
         ],
         "matches": "x",
         "showticklabels": false
        },
        "xaxis12": {
         "anchor": "y12",
         "domain": [
          0.7649999999999999,
          0.9999999999999999
         ],
         "matches": "x",
         "showticklabels": false
        },
        "xaxis13": {
         "anchor": "y13",
         "domain": [
          0,
          0.235
         ],
         "matches": "x",
         "showticklabels": false
        },
        "xaxis14": {
         "anchor": "y14",
         "domain": [
          0.255,
          0.49
         ],
         "matches": "x",
         "showticklabels": false
        },
        "xaxis15": {
         "anchor": "y15",
         "domain": [
          0.51,
          0.745
         ],
         "matches": "x",
         "showticklabels": false
        },
        "xaxis16": {
         "anchor": "y16",
         "domain": [
          0.7649999999999999,
          0.9999999999999999
         ],
         "matches": "x",
         "showticklabels": false
        },
        "xaxis17": {
         "anchor": "y17",
         "domain": [
          0,
          0.235
         ],
         "matches": "x",
         "showticklabels": false
        },
        "xaxis18": {
         "anchor": "y18",
         "domain": [
          0.255,
          0.49
         ],
         "matches": "x",
         "showticklabels": false
        },
        "xaxis19": {
         "anchor": "y19",
         "domain": [
          0.51,
          0.745
         ],
         "matches": "x",
         "showticklabels": false
        },
        "xaxis2": {
         "anchor": "y2",
         "domain": [
          0.255,
          0.49
         ],
         "matches": "x",
         "title": {
          "text": "Año"
         }
        },
        "xaxis20": {
         "anchor": "y20",
         "domain": [
          0.7649999999999999,
          0.9999999999999999
         ],
         "matches": "x",
         "showticklabels": false
        },
        "xaxis3": {
         "anchor": "y3",
         "domain": [
          0.51,
          0.745
         ],
         "matches": "x",
         "title": {
          "text": "Año"
         }
        },
        "xaxis4": {
         "anchor": "y4",
         "domain": [
          0.7649999999999999,
          0.9999999999999999
         ],
         "matches": "x",
         "title": {
          "text": "Año"
         }
        },
        "xaxis5": {
         "anchor": "y5",
         "domain": [
          0,
          0.235
         ],
         "matches": "x",
         "showticklabels": false
        },
        "xaxis6": {
         "anchor": "y6",
         "domain": [
          0.255,
          0.49
         ],
         "matches": "x",
         "showticklabels": false
        },
        "xaxis7": {
         "anchor": "y7",
         "domain": [
          0.51,
          0.745
         ],
         "matches": "x",
         "showticklabels": false
        },
        "xaxis8": {
         "anchor": "y8",
         "domain": [
          0.7649999999999999,
          0.9999999999999999
         ],
         "matches": "x",
         "showticklabels": false
        },
        "xaxis9": {
         "anchor": "y9",
         "domain": [
          0,
          0.235
         ],
         "matches": "x",
         "showticklabels": false
        },
        "yaxis": {
         "anchor": "x",
         "domain": [
          0,
          0.144
         ],
         "tickformat": ".0f",
         "title": {
          "text": "Población (millones)"
         }
        },
        "yaxis10": {
         "anchor": "x10",
         "domain": [
          0.428,
          0.572
         ],
         "matches": "y",
         "showticklabels": false,
         "tickformat": ".0f"
        },
        "yaxis11": {
         "anchor": "x11",
         "domain": [
          0.428,
          0.572
         ],
         "matches": "y",
         "showticklabels": false,
         "tickformat": ".0f"
        },
        "yaxis12": {
         "anchor": "x12",
         "domain": [
          0.428,
          0.572
         ],
         "matches": "y",
         "showticklabels": false,
         "tickformat": ".0f"
        },
        "yaxis13": {
         "anchor": "x13",
         "domain": [
          0.6419999999999999,
          0.7859999999999999
         ],
         "matches": "y",
         "tickformat": ".0f",
         "title": {
          "text": "Población (millones)"
         }
        },
        "yaxis14": {
         "anchor": "x14",
         "domain": [
          0.6419999999999999,
          0.7859999999999999
         ],
         "matches": "y",
         "showticklabels": false,
         "tickformat": ".0f"
        },
        "yaxis15": {
         "anchor": "x15",
         "domain": [
          0.6419999999999999,
          0.7859999999999999
         ],
         "matches": "y",
         "showticklabels": false,
         "tickformat": ".0f"
        },
        "yaxis16": {
         "anchor": "x16",
         "domain": [
          0.6419999999999999,
          0.7859999999999999
         ],
         "matches": "y",
         "showticklabels": false,
         "tickformat": ".0f"
        },
        "yaxis17": {
         "anchor": "x17",
         "domain": [
          0.856,
          1
         ],
         "matches": "y",
         "tickformat": ".0f",
         "title": {
          "text": "Población (millones)"
         }
        },
        "yaxis18": {
         "anchor": "x18",
         "domain": [
          0.856,
          1
         ],
         "matches": "y",
         "showticklabels": false,
         "tickformat": ".0f"
        },
        "yaxis19": {
         "anchor": "x19",
         "domain": [
          0.856,
          1
         ],
         "matches": "y",
         "showticklabels": false,
         "tickformat": ".0f"
        },
        "yaxis2": {
         "anchor": "x2",
         "domain": [
          0,
          0.144
         ],
         "matches": "y",
         "showticklabels": false,
         "tickformat": ".0f"
        },
        "yaxis20": {
         "anchor": "x20",
         "domain": [
          0.856,
          1
         ],
         "matches": "y",
         "showticklabels": false,
         "tickformat": ".0f"
        },
        "yaxis3": {
         "anchor": "x3",
         "domain": [
          0,
          0.144
         ],
         "matches": "y",
         "showticklabels": false,
         "tickformat": ".0f"
        },
        "yaxis4": {
         "anchor": "x4",
         "domain": [
          0,
          0.144
         ],
         "matches": "y",
         "showticklabels": false,
         "tickformat": ".0f"
        },
        "yaxis5": {
         "anchor": "x5",
         "domain": [
          0.214,
          0.358
         ],
         "matches": "y",
         "tickformat": ".0f",
         "title": {
          "text": "Población (millones)"
         }
        },
        "yaxis6": {
         "anchor": "x6",
         "domain": [
          0.214,
          0.358
         ],
         "matches": "y",
         "showticklabels": false,
         "tickformat": ".0f"
        },
        "yaxis7": {
         "anchor": "x7",
         "domain": [
          0.214,
          0.358
         ],
         "matches": "y",
         "showticklabels": false,
         "tickformat": ".0f"
        },
        "yaxis8": {
         "anchor": "x8",
         "domain": [
          0.214,
          0.358
         ],
         "matches": "y",
         "showticklabels": false,
         "tickformat": ".0f"
        },
        "yaxis9": {
         "anchor": "x9",
         "domain": [
          0.428,
          0.572
         ],
         "matches": "y",
         "tickformat": ".0f",
         "title": {
          "text": "Población (millones)"
         }
        }
       }
      }
     },
     "metadata": {},
     "output_type": "display_data"
    }
   ],
   "source": [
    "# Filtrar los datos para las columnas relevantes\n",
    "df_barras = df_poblacion[['AÑO', 'Comunidad autónoma', 'Ocupados', 'Parados', 'Inactivos']]\n",
    "\n",
    "# Reorganizar los datos en formato largo para las barras apiladas\n",
    "df_long = df_barras.melt(id_vars=['AÑO', 'Comunidad autónoma'], \n",
    "                         value_vars=['Ocupados', 'Parados', 'Inactivos'], \n",
    "                         var_name='Tipo de Población', \n",
    "                         value_name='Población')\n",
    "\n",
    "# Dividir los valores en millones para mejorar la legibilidad\n",
    "df_long['Población'] = df_long['Población'] / 1_000_000  # Convertir a millones\n",
    "\n",
    "# Crear gráfico de barras apiladas con paleta de colores personalizada\n",
    "fig = px.bar(df_long, x='AÑO', y='Población', color='Tipo de Población',\n",
    "             color_discrete_sequence=custom_palette,\n",
    "             facet_col='Comunidad autónoma', facet_col_wrap=4,\n",
    "             title=\"Composición de la Población Ocupada, Parada e Inactiva por Comunidad Autónoma y Año\",\n",
    "             labels={'Población': 'Población (millones)', 'AÑO': 'Año'})\n",
    "\n",
    "# Ajustar el diseño\n",
    "fig.update_layout(\n",
    "    height=1000, \n",
    "    showlegend=True,\n",
    "    legend=dict(\n",
    "        title=\"Tipo de Población\",\n",
    "        orientation=\"h\",  # Cambia la orientación de la leyenda a horizontal\n",
    "        yanchor=\"bottom\", \n",
    "        y=1.02,  # Coloca la leyenda justo encima del gráfico\n",
    "        xanchor=\"center\",\n",
    "        x=0.5  # Centra la leyenda horizontalmente\n",
    "    )\n",
    ")\n",
    "\n",
    "# Remover los decimales del eje Y\n",
    "fig.update_yaxes(tickformat=\".0f\")\n",
    "\n",
    "fig.show()\n"
   ]
  },
  {
   "cell_type": "code",
   "execution_count": 25,
   "metadata": {},
   "outputs": [
    {
     "data": {
      "application/vnd.plotly.v1+json": {
       "config": {
        "plotlyServerURL": "https://plot.ly"
       },
       "data": [
        {
         "alignmentgroup": "True",
         "hovertemplate": "Tipo de Población=Ocupados<br>Comunidad autónoma=Andalucía<br>Año=%{x}<br>Número de Personas=%{y}<extra></extra>",
         "legendgroup": "Ocupados",
         "marker": {
          "color": "#F4D2CE",
          "pattern": {
           "shape": ""
          }
         },
         "name": "Ocupados",
         "offsetgroup": "Ocupados",
         "orientation": "v",
         "showlegend": true,
         "textposition": "auto",
         "type": "bar",
         "x": [
          2018,
          2018,
          2018,
          2019,
          2019,
          2019,
          2020,
          2020,
          2020,
          2021,
          2021,
          2021,
          2022,
          2022,
          2022,
          2023,
          2023,
          2023
         ],
         "xaxis": "x17",
         "y": [
          3030750,
          3030750,
          3030750,
          3119750,
          3119750,
          3119750,
          3021125,
          3021125,
          3021125,
          3152500,
          3152500,
          3152500,
          3275750,
          3275750,
          3275750,
          3383850,
          3383850,
          3383850
         ],
         "yaxis": "y17"
        },
        {
         "alignmentgroup": "True",
         "hovertemplate": "Tipo de Población=Ocupados<br>Comunidad autónoma=Aragón<br>Año=%{x}<br>Número de Personas=%{y}<extra></extra>",
         "legendgroup": "Ocupados",
         "marker": {
          "color": "#F4D2CE",
          "pattern": {
           "shape": ""
          }
         },
         "name": "Ocupados",
         "offsetgroup": "Ocupados",
         "orientation": "v",
         "showlegend": false,
         "textposition": "auto",
         "type": "bar",
         "x": [
          2018,
          2018,
          2018,
          2019,
          2019,
          2019,
          2020,
          2020,
          2020,
          2021,
          2021,
          2021,
          2022,
          2022,
          2022,
          2023,
          2023,
          2023
         ],
         "xaxis": "x18",
         "y": [
          573825,
          573825,
          573825,
          587550,
          587550,
          587550,
          569875,
          569875,
          569875,
          588625,
          588625,
          588625,
          599850,
          599850,
          599850,
          611300,
          611300,
          611300
         ],
         "yaxis": "y18"
        },
        {
         "alignmentgroup": "True",
         "hovertemplate": "Tipo de Población=Ocupados<br>Comunidad autónoma=Asturias, Principado de<br>Año=%{x}<br>Número de Personas=%{y}<extra></extra>",
         "legendgroup": "Ocupados",
         "marker": {
          "color": "#F4D2CE",
          "pattern": {
           "shape": ""
          }
         },
         "name": "Ocupados",
         "offsetgroup": "Ocupados",
         "orientation": "v",
         "showlegend": false,
         "textposition": "auto",
         "type": "bar",
         "x": [
          2018,
          2018,
          2018,
          2019,
          2019,
          2019,
          2020,
          2020,
          2020,
          2021,
          2021,
          2021,
          2022,
          2022,
          2022,
          2023,
          2023,
          2023
         ],
         "xaxis": "x19",
         "y": [
          391900,
          391900,
          391900,
          387050,
          387050,
          387050,
          381100,
          381100,
          381100,
          391475,
          391475,
          391475,
          383825,
          383825,
          383825,
          392500,
          392500,
          392500
         ],
         "yaxis": "y19"
        },
        {
         "alignmentgroup": "True",
         "hovertemplate": "Tipo de Población=Ocupados<br>Comunidad autónoma=Balears, Illes<br>Año=%{x}<br>Número de Personas=%{y}<extra></extra>",
         "legendgroup": "Ocupados",
         "marker": {
          "color": "#F4D2CE",
          "pattern": {
           "shape": ""
          }
         },
         "name": "Ocupados",
         "offsetgroup": "Ocupados",
         "orientation": "v",
         "showlegend": false,
         "textposition": "auto",
         "type": "bar",
         "x": [
          2018,
          2018,
          2018,
          2019,
          2019,
          2019,
          2020,
          2020,
          2020,
          2021,
          2021,
          2021,
          2022,
          2022,
          2022,
          2023,
          2023,
          2023
         ],
         "xaxis": "x20",
         "y": [
          560175,
          560175,
          560175,
          571150,
          571150,
          571150,
          528225,
          528225,
          528225,
          538000,
          538000,
          538000,
          575975,
          575975,
          575975,
          589575,
          589575,
          589575
         ],
         "yaxis": "y20"
        },
        {
         "alignmentgroup": "True",
         "hovertemplate": "Tipo de Población=Ocupados<br>Comunidad autónoma=Canarias<br>Año=%{x}<br>Número de Personas=%{y}<extra></extra>",
         "legendgroup": "Ocupados",
         "marker": {
          "color": "#F4D2CE",
          "pattern": {
           "shape": ""
          }
         },
         "name": "Ocupados",
         "offsetgroup": "Ocupados",
         "orientation": "v",
         "showlegend": false,
         "textposition": "auto",
         "type": "bar",
         "x": [
          2018,
          2018,
          2018,
          2019,
          2019,
          2019,
          2020,
          2020,
          2020,
          2021,
          2021,
          2021,
          2022,
          2022,
          2022,
          2023,
          2023,
          2023
         ],
         "xaxis": "x13",
         "y": [
          897200,
          897200,
          897200,
          905925,
          905925,
          905925,
          849775,
          849775,
          849775,
          830425,
          830425,
          830425,
          925200,
          925200,
          925200,
          968425,
          968425,
          968425
         ],
         "yaxis": "y13"
        },
        {
         "alignmentgroup": "True",
         "hovertemplate": "Tipo de Población=Ocupados<br>Comunidad autónoma=Cantabria<br>Año=%{x}<br>Número de Personas=%{y}<extra></extra>",
         "legendgroup": "Ocupados",
         "marker": {
          "color": "#F4D2CE",
          "pattern": {
           "shape": ""
          }
         },
         "name": "Ocupados",
         "offsetgroup": "Ocupados",
         "orientation": "v",
         "showlegend": false,
         "textposition": "auto",
         "type": "bar",
         "x": [
          2018,
          2018,
          2018,
          2019,
          2019,
          2019,
          2020,
          2020,
          2020,
          2021,
          2021,
          2021,
          2022,
          2022,
          2022,
          2023,
          2023,
          2023
         ],
         "xaxis": "x14",
         "y": [
          240975,
          240975,
          240975,
          243825,
          243825,
          243825,
          234400,
          234400,
          234400,
          244975,
          244975,
          244975,
          249150,
          249150,
          249150,
          254850,
          254850,
          254850
         ],
         "yaxis": "y14"
        },
        {
         "alignmentgroup": "True",
         "hovertemplate": "Tipo de Población=Ocupados<br>Comunidad autónoma=Castilla - La Mancha<br>Año=%{x}<br>Número de Personas=%{y}<extra></extra>",
         "legendgroup": "Ocupados",
         "marker": {
          "color": "#F4D2CE",
          "pattern": {
           "shape": ""
          }
         },
         "name": "Ocupados",
         "offsetgroup": "Ocupados",
         "orientation": "v",
         "showlegend": false,
         "textposition": "auto",
         "type": "bar",
         "x": [
          2018,
          2018,
          2018,
          2019,
          2019,
          2019,
          2020,
          2020,
          2020,
          2021,
          2021,
          2021,
          2022,
          2022,
          2022,
          2023,
          2023,
          2023
         ],
         "xaxis": "x15",
         "y": [
          804975,
          804975,
          804975,
          825075,
          825075,
          825075,
          798375,
          798375,
          798375,
          847875,
          847875,
          847875,
          871550,
          871550,
          871550,
          895075,
          895075,
          895075
         ],
         "yaxis": "y15"
        },
        {
         "alignmentgroup": "True",
         "hovertemplate": "Tipo de Población=Ocupados<br>Comunidad autónoma=Castilla y León<br>Año=%{x}<br>Número de Personas=%{y}<extra></extra>",
         "legendgroup": "Ocupados",
         "marker": {
          "color": "#F4D2CE",
          "pattern": {
           "shape": ""
          }
         },
         "name": "Ocupados",
         "offsetgroup": "Ocupados",
         "orientation": "v",
         "showlegend": false,
         "textposition": "auto",
         "type": "bar",
         "x": [
          2018,
          2018,
          2018,
          2019,
          2019,
          2019,
          2020,
          2020,
          2020,
          2021,
          2021,
          2021,
          2022,
          2022,
          2022,
          2023,
          2023,
          2023
         ],
         "xaxis": "x16",
         "y": [
          982775,
          982775,
          982775,
          990775,
          990775,
          990775,
          964700,
          964700,
          964700,
          975975,
          975975,
          975975,
          1010050,
          1010050,
          1010050,
          1011375,
          1011375,
          1011375
         ],
         "yaxis": "y16"
        },
        {
         "alignmentgroup": "True",
         "hovertemplate": "Tipo de Población=Ocupados<br>Comunidad autónoma=Cataluña<br>Año=%{x}<br>Número de Personas=%{y}<extra></extra>",
         "legendgroup": "Ocupados",
         "marker": {
          "color": "#F4D2CE",
          "pattern": {
           "shape": ""
          }
         },
         "name": "Ocupados",
         "offsetgroup": "Ocupados",
         "orientation": "v",
         "showlegend": false,
         "textposition": "auto",
         "type": "bar",
         "x": [
          2018,
          2018,
          2018,
          2019,
          2019,
          2019,
          2020,
          2020,
          2020,
          2021,
          2021,
          2021,
          2022,
          2022,
          2022,
          2023,
          2023,
          2023
         ],
         "xaxis": "x9",
         "y": [
          3362175,
          3362175,
          3362175,
          3440675,
          3440675,
          3440675,
          3335800,
          3335800,
          3335800,
          3490075,
          3490075,
          3490075,
          3593525,
          3593525,
          3593525,
          3734525,
          3734525,
          3734525
         ],
         "yaxis": "y9"
        },
        {
         "alignmentgroup": "True",
         "hovertemplate": "Tipo de Población=Ocupados<br>Comunidad autónoma=Comunitat Valenciana<br>Año=%{x}<br>Número de Personas=%{y}<extra></extra>",
         "legendgroup": "Ocupados",
         "marker": {
          "color": "#F4D2CE",
          "pattern": {
           "shape": ""
          }
         },
         "name": "Ocupados",
         "offsetgroup": "Ocupados",
         "orientation": "v",
         "showlegend": false,
         "textposition": "auto",
         "type": "bar",
         "x": [
          2018,
          2018,
          2018,
          2019,
          2019,
          2019,
          2020,
          2020,
          2020,
          2021,
          2021,
          2021,
          2022,
          2022,
          2022,
          2023,
          2023,
          2023
         ],
         "xaxis": "x10",
         "y": [
          2042875,
          2042875,
          2042875,
          2087250,
          2087250,
          2087250,
          2020350,
          2020350,
          2020350,
          2076750,
          2076750,
          2076750,
          2216100,
          2216100,
          2216100,
          2304100,
          2304100,
          2304100
         ],
         "yaxis": "y10"
        },
        {
         "alignmentgroup": "True",
         "hovertemplate": "Tipo de Población=Ocupados<br>Comunidad autónoma=Extremadura<br>Año=%{x}<br>Número de Personas=%{y}<extra></extra>",
         "legendgroup": "Ocupados",
         "marker": {
          "color": "#F4D2CE",
          "pattern": {
           "shape": ""
          }
         },
         "name": "Ocupados",
         "offsetgroup": "Ocupados",
         "orientation": "v",
         "showlegend": false,
         "textposition": "auto",
         "type": "bar",
         "x": [
          2018,
          2018,
          2018,
          2019,
          2019,
          2019,
          2020,
          2020,
          2020,
          2021,
          2021,
          2021,
          2022,
          2022,
          2022,
          2023,
          2023,
          2023
         ],
         "xaxis": "x11",
         "y": [
          378900,
          378900,
          378900,
          390675,
          390675,
          390675,
          380300,
          380300,
          380300,
          394925,
          394925,
          394925,
          409525,
          409525,
          409525,
          415250,
          415250,
          415250
         ],
         "yaxis": "y11"
        },
        {
         "alignmentgroup": "True",
         "hovertemplate": "Tipo de Población=Ocupados<br>Comunidad autónoma=Galicia<br>Año=%{x}<br>Número de Personas=%{y}<extra></extra>",
         "legendgroup": "Ocupados",
         "marker": {
          "color": "#F4D2CE",
          "pattern": {
           "shape": ""
          }
         },
         "name": "Ocupados",
         "offsetgroup": "Ocupados",
         "orientation": "v",
         "showlegend": false,
         "textposition": "auto",
         "type": "bar",
         "x": [
          2018,
          2018,
          2018,
          2019,
          2019,
          2019,
          2020,
          2020,
          2020,
          2021,
          2021,
          2021,
          2022,
          2022,
          2022,
          2023,
          2023,
          2023
         ],
         "xaxis": "x12",
         "y": [
          1077625,
          1077625,
          1077625,
          1095175,
          1095175,
          1095175,
          1074225,
          1074225,
          1074225,
          1087075,
          1087075,
          1087075,
          1103550,
          1103550,
          1103550,
          1128550,
          1128550,
          1128550
         ],
         "yaxis": "y12"
        },
        {
         "alignmentgroup": "True",
         "hovertemplate": "Tipo de Población=Ocupados<br>Comunidad autónoma=Madrid, Comunidad de<br>Año=%{x}<br>Número de Personas=%{y}<extra></extra>",
         "legendgroup": "Ocupados",
         "marker": {
          "color": "#F4D2CE",
          "pattern": {
           "shape": ""
          }
         },
         "name": "Ocupados",
         "offsetgroup": "Ocupados",
         "orientation": "v",
         "showlegend": false,
         "textposition": "auto",
         "type": "bar",
         "x": [
          2018,
          2018,
          2018,
          2019,
          2019,
          2019,
          2020,
          2020,
          2020,
          2021,
          2021,
          2021,
          2022,
          2022,
          2022,
          2023,
          2023,
          2023
         ],
         "xaxis": "x5",
         "y": [
          2990900,
          2990900,
          2990900,
          3098950,
          3098950,
          3098950,
          3045600,
          3045600,
          3045600,
          3146475,
          3146475,
          3146475,
          3218500,
          3218500,
          3218500,
          3328225,
          3328225,
          3328225
         ],
         "yaxis": "y5"
        },
        {
         "alignmentgroup": "True",
         "hovertemplate": "Tipo de Población=Ocupados<br>Comunidad autónoma=Murcia, Región de<br>Año=%{x}<br>Número de Personas=%{y}<extra></extra>",
         "legendgroup": "Ocupados",
         "marker": {
          "color": "#F4D2CE",
          "pattern": {
           "shape": ""
          }
         },
         "name": "Ocupados",
         "offsetgroup": "Ocupados",
         "orientation": "v",
         "showlegend": false,
         "textposition": "auto",
         "type": "bar",
         "x": [
          2018,
          2018,
          2018,
          2019,
          2019,
          2019,
          2020,
          2020,
          2020,
          2021,
          2021,
          2021,
          2022,
          2022,
          2022,
          2023,
          2023,
          2023
         ],
         "xaxis": "x6",
         "y": [
          592275,
          592275,
          592275,
          613750,
          613750,
          613750,
          606900,
          606900,
          606900,
          638750,
          638750,
          638750,
          650675,
          650675,
          650675,
          668625,
          668625,
          668625
         ],
         "yaxis": "y6"
        },
        {
         "alignmentgroup": "True",
         "hovertemplate": "Tipo de Población=Ocupados<br>Comunidad autónoma=Navarra, Comunidad Foral de<br>Año=%{x}<br>Número de Personas=%{y}<extra></extra>",
         "legendgroup": "Ocupados",
         "marker": {
          "color": "#F4D2CE",
          "pattern": {
           "shape": ""
          }
         },
         "name": "Ocupados",
         "offsetgroup": "Ocupados",
         "orientation": "v",
         "showlegend": false,
         "textposition": "auto",
         "type": "bar",
         "x": [
          2018,
          2018,
          2018,
          2019,
          2019,
          2019,
          2020,
          2020,
          2020,
          2021,
          2021,
          2021,
          2022,
          2022,
          2022,
          2023,
          2023,
          2023
         ],
         "xaxis": "x7",
         "y": [
          282175,
          282175,
          282175,
          288875,
          288875,
          288875,
          278400,
          278400,
          278400,
          285850,
          285850,
          285850,
          295550,
          295550,
          295550,
          298725,
          298725,
          298725
         ],
         "yaxis": "y7"
        },
        {
         "alignmentgroup": "True",
         "hovertemplate": "Tipo de Población=Ocupados<br>Comunidad autónoma=País Vasco<br>Año=%{x}<br>Número de Personas=%{y}<extra></extra>",
         "legendgroup": "Ocupados",
         "marker": {
          "color": "#F4D2CE",
          "pattern": {
           "shape": ""
          }
         },
         "name": "Ocupados",
         "offsetgroup": "Ocupados",
         "orientation": "v",
         "showlegend": false,
         "textposition": "auto",
         "type": "bar",
         "x": [
          2018,
          2018,
          2018,
          2019,
          2019,
          2019,
          2020,
          2020,
          2020,
          2021,
          2021,
          2021,
          2022,
          2022,
          2022,
          2023,
          2023,
          2023
         ],
         "xaxis": "x8",
         "y": [
          923525,
          923525,
          923525,
          936100,
          936100,
          936100,
          917550,
          917550,
          917550,
          946825,
          946825,
          946825,
          967275,
          967275,
          967275,
          995750,
          995750,
          995750
         ],
         "yaxis": "y8"
        },
        {
         "alignmentgroup": "True",
         "hovertemplate": "Tipo de Población=Ocupados<br>Comunidad autónoma=Rioja, La<br>Año=%{x}<br>Número de Personas=%{y}<extra></extra>",
         "legendgroup": "Ocupados",
         "marker": {
          "color": "#F4D2CE",
          "pattern": {
           "shape": ""
          }
         },
         "name": "Ocupados",
         "offsetgroup": "Ocupados",
         "orientation": "v",
         "showlegend": false,
         "textposition": "auto",
         "type": "bar",
         "x": [
          2018,
          2018,
          2018,
          2019,
          2019,
          2019,
          2020,
          2020,
          2020,
          2021,
          2021,
          2021,
          2022,
          2022,
          2022,
          2023,
          2023,
          2023
         ],
         "xaxis": "x",
         "y": [
          138025,
          138025,
          138025,
          140625,
          140625,
          140625,
          137850,
          137850,
          137850,
          142500,
          142500,
          142500,
          145775,
          145775,
          145775,
          146625,
          146625,
          146625
         ],
         "yaxis": "y"
        },
        {
         "alignmentgroup": "True",
         "hovertemplate": "Tipo de Población=Parados<br>Comunidad autónoma=Andalucía<br>Año=%{x}<br>Número de Personas=%{y}<extra></extra>",
         "legendgroup": "Parados",
         "marker": {
          "color": "#E6AFA9",
          "pattern": {
           "shape": ""
          }
         },
         "name": "Parados",
         "offsetgroup": "Parados",
         "orientation": "v",
         "showlegend": true,
         "textposition": "auto",
         "type": "bar",
         "x": [
          2018,
          2018,
          2018,
          2019,
          2019,
          2019,
          2020,
          2020,
          2020,
          2021,
          2021,
          2021,
          2022,
          2022,
          2022,
          2023,
          2023,
          2023
         ],
         "xaxis": "x17",
         "y": [
          904625,
          904625,
          904625,
          838675,
          838675,
          838675,
          866175,
          866175,
          866175,
          881400,
          881400,
          881400,
          774150,
          774150,
          774150,
          754975,
          754975,
          754975
         ],
         "yaxis": "y17"
        },
        {
         "alignmentgroup": "True",
         "hovertemplate": "Tipo de Población=Parados<br>Comunidad autónoma=Aragón<br>Año=%{x}<br>Número de Personas=%{y}<extra></extra>",
         "legendgroup": "Parados",
         "marker": {
          "color": "#E6AFA9",
          "pattern": {
           "shape": ""
          }
         },
         "name": "Parados",
         "offsetgroup": "Parados",
         "orientation": "v",
         "showlegend": false,
         "textposition": "auto",
         "type": "bar",
         "x": [
          2018,
          2018,
          2018,
          2019,
          2019,
          2019,
          2020,
          2020,
          2020,
          2021,
          2021,
          2021,
          2022,
          2022,
          2022,
          2023,
          2023,
          2023
         ],
         "xaxis": "x18",
         "y": [
          68250,
          68250,
          68250,
          65500,
          65500,
          65500,
          75500,
          75500,
          75500,
          67800,
          67800,
          67800,
          63875,
          63875,
          63875,
          57350,
          57350,
          57350
         ],
         "yaxis": "y18"
        },
        {
         "alignmentgroup": "True",
         "hovertemplate": "Tipo de Población=Parados<br>Comunidad autónoma=Asturias, Principado de<br>Año=%{x}<br>Número de Personas=%{y}<extra></extra>",
         "legendgroup": "Parados",
         "marker": {
          "color": "#E6AFA9",
          "pattern": {
           "shape": ""
          }
         },
         "name": "Parados",
         "offsetgroup": "Parados",
         "orientation": "v",
         "showlegend": false,
         "textposition": "auto",
         "type": "bar",
         "x": [
          2018,
          2018,
          2018,
          2019,
          2019,
          2019,
          2020,
          2020,
          2020,
          2021,
          2021,
          2021,
          2022,
          2022,
          2022,
          2023,
          2023,
          2023
         ],
         "xaxis": "x19",
         "y": [
          61750,
          61750,
          61750,
          64025,
          64025,
          64025,
          62650,
          62650,
          62650,
          55125,
          55125,
          55125,
          54950,
          54950,
          54950,
          54150,
          54150,
          54150
         ],
         "yaxis": "y19"
        },
        {
         "alignmentgroup": "True",
         "hovertemplate": "Tipo de Población=Parados<br>Comunidad autónoma=Balears, Illes<br>Año=%{x}<br>Número de Personas=%{y}<extra></extra>",
         "legendgroup": "Parados",
         "marker": {
          "color": "#E6AFA9",
          "pattern": {
           "shape": ""
          }
         },
         "name": "Parados",
         "offsetgroup": "Parados",
         "orientation": "v",
         "showlegend": false,
         "textposition": "auto",
         "type": "bar",
         "x": [
          2018,
          2018,
          2018,
          2019,
          2019,
          2019,
          2020,
          2020,
          2020,
          2021,
          2021,
          2021,
          2022,
          2022,
          2022,
          2023,
          2023,
          2023
         ],
         "xaxis": "x20",
         "y": [
          72925,
          72925,
          72925,
          76000,
          76000,
          76000,
          101700,
          101700,
          101700,
          89950,
          89950,
          89950,
          68425,
          68425,
          68425,
          67850,
          67850,
          67850
         ],
         "yaxis": "y20"
        },
        {
         "alignmentgroup": "True",
         "hovertemplate": "Tipo de Población=Parados<br>Comunidad autónoma=Canarias<br>Año=%{x}<br>Número de Personas=%{y}<extra></extra>",
         "legendgroup": "Parados",
         "marker": {
          "color": "#E6AFA9",
          "pattern": {
           "shape": ""
          }
         },
         "name": "Parados",
         "offsetgroup": "Parados",
         "orientation": "v",
         "showlegend": false,
         "textposition": "auto",
         "type": "bar",
         "x": [
          2018,
          2018,
          2018,
          2019,
          2019,
          2019,
          2020,
          2020,
          2020,
          2021,
          2021,
          2021,
          2022,
          2022,
          2022,
          2023,
          2023,
          2023
         ],
         "xaxis": "x13",
         "y": [
          225325,
          225325,
          225325,
          233475,
          233475,
          233475,
          248475,
          248475,
          248475,
          254550,
          254550,
          254550,
          198075,
          198075,
          198075,
          185550,
          185550,
          185550
         ],
         "yaxis": "y13"
        },
        {
         "alignmentgroup": "True",
         "hovertemplate": "Tipo de Población=Parados<br>Comunidad autónoma=Cantabria<br>Año=%{x}<br>Número de Personas=%{y}<extra></extra>",
         "legendgroup": "Parados",
         "marker": {
          "color": "#E6AFA9",
          "pattern": {
           "shape": ""
          }
         },
         "name": "Parados",
         "offsetgroup": "Parados",
         "orientation": "v",
         "showlegend": false,
         "textposition": "auto",
         "type": "bar",
         "x": [
          2018,
          2018,
          2018,
          2019,
          2019,
          2019,
          2020,
          2020,
          2020,
          2021,
          2021,
          2021,
          2022,
          2022,
          2022,
          2023,
          2023,
          2023
         ],
         "xaxis": "x14",
         "y": [
          28800,
          28800,
          28800,
          27950,
          27950,
          27950,
          32375,
          32375,
          32375,
          31025,
          31025,
          31025,
          26375,
          26375,
          26375,
          22550,
          22550,
          22550
         ],
         "yaxis": "y14"
        },
        {
         "alignmentgroup": "True",
         "hovertemplate": "Tipo de Población=Parados<br>Comunidad autónoma=Castilla - La Mancha<br>Año=%{x}<br>Número de Personas=%{y}<extra></extra>",
         "legendgroup": "Parados",
         "marker": {
          "color": "#E6AFA9",
          "pattern": {
           "shape": ""
          }
         },
         "name": "Parados",
         "offsetgroup": "Parados",
         "orientation": "v",
         "showlegend": false,
         "textposition": "auto",
         "type": "bar",
         "x": [
          2018,
          2018,
          2018,
          2019,
          2019,
          2019,
          2020,
          2020,
          2020,
          2021,
          2021,
          2021,
          2022,
          2022,
          2022,
          2023,
          2023,
          2023
         ],
         "xaxis": "x15",
         "y": [
          178625,
          178625,
          178625,
          159550,
          159550,
          159550,
          171475,
          171475,
          171475,
          157475,
          157475,
          157475,
          149500,
          149500,
          149500,
          136275,
          136275,
          136275
         ],
         "yaxis": "y15"
        },
        {
         "alignmentgroup": "True",
         "hovertemplate": "Tipo de Población=Parados<br>Comunidad autónoma=Castilla y León<br>Año=%{x}<br>Número de Personas=%{y}<extra></extra>",
         "legendgroup": "Parados",
         "marker": {
          "color": "#E6AFA9",
          "pattern": {
           "shape": ""
          }
         },
         "name": "Parados",
         "offsetgroup": "Parados",
         "orientation": "v",
         "showlegend": false,
         "textposition": "auto",
         "type": "bar",
         "x": [
          2018,
          2018,
          2018,
          2019,
          2019,
          2019,
          2020,
          2020,
          2020,
          2021,
          2021,
          2021,
          2022,
          2022,
          2022,
          2023,
          2023,
          2023
         ],
         "xaxis": "x16",
         "y": [
          135300,
          135300,
          135300,
          130425,
          130425,
          130425,
          132350,
          132350,
          132350,
          128225,
          128225,
          128225,
          111375,
          111375,
          111375,
          108450,
          108450,
          108450
         ],
         "yaxis": "y16"
        },
        {
         "alignmentgroup": "True",
         "hovertemplate": "Tipo de Población=Parados<br>Comunidad autónoma=Cataluña<br>Año=%{x}<br>Número de Personas=%{y}<extra></extra>",
         "legendgroup": "Parados",
         "marker": {
          "color": "#E6AFA9",
          "pattern": {
           "shape": ""
          }
         },
         "name": "Parados",
         "offsetgroup": "Parados",
         "orientation": "v",
         "showlegend": false,
         "textposition": "auto",
         "type": "bar",
         "x": [
          2018,
          2018,
          2018,
          2019,
          2019,
          2019,
          2020,
          2020,
          2020,
          2021,
          2021,
          2021,
          2022,
          2022,
          2022,
          2023,
          2023,
          2023
         ],
         "xaxis": "x9",
         "y": [
          436450,
          436450,
          436450,
          426450,
          426450,
          426450,
          482250,
          482250,
          482250,
          462075,
          462075,
          462075,
          398000,
          398000,
          398000,
          384450,
          384450,
          384450
         ],
         "yaxis": "y9"
        },
        {
         "alignmentgroup": "True",
         "hovertemplate": "Tipo de Población=Parados<br>Comunidad autónoma=Comunitat Valenciana<br>Año=%{x}<br>Número de Personas=%{y}<extra></extra>",
         "legendgroup": "Parados",
         "marker": {
          "color": "#E6AFA9",
          "pattern": {
           "shape": ""
          }
         },
         "name": "Parados",
         "offsetgroup": "Parados",
         "orientation": "v",
         "showlegend": false,
         "textposition": "auto",
         "type": "bar",
         "x": [
          2018,
          2018,
          2018,
          2019,
          2019,
          2019,
          2020,
          2020,
          2020,
          2021,
          2021,
          2021,
          2022,
          2022,
          2022,
          2023,
          2023,
          2023
         ],
         "xaxis": "x10",
         "y": [
          377325,
          377325,
          377325,
          342925,
          342925,
          342925,
          390150,
          390150,
          390150,
          397875,
          397875,
          397875,
          339800,
          339800,
          339800,
          338125,
          338125,
          338125
         ],
         "yaxis": "y10"
        },
        {
         "alignmentgroup": "True",
         "hovertemplate": "Tipo de Población=Parados<br>Comunidad autónoma=Extremadura<br>Año=%{x}<br>Número de Personas=%{y}<extra></extra>",
         "legendgroup": "Parados",
         "marker": {
          "color": "#E6AFA9",
          "pattern": {
           "shape": ""
          }
         },
         "name": "Parados",
         "offsetgroup": "Parados",
         "orientation": "v",
         "showlegend": false,
         "textposition": "auto",
         "type": "bar",
         "x": [
          2018,
          2018,
          2018,
          2019,
          2019,
          2019,
          2020,
          2020,
          2020,
          2021,
          2021,
          2021,
          2022,
          2022,
          2022,
          2023,
          2023,
          2023
         ],
         "xaxis": "x11",
         "y": [
          117275,
          117275,
          117275,
          107225,
          107225,
          107225,
          105975,
          105975,
          105975,
          99750,
          99750,
          99750,
          85750,
          85750,
          85750,
          87275,
          87275,
          87275
         ],
         "yaxis": "y11"
        },
        {
         "alignmentgroup": "True",
         "hovertemplate": "Tipo de Población=Parados<br>Comunidad autónoma=Galicia<br>Año=%{x}<br>Número de Personas=%{y}<extra></extra>",
         "legendgroup": "Parados",
         "marker": {
          "color": "#E6AFA9",
          "pattern": {
           "shape": ""
          }
         },
         "name": "Parados",
         "offsetgroup": "Parados",
         "orientation": "v",
         "showlegend": false,
         "textposition": "auto",
         "type": "bar",
         "x": [
          2018,
          2018,
          2018,
          2019,
          2019,
          2019,
          2020,
          2020,
          2020,
          2021,
          2021,
          2021,
          2022,
          2022,
          2022,
          2023,
          2023,
          2023
         ],
         "xaxis": "x12",
         "y": [
          165850,
          165850,
          165850,
          145900,
          145900,
          145900,
          146675,
          146675,
          146675,
          141825,
          141825,
          141825,
          136900,
          136900,
          136900,
          121450,
          121450,
          121450
         ],
         "yaxis": "y12"
        },
        {
         "alignmentgroup": "True",
         "hovertemplate": "Tipo de Población=Parados<br>Comunidad autónoma=Madrid, Comunidad de<br>Año=%{x}<br>Número de Personas=%{y}<extra></extra>",
         "legendgroup": "Parados",
         "marker": {
          "color": "#E6AFA9",
          "pattern": {
           "shape": ""
          }
         },
         "name": "Parados",
         "offsetgroup": "Parados",
         "orientation": "v",
         "showlegend": false,
         "textposition": "auto",
         "type": "bar",
         "x": [
          2018,
          2018,
          2018,
          2019,
          2019,
          2019,
          2020,
          2020,
          2020,
          2021,
          2021,
          2021,
          2022,
          2022,
          2022,
          2023,
          2023,
          2023
         ],
         "xaxis": "x5",
         "y": [
          416300,
          416300,
          416300,
          368225,
          368225,
          368225,
          434900,
          434900,
          434900,
          416450,
          416450,
          416450,
          406600,
          406600,
          406600,
          367850,
          367850,
          367850
         ],
         "yaxis": "y5"
        },
        {
         "alignmentgroup": "True",
         "hovertemplate": "Tipo de Población=Parados<br>Comunidad autónoma=Murcia, Región de<br>Año=%{x}<br>Número de Personas=%{y}<extra></extra>",
         "legendgroup": "Parados",
         "marker": {
          "color": "#E6AFA9",
          "pattern": {
           "shape": ""
          }
         },
         "name": "Parados",
         "offsetgroup": "Parados",
         "orientation": "v",
         "showlegend": false,
         "textposition": "auto",
         "type": "bar",
         "x": [
          2018,
          2018,
          2018,
          2019,
          2019,
          2019,
          2020,
          2020,
          2020,
          2021,
          2021,
          2021,
          2022,
          2022,
          2022,
          2023,
          2023,
          2023
         ],
         "xaxis": "x6",
         "y": [
          119225,
          119225,
          119225,
          105625,
          105625,
          105625,
          117175,
          117175,
          117175,
          110200,
          110200,
          110200,
          102250,
          102250,
          102250,
          97950,
          97950,
          97950
         ],
         "yaxis": "y6"
        },
        {
         "alignmentgroup": "True",
         "hovertemplate": "Tipo de Población=Parados<br>Comunidad autónoma=Navarra, Comunidad Foral de<br>Año=%{x}<br>Número de Personas=%{y}<extra></extra>",
         "legendgroup": "Parados",
         "marker": {
          "color": "#E6AFA9",
          "pattern": {
           "shape": ""
          }
         },
         "name": "Parados",
         "offsetgroup": "Parados",
         "orientation": "v",
         "showlegend": false,
         "textposition": "auto",
         "type": "bar",
         "x": [
          2018,
          2018,
          2018,
          2019,
          2019,
          2019,
          2020,
          2020,
          2020,
          2021,
          2021,
          2021,
          2022,
          2022,
          2022,
          2023,
          2023,
          2023
         ],
         "xaxis": "x7",
         "y": [
          31425,
          31425,
          31425,
          25950,
          25950,
          25950,
          31150,
          31150,
          31150,
          34275,
          34275,
          34275,
          31875,
          31875,
          31875,
          33000,
          33000,
          33000
         ],
         "yaxis": "y7"
        },
        {
         "alignmentgroup": "True",
         "hovertemplate": "Tipo de Población=Parados<br>Comunidad autónoma=País Vasco<br>Año=%{x}<br>Número de Personas=%{y}<extra></extra>",
         "legendgroup": "Parados",
         "marker": {
          "color": "#E6AFA9",
          "pattern": {
           "shape": ""
          }
         },
         "name": "Parados",
         "offsetgroup": "Parados",
         "orientation": "v",
         "showlegend": false,
         "textposition": "auto",
         "type": "bar",
         "x": [
          2018,
          2018,
          2018,
          2019,
          2019,
          2019,
          2020,
          2020,
          2020,
          2021,
          2021,
          2021,
          2022,
          2022,
          2022,
          2023,
          2023,
          2023
         ],
         "xaxis": "x8",
         "y": [
          102300,
          102300,
          102300,
          94275,
          94275,
          94275,
          96800,
          96800,
          96800,
          108575,
          108575,
          108575,
          94250,
          94250,
          94250,
          83375,
          83375,
          83375
         ],
         "yaxis": "y8"
        },
        {
         "alignmentgroup": "True",
         "hovertemplate": "Tipo de Población=Parados<br>Comunidad autónoma=Rioja, La<br>Año=%{x}<br>Número de Personas=%{y}<extra></extra>",
         "legendgroup": "Parados",
         "marker": {
          "color": "#E6AFA9",
          "pattern": {
           "shape": ""
          }
         },
         "name": "Parados",
         "offsetgroup": "Parados",
         "orientation": "v",
         "showlegend": false,
         "textposition": "auto",
         "type": "bar",
         "x": [
          2018,
          2018,
          2018,
          2019,
          2019,
          2019,
          2020,
          2020,
          2020,
          2021,
          2021,
          2021,
          2022,
          2022,
          2022,
          2023,
          2023,
          2023
         ],
         "xaxis": "x",
         "y": [
          16000,
          16000,
          16000,
          15575,
          15575,
          15575,
          16700,
          16700,
          16700,
          18700,
          18700,
          18700,
          15375,
          15375,
          15375,
          15150,
          15150,
          15150
         ],
         "yaxis": "y"
        },
        {
         "alignmentgroup": "True",
         "hovertemplate": "Tipo de Población=Inactivos<br>Comunidad autónoma=Andalucía<br>Año=%{x}<br>Número de Personas=%{y}<extra></extra>",
         "legendgroup": "Inactivos",
         "marker": {
          "color": "#C08C83",
          "pattern": {
           "shape": ""
          }
         },
         "name": "Inactivos",
         "offsetgroup": "Inactivos",
         "orientation": "v",
         "showlegend": true,
         "textposition": "auto",
         "type": "bar",
         "x": [
          2018,
          2018,
          2018,
          2019,
          2019,
          2019,
          2020,
          2020,
          2020,
          2021,
          2021,
          2021,
          2022,
          2022,
          2022,
          2023,
          2023,
          2023
         ],
         "xaxis": "x17",
         "y": [
          2983100,
          2983100,
          2983100,
          3011225,
          3011225,
          3011225,
          3133300,
          3133300,
          3133300,
          3043700,
          3043700,
          3043700,
          3101300,
          3101300,
          3101300,
          3088850,
          3088850,
          3088850
         ],
         "yaxis": "y17"
        },
        {
         "alignmentgroup": "True",
         "hovertemplate": "Tipo de Población=Inactivos<br>Comunidad autónoma=Aragón<br>Año=%{x}<br>Número de Personas=%{y}<extra></extra>",
         "legendgroup": "Inactivos",
         "marker": {
          "color": "#C08C83",
          "pattern": {
           "shape": ""
          }
         },
         "name": "Inactivos",
         "offsetgroup": "Inactivos",
         "orientation": "v",
         "showlegend": false,
         "textposition": "auto",
         "type": "bar",
         "x": [
          2018,
          2018,
          2018,
          2019,
          2019,
          2019,
          2020,
          2020,
          2020,
          2021,
          2021,
          2021,
          2022,
          2022,
          2022,
          2023,
          2023,
          2023
         ],
         "xaxis": "x18",
         "y": [
          452275,
          452275,
          452275,
          450050,
          450050,
          450050,
          465225,
          465225,
          465225,
          467950,
          467950,
          467950,
          466600,
          466600,
          466600,
          472650,
          472650,
          472650
         ],
         "yaxis": "y18"
        },
        {
         "alignmentgroup": "True",
         "hovertemplate": "Tipo de Población=Inactivos<br>Comunidad autónoma=Asturias, Principado de<br>Año=%{x}<br>Número de Personas=%{y}<extra></extra>",
         "legendgroup": "Inactivos",
         "marker": {
          "color": "#C08C83",
          "pattern": {
           "shape": ""
          }
         },
         "name": "Inactivos",
         "offsetgroup": "Inactivos",
         "orientation": "v",
         "showlegend": false,
         "textposition": "auto",
         "type": "bar",
         "x": [
          2018,
          2018,
          2018,
          2019,
          2019,
          2019,
          2020,
          2020,
          2020,
          2021,
          2021,
          2021,
          2022,
          2022,
          2022,
          2023,
          2023,
          2023
         ],
         "xaxis": "x19",
         "y": [
          439825,
          439825,
          439825,
          438650,
          438650,
          438650,
          443350,
          443350,
          443350,
          439275,
          439275,
          439275,
          449000,
          449000,
          449000,
          445125,
          445125,
          445125
         ],
         "yaxis": "y19"
        },
        {
         "alignmentgroup": "True",
         "hovertemplate": "Tipo de Población=Inactivos<br>Comunidad autónoma=Balears, Illes<br>Año=%{x}<br>Número de Personas=%{y}<extra></extra>",
         "legendgroup": "Inactivos",
         "marker": {
          "color": "#C08C83",
          "pattern": {
           "shape": ""
          }
         },
         "name": "Inactivos",
         "offsetgroup": "Inactivos",
         "orientation": "v",
         "showlegend": false,
         "textposition": "auto",
         "type": "bar",
         "x": [
          2018,
          2018,
          2018,
          2019,
          2019,
          2019,
          2020,
          2020,
          2020,
          2021,
          2021,
          2021,
          2022,
          2022,
          2022,
          2023,
          2023,
          2023
         ],
         "xaxis": "x20",
         "y": [
          349600,
          349600,
          349600,
          357650,
          357650,
          357650,
          392450,
          392450,
          392450,
          365450,
          365450,
          365450,
          362450,
          362450,
          362450,
          375950,
          375950,
          375950
         ],
         "yaxis": "y20"
        },
        {
         "alignmentgroup": "True",
         "hovertemplate": "Tipo de Población=Inactivos<br>Comunidad autónoma=Canarias<br>Año=%{x}<br>Número de Personas=%{y}<extra></extra>",
         "legendgroup": "Inactivos",
         "marker": {
          "color": "#C08C83",
          "pattern": {
           "shape": ""
          }
         },
         "name": "Inactivos",
         "offsetgroup": "Inactivos",
         "orientation": "v",
         "showlegend": false,
         "textposition": "auto",
         "type": "bar",
         "x": [
          2018,
          2018,
          2018,
          2019,
          2019,
          2019,
          2020,
          2020,
          2020,
          2021,
          2021,
          2021,
          2022,
          2022,
          2022,
          2023,
          2023,
          2023
         ],
         "xaxis": "x13",
         "y": [
          735800,
          735800,
          735800,
          756525,
          756525,
          756525,
          824150,
          824150,
          824150,
          790500,
          790500,
          790500,
          775450,
          775450,
          775450,
          775650,
          775650,
          775650
         ],
         "yaxis": "y13"
        },
        {
         "alignmentgroup": "True",
         "hovertemplate": "Tipo de Población=Inactivos<br>Comunidad autónoma=Cantabria<br>Año=%{x}<br>Número de Personas=%{y}<extra></extra>",
         "legendgroup": "Inactivos",
         "marker": {
          "color": "#C08C83",
          "pattern": {
           "shape": ""
          }
         },
         "name": "Inactivos",
         "offsetgroup": "Inactivos",
         "orientation": "v",
         "showlegend": false,
         "textposition": "auto",
         "type": "bar",
         "x": [
          2018,
          2018,
          2018,
          2019,
          2019,
          2019,
          2020,
          2020,
          2020,
          2021,
          2021,
          2021,
          2022,
          2022,
          2022,
          2023,
          2023,
          2023
         ],
         "xaxis": "x14",
         "y": [
          222375,
          222375,
          222375,
          221875,
          221875,
          221875,
          228975,
          228975,
          228975,
          223875,
          223875,
          223875,
          228200,
          228200,
          228200,
          228700,
          228700,
          228700
         ],
         "yaxis": "y14"
        },
        {
         "alignmentgroup": "True",
         "hovertemplate": "Tipo de Población=Inactivos<br>Comunidad autónoma=Castilla - La Mancha<br>Año=%{x}<br>Número de Personas=%{y}<extra></extra>",
         "legendgroup": "Inactivos",
         "marker": {
          "color": "#C08C83",
          "pattern": {
           "shape": ""
          }
         },
         "name": "Inactivos",
         "offsetgroup": "Inactivos",
         "orientation": "v",
         "showlegend": false,
         "textposition": "auto",
         "type": "bar",
         "x": [
          2018,
          2018,
          2018,
          2019,
          2019,
          2019,
          2020,
          2020,
          2020,
          2021,
          2021,
          2021,
          2022,
          2022,
          2022,
          2023,
          2023,
          2023
         ],
         "xaxis": "x15",
         "y": [
          690175,
          690175,
          690175,
          699100,
          699100,
          699100,
          723775,
          723775,
          723775,
          713050,
          713050,
          713050,
          717775,
          717775,
          717775,
          729350,
          729350,
          729350
         ],
         "yaxis": "y15"
        },
        {
         "alignmentgroup": "True",
         "hovertemplate": "Tipo de Población=Inactivos<br>Comunidad autónoma=Castilla y León<br>Año=%{x}<br>Número de Personas=%{y}<extra></extra>",
         "legendgroup": "Inactivos",
         "marker": {
          "color": "#C08C83",
          "pattern": {
           "shape": ""
          }
         },
         "name": "Inactivos",
         "offsetgroup": "Inactivos",
         "orientation": "v",
         "showlegend": false,
         "textposition": "auto",
         "type": "bar",
         "x": [
          2018,
          2018,
          2018,
          2019,
          2019,
          2019,
          2020,
          2020,
          2020,
          2021,
          2021,
          2021,
          2022,
          2022,
          2022,
          2023,
          2023,
          2023
         ],
         "xaxis": "x16",
         "y": [
          931875,
          931875,
          931875,
          923650,
          923650,
          923650,
          943000,
          943000,
          943000,
          960100,
          960100,
          960100,
          944100,
          944100,
          944100,
          953900,
          953900,
          953900
         ],
         "yaxis": "y16"
        },
        {
         "alignmentgroup": "True",
         "hovertemplate": "Tipo de Población=Inactivos<br>Comunidad autónoma=Cataluña<br>Año=%{x}<br>Número de Personas=%{y}<extra></extra>",
         "legendgroup": "Inactivos",
         "marker": {
          "color": "#C08C83",
          "pattern": {
           "shape": ""
          }
         },
         "name": "Inactivos",
         "offsetgroup": "Inactivos",
         "orientation": "v",
         "showlegend": false,
         "textposition": "auto",
         "type": "bar",
         "x": [
          2018,
          2018,
          2018,
          2019,
          2019,
          2019,
          2020,
          2020,
          2020,
          2021,
          2021,
          2021,
          2022,
          2022,
          2022,
          2023,
          2023,
          2023
         ],
         "xaxis": "x9",
         "y": [
          2400625,
          2400625,
          2400625,
          2415150,
          2415150,
          2415150,
          2509575,
          2509575,
          2509575,
          2507400,
          2507400,
          2507400,
          2558525,
          2558525,
          2558525,
          2578225,
          2578225,
          2578225
         ],
         "yaxis": "y9"
        },
        {
         "alignmentgroup": "True",
         "hovertemplate": "Tipo de Población=Inactivos<br>Comunidad autónoma=Comunitat Valenciana<br>Año=%{x}<br>Número de Personas=%{y}<extra></extra>",
         "legendgroup": "Inactivos",
         "marker": {
          "color": "#C08C83",
          "pattern": {
           "shape": ""
          }
         },
         "name": "Inactivos",
         "offsetgroup": "Inactivos",
         "orientation": "v",
         "showlegend": false,
         "textposition": "auto",
         "type": "bar",
         "x": [
          2018,
          2018,
          2018,
          2019,
          2019,
          2019,
          2020,
          2020,
          2020,
          2021,
          2021,
          2021,
          2022,
          2022,
          2022,
          2023,
          2023,
          2023
         ],
         "xaxis": "x10",
         "y": [
          1713675,
          1713675,
          1713675,
          1744450,
          1744450,
          1744450,
          1805800,
          1805800,
          1805800,
          1808600,
          1808600,
          1808600,
          1797550,
          1797550,
          1797550,
          1821125,
          1821125,
          1821125
         ],
         "yaxis": "y10"
        },
        {
         "alignmentgroup": "True",
         "hovertemplate": "Tipo de Población=Inactivos<br>Comunidad autónoma=Extremadura<br>Año=%{x}<br>Número de Personas=%{y}<extra></extra>",
         "legendgroup": "Inactivos",
         "marker": {
          "color": "#C08C83",
          "pattern": {
           "shape": ""
          }
         },
         "name": "Inactivos",
         "offsetgroup": "Inactivos",
         "orientation": "v",
         "showlegend": false,
         "textposition": "auto",
         "type": "bar",
         "x": [
          2018,
          2018,
          2018,
          2019,
          2019,
          2019,
          2020,
          2020,
          2020,
          2021,
          2021,
          2021,
          2022,
          2022,
          2022,
          2023,
          2023,
          2023
         ],
         "xaxis": "x11",
         "y": [
          400925,
          400925,
          400925,
          396925,
          396925,
          396925,
          407600,
          407600,
          407600,
          409525,
          409525,
          409525,
          407675,
          407675,
          407675,
          399450,
          399450,
          399450
         ],
         "yaxis": "y11"
        },
        {
         "alignmentgroup": "True",
         "hovertemplate": "Tipo de Población=Inactivos<br>Comunidad autónoma=Galicia<br>Año=%{x}<br>Número de Personas=%{y}<extra></extra>",
         "legendgroup": "Inactivos",
         "marker": {
          "color": "#C08C83",
          "pattern": {
           "shape": ""
          }
         },
         "name": "Inactivos",
         "offsetgroup": "Inactivos",
         "orientation": "v",
         "showlegend": false,
         "textposition": "auto",
         "type": "bar",
         "x": [
          2018,
          2018,
          2018,
          2019,
          2019,
          2019,
          2020,
          2020,
          2020,
          2021,
          2021,
          2021,
          2022,
          2022,
          2022,
          2023,
          2023,
          2023
         ],
         "xaxis": "x12",
         "y": [
          1090525,
          1090525,
          1090525,
          1094250,
          1094250,
          1094250,
          1118100,
          1118100,
          1118100,
          1115475,
          1115475,
          1115475,
          1108625,
          1108625,
          1108625,
          1108800,
          1108800,
          1108800
         ],
         "yaxis": "y12"
        },
        {
         "alignmentgroup": "True",
         "hovertemplate": "Tipo de Población=Inactivos<br>Comunidad autónoma=Madrid, Comunidad de<br>Año=%{x}<br>Número de Personas=%{y}<extra></extra>",
         "legendgroup": "Inactivos",
         "marker": {
          "color": "#C08C83",
          "pattern": {
           "shape": ""
          }
         },
         "name": "Inactivos",
         "offsetgroup": "Inactivos",
         "orientation": "v",
         "showlegend": false,
         "textposition": "auto",
         "type": "bar",
         "x": [
          2018,
          2018,
          2018,
          2019,
          2019,
          2019,
          2020,
          2020,
          2020,
          2021,
          2021,
          2021,
          2022,
          2022,
          2022,
          2023,
          2023,
          2023
         ],
         "xaxis": "x5",
         "y": [
          2010200,
          2010200,
          2010200,
          2050850,
          2050850,
          2050850,
          2120625,
          2120625,
          2120625,
          2063125,
          2063125,
          2063125,
          2101775,
          2101775,
          2101775,
          2147775,
          2147775,
          2147775
         ],
         "yaxis": "y5"
        },
        {
         "alignmentgroup": "True",
         "hovertemplate": "Tipo de Población=Inactivos<br>Comunidad autónoma=Murcia, Región de<br>Año=%{x}<br>Número de Personas=%{y}<extra></extra>",
         "legendgroup": "Inactivos",
         "marker": {
          "color": "#C08C83",
          "pattern": {
           "shape": ""
          }
         },
         "name": "Inactivos",
         "offsetgroup": "Inactivos",
         "orientation": "v",
         "showlegend": false,
         "textposition": "auto",
         "type": "bar",
         "x": [
          2018,
          2018,
          2018,
          2019,
          2019,
          2019,
          2020,
          2020,
          2020,
          2021,
          2021,
          2021,
          2022,
          2022,
          2022,
          2023,
          2023,
          2023
         ],
         "xaxis": "x6",
         "y": [
          488050,
          488050,
          488050,
          497375,
          497375,
          497375,
          506550,
          506550,
          506550,
          495375,
          495375,
          495375,
          511300,
          511300,
          511300,
          519850,
          519850,
          519850
         ],
         "yaxis": "y6"
        },
        {
         "alignmentgroup": "True",
         "hovertemplate": "Tipo de Población=Inactivos<br>Comunidad autónoma=Navarra, Comunidad Foral de<br>Año=%{x}<br>Número de Personas=%{y}<extra></extra>",
         "legendgroup": "Inactivos",
         "marker": {
          "color": "#C08C83",
          "pattern": {
           "shape": ""
          }
         },
         "name": "Inactivos",
         "offsetgroup": "Inactivos",
         "orientation": "v",
         "showlegend": false,
         "textposition": "auto",
         "type": "bar",
         "x": [
          2018,
          2018,
          2018,
          2019,
          2019,
          2019,
          2020,
          2020,
          2020,
          2021,
          2021,
          2021,
          2022,
          2022,
          2022,
          2023,
          2023,
          2023
         ],
         "xaxis": "x7",
         "y": [
          217125,
          217125,
          217125,
          222125,
          222125,
          222125,
          232300,
          232300,
          232300,
          230200,
          230200,
          230200,
          230175,
          230175,
          230175,
          232575,
          232575,
          232575
         ],
         "yaxis": "y7"
        },
        {
         "alignmentgroup": "True",
         "hovertemplate": "Tipo de Población=Inactivos<br>Comunidad autónoma=País Vasco<br>Año=%{x}<br>Número de Personas=%{y}<extra></extra>",
         "legendgroup": "Inactivos",
         "marker": {
          "color": "#C08C83",
          "pattern": {
           "shape": ""
          }
         },
         "name": "Inactivos",
         "offsetgroup": "Inactivos",
         "orientation": "v",
         "showlegend": false,
         "textposition": "auto",
         "type": "bar",
         "x": [
          2018,
          2018,
          2018,
          2019,
          2019,
          2019,
          2020,
          2020,
          2020,
          2021,
          2021,
          2021,
          2022,
          2022,
          2022,
          2023,
          2023,
          2023
         ],
         "xaxis": "x8",
         "y": [
          797075,
          797075,
          797075,
          803700,
          803700,
          803700,
          828225,
          828225,
          828225,
          820550,
          820550,
          820550,
          818750,
          818750,
          818750,
          818725,
          818725,
          818725
         ],
         "yaxis": "y8"
        },
        {
         "alignmentgroup": "True",
         "hovertemplate": "Tipo de Población=Inactivos<br>Comunidad autónoma=Rioja, La<br>Año=%{x}<br>Número de Personas=%{y}<extra></extra>",
         "legendgroup": "Inactivos",
         "marker": {
          "color": "#C08C83",
          "pattern": {
           "shape": ""
          }
         },
         "name": "Inactivos",
         "offsetgroup": "Inactivos",
         "orientation": "v",
         "showlegend": false,
         "textposition": "auto",
         "type": "bar",
         "x": [
          2018,
          2018,
          2018,
          2019,
          2019,
          2019,
          2020,
          2020,
          2020,
          2021,
          2021,
          2021,
          2022,
          2022,
          2022,
          2023,
          2023,
          2023
         ],
         "xaxis": "x",
         "y": [
          106375,
          106375,
          106375,
          106275,
          106275,
          106275,
          110075,
          110075,
          110075,
          108025,
          108025,
          108025,
          109550,
          109550,
          109550,
          112600,
          112600,
          112600
         ],
         "yaxis": "y"
        }
       ],
       "layout": {
        "annotations": [
         {
          "font": {},
          "showarrow": false,
          "text": "Comunidad autónoma=Rioja, La",
          "x": 0.1175,
          "xanchor": "center",
          "xref": "paper",
          "y": 0.144,
          "yanchor": "bottom",
          "yref": "paper"
         },
         {
          "font": {},
          "showarrow": false,
          "text": "Comunidad autónoma=Madrid, Comunidad de",
          "x": 0.1175,
          "xanchor": "center",
          "xref": "paper",
          "y": 0.358,
          "yanchor": "bottom",
          "yref": "paper"
         },
         {
          "font": {},
          "showarrow": false,
          "text": "Comunidad autónoma=Murcia, Región de",
          "x": 0.3725,
          "xanchor": "center",
          "xref": "paper",
          "y": 0.358,
          "yanchor": "bottom",
          "yref": "paper"
         },
         {
          "font": {},
          "showarrow": false,
          "text": "Comunidad autónoma=Navarra, Comunidad Foral de",
          "x": 0.6275,
          "xanchor": "center",
          "xref": "paper",
          "y": 0.358,
          "yanchor": "bottom",
          "yref": "paper"
         },
         {
          "font": {},
          "showarrow": false,
          "text": "Comunidad autónoma=País Vasco",
          "x": 0.8824999999999998,
          "xanchor": "center",
          "xref": "paper",
          "y": 0.358,
          "yanchor": "bottom",
          "yref": "paper"
         },
         {
          "font": {},
          "showarrow": false,
          "text": "Comunidad autónoma=Cataluña",
          "x": 0.1175,
          "xanchor": "center",
          "xref": "paper",
          "y": 0.572,
          "yanchor": "bottom",
          "yref": "paper"
         },
         {
          "font": {},
          "showarrow": false,
          "text": "Comunidad autónoma=Comunitat Valenciana",
          "x": 0.3725,
          "xanchor": "center",
          "xref": "paper",
          "y": 0.572,
          "yanchor": "bottom",
          "yref": "paper"
         },
         {
          "font": {},
          "showarrow": false,
          "text": "Comunidad autónoma=Extremadura",
          "x": 0.6275,
          "xanchor": "center",
          "xref": "paper",
          "y": 0.572,
          "yanchor": "bottom",
          "yref": "paper"
         },
         {
          "font": {},
          "showarrow": false,
          "text": "Comunidad autónoma=Galicia",
          "x": 0.8824999999999998,
          "xanchor": "center",
          "xref": "paper",
          "y": 0.572,
          "yanchor": "bottom",
          "yref": "paper"
         },
         {
          "font": {},
          "showarrow": false,
          "text": "Comunidad autónoma=Canarias",
          "x": 0.1175,
          "xanchor": "center",
          "xref": "paper",
          "y": 0.7859999999999999,
          "yanchor": "bottom",
          "yref": "paper"
         },
         {
          "font": {},
          "showarrow": false,
          "text": "Comunidad autónoma=Cantabria",
          "x": 0.3725,
          "xanchor": "center",
          "xref": "paper",
          "y": 0.7859999999999999,
          "yanchor": "bottom",
          "yref": "paper"
         },
         {
          "font": {},
          "showarrow": false,
          "text": "Comunidad autónoma=Castilla - La Mancha",
          "x": 0.6275,
          "xanchor": "center",
          "xref": "paper",
          "y": 0.7859999999999999,
          "yanchor": "bottom",
          "yref": "paper"
         },
         {
          "font": {},
          "showarrow": false,
          "text": "Comunidad autónoma=Castilla y León",
          "x": 0.8824999999999998,
          "xanchor": "center",
          "xref": "paper",
          "y": 0.7859999999999999,
          "yanchor": "bottom",
          "yref": "paper"
         },
         {
          "font": {},
          "showarrow": false,
          "text": "Comunidad autónoma=Andalucía",
          "x": 0.1175,
          "xanchor": "center",
          "xref": "paper",
          "y": 1,
          "yanchor": "bottom",
          "yref": "paper"
         },
         {
          "font": {},
          "showarrow": false,
          "text": "Comunidad autónoma=Aragón",
          "x": 0.3725,
          "xanchor": "center",
          "xref": "paper",
          "y": 1,
          "yanchor": "bottom",
          "yref": "paper"
         },
         {
          "font": {},
          "showarrow": false,
          "text": "Comunidad autónoma=Asturias, Principado de",
          "x": 0.6275,
          "xanchor": "center",
          "xref": "paper",
          "y": 1,
          "yanchor": "bottom",
          "yref": "paper"
         },
         {
          "font": {},
          "showarrow": false,
          "text": "Comunidad autónoma=Balears, Illes",
          "x": 0.8824999999999998,
          "xanchor": "center",
          "xref": "paper",
          "y": 1,
          "yanchor": "bottom",
          "yref": "paper"
         }
        ],
        "barmode": "relative",
        "height": 1000,
        "legend": {
         "title": {
          "text": "Tipo de Población"
         },
         "tracegroupgap": 0
        },
        "showlegend": true,
        "template": {
         "data": {
          "bar": [
           {
            "error_x": {
             "color": "#2a3f5f"
            },
            "error_y": {
             "color": "#2a3f5f"
            },
            "marker": {
             "line": {
              "color": "#E5ECF6",
              "width": 0.5
             },
             "pattern": {
              "fillmode": "overlay",
              "size": 10,
              "solidity": 0.2
             }
            },
            "type": "bar"
           }
          ],
          "barpolar": [
           {
            "marker": {
             "line": {
              "color": "#E5ECF6",
              "width": 0.5
             },
             "pattern": {
              "fillmode": "overlay",
              "size": 10,
              "solidity": 0.2
             }
            },
            "type": "barpolar"
           }
          ],
          "carpet": [
           {
            "aaxis": {
             "endlinecolor": "#2a3f5f",
             "gridcolor": "white",
             "linecolor": "white",
             "minorgridcolor": "white",
             "startlinecolor": "#2a3f5f"
            },
            "baxis": {
             "endlinecolor": "#2a3f5f",
             "gridcolor": "white",
             "linecolor": "white",
             "minorgridcolor": "white",
             "startlinecolor": "#2a3f5f"
            },
            "type": "carpet"
           }
          ],
          "choropleth": [
           {
            "colorbar": {
             "outlinewidth": 0,
             "ticks": ""
            },
            "type": "choropleth"
           }
          ],
          "contour": [
           {
            "colorbar": {
             "outlinewidth": 0,
             "ticks": ""
            },
            "colorscale": [
             [
              0,
              "#0d0887"
             ],
             [
              0.1111111111111111,
              "#46039f"
             ],
             [
              0.2222222222222222,
              "#7201a8"
             ],
             [
              0.3333333333333333,
              "#9c179e"
             ],
             [
              0.4444444444444444,
              "#bd3786"
             ],
             [
              0.5555555555555556,
              "#d8576b"
             ],
             [
              0.6666666666666666,
              "#ed7953"
             ],
             [
              0.7777777777777778,
              "#fb9f3a"
             ],
             [
              0.8888888888888888,
              "#fdca26"
             ],
             [
              1,
              "#f0f921"
             ]
            ],
            "type": "contour"
           }
          ],
          "contourcarpet": [
           {
            "colorbar": {
             "outlinewidth": 0,
             "ticks": ""
            },
            "type": "contourcarpet"
           }
          ],
          "heatmap": [
           {
            "colorbar": {
             "outlinewidth": 0,
             "ticks": ""
            },
            "colorscale": [
             [
              0,
              "#0d0887"
             ],
             [
              0.1111111111111111,
              "#46039f"
             ],
             [
              0.2222222222222222,
              "#7201a8"
             ],
             [
              0.3333333333333333,
              "#9c179e"
             ],
             [
              0.4444444444444444,
              "#bd3786"
             ],
             [
              0.5555555555555556,
              "#d8576b"
             ],
             [
              0.6666666666666666,
              "#ed7953"
             ],
             [
              0.7777777777777778,
              "#fb9f3a"
             ],
             [
              0.8888888888888888,
              "#fdca26"
             ],
             [
              1,
              "#f0f921"
             ]
            ],
            "type": "heatmap"
           }
          ],
          "heatmapgl": [
           {
            "colorbar": {
             "outlinewidth": 0,
             "ticks": ""
            },
            "colorscale": [
             [
              0,
              "#0d0887"
             ],
             [
              0.1111111111111111,
              "#46039f"
             ],
             [
              0.2222222222222222,
              "#7201a8"
             ],
             [
              0.3333333333333333,
              "#9c179e"
             ],
             [
              0.4444444444444444,
              "#bd3786"
             ],
             [
              0.5555555555555556,
              "#d8576b"
             ],
             [
              0.6666666666666666,
              "#ed7953"
             ],
             [
              0.7777777777777778,
              "#fb9f3a"
             ],
             [
              0.8888888888888888,
              "#fdca26"
             ],
             [
              1,
              "#f0f921"
             ]
            ],
            "type": "heatmapgl"
           }
          ],
          "histogram": [
           {
            "marker": {
             "pattern": {
              "fillmode": "overlay",
              "size": 10,
              "solidity": 0.2
             }
            },
            "type": "histogram"
           }
          ],
          "histogram2d": [
           {
            "colorbar": {
             "outlinewidth": 0,
             "ticks": ""
            },
            "colorscale": [
             [
              0,
              "#0d0887"
             ],
             [
              0.1111111111111111,
              "#46039f"
             ],
             [
              0.2222222222222222,
              "#7201a8"
             ],
             [
              0.3333333333333333,
              "#9c179e"
             ],
             [
              0.4444444444444444,
              "#bd3786"
             ],
             [
              0.5555555555555556,
              "#d8576b"
             ],
             [
              0.6666666666666666,
              "#ed7953"
             ],
             [
              0.7777777777777778,
              "#fb9f3a"
             ],
             [
              0.8888888888888888,
              "#fdca26"
             ],
             [
              1,
              "#f0f921"
             ]
            ],
            "type": "histogram2d"
           }
          ],
          "histogram2dcontour": [
           {
            "colorbar": {
             "outlinewidth": 0,
             "ticks": ""
            },
            "colorscale": [
             [
              0,
              "#0d0887"
             ],
             [
              0.1111111111111111,
              "#46039f"
             ],
             [
              0.2222222222222222,
              "#7201a8"
             ],
             [
              0.3333333333333333,
              "#9c179e"
             ],
             [
              0.4444444444444444,
              "#bd3786"
             ],
             [
              0.5555555555555556,
              "#d8576b"
             ],
             [
              0.6666666666666666,
              "#ed7953"
             ],
             [
              0.7777777777777778,
              "#fb9f3a"
             ],
             [
              0.8888888888888888,
              "#fdca26"
             ],
             [
              1,
              "#f0f921"
             ]
            ],
            "type": "histogram2dcontour"
           }
          ],
          "mesh3d": [
           {
            "colorbar": {
             "outlinewidth": 0,
             "ticks": ""
            },
            "type": "mesh3d"
           }
          ],
          "parcoords": [
           {
            "line": {
             "colorbar": {
              "outlinewidth": 0,
              "ticks": ""
             }
            },
            "type": "parcoords"
           }
          ],
          "pie": [
           {
            "automargin": true,
            "type": "pie"
           }
          ],
          "scatter": [
           {
            "marker": {
             "colorbar": {
              "outlinewidth": 0,
              "ticks": ""
             }
            },
            "type": "scatter"
           }
          ],
          "scatter3d": [
           {
            "line": {
             "colorbar": {
              "outlinewidth": 0,
              "ticks": ""
             }
            },
            "marker": {
             "colorbar": {
              "outlinewidth": 0,
              "ticks": ""
             }
            },
            "type": "scatter3d"
           }
          ],
          "scattercarpet": [
           {
            "marker": {
             "colorbar": {
              "outlinewidth": 0,
              "ticks": ""
             }
            },
            "type": "scattercarpet"
           }
          ],
          "scattergeo": [
           {
            "marker": {
             "colorbar": {
              "outlinewidth": 0,
              "ticks": ""
             }
            },
            "type": "scattergeo"
           }
          ],
          "scattergl": [
           {
            "marker": {
             "colorbar": {
              "outlinewidth": 0,
              "ticks": ""
             }
            },
            "type": "scattergl"
           }
          ],
          "scattermapbox": [
           {
            "marker": {
             "colorbar": {
              "outlinewidth": 0,
              "ticks": ""
             }
            },
            "type": "scattermapbox"
           }
          ],
          "scatterpolar": [
           {
            "marker": {
             "colorbar": {
              "outlinewidth": 0,
              "ticks": ""
             }
            },
            "type": "scatterpolar"
           }
          ],
          "scatterpolargl": [
           {
            "marker": {
             "colorbar": {
              "outlinewidth": 0,
              "ticks": ""
             }
            },
            "type": "scatterpolargl"
           }
          ],
          "scatterternary": [
           {
            "marker": {
             "colorbar": {
              "outlinewidth": 0,
              "ticks": ""
             }
            },
            "type": "scatterternary"
           }
          ],
          "surface": [
           {
            "colorbar": {
             "outlinewidth": 0,
             "ticks": ""
            },
            "colorscale": [
             [
              0,
              "#0d0887"
             ],
             [
              0.1111111111111111,
              "#46039f"
             ],
             [
              0.2222222222222222,
              "#7201a8"
             ],
             [
              0.3333333333333333,
              "#9c179e"
             ],
             [
              0.4444444444444444,
              "#bd3786"
             ],
             [
              0.5555555555555556,
              "#d8576b"
             ],
             [
              0.6666666666666666,
              "#ed7953"
             ],
             [
              0.7777777777777778,
              "#fb9f3a"
             ],
             [
              0.8888888888888888,
              "#fdca26"
             ],
             [
              1,
              "#f0f921"
             ]
            ],
            "type": "surface"
           }
          ],
          "table": [
           {
            "cells": {
             "fill": {
              "color": "#EBF0F8"
             },
             "line": {
              "color": "white"
             }
            },
            "header": {
             "fill": {
              "color": "#C8D4E3"
             },
             "line": {
              "color": "white"
             }
            },
            "type": "table"
           }
          ]
         },
         "layout": {
          "annotationdefaults": {
           "arrowcolor": "#2a3f5f",
           "arrowhead": 0,
           "arrowwidth": 1
          },
          "autotypenumbers": "strict",
          "coloraxis": {
           "colorbar": {
            "outlinewidth": 0,
            "ticks": ""
           }
          },
          "colorscale": {
           "diverging": [
            [
             0,
             "#8e0152"
            ],
            [
             0.1,
             "#c51b7d"
            ],
            [
             0.2,
             "#de77ae"
            ],
            [
             0.3,
             "#f1b6da"
            ],
            [
             0.4,
             "#fde0ef"
            ],
            [
             0.5,
             "#f7f7f7"
            ],
            [
             0.6,
             "#e6f5d0"
            ],
            [
             0.7,
             "#b8e186"
            ],
            [
             0.8,
             "#7fbc41"
            ],
            [
             0.9,
             "#4d9221"
            ],
            [
             1,
             "#276419"
            ]
           ],
           "sequential": [
            [
             0,
             "#0d0887"
            ],
            [
             0.1111111111111111,
             "#46039f"
            ],
            [
             0.2222222222222222,
             "#7201a8"
            ],
            [
             0.3333333333333333,
             "#9c179e"
            ],
            [
             0.4444444444444444,
             "#bd3786"
            ],
            [
             0.5555555555555556,
             "#d8576b"
            ],
            [
             0.6666666666666666,
             "#ed7953"
            ],
            [
             0.7777777777777778,
             "#fb9f3a"
            ],
            [
             0.8888888888888888,
             "#fdca26"
            ],
            [
             1,
             "#f0f921"
            ]
           ],
           "sequentialminus": [
            [
             0,
             "#0d0887"
            ],
            [
             0.1111111111111111,
             "#46039f"
            ],
            [
             0.2222222222222222,
             "#7201a8"
            ],
            [
             0.3333333333333333,
             "#9c179e"
            ],
            [
             0.4444444444444444,
             "#bd3786"
            ],
            [
             0.5555555555555556,
             "#d8576b"
            ],
            [
             0.6666666666666666,
             "#ed7953"
            ],
            [
             0.7777777777777778,
             "#fb9f3a"
            ],
            [
             0.8888888888888888,
             "#fdca26"
            ],
            [
             1,
             "#f0f921"
            ]
           ]
          },
          "colorway": [
           "#636efa",
           "#EF553B",
           "#00cc96",
           "#ab63fa",
           "#FFA15A",
           "#19d3f3",
           "#FF6692",
           "#B6E880",
           "#FF97FF",
           "#FECB52"
          ],
          "font": {
           "color": "#2a3f5f"
          },
          "geo": {
           "bgcolor": "white",
           "lakecolor": "white",
           "landcolor": "#E5ECF6",
           "showlakes": true,
           "showland": true,
           "subunitcolor": "white"
          },
          "hoverlabel": {
           "align": "left"
          },
          "hovermode": "closest",
          "mapbox": {
           "style": "light"
          },
          "paper_bgcolor": "white",
          "plot_bgcolor": "#E5ECF6",
          "polar": {
           "angularaxis": {
            "gridcolor": "white",
            "linecolor": "white",
            "ticks": ""
           },
           "bgcolor": "#E5ECF6",
           "radialaxis": {
            "gridcolor": "white",
            "linecolor": "white",
            "ticks": ""
           }
          },
          "scene": {
           "xaxis": {
            "backgroundcolor": "#E5ECF6",
            "gridcolor": "white",
            "gridwidth": 2,
            "linecolor": "white",
            "showbackground": true,
            "ticks": "",
            "zerolinecolor": "white"
           },
           "yaxis": {
            "backgroundcolor": "#E5ECF6",
            "gridcolor": "white",
            "gridwidth": 2,
            "linecolor": "white",
            "showbackground": true,
            "ticks": "",
            "zerolinecolor": "white"
           },
           "zaxis": {
            "backgroundcolor": "#E5ECF6",
            "gridcolor": "white",
            "gridwidth": 2,
            "linecolor": "white",
            "showbackground": true,
            "ticks": "",
            "zerolinecolor": "white"
           }
          },
          "shapedefaults": {
           "line": {
            "color": "#2a3f5f"
           }
          },
          "ternary": {
           "aaxis": {
            "gridcolor": "white",
            "linecolor": "white",
            "ticks": ""
           },
           "baxis": {
            "gridcolor": "white",
            "linecolor": "white",
            "ticks": ""
           },
           "bgcolor": "#E5ECF6",
           "caxis": {
            "gridcolor": "white",
            "linecolor": "white",
            "ticks": ""
           }
          },
          "title": {
           "x": 0.05
          },
          "xaxis": {
           "automargin": true,
           "gridcolor": "white",
           "linecolor": "white",
           "ticks": "",
           "title": {
            "standoff": 15
           },
           "zerolinecolor": "white",
           "zerolinewidth": 2
          },
          "yaxis": {
           "automargin": true,
           "gridcolor": "white",
           "linecolor": "white",
           "ticks": "",
           "title": {
            "standoff": 15
           },
           "zerolinecolor": "white",
           "zerolinewidth": 2
          }
         }
        },
        "title": {
         "text": "Composición de la Población Ocupada, Parada e Inactiva por Comunidad Autónoma y Año"
        },
        "xaxis": {
         "anchor": "y",
         "domain": [
          0,
          0.235
         ],
         "title": {
          "text": "Año"
         }
        },
        "xaxis10": {
         "anchor": "y10",
         "domain": [
          0.255,
          0.49
         ],
         "matches": "x",
         "showticklabels": false
        },
        "xaxis11": {
         "anchor": "y11",
         "domain": [
          0.51,
          0.745
         ],
         "matches": "x",
         "showticklabels": false
        },
        "xaxis12": {
         "anchor": "y12",
         "domain": [
          0.7649999999999999,
          0.9999999999999999
         ],
         "matches": "x",
         "showticklabels": false
        },
        "xaxis13": {
         "anchor": "y13",
         "domain": [
          0,
          0.235
         ],
         "matches": "x",
         "showticklabels": false
        },
        "xaxis14": {
         "anchor": "y14",
         "domain": [
          0.255,
          0.49
         ],
         "matches": "x",
         "showticklabels": false
        },
        "xaxis15": {
         "anchor": "y15",
         "domain": [
          0.51,
          0.745
         ],
         "matches": "x",
         "showticklabels": false
        },
        "xaxis16": {
         "anchor": "y16",
         "domain": [
          0.7649999999999999,
          0.9999999999999999
         ],
         "matches": "x",
         "showticklabels": false
        },
        "xaxis17": {
         "anchor": "y17",
         "domain": [
          0,
          0.235
         ],
         "matches": "x",
         "showticklabels": false
        },
        "xaxis18": {
         "anchor": "y18",
         "domain": [
          0.255,
          0.49
         ],
         "matches": "x",
         "showticklabels": false
        },
        "xaxis19": {
         "anchor": "y19",
         "domain": [
          0.51,
          0.745
         ],
         "matches": "x",
         "showticklabels": false
        },
        "xaxis2": {
         "anchor": "y2",
         "domain": [
          0.255,
          0.49
         ],
         "matches": "x",
         "title": {
          "text": "Año"
         }
        },
        "xaxis20": {
         "anchor": "y20",
         "domain": [
          0.7649999999999999,
          0.9999999999999999
         ],
         "matches": "x",
         "showticklabels": false
        },
        "xaxis3": {
         "anchor": "y3",
         "domain": [
          0.51,
          0.745
         ],
         "matches": "x",
         "title": {
          "text": "Año"
         }
        },
        "xaxis4": {
         "anchor": "y4",
         "domain": [
          0.7649999999999999,
          0.9999999999999999
         ],
         "matches": "x",
         "title": {
          "text": "Año"
         }
        },
        "xaxis5": {
         "anchor": "y5",
         "domain": [
          0,
          0.235
         ],
         "matches": "x",
         "showticklabels": false
        },
        "xaxis6": {
         "anchor": "y6",
         "domain": [
          0.255,
          0.49
         ],
         "matches": "x",
         "showticklabels": false
        },
        "xaxis7": {
         "anchor": "y7",
         "domain": [
          0.51,
          0.745
         ],
         "matches": "x",
         "showticklabels": false
        },
        "xaxis8": {
         "anchor": "y8",
         "domain": [
          0.7649999999999999,
          0.9999999999999999
         ],
         "matches": "x",
         "showticklabels": false
        },
        "xaxis9": {
         "anchor": "y9",
         "domain": [
          0,
          0.235
         ],
         "matches": "x",
         "showticklabels": false
        },
        "yaxis": {
         "anchor": "x",
         "domain": [
          0,
          0.144
         ],
         "title": {
          "text": "Número de Personas"
         }
        },
        "yaxis10": {
         "anchor": "x10",
         "domain": [
          0.428,
          0.572
         ],
         "matches": "y",
         "showticklabels": false
        },
        "yaxis11": {
         "anchor": "x11",
         "domain": [
          0.428,
          0.572
         ],
         "matches": "y",
         "showticklabels": false
        },
        "yaxis12": {
         "anchor": "x12",
         "domain": [
          0.428,
          0.572
         ],
         "matches": "y",
         "showticklabels": false
        },
        "yaxis13": {
         "anchor": "x13",
         "domain": [
          0.6419999999999999,
          0.7859999999999999
         ],
         "matches": "y",
         "title": {
          "text": "Número de Personas"
         }
        },
        "yaxis14": {
         "anchor": "x14",
         "domain": [
          0.6419999999999999,
          0.7859999999999999
         ],
         "matches": "y",
         "showticklabels": false
        },
        "yaxis15": {
         "anchor": "x15",
         "domain": [
          0.6419999999999999,
          0.7859999999999999
         ],
         "matches": "y",
         "showticklabels": false
        },
        "yaxis16": {
         "anchor": "x16",
         "domain": [
          0.6419999999999999,
          0.7859999999999999
         ],
         "matches": "y",
         "showticklabels": false
        },
        "yaxis17": {
         "anchor": "x17",
         "domain": [
          0.856,
          1
         ],
         "matches": "y",
         "title": {
          "text": "Número de Personas"
         }
        },
        "yaxis18": {
         "anchor": "x18",
         "domain": [
          0.856,
          1
         ],
         "matches": "y",
         "showticklabels": false
        },
        "yaxis19": {
         "anchor": "x19",
         "domain": [
          0.856,
          1
         ],
         "matches": "y",
         "showticklabels": false
        },
        "yaxis2": {
         "anchor": "x2",
         "domain": [
          0,
          0.144
         ],
         "matches": "y",
         "showticklabels": false
        },
        "yaxis20": {
         "anchor": "x20",
         "domain": [
          0.856,
          1
         ],
         "matches": "y",
         "showticklabels": false
        },
        "yaxis3": {
         "anchor": "x3",
         "domain": [
          0,
          0.144
         ],
         "matches": "y",
         "showticklabels": false
        },
        "yaxis4": {
         "anchor": "x4",
         "domain": [
          0,
          0.144
         ],
         "matches": "y",
         "showticklabels": false
        },
        "yaxis5": {
         "anchor": "x5",
         "domain": [
          0.214,
          0.358
         ],
         "matches": "y",
         "title": {
          "text": "Número de Personas"
         }
        },
        "yaxis6": {
         "anchor": "x6",
         "domain": [
          0.214,
          0.358
         ],
         "matches": "y",
         "showticklabels": false
        },
        "yaxis7": {
         "anchor": "x7",
         "domain": [
          0.214,
          0.358
         ],
         "matches": "y",
         "showticklabels": false
        },
        "yaxis8": {
         "anchor": "x8",
         "domain": [
          0.214,
          0.358
         ],
         "matches": "y",
         "showticklabels": false
        },
        "yaxis9": {
         "anchor": "x9",
         "domain": [
          0.428,
          0.572
         ],
         "matches": "y",
         "title": {
          "text": "Número de Personas"
         }
        }
       }
      }
     },
     "metadata": {},
     "output_type": "display_data"
    }
   ],
   "source": [
    "# los datos de interés\n",
    "df_barras = df_poblacion[['AÑO', 'Comunidad autónoma', 'Ocupados', 'Parados', 'Inactivos']]\n",
    "\n",
    "# los datos en formato largo para las barras apiladas\n",
    "df_long = df_barras.melt(id_vars=['AÑO', 'Comunidad autónoma'], \n",
    "                         value_vars=['Ocupados', 'Parados', 'Inactivos'], \n",
    "                         var_name='Tipo de Población', \n",
    "                         value_name='Población')\n",
    "\n",
    "# Crear gráfico de barras apiladas con paleta de colores personalizada\n",
    "fig = px.bar(df_long, x='AÑO', y='Población', color='Tipo de Población',\n",
    "             color_discrete_sequence=custom_palette,\n",
    "             facet_col='Comunidad autónoma', facet_col_wrap=4,\n",
    "             title=\"Composición de la Población Ocupada, Parada e Inactiva por Comunidad Autónoma y Año\",\n",
    "             labels={'Población': 'Número de Personas', 'AÑO': 'Año'})\n",
    "\n",
    "# Ajustar el diseño\n",
    "fig.update_layout(height=1000, showlegend=True)\n",
    "fig.show()\n"
   ]
  },
  {
   "cell_type": "code",
   "execution_count": 39,
   "metadata": {},
   "outputs": [
    {
     "data": {
      "application/vnd.plotly.v1+json": {
       "config": {
        "plotlyServerURL": "https://plot.ly"
       },
       "data": [
        {
         "hovertemplate": "Sector=Industria<br>Comunidad autónoma=Andalucía<br>Año=%{x}<br>Salario Unitario (€)=%{y}<extra></extra>",
         "legendgroup": "Industria",
         "line": {
          "color": "#F4D2CE",
          "dash": "solid"
         },
         "marker": {
          "symbol": "circle"
         },
         "mode": "markers+lines",
         "name": "Industria",
         "orientation": "v",
         "showlegend": true,
         "type": "scatter",
         "x": [
          2018,
          2019,
          2020,
          2021,
          2022,
          2023
         ],
         "xaxis": "x17",
         "y": [
          24335.01,
          23548.7,
          22426.66,
          23746.67,
          25069.75,
          25915.32
         ],
         "yaxis": "y17"
        },
        {
         "hovertemplate": "Sector=Industria<br>Comunidad autónoma=Aragón<br>Año=%{x}<br>Salario Unitario (€)=%{y}<extra></extra>",
         "legendgroup": "Industria",
         "line": {
          "color": "#F4D2CE",
          "dash": "solid"
         },
         "marker": {
          "symbol": "circle"
         },
         "mode": "markers+lines",
         "name": "Industria",
         "orientation": "v",
         "showlegend": false,
         "type": "scatter",
         "x": [
          2018,
          2019,
          2020,
          2021,
          2022,
          2023
         ],
         "xaxis": "x18",
         "y": [
          26716.39,
          27165.98,
          24676.51,
          26162.8,
          27143.24,
          29172.17
         ],
         "yaxis": "y18"
        },
        {
         "hovertemplate": "Sector=Industria<br>Comunidad autónoma=Asturias, Principado de<br>Año=%{x}<br>Salario Unitario (€)=%{y}<extra></extra>",
         "legendgroup": "Industria",
         "line": {
          "color": "#F4D2CE",
          "dash": "solid"
         },
         "marker": {
          "symbol": "circle"
         },
         "mode": "markers+lines",
         "name": "Industria",
         "orientation": "v",
         "showlegend": false,
         "type": "scatter",
         "x": [
          2018,
          2019,
          2020,
          2021,
          2022,
          2023
         ],
         "xaxis": "x19",
         "y": [
          29893.4,
          31066.54,
          29311.34,
          29234.52,
          31694.07,
          32223.21
         ],
         "yaxis": "y19"
        },
        {
         "hovertemplate": "Sector=Industria<br>Comunidad autónoma=Balears, Illes<br>Año=%{x}<br>Salario Unitario (€)=%{y}<extra></extra>",
         "legendgroup": "Industria",
         "line": {
          "color": "#F4D2CE",
          "dash": "solid"
         },
         "marker": {
          "symbol": "circle"
         },
         "mode": "markers+lines",
         "name": "Industria",
         "orientation": "v",
         "showlegend": false,
         "type": "scatter",
         "x": [
          2018,
          2019,
          2020,
          2021,
          2022,
          2023
         ],
         "xaxis": "x20",
         "y": [
          23122.97,
          23597.61,
          22034.59,
          23869.95,
          25594.06,
          26903.28
         ],
         "yaxis": "y20"
        },
        {
         "hovertemplate": "Sector=Industria<br>Comunidad autónoma=Canarias<br>Año=%{x}<br>Salario Unitario (€)=%{y}<extra></extra>",
         "legendgroup": "Industria",
         "line": {
          "color": "#F4D2CE",
          "dash": "solid"
         },
         "marker": {
          "symbol": "circle"
         },
         "mode": "markers+lines",
         "name": "Industria",
         "orientation": "v",
         "showlegend": false,
         "type": "scatter",
         "x": [
          2018,
          2019,
          2020,
          2021,
          2022,
          2023
         ],
         "xaxis": "x13",
         "y": [
          21904.65,
          21906.42,
          21323.83,
          21638.24,
          23201.12,
          23752.1
         ],
         "yaxis": "y13"
        },
        {
         "hovertemplate": "Sector=Industria<br>Comunidad autónoma=Cantabria<br>Año=%{x}<br>Salario Unitario (€)=%{y}<extra></extra>",
         "legendgroup": "Industria",
         "line": {
          "color": "#F4D2CE",
          "dash": "solid"
         },
         "marker": {
          "symbol": "circle"
         },
         "mode": "markers+lines",
         "name": "Industria",
         "orientation": "v",
         "showlegend": false,
         "type": "scatter",
         "x": [
          2018,
          2019,
          2020,
          2021,
          2022,
          2023
         ],
         "xaxis": "x14",
         "y": [
          26921.7,
          27196.61,
          26209.79,
          26567.07,
          28120.17,
          29546.37
         ],
         "yaxis": "y14"
        },
        {
         "hovertemplate": "Sector=Industria<br>Comunidad autónoma=Castilla - La Mancha<br>Año=%{x}<br>Salario Unitario (€)=%{y}<extra></extra>",
         "legendgroup": "Industria",
         "line": {
          "color": "#F4D2CE",
          "dash": "solid"
         },
         "marker": {
          "symbol": "circle"
         },
         "mode": "markers+lines",
         "name": "Industria",
         "orientation": "v",
         "showlegend": false,
         "type": "scatter",
         "x": [
          2018,
          2019,
          2020,
          2021,
          2022,
          2023
         ],
         "xaxis": "x15",
         "y": [
          23460.37,
          23396.92,
          22914.28,
          23724.83,
          24842.02,
          25675.14
         ],
         "yaxis": "y15"
        },
        {
         "hovertemplate": "Sector=Industria<br>Comunidad autónoma=Castilla y León<br>Año=%{x}<br>Salario Unitario (€)=%{y}<extra></extra>",
         "legendgroup": "Industria",
         "line": {
          "color": "#F4D2CE",
          "dash": "solid"
         },
         "marker": {
          "symbol": "circle"
         },
         "mode": "markers+lines",
         "name": "Industria",
         "orientation": "v",
         "showlegend": false,
         "type": "scatter",
         "x": [
          2018,
          2019,
          2020,
          2021,
          2022,
          2023
         ],
         "xaxis": "x16",
         "y": [
          24797.12,
          25456.58,
          24855.59,
          25611.53,
          27122.61,
          28539.91
         ],
         "yaxis": "y16"
        },
        {
         "hovertemplate": "Sector=Industria<br>Comunidad autónoma=Cataluña<br>Año=%{x}<br>Salario Unitario (€)=%{y}<extra></extra>",
         "legendgroup": "Industria",
         "line": {
          "color": "#F4D2CE",
          "dash": "solid"
         },
         "marker": {
          "symbol": "circle"
         },
         "mode": "markers+lines",
         "name": "Industria",
         "orientation": "v",
         "showlegend": false,
         "type": "scatter",
         "x": [
          2018,
          2019,
          2020,
          2021,
          2022,
          2023
         ],
         "xaxis": "x9",
         "y": [
          30298.98,
          30532.07,
          28665.6,
          30682.64,
          32022.77,
          33983.83
         ],
         "yaxis": "y9"
        },
        {
         "hovertemplate": "Sector=Industria<br>Comunidad autónoma=Comunitat Valenciana<br>Año=%{x}<br>Salario Unitario (€)=%{y}<extra></extra>",
         "legendgroup": "Industria",
         "line": {
          "color": "#F4D2CE",
          "dash": "solid"
         },
         "marker": {
          "symbol": "circle"
         },
         "mode": "markers+lines",
         "name": "Industria",
         "orientation": "v",
         "showlegend": false,
         "type": "scatter",
         "x": [
          2018,
          2019,
          2020,
          2021,
          2022,
          2023
         ],
         "xaxis": "x10",
         "y": [
          22981.21,
          23572.24,
          22767.14,
          23965.56,
          25148.74,
          25872.07
         ],
         "yaxis": "y10"
        },
        {
         "hovertemplate": "Sector=Industria<br>Comunidad autónoma=Extremadura<br>Año=%{x}<br>Salario Unitario (€)=%{y}<extra></extra>",
         "legendgroup": "Industria",
         "line": {
          "color": "#F4D2CE",
          "dash": "solid"
         },
         "marker": {
          "symbol": "circle"
         },
         "mode": "markers+lines",
         "name": "Industria",
         "orientation": "v",
         "showlegend": false,
         "type": "scatter",
         "x": [
          2018,
          2019,
          2020,
          2021,
          2022,
          2023
         ],
         "xaxis": "x11",
         "y": [
          20919.24,
          21284.75,
          21501.88,
          21449.54,
          22699.12,
          23124.4
         ],
         "yaxis": "y11"
        },
        {
         "hovertemplate": "Sector=Industria<br>Comunidad autónoma=Galicia<br>Año=%{x}<br>Salario Unitario (€)=%{y}<extra></extra>",
         "legendgroup": "Industria",
         "line": {
          "color": "#F4D2CE",
          "dash": "solid"
         },
         "marker": {
          "symbol": "circle"
         },
         "mode": "markers+lines",
         "name": "Industria",
         "orientation": "v",
         "showlegend": false,
         "type": "scatter",
         "x": [
          2018,
          2019,
          2020,
          2021,
          2022,
          2023
         ],
         "xaxis": "x12",
         "y": [
          25008.11,
          25871.64,
          25219.85,
          25397.5,
          26065.77,
          27624.74
         ],
         "yaxis": "y12"
        },
        {
         "hovertemplate": "Sector=Industria<br>Comunidad autónoma=Madrid, Comunidad de<br>Año=%{x}<br>Salario Unitario (€)=%{y}<extra></extra>",
         "legendgroup": "Industria",
         "line": {
          "color": "#F4D2CE",
          "dash": "solid"
         },
         "marker": {
          "symbol": "circle"
         },
         "mode": "markers+lines",
         "name": "Industria",
         "orientation": "v",
         "showlegend": false,
         "type": "scatter",
         "x": [
          2018,
          2019,
          2020,
          2021,
          2022,
          2023
         ],
         "xaxis": "x5",
         "y": [
          34955.36,
          36024.08,
          36292,
          37883.8,
          37877.09,
          38956.81
         ],
         "yaxis": "y5"
        },
        {
         "hovertemplate": "Sector=Industria<br>Comunidad autónoma=Murcia, Región de<br>Año=%{x}<br>Salario Unitario (€)=%{y}<extra></extra>",
         "legendgroup": "Industria",
         "line": {
          "color": "#F4D2CE",
          "dash": "solid"
         },
         "marker": {
          "symbol": "circle"
         },
         "mode": "markers+lines",
         "name": "Industria",
         "orientation": "v",
         "showlegend": false,
         "type": "scatter",
         "x": [
          2018,
          2019,
          2020,
          2021,
          2022,
          2023
         ],
         "xaxis": "x6",
         "y": [
          23046.09,
          23618.6,
          22828.26,
          24015.05,
          24225.38,
          24779.69
         ],
         "yaxis": "y6"
        },
        {
         "hovertemplate": "Sector=Industria<br>Comunidad autónoma=Navarra, Comunidad Foral de<br>Año=%{x}<br>Salario Unitario (€)=%{y}<extra></extra>",
         "legendgroup": "Industria",
         "line": {
          "color": "#F4D2CE",
          "dash": "solid"
         },
         "marker": {
          "symbol": "circle"
         },
         "mode": "markers+lines",
         "name": "Industria",
         "orientation": "v",
         "showlegend": false,
         "type": "scatter",
         "x": [
          2018,
          2019,
          2020,
          2021,
          2022,
          2023
         ],
         "xaxis": "x7",
         "y": [
          28864.56,
          29303.55,
          28395.93,
          28432.85,
          29474.17,
          32330.71
         ],
         "yaxis": "y7"
        },
        {
         "hovertemplate": "Sector=Industria<br>Comunidad autónoma=País Vasco<br>Año=%{x}<br>Salario Unitario (€)=%{y}<extra></extra>",
         "legendgroup": "Industria",
         "line": {
          "color": "#F4D2CE",
          "dash": "solid"
         },
         "marker": {
          "symbol": "circle"
         },
         "mode": "markers+lines",
         "name": "Industria",
         "orientation": "v",
         "showlegend": false,
         "type": "scatter",
         "x": [
          2018,
          2019,
          2020,
          2021,
          2022,
          2023
         ],
         "xaxis": "x8",
         "y": [
          33054.17,
          33172.86,
          32366.26,
          33817.62,
          35252.09,
          37495.69
         ],
         "yaxis": "y8"
        },
        {
         "hovertemplate": "Sector=Industria<br>Comunidad autónoma=Rioja, La<br>Año=%{x}<br>Salario Unitario (€)=%{y}<extra></extra>",
         "legendgroup": "Industria",
         "line": {
          "color": "#F4D2CE",
          "dash": "solid"
         },
         "marker": {
          "symbol": "circle"
         },
         "mode": "markers+lines",
         "name": "Industria",
         "orientation": "v",
         "showlegend": false,
         "type": "scatter",
         "x": [
          2018,
          2019,
          2020,
          2021,
          2022,
          2023
         ],
         "xaxis": "x",
         "y": [
          24022.91,
          24283.75,
          23344.47,
          23942.53,
          24642.35,
          25845.14
         ],
         "yaxis": "y"
        },
        {
         "hovertemplate": "Sector=Construcción<br>Comunidad autónoma=Andalucía<br>Año=%{x}<br>Salario Unitario (€)=%{y}<extra></extra>",
         "legendgroup": "Construcción",
         "line": {
          "color": "#E6AFA9",
          "dash": "solid"
         },
         "marker": {
          "symbol": "circle"
         },
         "mode": "markers+lines",
         "name": "Construcción",
         "orientation": "v",
         "showlegend": true,
         "type": "scatter",
         "x": [
          2018,
          2019,
          2020,
          2021,
          2022,
          2023
         ],
         "xaxis": "x17",
         "y": [
          20853.79,
          20905.48,
          21692.75,
          21553.41,
          21947.51,
          23315.53
         ],
         "yaxis": "y17"
        },
        {
         "hovertemplate": "Sector=Construcción<br>Comunidad autónoma=Aragón<br>Año=%{x}<br>Salario Unitario (€)=%{y}<extra></extra>",
         "legendgroup": "Construcción",
         "line": {
          "color": "#E6AFA9",
          "dash": "solid"
         },
         "marker": {
          "symbol": "circle"
         },
         "mode": "markers+lines",
         "name": "Construcción",
         "orientation": "v",
         "showlegend": false,
         "type": "scatter",
         "x": [
          2018,
          2019,
          2020,
          2021,
          2022,
          2023
         ],
         "xaxis": "x18",
         "y": [
          23471.18,
          23397.8,
          24143.93,
          24657.15,
          25983.62,
          27526.41
         ],
         "yaxis": "y18"
        },
        {
         "hovertemplate": "Sector=Construcción<br>Comunidad autónoma=Asturias, Principado de<br>Año=%{x}<br>Salario Unitario (€)=%{y}<extra></extra>",
         "legendgroup": "Construcción",
         "line": {
          "color": "#E6AFA9",
          "dash": "solid"
         },
         "marker": {
          "symbol": "circle"
         },
         "mode": "markers+lines",
         "name": "Construcción",
         "orientation": "v",
         "showlegend": false,
         "type": "scatter",
         "x": [
          2018,
          2019,
          2020,
          2021,
          2022,
          2023
         ],
         "xaxis": "x19",
         "y": [
          25204.61,
          25763.19,
          25291.67,
          25361.06,
          26334.51,
          27014.76
         ],
         "yaxis": "y19"
        },
        {
         "hovertemplate": "Sector=Construcción<br>Comunidad autónoma=Balears, Illes<br>Año=%{x}<br>Salario Unitario (€)=%{y}<extra></extra>",
         "legendgroup": "Construcción",
         "line": {
          "color": "#E6AFA9",
          "dash": "solid"
         },
         "marker": {
          "symbol": "circle"
         },
         "mode": "markers+lines",
         "name": "Construcción",
         "orientation": "v",
         "showlegend": false,
         "type": "scatter",
         "x": [
          2018,
          2019,
          2020,
          2021,
          2022,
          2023
         ],
         "xaxis": "x20",
         "y": [
          21153.76,
          22022.86,
          20887.75,
          22043.45,
          22818.26,
          24755.5
         ],
         "yaxis": "y20"
        },
        {
         "hovertemplate": "Sector=Construcción<br>Comunidad autónoma=Canarias<br>Año=%{x}<br>Salario Unitario (€)=%{y}<extra></extra>",
         "legendgroup": "Construcción",
         "line": {
          "color": "#E6AFA9",
          "dash": "solid"
         },
         "marker": {
          "symbol": "circle"
         },
         "mode": "markers+lines",
         "name": "Construcción",
         "orientation": "v",
         "showlegend": false,
         "type": "scatter",
         "x": [
          2018,
          2019,
          2020,
          2021,
          2022,
          2023
         ],
         "xaxis": "x13",
         "y": [
          19374.72,
          20311.01,
          19027.04,
          18745.53,
          20033.23,
          21031.58
         ],
         "yaxis": "y13"
        },
        {
         "hovertemplate": "Sector=Construcción<br>Comunidad autónoma=Cantabria<br>Año=%{x}<br>Salario Unitario (€)=%{y}<extra></extra>",
         "legendgroup": "Construcción",
         "line": {
          "color": "#E6AFA9",
          "dash": "solid"
         },
         "marker": {
          "symbol": "circle"
         },
         "mode": "markers+lines",
         "name": "Construcción",
         "orientation": "v",
         "showlegend": false,
         "type": "scatter",
         "x": [
          2018,
          2019,
          2020,
          2021,
          2022,
          2023
         ],
         "xaxis": "x14",
         "y": [
          21245.41,
          22676.41,
          21510.73,
          22261.75,
          23985.89,
          24007.71
         ],
         "yaxis": "y14"
        },
        {
         "hovertemplate": "Sector=Construcción<br>Comunidad autónoma=Castilla - La Mancha<br>Año=%{x}<br>Salario Unitario (€)=%{y}<extra></extra>",
         "legendgroup": "Construcción",
         "line": {
          "color": "#E6AFA9",
          "dash": "solid"
         },
         "marker": {
          "symbol": "circle"
         },
         "mode": "markers+lines",
         "name": "Construcción",
         "orientation": "v",
         "showlegend": false,
         "type": "scatter",
         "x": [
          2018,
          2019,
          2020,
          2021,
          2022,
          2023
         ],
         "xaxis": "x15",
         "y": [
          19581.21,
          19644.88,
          18916.16,
          20323.86,
          21283.66,
          22445.58
         ],
         "yaxis": "y15"
        },
        {
         "hovertemplate": "Sector=Construcción<br>Comunidad autónoma=Castilla y León<br>Año=%{x}<br>Salario Unitario (€)=%{y}<extra></extra>",
         "legendgroup": "Construcción",
         "line": {
          "color": "#E6AFA9",
          "dash": "solid"
         },
         "marker": {
          "symbol": "circle"
         },
         "mode": "markers+lines",
         "name": "Construcción",
         "orientation": "v",
         "showlegend": false,
         "type": "scatter",
         "x": [
          2018,
          2019,
          2020,
          2021,
          2022,
          2023
         ],
         "xaxis": "x16",
         "y": [
          21358.49,
          21727.93,
          21697.84,
          22019.78,
          22722.25,
          22888.17
         ],
         "yaxis": "y16"
        },
        {
         "hovertemplate": "Sector=Construcción<br>Comunidad autónoma=Cataluña<br>Año=%{x}<br>Salario Unitario (€)=%{y}<extra></extra>",
         "legendgroup": "Construcción",
         "line": {
          "color": "#E6AFA9",
          "dash": "solid"
         },
         "marker": {
          "symbol": "circle"
         },
         "mode": "markers+lines",
         "name": "Construcción",
         "orientation": "v",
         "showlegend": false,
         "type": "scatter",
         "x": [
          2018,
          2019,
          2020,
          2021,
          2022,
          2023
         ],
         "xaxis": "x9",
         "y": [
          23726.72,
          24287.88,
          25215.47,
          26000.87,
          27890.64,
          30052.92
         ],
         "yaxis": "y9"
        },
        {
         "hovertemplate": "Sector=Construcción<br>Comunidad autónoma=Comunitat Valenciana<br>Año=%{x}<br>Salario Unitario (€)=%{y}<extra></extra>",
         "legendgroup": "Construcción",
         "line": {
          "color": "#E6AFA9",
          "dash": "solid"
         },
         "marker": {
          "symbol": "circle"
         },
         "mode": "markers+lines",
         "name": "Construcción",
         "orientation": "v",
         "showlegend": false,
         "type": "scatter",
         "x": [
          2018,
          2019,
          2020,
          2021,
          2022,
          2023
         ],
         "xaxis": "x10",
         "y": [
          20552,
          20514.24,
          20125.33,
          20571.85,
          21279.26,
          22530.66
         ],
         "yaxis": "y10"
        },
        {
         "hovertemplate": "Sector=Construcción<br>Comunidad autónoma=Extremadura<br>Año=%{x}<br>Salario Unitario (€)=%{y}<extra></extra>",
         "legendgroup": "Construcción",
         "line": {
          "color": "#E6AFA9",
          "dash": "solid"
         },
         "marker": {
          "symbol": "circle"
         },
         "mode": "markers+lines",
         "name": "Construcción",
         "orientation": "v",
         "showlegend": false,
         "type": "scatter",
         "x": [
          2018,
          2019,
          2020,
          2021,
          2022,
          2023
         ],
         "xaxis": "x11",
         "y": [
          18377.78,
          18815.29,
          18615.83,
          20008.38,
          19616.99,
          19978.83
         ],
         "yaxis": "y11"
        },
        {
         "hovertemplate": "Sector=Construcción<br>Comunidad autónoma=Galicia<br>Año=%{x}<br>Salario Unitario (€)=%{y}<extra></extra>",
         "legendgroup": "Construcción",
         "line": {
          "color": "#E6AFA9",
          "dash": "solid"
         },
         "marker": {
          "symbol": "circle"
         },
         "mode": "markers+lines",
         "name": "Construcción",
         "orientation": "v",
         "showlegend": false,
         "type": "scatter",
         "x": [
          2018,
          2019,
          2020,
          2021,
          2022,
          2023
         ],
         "xaxis": "x12",
         "y": [
          21166.9,
          22525.48,
          21840.13,
          23247.3,
          24351.19,
          24341.71
         ],
         "yaxis": "y12"
        },
        {
         "hovertemplate": "Sector=Construcción<br>Comunidad autónoma=Madrid, Comunidad de<br>Año=%{x}<br>Salario Unitario (€)=%{y}<extra></extra>",
         "legendgroup": "Construcción",
         "line": {
          "color": "#E6AFA9",
          "dash": "solid"
         },
         "marker": {
          "symbol": "circle"
         },
         "mode": "markers+lines",
         "name": "Construcción",
         "orientation": "v",
         "showlegend": false,
         "type": "scatter",
         "x": [
          2018,
          2019,
          2020,
          2021,
          2022,
          2023
         ],
         "xaxis": "x5",
         "y": [
          25709.84,
          25884.8,
          24966.09,
          25966.55,
          28413.22,
          26929.62
         ],
         "yaxis": "y5"
        },
        {
         "hovertemplate": "Sector=Construcción<br>Comunidad autónoma=Murcia, Región de<br>Año=%{x}<br>Salario Unitario (€)=%{y}<extra></extra>",
         "legendgroup": "Construcción",
         "line": {
          "color": "#E6AFA9",
          "dash": "solid"
         },
         "marker": {
          "symbol": "circle"
         },
         "mode": "markers+lines",
         "name": "Construcción",
         "orientation": "v",
         "showlegend": false,
         "type": "scatter",
         "x": [
          2018,
          2019,
          2020,
          2021,
          2022,
          2023
         ],
         "xaxis": "x6",
         "y": [
          19877.43,
          20752.37,
          20119.11,
          20623.32,
          20880.28,
          21965.11
         ],
         "yaxis": "y6"
        },
        {
         "hovertemplate": "Sector=Construcción<br>Comunidad autónoma=Navarra, Comunidad Foral de<br>Año=%{x}<br>Salario Unitario (€)=%{y}<extra></extra>",
         "legendgroup": "Construcción",
         "line": {
          "color": "#E6AFA9",
          "dash": "solid"
         },
         "marker": {
          "symbol": "circle"
         },
         "mode": "markers+lines",
         "name": "Construcción",
         "orientation": "v",
         "showlegend": false,
         "type": "scatter",
         "x": [
          2018,
          2019,
          2020,
          2021,
          2022,
          2023
         ],
         "xaxis": "x7",
         "y": [
          24359.35,
          24659.26,
          24545.07,
          26562.39,
          26867.25,
          28687.85
         ],
         "yaxis": "y7"
        },
        {
         "hovertemplate": "Sector=Construcción<br>Comunidad autónoma=País Vasco<br>Año=%{x}<br>Salario Unitario (€)=%{y}<extra></extra>",
         "legendgroup": "Construcción",
         "line": {
          "color": "#E6AFA9",
          "dash": "solid"
         },
         "marker": {
          "symbol": "circle"
         },
         "mode": "markers+lines",
         "name": "Construcción",
         "orientation": "v",
         "showlegend": false,
         "type": "scatter",
         "x": [
          2018,
          2019,
          2020,
          2021,
          2022,
          2023
         ],
         "xaxis": "x8",
         "y": [
          26981.33,
          26629.55,
          26452.78,
          27161.01,
          28283.38,
          29392.81
         ],
         "yaxis": "y8"
        },
        {
         "hovertemplate": "Sector=Construcción<br>Comunidad autónoma=Rioja, La<br>Año=%{x}<br>Salario Unitario (€)=%{y}<extra></extra>",
         "legendgroup": "Construcción",
         "line": {
          "color": "#E6AFA9",
          "dash": "solid"
         },
         "marker": {
          "symbol": "circle"
         },
         "mode": "markers+lines",
         "name": "Construcción",
         "orientation": "v",
         "showlegend": false,
         "type": "scatter",
         "x": [
          2018,
          2019,
          2020,
          2021,
          2022,
          2023
         ],
         "xaxis": "x",
         "y": [
          22421.99,
          22436.66,
          21430.73,
          22999.39,
          23973.24,
          25321.95
         ],
         "yaxis": "y"
        },
        {
         "hovertemplate": "Sector=Servicios<br>Comunidad autónoma=Andalucía<br>Año=%{x}<br>Salario Unitario (€)=%{y}<extra></extra>",
         "legendgroup": "Servicios",
         "line": {
          "color": "#C08C83",
          "dash": "solid"
         },
         "marker": {
          "symbol": "circle"
         },
         "mode": "markers+lines",
         "name": "Servicios",
         "orientation": "v",
         "showlegend": true,
         "type": "scatter",
         "x": [
          2018,
          2019,
          2020,
          2021,
          2022,
          2023
         ],
         "xaxis": "x17",
         "y": [
          19438.66,
          20028.18,
          19934.47,
          20852.29,
          21950.78,
          23090.31
         ],
         "yaxis": "y17"
        },
        {
         "hovertemplate": "Sector=Servicios<br>Comunidad autónoma=Aragón<br>Año=%{x}<br>Salario Unitario (€)=%{y}<extra></extra>",
         "legendgroup": "Servicios",
         "line": {
          "color": "#C08C83",
          "dash": "solid"
         },
         "marker": {
          "symbol": "circle"
         },
         "mode": "markers+lines",
         "name": "Servicios",
         "orientation": "v",
         "showlegend": false,
         "type": "scatter",
         "x": [
          2018,
          2019,
          2020,
          2021,
          2022,
          2023
         ],
         "xaxis": "x18",
         "y": [
          20299.35,
          21221.51,
          20725.02,
          22224.45,
          23118.43,
          24359.48
         ],
         "yaxis": "y18"
        },
        {
         "hovertemplate": "Sector=Servicios<br>Comunidad autónoma=Asturias, Principado de<br>Año=%{x}<br>Salario Unitario (€)=%{y}<extra></extra>",
         "legendgroup": "Servicios",
         "line": {
          "color": "#C08C83",
          "dash": "solid"
         },
         "marker": {
          "symbol": "circle"
         },
         "mode": "markers+lines",
         "name": "Servicios",
         "orientation": "v",
         "showlegend": false,
         "type": "scatter",
         "x": [
          2018,
          2019,
          2020,
          2021,
          2022,
          2023
         ],
         "xaxis": "x19",
         "y": [
          21858.5,
          22478.83,
          22363.47,
          23245.21,
          23565.64,
          24659.33
         ],
         "yaxis": "y19"
        },
        {
         "hovertemplate": "Sector=Servicios<br>Comunidad autónoma=Balears, Illes<br>Año=%{x}<br>Salario Unitario (€)=%{y}<extra></extra>",
         "legendgroup": "Servicios",
         "line": {
          "color": "#C08C83",
          "dash": "solid"
         },
         "marker": {
          "symbol": "circle"
         },
         "mode": "markers+lines",
         "name": "Servicios",
         "orientation": "v",
         "showlegend": false,
         "type": "scatter",
         "x": [
          2018,
          2019,
          2020,
          2021,
          2022,
          2023
         ],
         "xaxis": "x20",
         "y": [
          22482.52,
          22485.2,
          19593.25,
          21846.48,
          23798.96,
          25883.86
         ],
         "yaxis": "y20"
        },
        {
         "hovertemplate": "Sector=Servicios<br>Comunidad autónoma=Canarias<br>Año=%{x}<br>Salario Unitario (€)=%{y}<extra></extra>",
         "legendgroup": "Servicios",
         "line": {
          "color": "#C08C83",
          "dash": "solid"
         },
         "marker": {
          "symbol": "circle"
         },
         "mode": "markers+lines",
         "name": "Servicios",
         "orientation": "v",
         "showlegend": false,
         "type": "scatter",
         "x": [
          2018,
          2019,
          2020,
          2021,
          2022,
          2023
         ],
         "xaxis": "x13",
         "y": [
          19361.08,
          19562.23,
          16941.19,
          18857.92,
          21096.65,
          21876.79
         ],
         "yaxis": "y13"
        },
        {
         "hovertemplate": "Sector=Servicios<br>Comunidad autónoma=Cantabria<br>Año=%{x}<br>Salario Unitario (€)=%{y}<extra></extra>",
         "legendgroup": "Servicios",
         "line": {
          "color": "#C08C83",
          "dash": "solid"
         },
         "marker": {
          "symbol": "circle"
         },
         "mode": "markers+lines",
         "name": "Servicios",
         "orientation": "v",
         "showlegend": false,
         "type": "scatter",
         "x": [
          2018,
          2019,
          2020,
          2021,
          2022,
          2023
         ],
         "xaxis": "x14",
         "y": [
          20978.21,
          21464.65,
          20975.65,
          21355.1,
          22495.95,
          23310.33
         ],
         "yaxis": "y14"
        },
        {
         "hovertemplate": "Sector=Servicios<br>Comunidad autónoma=Castilla - La Mancha<br>Año=%{x}<br>Salario Unitario (€)=%{y}<extra></extra>",
         "legendgroup": "Servicios",
         "line": {
          "color": "#C08C83",
          "dash": "solid"
         },
         "marker": {
          "symbol": "circle"
         },
         "mode": "markers+lines",
         "name": "Servicios",
         "orientation": "v",
         "showlegend": false,
         "type": "scatter",
         "x": [
          2018,
          2019,
          2020,
          2021,
          2022,
          2023
         ],
         "xaxis": "x15",
         "y": [
          19299.63,
          19721.04,
          19866.72,
          20909.71,
          22034.69,
          23055.7
         ],
         "yaxis": "y15"
        },
        {
         "hovertemplate": "Sector=Servicios<br>Comunidad autónoma=Castilla y León<br>Año=%{x}<br>Salario Unitario (€)=%{y}<extra></extra>",
         "legendgroup": "Servicios",
         "line": {
          "color": "#C08C83",
          "dash": "solid"
         },
         "marker": {
          "symbol": "circle"
         },
         "mode": "markers+lines",
         "name": "Servicios",
         "orientation": "v",
         "showlegend": false,
         "type": "scatter",
         "x": [
          2018,
          2019,
          2020,
          2021,
          2022,
          2023
         ],
         "xaxis": "x16",
         "y": [
          19498.46,
          19845.97,
          19840.38,
          21031.85,
          21692.5,
          22779.81
         ],
         "yaxis": "y16"
        },
        {
         "hovertemplate": "Sector=Servicios<br>Comunidad autónoma=Cataluña<br>Año=%{x}<br>Salario Unitario (€)=%{y}<extra></extra>",
         "legendgroup": "Servicios",
         "line": {
          "color": "#C08C83",
          "dash": "solid"
         },
         "marker": {
          "symbol": "circle"
         },
         "mode": "markers+lines",
         "name": "Servicios",
         "orientation": "v",
         "showlegend": false,
         "type": "scatter",
         "x": [
          2018,
          2019,
          2020,
          2021,
          2022,
          2023
         ],
         "xaxis": "x9",
         "y": [
          23463.18,
          24096.54,
          23037.17,
          25041.28,
          26478.22,
          27624.31
         ],
         "yaxis": "y9"
        },
        {
         "hovertemplate": "Sector=Servicios<br>Comunidad autónoma=Comunitat Valenciana<br>Año=%{x}<br>Salario Unitario (€)=%{y}<extra></extra>",
         "legendgroup": "Servicios",
         "line": {
          "color": "#C08C83",
          "dash": "solid"
         },
         "marker": {
          "symbol": "circle"
         },
         "mode": "markers+lines",
         "name": "Servicios",
         "orientation": "v",
         "showlegend": false,
         "type": "scatter",
         "x": [
          2018,
          2019,
          2020,
          2021,
          2022,
          2023
         ],
         "xaxis": "x10",
         "y": [
          19861.78,
          20133.4,
          19613.19,
          21328.82,
          22317.57,
          23125.14
         ],
         "yaxis": "y10"
        },
        {
         "hovertemplate": "Sector=Servicios<br>Comunidad autónoma=Extremadura<br>Año=%{x}<br>Salario Unitario (€)=%{y}<extra></extra>",
         "legendgroup": "Servicios",
         "line": {
          "color": "#C08C83",
          "dash": "solid"
         },
         "marker": {
          "symbol": "circle"
         },
         "mode": "markers+lines",
         "name": "Servicios",
         "orientation": "v",
         "showlegend": false,
         "type": "scatter",
         "x": [
          2018,
          2019,
          2020,
          2021,
          2022,
          2023
         ],
         "xaxis": "x11",
         "y": [
          18390.7,
          18938.98,
          18079.56,
          19121.14,
          20137.16,
          20534.24
         ],
         "yaxis": "y11"
        },
        {
         "hovertemplate": "Sector=Servicios<br>Comunidad autónoma=Galicia<br>Año=%{x}<br>Salario Unitario (€)=%{y}<extra></extra>",
         "legendgroup": "Servicios",
         "line": {
          "color": "#C08C83",
          "dash": "solid"
         },
         "marker": {
          "symbol": "circle"
         },
         "mode": "markers+lines",
         "name": "Servicios",
         "orientation": "v",
         "showlegend": false,
         "type": "scatter",
         "x": [
          2018,
          2019,
          2020,
          2021,
          2022,
          2023
         ],
         "xaxis": "x12",
         "y": [
          19297.13,
          19917.67,
          19743.01,
          20895.01,
          21715.22,
          22404.28
         ],
         "yaxis": "y12"
        },
        {
         "hovertemplate": "Sector=Servicios<br>Comunidad autónoma=Madrid, Comunidad de<br>Año=%{x}<br>Salario Unitario (€)=%{y}<extra></extra>",
         "legendgroup": "Servicios",
         "line": {
          "color": "#C08C83",
          "dash": "solid"
         },
         "marker": {
          "symbol": "circle"
         },
         "mode": "markers+lines",
         "name": "Servicios",
         "orientation": "v",
         "showlegend": false,
         "type": "scatter",
         "x": [
          2018,
          2019,
          2020,
          2021,
          2022,
          2023
         ],
         "xaxis": "x5",
         "y": [
          27023.9,
          27493.75,
          27237.78,
          28847.08,
          29852.67,
          31792.6
         ],
         "yaxis": "y5"
        },
        {
         "hovertemplate": "Sector=Servicios<br>Comunidad autónoma=Murcia, Región de<br>Año=%{x}<br>Salario Unitario (€)=%{y}<extra></extra>",
         "legendgroup": "Servicios",
         "line": {
          "color": "#C08C83",
          "dash": "solid"
         },
         "marker": {
          "symbol": "circle"
         },
         "mode": "markers+lines",
         "name": "Servicios",
         "orientation": "v",
         "showlegend": false,
         "type": "scatter",
         "x": [
          2018,
          2019,
          2020,
          2021,
          2022,
          2023
         ],
         "xaxis": "x6",
         "y": [
          19569.73,
          19527.2,
          20209.94,
          21368.14,
          21809.82,
          22788.84
         ],
         "yaxis": "y6"
        },
        {
         "hovertemplate": "Sector=Servicios<br>Comunidad autónoma=Navarra, Comunidad Foral de<br>Año=%{x}<br>Salario Unitario (€)=%{y}<extra></extra>",
         "legendgroup": "Servicios",
         "line": {
          "color": "#C08C83",
          "dash": "solid"
         },
         "marker": {
          "symbol": "circle"
         },
         "mode": "markers+lines",
         "name": "Servicios",
         "orientation": "v",
         "showlegend": false,
         "type": "scatter",
         "x": [
          2018,
          2019,
          2020,
          2021,
          2022,
          2023
         ],
         "xaxis": "x7",
         "y": [
          23270.18,
          23819.52,
          24106.82,
          24861.27,
          25912.72,
          27141.91
         ],
         "yaxis": "y7"
        },
        {
         "hovertemplate": "Sector=Servicios<br>Comunidad autónoma=País Vasco<br>Año=%{x}<br>Salario Unitario (€)=%{y}<extra></extra>",
         "legendgroup": "Servicios",
         "line": {
          "color": "#C08C83",
          "dash": "solid"
         },
         "marker": {
          "symbol": "circle"
         },
         "mode": "markers+lines",
         "name": "Servicios",
         "orientation": "v",
         "showlegend": false,
         "type": "scatter",
         "x": [
          2018,
          2019,
          2020,
          2021,
          2022,
          2023
         ],
         "xaxis": "x8",
         "y": [
          25400.59,
          25905.63,
          25470.06,
          26752.19,
          27454.97,
          28236.98
         ],
         "yaxis": "y8"
        },
        {
         "hovertemplate": "Sector=Servicios<br>Comunidad autónoma=Rioja, La<br>Año=%{x}<br>Salario Unitario (€)=%{y}<extra></extra>",
         "legendgroup": "Servicios",
         "line": {
          "color": "#C08C83",
          "dash": "solid"
         },
         "marker": {
          "symbol": "circle"
         },
         "mode": "markers+lines",
         "name": "Servicios",
         "orientation": "v",
         "showlegend": false,
         "type": "scatter",
         "x": [
          2018,
          2019,
          2020,
          2021,
          2022,
          2023
         ],
         "xaxis": "x",
         "y": [
          19405.68,
          20046.38,
          19531.01,
          20492.86,
          21843.2,
          23139.17
         ],
         "yaxis": "y"
        }
       ],
       "layout": {
        "annotations": [
         {
          "font": {},
          "showarrow": false,
          "text": "Rioja, La",
          "x": 0.1175,
          "xanchor": "center",
          "xref": "paper",
          "y": 0.144,
          "yanchor": "bottom",
          "yref": "paper"
         },
         {
          "font": {},
          "showarrow": false,
          "text": "Madrid, Comunidad de",
          "x": 0.1175,
          "xanchor": "center",
          "xref": "paper",
          "y": 0.358,
          "yanchor": "bottom",
          "yref": "paper"
         },
         {
          "font": {},
          "showarrow": false,
          "text": "Murcia, Región de",
          "x": 0.3725,
          "xanchor": "center",
          "xref": "paper",
          "y": 0.358,
          "yanchor": "bottom",
          "yref": "paper"
         },
         {
          "font": {},
          "showarrow": false,
          "text": "Navarra, Comunidad Foral de",
          "x": 0.6275,
          "xanchor": "center",
          "xref": "paper",
          "y": 0.358,
          "yanchor": "bottom",
          "yref": "paper"
         },
         {
          "font": {},
          "showarrow": false,
          "text": "País Vasco",
          "x": 0.8824999999999998,
          "xanchor": "center",
          "xref": "paper",
          "y": 0.358,
          "yanchor": "bottom",
          "yref": "paper"
         },
         {
          "font": {},
          "showarrow": false,
          "text": "Cataluña",
          "x": 0.1175,
          "xanchor": "center",
          "xref": "paper",
          "y": 0.572,
          "yanchor": "bottom",
          "yref": "paper"
         },
         {
          "font": {},
          "showarrow": false,
          "text": "Comunitat Valenciana",
          "x": 0.3725,
          "xanchor": "center",
          "xref": "paper",
          "y": 0.572,
          "yanchor": "bottom",
          "yref": "paper"
         },
         {
          "font": {},
          "showarrow": false,
          "text": "Extremadura",
          "x": 0.6275,
          "xanchor": "center",
          "xref": "paper",
          "y": 0.572,
          "yanchor": "bottom",
          "yref": "paper"
         },
         {
          "font": {},
          "showarrow": false,
          "text": "Galicia",
          "x": 0.8824999999999998,
          "xanchor": "center",
          "xref": "paper",
          "y": 0.572,
          "yanchor": "bottom",
          "yref": "paper"
         },
         {
          "font": {},
          "showarrow": false,
          "text": "Canarias",
          "x": 0.1175,
          "xanchor": "center",
          "xref": "paper",
          "y": 0.7859999999999999,
          "yanchor": "bottom",
          "yref": "paper"
         },
         {
          "font": {},
          "showarrow": false,
          "text": "Cantabria",
          "x": 0.3725,
          "xanchor": "center",
          "xref": "paper",
          "y": 0.7859999999999999,
          "yanchor": "bottom",
          "yref": "paper"
         },
         {
          "font": {},
          "showarrow": false,
          "text": "Castilla - La Mancha",
          "x": 0.6275,
          "xanchor": "center",
          "xref": "paper",
          "y": 0.7859999999999999,
          "yanchor": "bottom",
          "yref": "paper"
         },
         {
          "font": {},
          "showarrow": false,
          "text": "Castilla y León",
          "x": 0.8824999999999998,
          "xanchor": "center",
          "xref": "paper",
          "y": 0.7859999999999999,
          "yanchor": "bottom",
          "yref": "paper"
         },
         {
          "font": {},
          "showarrow": false,
          "text": "Andalucía",
          "x": 0.1175,
          "xanchor": "center",
          "xref": "paper",
          "y": 1,
          "yanchor": "bottom",
          "yref": "paper"
         },
         {
          "font": {},
          "showarrow": false,
          "text": "Aragón",
          "x": 0.3725,
          "xanchor": "center",
          "xref": "paper",
          "y": 1,
          "yanchor": "bottom",
          "yref": "paper"
         },
         {
          "font": {},
          "showarrow": false,
          "text": "Asturias, Principado de",
          "x": 0.6275,
          "xanchor": "center",
          "xref": "paper",
          "y": 1,
          "yanchor": "bottom",
          "yref": "paper"
         },
         {
          "font": {},
          "showarrow": false,
          "text": "Balears, Illes",
          "x": 0.8824999999999998,
          "xanchor": "center",
          "xref": "paper",
          "y": 1,
          "yanchor": "bottom",
          "yref": "paper"
         }
        ],
        "height": 800,
        "legend": {
         "title": {
          "text": "Sector"
         },
         "tracegroupgap": 0
        },
        "showlegend": true,
        "template": {
         "data": {
          "bar": [
           {
            "error_x": {
             "color": "#2a3f5f"
            },
            "error_y": {
             "color": "#2a3f5f"
            },
            "marker": {
             "line": {
              "color": "#E5ECF6",
              "width": 0.5
             },
             "pattern": {
              "fillmode": "overlay",
              "size": 10,
              "solidity": 0.2
             }
            },
            "type": "bar"
           }
          ],
          "barpolar": [
           {
            "marker": {
             "line": {
              "color": "#E5ECF6",
              "width": 0.5
             },
             "pattern": {
              "fillmode": "overlay",
              "size": 10,
              "solidity": 0.2
             }
            },
            "type": "barpolar"
           }
          ],
          "carpet": [
           {
            "aaxis": {
             "endlinecolor": "#2a3f5f",
             "gridcolor": "white",
             "linecolor": "white",
             "minorgridcolor": "white",
             "startlinecolor": "#2a3f5f"
            },
            "baxis": {
             "endlinecolor": "#2a3f5f",
             "gridcolor": "white",
             "linecolor": "white",
             "minorgridcolor": "white",
             "startlinecolor": "#2a3f5f"
            },
            "type": "carpet"
           }
          ],
          "choropleth": [
           {
            "colorbar": {
             "outlinewidth": 0,
             "ticks": ""
            },
            "type": "choropleth"
           }
          ],
          "contour": [
           {
            "colorbar": {
             "outlinewidth": 0,
             "ticks": ""
            },
            "colorscale": [
             [
              0,
              "#0d0887"
             ],
             [
              0.1111111111111111,
              "#46039f"
             ],
             [
              0.2222222222222222,
              "#7201a8"
             ],
             [
              0.3333333333333333,
              "#9c179e"
             ],
             [
              0.4444444444444444,
              "#bd3786"
             ],
             [
              0.5555555555555556,
              "#d8576b"
             ],
             [
              0.6666666666666666,
              "#ed7953"
             ],
             [
              0.7777777777777778,
              "#fb9f3a"
             ],
             [
              0.8888888888888888,
              "#fdca26"
             ],
             [
              1,
              "#f0f921"
             ]
            ],
            "type": "contour"
           }
          ],
          "contourcarpet": [
           {
            "colorbar": {
             "outlinewidth": 0,
             "ticks": ""
            },
            "type": "contourcarpet"
           }
          ],
          "heatmap": [
           {
            "colorbar": {
             "outlinewidth": 0,
             "ticks": ""
            },
            "colorscale": [
             [
              0,
              "#0d0887"
             ],
             [
              0.1111111111111111,
              "#46039f"
             ],
             [
              0.2222222222222222,
              "#7201a8"
             ],
             [
              0.3333333333333333,
              "#9c179e"
             ],
             [
              0.4444444444444444,
              "#bd3786"
             ],
             [
              0.5555555555555556,
              "#d8576b"
             ],
             [
              0.6666666666666666,
              "#ed7953"
             ],
             [
              0.7777777777777778,
              "#fb9f3a"
             ],
             [
              0.8888888888888888,
              "#fdca26"
             ],
             [
              1,
              "#f0f921"
             ]
            ],
            "type": "heatmap"
           }
          ],
          "heatmapgl": [
           {
            "colorbar": {
             "outlinewidth": 0,
             "ticks": ""
            },
            "colorscale": [
             [
              0,
              "#0d0887"
             ],
             [
              0.1111111111111111,
              "#46039f"
             ],
             [
              0.2222222222222222,
              "#7201a8"
             ],
             [
              0.3333333333333333,
              "#9c179e"
             ],
             [
              0.4444444444444444,
              "#bd3786"
             ],
             [
              0.5555555555555556,
              "#d8576b"
             ],
             [
              0.6666666666666666,
              "#ed7953"
             ],
             [
              0.7777777777777778,
              "#fb9f3a"
             ],
             [
              0.8888888888888888,
              "#fdca26"
             ],
             [
              1,
              "#f0f921"
             ]
            ],
            "type": "heatmapgl"
           }
          ],
          "histogram": [
           {
            "marker": {
             "pattern": {
              "fillmode": "overlay",
              "size": 10,
              "solidity": 0.2
             }
            },
            "type": "histogram"
           }
          ],
          "histogram2d": [
           {
            "colorbar": {
             "outlinewidth": 0,
             "ticks": ""
            },
            "colorscale": [
             [
              0,
              "#0d0887"
             ],
             [
              0.1111111111111111,
              "#46039f"
             ],
             [
              0.2222222222222222,
              "#7201a8"
             ],
             [
              0.3333333333333333,
              "#9c179e"
             ],
             [
              0.4444444444444444,
              "#bd3786"
             ],
             [
              0.5555555555555556,
              "#d8576b"
             ],
             [
              0.6666666666666666,
              "#ed7953"
             ],
             [
              0.7777777777777778,
              "#fb9f3a"
             ],
             [
              0.8888888888888888,
              "#fdca26"
             ],
             [
              1,
              "#f0f921"
             ]
            ],
            "type": "histogram2d"
           }
          ],
          "histogram2dcontour": [
           {
            "colorbar": {
             "outlinewidth": 0,
             "ticks": ""
            },
            "colorscale": [
             [
              0,
              "#0d0887"
             ],
             [
              0.1111111111111111,
              "#46039f"
             ],
             [
              0.2222222222222222,
              "#7201a8"
             ],
             [
              0.3333333333333333,
              "#9c179e"
             ],
             [
              0.4444444444444444,
              "#bd3786"
             ],
             [
              0.5555555555555556,
              "#d8576b"
             ],
             [
              0.6666666666666666,
              "#ed7953"
             ],
             [
              0.7777777777777778,
              "#fb9f3a"
             ],
             [
              0.8888888888888888,
              "#fdca26"
             ],
             [
              1,
              "#f0f921"
             ]
            ],
            "type": "histogram2dcontour"
           }
          ],
          "mesh3d": [
           {
            "colorbar": {
             "outlinewidth": 0,
             "ticks": ""
            },
            "type": "mesh3d"
           }
          ],
          "parcoords": [
           {
            "line": {
             "colorbar": {
              "outlinewidth": 0,
              "ticks": ""
             }
            },
            "type": "parcoords"
           }
          ],
          "pie": [
           {
            "automargin": true,
            "type": "pie"
           }
          ],
          "scatter": [
           {
            "marker": {
             "colorbar": {
              "outlinewidth": 0,
              "ticks": ""
             }
            },
            "type": "scatter"
           }
          ],
          "scatter3d": [
           {
            "line": {
             "colorbar": {
              "outlinewidth": 0,
              "ticks": ""
             }
            },
            "marker": {
             "colorbar": {
              "outlinewidth": 0,
              "ticks": ""
             }
            },
            "type": "scatter3d"
           }
          ],
          "scattercarpet": [
           {
            "marker": {
             "colorbar": {
              "outlinewidth": 0,
              "ticks": ""
             }
            },
            "type": "scattercarpet"
           }
          ],
          "scattergeo": [
           {
            "marker": {
             "colorbar": {
              "outlinewidth": 0,
              "ticks": ""
             }
            },
            "type": "scattergeo"
           }
          ],
          "scattergl": [
           {
            "marker": {
             "colorbar": {
              "outlinewidth": 0,
              "ticks": ""
             }
            },
            "type": "scattergl"
           }
          ],
          "scattermapbox": [
           {
            "marker": {
             "colorbar": {
              "outlinewidth": 0,
              "ticks": ""
             }
            },
            "type": "scattermapbox"
           }
          ],
          "scatterpolar": [
           {
            "marker": {
             "colorbar": {
              "outlinewidth": 0,
              "ticks": ""
             }
            },
            "type": "scatterpolar"
           }
          ],
          "scatterpolargl": [
           {
            "marker": {
             "colorbar": {
              "outlinewidth": 0,
              "ticks": ""
             }
            },
            "type": "scatterpolargl"
           }
          ],
          "scatterternary": [
           {
            "marker": {
             "colorbar": {
              "outlinewidth": 0,
              "ticks": ""
             }
            },
            "type": "scatterternary"
           }
          ],
          "surface": [
           {
            "colorbar": {
             "outlinewidth": 0,
             "ticks": ""
            },
            "colorscale": [
             [
              0,
              "#0d0887"
             ],
             [
              0.1111111111111111,
              "#46039f"
             ],
             [
              0.2222222222222222,
              "#7201a8"
             ],
             [
              0.3333333333333333,
              "#9c179e"
             ],
             [
              0.4444444444444444,
              "#bd3786"
             ],
             [
              0.5555555555555556,
              "#d8576b"
             ],
             [
              0.6666666666666666,
              "#ed7953"
             ],
             [
              0.7777777777777778,
              "#fb9f3a"
             ],
             [
              0.8888888888888888,
              "#fdca26"
             ],
             [
              1,
              "#f0f921"
             ]
            ],
            "type": "surface"
           }
          ],
          "table": [
           {
            "cells": {
             "fill": {
              "color": "#EBF0F8"
             },
             "line": {
              "color": "white"
             }
            },
            "header": {
             "fill": {
              "color": "#C8D4E3"
             },
             "line": {
              "color": "white"
             }
            },
            "type": "table"
           }
          ]
         },
         "layout": {
          "annotationdefaults": {
           "arrowcolor": "#2a3f5f",
           "arrowhead": 0,
           "arrowwidth": 1
          },
          "autotypenumbers": "strict",
          "coloraxis": {
           "colorbar": {
            "outlinewidth": 0,
            "ticks": ""
           }
          },
          "colorscale": {
           "diverging": [
            [
             0,
             "#8e0152"
            ],
            [
             0.1,
             "#c51b7d"
            ],
            [
             0.2,
             "#de77ae"
            ],
            [
             0.3,
             "#f1b6da"
            ],
            [
             0.4,
             "#fde0ef"
            ],
            [
             0.5,
             "#f7f7f7"
            ],
            [
             0.6,
             "#e6f5d0"
            ],
            [
             0.7,
             "#b8e186"
            ],
            [
             0.8,
             "#7fbc41"
            ],
            [
             0.9,
             "#4d9221"
            ],
            [
             1,
             "#276419"
            ]
           ],
           "sequential": [
            [
             0,
             "#0d0887"
            ],
            [
             0.1111111111111111,
             "#46039f"
            ],
            [
             0.2222222222222222,
             "#7201a8"
            ],
            [
             0.3333333333333333,
             "#9c179e"
            ],
            [
             0.4444444444444444,
             "#bd3786"
            ],
            [
             0.5555555555555556,
             "#d8576b"
            ],
            [
             0.6666666666666666,
             "#ed7953"
            ],
            [
             0.7777777777777778,
             "#fb9f3a"
            ],
            [
             0.8888888888888888,
             "#fdca26"
            ],
            [
             1,
             "#f0f921"
            ]
           ],
           "sequentialminus": [
            [
             0,
             "#0d0887"
            ],
            [
             0.1111111111111111,
             "#46039f"
            ],
            [
             0.2222222222222222,
             "#7201a8"
            ],
            [
             0.3333333333333333,
             "#9c179e"
            ],
            [
             0.4444444444444444,
             "#bd3786"
            ],
            [
             0.5555555555555556,
             "#d8576b"
            ],
            [
             0.6666666666666666,
             "#ed7953"
            ],
            [
             0.7777777777777778,
             "#fb9f3a"
            ],
            [
             0.8888888888888888,
             "#fdca26"
            ],
            [
             1,
             "#f0f921"
            ]
           ]
          },
          "colorway": [
           "#636efa",
           "#EF553B",
           "#00cc96",
           "#ab63fa",
           "#FFA15A",
           "#19d3f3",
           "#FF6692",
           "#B6E880",
           "#FF97FF",
           "#FECB52"
          ],
          "font": {
           "color": "#2a3f5f"
          },
          "geo": {
           "bgcolor": "white",
           "lakecolor": "white",
           "landcolor": "#E5ECF6",
           "showlakes": true,
           "showland": true,
           "subunitcolor": "white"
          },
          "hoverlabel": {
           "align": "left"
          },
          "hovermode": "closest",
          "mapbox": {
           "style": "light"
          },
          "paper_bgcolor": "white",
          "plot_bgcolor": "#E5ECF6",
          "polar": {
           "angularaxis": {
            "gridcolor": "white",
            "linecolor": "white",
            "ticks": ""
           },
           "bgcolor": "#E5ECF6",
           "radialaxis": {
            "gridcolor": "white",
            "linecolor": "white",
            "ticks": ""
           }
          },
          "scene": {
           "xaxis": {
            "backgroundcolor": "#E5ECF6",
            "gridcolor": "white",
            "gridwidth": 2,
            "linecolor": "white",
            "showbackground": true,
            "ticks": "",
            "zerolinecolor": "white"
           },
           "yaxis": {
            "backgroundcolor": "#E5ECF6",
            "gridcolor": "white",
            "gridwidth": 2,
            "linecolor": "white",
            "showbackground": true,
            "ticks": "",
            "zerolinecolor": "white"
           },
           "zaxis": {
            "backgroundcolor": "#E5ECF6",
            "gridcolor": "white",
            "gridwidth": 2,
            "linecolor": "white",
            "showbackground": true,
            "ticks": "",
            "zerolinecolor": "white"
           }
          },
          "shapedefaults": {
           "line": {
            "color": "#2a3f5f"
           }
          },
          "ternary": {
           "aaxis": {
            "gridcolor": "white",
            "linecolor": "white",
            "ticks": ""
           },
           "baxis": {
            "gridcolor": "white",
            "linecolor": "white",
            "ticks": ""
           },
           "bgcolor": "#E5ECF6",
           "caxis": {
            "gridcolor": "white",
            "linecolor": "white",
            "ticks": ""
           }
          },
          "title": {
           "x": 0.05
          },
          "xaxis": {
           "automargin": true,
           "gridcolor": "white",
           "linecolor": "white",
           "ticks": "",
           "title": {
            "standoff": 15
           },
           "zerolinecolor": "white",
           "zerolinewidth": 2
          },
          "yaxis": {
           "automargin": true,
           "gridcolor": "white",
           "linecolor": "white",
           "ticks": "",
           "title": {
            "standoff": 15
           },
           "zerolinecolor": "white",
           "zerolinewidth": 2
          }
         }
        },
        "title": {
         "text": "Evolución de los Salarios Unitarios por Año en Cada Comunidad Autónoma y Sector"
        },
        "xaxis": {
         "anchor": "y",
         "domain": [
          0,
          0.235
         ],
         "title": {
          "text": "Año"
         }
        },
        "xaxis10": {
         "anchor": "y10",
         "domain": [
          0.255,
          0.49
         ],
         "matches": "x",
         "showticklabels": false
        },
        "xaxis11": {
         "anchor": "y11",
         "domain": [
          0.51,
          0.745
         ],
         "matches": "x",
         "showticklabels": false
        },
        "xaxis12": {
         "anchor": "y12",
         "domain": [
          0.7649999999999999,
          0.9999999999999999
         ],
         "matches": "x",
         "showticklabels": false
        },
        "xaxis13": {
         "anchor": "y13",
         "domain": [
          0,
          0.235
         ],
         "matches": "x",
         "showticklabels": false
        },
        "xaxis14": {
         "anchor": "y14",
         "domain": [
          0.255,
          0.49
         ],
         "matches": "x",
         "showticklabels": false
        },
        "xaxis15": {
         "anchor": "y15",
         "domain": [
          0.51,
          0.745
         ],
         "matches": "x",
         "showticklabels": false
        },
        "xaxis16": {
         "anchor": "y16",
         "domain": [
          0.7649999999999999,
          0.9999999999999999
         ],
         "matches": "x",
         "showticklabels": false
        },
        "xaxis17": {
         "anchor": "y17",
         "domain": [
          0,
          0.235
         ],
         "matches": "x",
         "showticklabels": false
        },
        "xaxis18": {
         "anchor": "y18",
         "domain": [
          0.255,
          0.49
         ],
         "matches": "x",
         "showticklabels": false
        },
        "xaxis19": {
         "anchor": "y19",
         "domain": [
          0.51,
          0.745
         ],
         "matches": "x",
         "showticklabels": false
        },
        "xaxis2": {
         "anchor": "y2",
         "domain": [
          0.255,
          0.49
         ],
         "matches": "x",
         "title": {
          "text": "Año"
         }
        },
        "xaxis20": {
         "anchor": "y20",
         "domain": [
          0.7649999999999999,
          0.9999999999999999
         ],
         "matches": "x",
         "showticklabels": false
        },
        "xaxis3": {
         "anchor": "y3",
         "domain": [
          0.51,
          0.745
         ],
         "matches": "x",
         "title": {
          "text": "Año"
         }
        },
        "xaxis4": {
         "anchor": "y4",
         "domain": [
          0.7649999999999999,
          0.9999999999999999
         ],
         "matches": "x",
         "title": {
          "text": "Año"
         }
        },
        "xaxis5": {
         "anchor": "y5",
         "domain": [
          0,
          0.235
         ],
         "matches": "x",
         "showticklabels": false
        },
        "xaxis6": {
         "anchor": "y6",
         "domain": [
          0.255,
          0.49
         ],
         "matches": "x",
         "showticklabels": false
        },
        "xaxis7": {
         "anchor": "y7",
         "domain": [
          0.51,
          0.745
         ],
         "matches": "x",
         "showticklabels": false
        },
        "xaxis8": {
         "anchor": "y8",
         "domain": [
          0.7649999999999999,
          0.9999999999999999
         ],
         "matches": "x",
         "showticklabels": false
        },
        "xaxis9": {
         "anchor": "y9",
         "domain": [
          0,
          0.235
         ],
         "matches": "x",
         "showticklabels": false
        },
        "yaxis": {
         "anchor": "x",
         "domain": [
          0,
          0.144
         ],
         "title": {
          "text": "Salario Unitario (€)"
         }
        },
        "yaxis10": {
         "anchor": "x10",
         "domain": [
          0.428,
          0.572
         ],
         "matches": "y",
         "showticklabels": false
        },
        "yaxis11": {
         "anchor": "x11",
         "domain": [
          0.428,
          0.572
         ],
         "matches": "y",
         "showticklabels": false
        },
        "yaxis12": {
         "anchor": "x12",
         "domain": [
          0.428,
          0.572
         ],
         "matches": "y",
         "showticklabels": false
        },
        "yaxis13": {
         "anchor": "x13",
         "domain": [
          0.6419999999999999,
          0.7859999999999999
         ],
         "matches": "y",
         "title": {
          "text": "Salario Unitario (€)"
         }
        },
        "yaxis14": {
         "anchor": "x14",
         "domain": [
          0.6419999999999999,
          0.7859999999999999
         ],
         "matches": "y",
         "showticklabels": false
        },
        "yaxis15": {
         "anchor": "x15",
         "domain": [
          0.6419999999999999,
          0.7859999999999999
         ],
         "matches": "y",
         "showticklabels": false
        },
        "yaxis16": {
         "anchor": "x16",
         "domain": [
          0.6419999999999999,
          0.7859999999999999
         ],
         "matches": "y",
         "showticklabels": false
        },
        "yaxis17": {
         "anchor": "x17",
         "domain": [
          0.856,
          1
         ],
         "matches": "y",
         "title": {
          "text": "Salario Unitario (€)"
         }
        },
        "yaxis18": {
         "anchor": "x18",
         "domain": [
          0.856,
          1
         ],
         "matches": "y",
         "showticklabels": false
        },
        "yaxis19": {
         "anchor": "x19",
         "domain": [
          0.856,
          1
         ],
         "matches": "y",
         "showticklabels": false
        },
        "yaxis2": {
         "anchor": "x2",
         "domain": [
          0,
          0.144
         ],
         "matches": "y",
         "showticklabels": false
        },
        "yaxis20": {
         "anchor": "x20",
         "domain": [
          0.856,
          1
         ],
         "matches": "y",
         "showticklabels": false
        },
        "yaxis3": {
         "anchor": "x3",
         "domain": [
          0,
          0.144
         ],
         "matches": "y",
         "showticklabels": false
        },
        "yaxis4": {
         "anchor": "x4",
         "domain": [
          0,
          0.144
         ],
         "matches": "y",
         "showticklabels": false
        },
        "yaxis5": {
         "anchor": "x5",
         "domain": [
          0.214,
          0.358
         ],
         "matches": "y",
         "title": {
          "text": "Salario Unitario (€)"
         }
        },
        "yaxis6": {
         "anchor": "x6",
         "domain": [
          0.214,
          0.358
         ],
         "matches": "y",
         "showticklabels": false
        },
        "yaxis7": {
         "anchor": "x7",
         "domain": [
          0.214,
          0.358
         ],
         "matches": "y",
         "showticklabels": false
        },
        "yaxis8": {
         "anchor": "x8",
         "domain": [
          0.214,
          0.358
         ],
         "matches": "y",
         "showticklabels": false
        },
        "yaxis9": {
         "anchor": "x9",
         "domain": [
          0.428,
          0.572
         ],
         "matches": "y",
         "title": {
          "text": "Salario Unitario (€)"
         }
        }
       }
      }
     },
     "metadata": {},
     "output_type": "display_data"
    }
   ],
   "source": [
    "\n",
    "\n",
    "# Filtrar los datos para las columnas relevantes\n",
    "df_salarios = df_poblacion[['AÑO', 'Comunidad autónoma', 'Sector', 'Sueldos y salarios unitarios']]\n",
    "\n",
    "# Crear gráfico de líneas con facetas para cada comunidad autónoma\n",
    "fig = px.line(df_salarios, x='AÑO', y='Sueldos y salarios unitarios',\n",
    "              color='Sector',  # Diferenciar sectores por color dentro de cada comunidad\n",
    "              facet_col='Comunidad autónoma', facet_col_wrap=4,  # Crear una faceta por comunidad, con 4 facetas por fila\n",
    "              title=\"Evolución de los Salarios Unitarios por Año en Cada Comunidad Autónoma y Sector\",\n",
    "              labels={'AÑO': 'Año', 'Sueldos y salarios unitarios': 'Salario Unitario (€)'},\n",
    "              markers=True,\n",
    "              color_discrete_sequence=custom_palette)  # Usar paleta de colores personalizada\n",
    "\n",
    "# Ajustar el diseño\n",
    "fig.update_layout(height=800, showlegend=True)  # Ajusta la altura y asegura que se muestre la leyenda\n",
    "\n",
    "# Opcional: Ajustar el tamaño de la leyenda y las etiquetas de los ejes\n",
    "fig.for_each_annotation(lambda a: a.update(text=a.text.split(\"=\")[-1]))  # Simplifica los títulos de cada faceta\n",
    "\n",
    "fig.show()\n",
    "\n"
   ]
  },
  {
   "cell_type": "code",
   "execution_count": 36,
   "metadata": {},
   "outputs": [
    {
     "data": {
      "application/vnd.plotly.v1+json": {
       "config": {
        "plotlyServerURL": "https://plot.ly"
       },
       "data": [
        {
         "hovertemplate": "Sector=Industria<br>Comunidad autónoma=Andalucía<br>Gasto en Transporte Unitario (€)=%{x}<br>Salario Unitario (€)=%{y}<extra></extra>",
         "legendgroup": "Industria",
         "marker": {
          "color": "#F4D2CE",
          "size": 12,
          "symbol": "circle"
         },
         "mode": "markers",
         "name": "Industria",
         "orientation": "v",
         "showlegend": true,
         "type": "scatter",
         "x": [
          22.59
         ],
         "xaxis": "x17",
         "y": [
          25915.32
         ],
         "yaxis": "y17"
        },
        {
         "hovertemplate": "Sector=Industria<br>Comunidad autónoma=Aragón<br>Gasto en Transporte Unitario (€)=%{x}<br>Salario Unitario (€)=%{y}<extra></extra>",
         "legendgroup": "Industria",
         "marker": {
          "color": "#F4D2CE",
          "size": 12,
          "symbol": "circle"
         },
         "mode": "markers",
         "name": "Industria",
         "orientation": "v",
         "showlegend": false,
         "type": "scatter",
         "x": [
          99.52
         ],
         "xaxis": "x18",
         "y": [
          29172.17
         ],
         "yaxis": "y18"
        },
        {
         "hovertemplate": "Sector=Industria<br>Comunidad autónoma=Asturias, Principado de<br>Gasto en Transporte Unitario (€)=%{x}<br>Salario Unitario (€)=%{y}<extra></extra>",
         "legendgroup": "Industria",
         "marker": {
          "color": "#F4D2CE",
          "size": 12,
          "symbol": "circle"
         },
         "mode": "markers",
         "name": "Industria",
         "orientation": "v",
         "showlegend": false,
         "type": "scatter",
         "x": [
          3.3
         ],
         "xaxis": "x19",
         "y": [
          32223.21
         ],
         "yaxis": "y19"
        },
        {
         "hovertemplate": "Sector=Industria<br>Comunidad autónoma=Balears, Illes<br>Gasto en Transporte Unitario (€)=%{x}<br>Salario Unitario (€)=%{y}<extra></extra>",
         "legendgroup": "Industria",
         "marker": {
          "color": "#F4D2CE",
          "size": 12,
          "symbol": "circle"
         },
         "mode": "markers",
         "name": "Industria",
         "orientation": "v",
         "showlegend": false,
         "type": "scatter",
         "x": [
          0.67
         ],
         "xaxis": "x20",
         "y": [
          26903.28
         ],
         "yaxis": "y20"
        },
        {
         "hovertemplate": "Sector=Industria<br>Comunidad autónoma=Canarias<br>Gasto en Transporte Unitario (€)=%{x}<br>Salario Unitario (€)=%{y}<extra></extra>",
         "legendgroup": "Industria",
         "marker": {
          "color": "#F4D2CE",
          "size": 12,
          "symbol": "circle"
         },
         "mode": "markers",
         "name": "Industria",
         "orientation": "v",
         "showlegend": false,
         "type": "scatter",
         "x": [
          0.42
         ],
         "xaxis": "x13",
         "y": [
          23752.1
         ],
         "yaxis": "y13"
        },
        {
         "hovertemplate": "Sector=Industria<br>Comunidad autónoma=Cantabria<br>Gasto en Transporte Unitario (€)=%{x}<br>Salario Unitario (€)=%{y}<extra></extra>",
         "legendgroup": "Industria",
         "marker": {
          "color": "#F4D2CE",
          "size": 12,
          "symbol": "circle"
         },
         "mode": "markers",
         "name": "Industria",
         "orientation": "v",
         "showlegend": false,
         "type": "scatter",
         "x": [
          24.35
         ],
         "xaxis": "x14",
         "y": [
          29546.37
         ],
         "yaxis": "y14"
        },
        {
         "hovertemplate": "Sector=Industria<br>Comunidad autónoma=Castilla - La Mancha<br>Gasto en Transporte Unitario (€)=%{x}<br>Salario Unitario (€)=%{y}<extra></extra>",
         "legendgroup": "Industria",
         "marker": {
          "color": "#F4D2CE",
          "size": 12,
          "symbol": "circle"
         },
         "mode": "markers",
         "name": "Industria",
         "orientation": "v",
         "showlegend": false,
         "type": "scatter",
         "x": [
          22.14
         ],
         "xaxis": "x15",
         "y": [
          25675.14
         ],
         "yaxis": "y15"
        },
        {
         "hovertemplate": "Sector=Industria<br>Comunidad autónoma=Castilla y León<br>Gasto en Transporte Unitario (€)=%{x}<br>Salario Unitario (€)=%{y}<extra></extra>",
         "legendgroup": "Industria",
         "marker": {
          "color": "#F4D2CE",
          "size": 12,
          "symbol": "circle"
         },
         "mode": "markers",
         "name": "Industria",
         "orientation": "v",
         "showlegend": false,
         "type": "scatter",
         "x": [
          48.03
         ],
         "xaxis": "x16",
         "y": [
          28539.91
         ],
         "yaxis": "y16"
        },
        {
         "hovertemplate": "Sector=Industria<br>Comunidad autónoma=Cataluña<br>Gasto en Transporte Unitario (€)=%{x}<br>Salario Unitario (€)=%{y}<extra></extra>",
         "legendgroup": "Industria",
         "marker": {
          "color": "#F4D2CE",
          "size": 12,
          "symbol": "circle"
         },
         "mode": "markers",
         "name": "Industria",
         "orientation": "v",
         "showlegend": false,
         "type": "scatter",
         "x": [
          31.1
         ],
         "xaxis": "x9",
         "y": [
          33983.83
         ],
         "yaxis": "y9"
        },
        {
         "hovertemplate": "Sector=Industria<br>Comunidad autónoma=Comunitat Valenciana<br>Gasto en Transporte Unitario (€)=%{x}<br>Salario Unitario (€)=%{y}<extra></extra>",
         "legendgroup": "Industria",
         "marker": {
          "color": "#F4D2CE",
          "size": 12,
          "symbol": "circle"
         },
         "mode": "markers",
         "name": "Industria",
         "orientation": "v",
         "showlegend": false,
         "type": "scatter",
         "x": [
          17.59
         ],
         "xaxis": "x10",
         "y": [
          25872.07
         ],
         "yaxis": "y10"
        },
        {
         "hovertemplate": "Sector=Industria<br>Comunidad autónoma=Extremadura<br>Gasto en Transporte Unitario (€)=%{x}<br>Salario Unitario (€)=%{y}<extra></extra>",
         "legendgroup": "Industria",
         "marker": {
          "color": "#F4D2CE",
          "size": 12,
          "symbol": "circle"
         },
         "mode": "markers",
         "name": "Industria",
         "orientation": "v",
         "showlegend": false,
         "type": "scatter",
         "x": [
          10.3
         ],
         "xaxis": "x11",
         "y": [
          23124.4
         ],
         "yaxis": "y11"
        },
        {
         "hovertemplate": "Sector=Industria<br>Comunidad autónoma=Galicia<br>Gasto en Transporte Unitario (€)=%{x}<br>Salario Unitario (€)=%{y}<extra></extra>",
         "legendgroup": "Industria",
         "marker": {
          "color": "#F4D2CE",
          "size": 12,
          "symbol": "circle"
         },
         "mode": "markers",
         "name": "Industria",
         "orientation": "v",
         "showlegend": false,
         "type": "scatter",
         "x": [
          23.12
         ],
         "xaxis": "x12",
         "y": [
          27624.74
         ],
         "yaxis": "y12"
        },
        {
         "hovertemplate": "Sector=Industria<br>Comunidad autónoma=Madrid, Comunidad de<br>Gasto en Transporte Unitario (€)=%{x}<br>Salario Unitario (€)=%{y}<extra></extra>",
         "legendgroup": "Industria",
         "marker": {
          "color": "#F4D2CE",
          "size": 12,
          "symbol": "circle"
         },
         "mode": "markers",
         "name": "Industria",
         "orientation": "v",
         "showlegend": false,
         "type": "scatter",
         "x": [
          43.25
         ],
         "xaxis": "x5",
         "y": [
          38956.81
         ],
         "yaxis": "y5"
        },
        {
         "hovertemplate": "Sector=Industria<br>Comunidad autónoma=Murcia, Región de<br>Gasto en Transporte Unitario (€)=%{x}<br>Salario Unitario (€)=%{y}<extra></extra>",
         "legendgroup": "Industria",
         "marker": {
          "color": "#F4D2CE",
          "size": 12,
          "symbol": "circle"
         },
         "mode": "markers",
         "name": "Industria",
         "orientation": "v",
         "showlegend": false,
         "type": "scatter",
         "x": [
          1.66
         ],
         "xaxis": "x6",
         "y": [
          24779.69
         ],
         "yaxis": "y6"
        },
        {
         "hovertemplate": "Sector=Industria<br>Comunidad autónoma=Navarra, Comunidad Foral de<br>Gasto en Transporte Unitario (€)=%{x}<br>Salario Unitario (€)=%{y}<extra></extra>",
         "legendgroup": "Industria",
         "marker": {
          "color": "#F4D2CE",
          "size": 12,
          "symbol": "circle"
         },
         "mode": "markers",
         "name": "Industria",
         "orientation": "v",
         "showlegend": false,
         "type": "scatter",
         "x": [
          25.64
         ],
         "xaxis": "x7",
         "y": [
          32330.71
         ],
         "yaxis": "y7"
        },
        {
         "hovertemplate": "Sector=Industria<br>Comunidad autónoma=País Vasco<br>Gasto en Transporte Unitario (€)=%{x}<br>Salario Unitario (€)=%{y}<extra></extra>",
         "legendgroup": "Industria",
         "marker": {
          "color": "#F4D2CE",
          "size": 12,
          "symbol": "circle"
         },
         "mode": "markers",
         "name": "Industria",
         "orientation": "v",
         "showlegend": false,
         "type": "scatter",
         "x": [
          53.34
         ],
         "xaxis": "x8",
         "y": [
          37495.69
         ],
         "yaxis": "y8"
        },
        {
         "hovertemplate": "Sector=Industria<br>Comunidad autónoma=Rioja, La<br>Gasto en Transporte Unitario (€)=%{x}<br>Salario Unitario (€)=%{y}<extra></extra>",
         "legendgroup": "Industria",
         "marker": {
          "color": "#F4D2CE",
          "size": 12,
          "symbol": "circle"
         },
         "mode": "markers",
         "name": "Industria",
         "orientation": "v",
         "showlegend": false,
         "type": "scatter",
         "x": [
          16.48
         ],
         "xaxis": "x",
         "y": [
          25845.14
         ],
         "yaxis": "y"
        },
        {
         "hovertemplate": "Sector=Construcción<br>Comunidad autónoma=Andalucía<br>Gasto en Transporte Unitario (€)=%{x}<br>Salario Unitario (€)=%{y}<extra></extra>",
         "legendgroup": "Construcción",
         "marker": {
          "color": "#E6AFA9",
          "size": 12,
          "symbol": "circle"
         },
         "mode": "markers",
         "name": "Construcción",
         "orientation": "v",
         "showlegend": true,
         "type": "scatter",
         "x": [
          13.38
         ],
         "xaxis": "x17",
         "y": [
          23315.53
         ],
         "yaxis": "y17"
        },
        {
         "hovertemplate": "Sector=Construcción<br>Comunidad autónoma=Aragón<br>Gasto en Transporte Unitario (€)=%{x}<br>Salario Unitario (€)=%{y}<extra></extra>",
         "legendgroup": "Construcción",
         "marker": {
          "color": "#E6AFA9",
          "size": 12,
          "symbol": "circle"
         },
         "mode": "markers",
         "name": "Construcción",
         "orientation": "v",
         "showlegend": false,
         "type": "scatter",
         "x": [
          10.28
         ],
         "xaxis": "x18",
         "y": [
          27526.41
         ],
         "yaxis": "y18"
        },
        {
         "hovertemplate": "Sector=Construcción<br>Comunidad autónoma=Asturias, Principado de<br>Gasto en Transporte Unitario (€)=%{x}<br>Salario Unitario (€)=%{y}<extra></extra>",
         "legendgroup": "Construcción",
         "marker": {
          "color": "#E6AFA9",
          "size": 12,
          "symbol": "circle"
         },
         "mode": "markers",
         "name": "Construcción",
         "orientation": "v",
         "showlegend": false,
         "type": "scatter",
         "x": [
          34.36
         ],
         "xaxis": "x19",
         "y": [
          27014.76
         ],
         "yaxis": "y19"
        },
        {
         "hovertemplate": "Sector=Construcción<br>Comunidad autónoma=Balears, Illes<br>Gasto en Transporte Unitario (€)=%{x}<br>Salario Unitario (€)=%{y}<extra></extra>",
         "legendgroup": "Construcción",
         "marker": {
          "color": "#E6AFA9",
          "size": 12,
          "symbol": "circle"
         },
         "mode": "markers",
         "name": "Construcción",
         "orientation": "v",
         "showlegend": false,
         "type": "scatter",
         "x": [
          0
         ],
         "xaxis": "x20",
         "y": [
          24755.5
         ],
         "yaxis": "y20"
        },
        {
         "hovertemplate": "Sector=Construcción<br>Comunidad autónoma=Canarias<br>Gasto en Transporte Unitario (€)=%{x}<br>Salario Unitario (€)=%{y}<extra></extra>",
         "legendgroup": "Construcción",
         "marker": {
          "color": "#E6AFA9",
          "size": 12,
          "symbol": "circle"
         },
         "mode": "markers",
         "name": "Construcción",
         "orientation": "v",
         "showlegend": false,
         "type": "scatter",
         "x": [
          7.41
         ],
         "xaxis": "x13",
         "y": [
          21031.58
         ],
         "yaxis": "y13"
        },
        {
         "hovertemplate": "Sector=Construcción<br>Comunidad autónoma=Cantabria<br>Gasto en Transporte Unitario (€)=%{x}<br>Salario Unitario (€)=%{y}<extra></extra>",
         "legendgroup": "Construcción",
         "marker": {
          "color": "#E6AFA9",
          "size": 12,
          "symbol": "circle"
         },
         "mode": "markers",
         "name": "Construcción",
         "orientation": "v",
         "showlegend": false,
         "type": "scatter",
         "x": [
          12.95
         ],
         "xaxis": "x14",
         "y": [
          24007.71
         ],
         "yaxis": "y14"
        },
        {
         "hovertemplate": "Sector=Construcción<br>Comunidad autónoma=Castilla - La Mancha<br>Gasto en Transporte Unitario (€)=%{x}<br>Salario Unitario (€)=%{y}<extra></extra>",
         "legendgroup": "Construcción",
         "marker": {
          "color": "#E6AFA9",
          "size": 12,
          "symbol": "circle"
         },
         "mode": "markers",
         "name": "Construcción",
         "orientation": "v",
         "showlegend": false,
         "type": "scatter",
         "x": [
          31.72
         ],
         "xaxis": "x15",
         "y": [
          22445.58
         ],
         "yaxis": "y15"
        },
        {
         "hovertemplate": "Sector=Construcción<br>Comunidad autónoma=Castilla y León<br>Gasto en Transporte Unitario (€)=%{x}<br>Salario Unitario (€)=%{y}<extra></extra>",
         "legendgroup": "Construcción",
         "marker": {
          "color": "#E6AFA9",
          "size": 12,
          "symbol": "circle"
         },
         "mode": "markers",
         "name": "Construcción",
         "orientation": "v",
         "showlegend": false,
         "type": "scatter",
         "x": [
          8.39
         ],
         "xaxis": "x16",
         "y": [
          22888.17
         ],
         "yaxis": "y16"
        },
        {
         "hovertemplate": "Sector=Construcción<br>Comunidad autónoma=Cataluña<br>Gasto en Transporte Unitario (€)=%{x}<br>Salario Unitario (€)=%{y}<extra></extra>",
         "legendgroup": "Construcción",
         "marker": {
          "color": "#E6AFA9",
          "size": 12,
          "symbol": "circle"
         },
         "mode": "markers",
         "name": "Construcción",
         "orientation": "v",
         "showlegend": false,
         "type": "scatter",
         "x": [
          13.79
         ],
         "xaxis": "x9",
         "y": [
          30052.92
         ],
         "yaxis": "y9"
        },
        {
         "hovertemplate": "Sector=Construcción<br>Comunidad autónoma=Comunitat Valenciana<br>Gasto en Transporte Unitario (€)=%{x}<br>Salario Unitario (€)=%{y}<extra></extra>",
         "legendgroup": "Construcción",
         "marker": {
          "color": "#E6AFA9",
          "size": 12,
          "symbol": "circle"
         },
         "mode": "markers",
         "name": "Construcción",
         "orientation": "v",
         "showlegend": false,
         "type": "scatter",
         "x": [
          79.77
         ],
         "xaxis": "x10",
         "y": [
          22530.66
         ],
         "yaxis": "y10"
        },
        {
         "hovertemplate": "Sector=Construcción<br>Comunidad autónoma=Extremadura<br>Gasto en Transporte Unitario (€)=%{x}<br>Salario Unitario (€)=%{y}<extra></extra>",
         "legendgroup": "Construcción",
         "marker": {
          "color": "#E6AFA9",
          "size": 12,
          "symbol": "circle"
         },
         "mode": "markers",
         "name": "Construcción",
         "orientation": "v",
         "showlegend": false,
         "type": "scatter",
         "x": [
          43.25
         ],
         "xaxis": "x11",
         "y": [
          19978.83
         ],
         "yaxis": "y11"
        },
        {
         "hovertemplate": "Sector=Construcción<br>Comunidad autónoma=Galicia<br>Gasto en Transporte Unitario (€)=%{x}<br>Salario Unitario (€)=%{y}<extra></extra>",
         "legendgroup": "Construcción",
         "marker": {
          "color": "#E6AFA9",
          "size": 12,
          "symbol": "circle"
         },
         "mode": "markers",
         "name": "Construcción",
         "orientation": "v",
         "showlegend": false,
         "type": "scatter",
         "x": [
          11.16
         ],
         "xaxis": "x12",
         "y": [
          24341.71
         ],
         "yaxis": "y12"
        },
        {
         "hovertemplate": "Sector=Construcción<br>Comunidad autónoma=Madrid, Comunidad de<br>Gasto en Transporte Unitario (€)=%{x}<br>Salario Unitario (€)=%{y}<extra></extra>",
         "legendgroup": "Construcción",
         "marker": {
          "color": "#E6AFA9",
          "size": 12,
          "symbol": "circle"
         },
         "mode": "markers",
         "name": "Construcción",
         "orientation": "v",
         "showlegend": false,
         "type": "scatter",
         "x": [
          2.1
         ],
         "xaxis": "x5",
         "y": [
          26929.62
         ],
         "yaxis": "y5"
        },
        {
         "hovertemplate": "Sector=Construcción<br>Comunidad autónoma=Murcia, Región de<br>Gasto en Transporte Unitario (€)=%{x}<br>Salario Unitario (€)=%{y}<extra></extra>",
         "legendgroup": "Construcción",
         "marker": {
          "color": "#E6AFA9",
          "size": 12,
          "symbol": "circle"
         },
         "mode": "markers",
         "name": "Construcción",
         "orientation": "v",
         "showlegend": false,
         "type": "scatter",
         "x": [
          1.21
         ],
         "xaxis": "x6",
         "y": [
          21965.11
         ],
         "yaxis": "y6"
        },
        {
         "hovertemplate": "Sector=Construcción<br>Comunidad autónoma=Navarra, Comunidad Foral de<br>Gasto en Transporte Unitario (€)=%{x}<br>Salario Unitario (€)=%{y}<extra></extra>",
         "legendgroup": "Construcción",
         "marker": {
          "color": "#E6AFA9",
          "size": 12,
          "symbol": "circle"
         },
         "mode": "markers",
         "name": "Construcción",
         "orientation": "v",
         "showlegend": false,
         "type": "scatter",
         "x": [
          6.42
         ],
         "xaxis": "x7",
         "y": [
          28687.85
         ],
         "yaxis": "y7"
        },
        {
         "hovertemplate": "Sector=Construcción<br>Comunidad autónoma=País Vasco<br>Gasto en Transporte Unitario (€)=%{x}<br>Salario Unitario (€)=%{y}<extra></extra>",
         "legendgroup": "Construcción",
         "marker": {
          "color": "#E6AFA9",
          "size": 12,
          "symbol": "circle"
         },
         "mode": "markers",
         "name": "Construcción",
         "orientation": "v",
         "showlegend": false,
         "type": "scatter",
         "x": [
          30.82
         ],
         "xaxis": "x8",
         "y": [
          29392.81
         ],
         "yaxis": "y8"
        },
        {
         "hovertemplate": "Sector=Construcción<br>Comunidad autónoma=Rioja, La<br>Gasto en Transporte Unitario (€)=%{x}<br>Salario Unitario (€)=%{y}<extra></extra>",
         "legendgroup": "Construcción",
         "marker": {
          "color": "#E6AFA9",
          "size": 12,
          "symbol": "circle"
         },
         "mode": "markers",
         "name": "Construcción",
         "orientation": "v",
         "showlegend": false,
         "type": "scatter",
         "x": [
          11.38
         ],
         "xaxis": "x",
         "y": [
          25321.95
         ],
         "yaxis": "y"
        },
        {
         "hovertemplate": "Sector=Servicios<br>Comunidad autónoma=Andalucía<br>Gasto en Transporte Unitario (€)=%{x}<br>Salario Unitario (€)=%{y}<extra></extra>",
         "legendgroup": "Servicios",
         "marker": {
          "color": "#C08C83",
          "size": 12,
          "symbol": "circle"
         },
         "mode": "markers",
         "name": "Servicios",
         "orientation": "v",
         "showlegend": true,
         "type": "scatter",
         "x": [
          3.01
         ],
         "xaxis": "x17",
         "y": [
          23090.31
         ],
         "yaxis": "y17"
        },
        {
         "hovertemplate": "Sector=Servicios<br>Comunidad autónoma=Aragón<br>Gasto en Transporte Unitario (€)=%{x}<br>Salario Unitario (€)=%{y}<extra></extra>",
         "legendgroup": "Servicios",
         "marker": {
          "color": "#C08C83",
          "size": 12,
          "symbol": "circle"
         },
         "mode": "markers",
         "name": "Servicios",
         "orientation": "v",
         "showlegend": false,
         "type": "scatter",
         "x": [
          4.17
         ],
         "xaxis": "x18",
         "y": [
          24359.48
         ],
         "yaxis": "y18"
        },
        {
         "hovertemplate": "Sector=Servicios<br>Comunidad autónoma=Asturias, Principado de<br>Gasto en Transporte Unitario (€)=%{x}<br>Salario Unitario (€)=%{y}<extra></extra>",
         "legendgroup": "Servicios",
         "marker": {
          "color": "#C08C83",
          "size": 12,
          "symbol": "circle"
         },
         "mode": "markers",
         "name": "Servicios",
         "orientation": "v",
         "showlegend": false,
         "type": "scatter",
         "x": [
          0.94
         ],
         "xaxis": "x19",
         "y": [
          24659.33
         ],
         "yaxis": "y19"
        },
        {
         "hovertemplate": "Sector=Servicios<br>Comunidad autónoma=Balears, Illes<br>Gasto en Transporte Unitario (€)=%{x}<br>Salario Unitario (€)=%{y}<extra></extra>",
         "legendgroup": "Servicios",
         "marker": {
          "color": "#C08C83",
          "size": 12,
          "symbol": "circle"
         },
         "mode": "markers",
         "name": "Servicios",
         "orientation": "v",
         "showlegend": false,
         "type": "scatter",
         "x": [
          2.01
         ],
         "xaxis": "x20",
         "y": [
          25883.86
         ],
         "yaxis": "y20"
        },
        {
         "hovertemplate": "Sector=Servicios<br>Comunidad autónoma=Canarias<br>Gasto en Transporte Unitario (€)=%{x}<br>Salario Unitario (€)=%{y}<extra></extra>",
         "legendgroup": "Servicios",
         "marker": {
          "color": "#C08C83",
          "size": 12,
          "symbol": "circle"
         },
         "mode": "markers",
         "name": "Servicios",
         "orientation": "v",
         "showlegend": false,
         "type": "scatter",
         "x": [
          4.28
         ],
         "xaxis": "x13",
         "y": [
          21876.79
         ],
         "yaxis": "y13"
        },
        {
         "hovertemplate": "Sector=Servicios<br>Comunidad autónoma=Cantabria<br>Gasto en Transporte Unitario (€)=%{x}<br>Salario Unitario (€)=%{y}<extra></extra>",
         "legendgroup": "Servicios",
         "marker": {
          "color": "#C08C83",
          "size": 12,
          "symbol": "circle"
         },
         "mode": "markers",
         "name": "Servicios",
         "orientation": "v",
         "showlegend": false,
         "type": "scatter",
         "x": [
          1.31
         ],
         "xaxis": "x14",
         "y": [
          23310.33
         ],
         "yaxis": "y14"
        },
        {
         "hovertemplate": "Sector=Servicios<br>Comunidad autónoma=Castilla - La Mancha<br>Gasto en Transporte Unitario (€)=%{x}<br>Salario Unitario (€)=%{y}<extra></extra>",
         "legendgroup": "Servicios",
         "marker": {
          "color": "#C08C83",
          "size": 12,
          "symbol": "circle"
         },
         "mode": "markers",
         "name": "Servicios",
         "orientation": "v",
         "showlegend": false,
         "type": "scatter",
         "x": [
          0.88
         ],
         "xaxis": "x15",
         "y": [
          23055.7
         ],
         "yaxis": "y15"
        },
        {
         "hovertemplate": "Sector=Servicios<br>Comunidad autónoma=Castilla y León<br>Gasto en Transporte Unitario (€)=%{x}<br>Salario Unitario (€)=%{y}<extra></extra>",
         "legendgroup": "Servicios",
         "marker": {
          "color": "#C08C83",
          "size": 12,
          "symbol": "circle"
         },
         "mode": "markers",
         "name": "Servicios",
         "orientation": "v",
         "showlegend": false,
         "type": "scatter",
         "x": [
          2.77
         ],
         "xaxis": "x16",
         "y": [
          22779.81
         ],
         "yaxis": "y16"
        },
        {
         "hovertemplate": "Sector=Servicios<br>Comunidad autónoma=Cataluña<br>Gasto en Transporte Unitario (€)=%{x}<br>Salario Unitario (€)=%{y}<extra></extra>",
         "legendgroup": "Servicios",
         "marker": {
          "color": "#C08C83",
          "size": 12,
          "symbol": "circle"
         },
         "mode": "markers",
         "name": "Servicios",
         "orientation": "v",
         "showlegend": false,
         "type": "scatter",
         "x": [
          5.4
         ],
         "xaxis": "x9",
         "y": [
          27624.31
         ],
         "yaxis": "y9"
        },
        {
         "hovertemplate": "Sector=Servicios<br>Comunidad autónoma=Comunitat Valenciana<br>Gasto en Transporte Unitario (€)=%{x}<br>Salario Unitario (€)=%{y}<extra></extra>",
         "legendgroup": "Servicios",
         "marker": {
          "color": "#C08C83",
          "size": 12,
          "symbol": "circle"
         },
         "mode": "markers",
         "name": "Servicios",
         "orientation": "v",
         "showlegend": false,
         "type": "scatter",
         "x": [
          1.37
         ],
         "xaxis": "x10",
         "y": [
          23125.14
         ],
         "yaxis": "y10"
        },
        {
         "hovertemplate": "Sector=Servicios<br>Comunidad autónoma=Extremadura<br>Gasto en Transporte Unitario (€)=%{x}<br>Salario Unitario (€)=%{y}<extra></extra>",
         "legendgroup": "Servicios",
         "marker": {
          "color": "#C08C83",
          "size": 12,
          "symbol": "circle"
         },
         "mode": "markers",
         "name": "Servicios",
         "orientation": "v",
         "showlegend": false,
         "type": "scatter",
         "x": [
          1.08
         ],
         "xaxis": "x11",
         "y": [
          20534.24
         ],
         "yaxis": "y11"
        },
        {
         "hovertemplate": "Sector=Servicios<br>Comunidad autónoma=Galicia<br>Gasto en Transporte Unitario (€)=%{x}<br>Salario Unitario (€)=%{y}<extra></extra>",
         "legendgroup": "Servicios",
         "marker": {
          "color": "#C08C83",
          "size": 12,
          "symbol": "circle"
         },
         "mode": "markers",
         "name": "Servicios",
         "orientation": "v",
         "showlegend": false,
         "type": "scatter",
         "x": [
          3.44
         ],
         "xaxis": "x12",
         "y": [
          22404.28
         ],
         "yaxis": "y12"
        },
        {
         "hovertemplate": "Sector=Servicios<br>Comunidad autónoma=Madrid, Comunidad de<br>Gasto en Transporte Unitario (€)=%{x}<br>Salario Unitario (€)=%{y}<extra></extra>",
         "legendgroup": "Servicios",
         "marker": {
          "color": "#C08C83",
          "size": 12,
          "symbol": "circle"
         },
         "mode": "markers",
         "name": "Servicios",
         "orientation": "v",
         "showlegend": false,
         "type": "scatter",
         "x": [
          10.41
         ],
         "xaxis": "x5",
         "y": [
          31792.6
         ],
         "yaxis": "y5"
        },
        {
         "hovertemplate": "Sector=Servicios<br>Comunidad autónoma=Murcia, Región de<br>Gasto en Transporte Unitario (€)=%{x}<br>Salario Unitario (€)=%{y}<extra></extra>",
         "legendgroup": "Servicios",
         "marker": {
          "color": "#C08C83",
          "size": 12,
          "symbol": "circle"
         },
         "mode": "markers",
         "name": "Servicios",
         "orientation": "v",
         "showlegend": false,
         "type": "scatter",
         "x": [
          0.79
         ],
         "xaxis": "x6",
         "y": [
          22788.84
         ],
         "yaxis": "y6"
        },
        {
         "hovertemplate": "Sector=Servicios<br>Comunidad autónoma=Navarra, Comunidad Foral de<br>Gasto en Transporte Unitario (€)=%{x}<br>Salario Unitario (€)=%{y}<extra></extra>",
         "legendgroup": "Servicios",
         "marker": {
          "color": "#C08C83",
          "size": 12,
          "symbol": "circle"
         },
         "mode": "markers",
         "name": "Servicios",
         "orientation": "v",
         "showlegend": false,
         "type": "scatter",
         "x": [
          7.29
         ],
         "xaxis": "x7",
         "y": [
          27141.91
         ],
         "yaxis": "y7"
        },
        {
         "hovertemplate": "Sector=Servicios<br>Comunidad autónoma=País Vasco<br>Gasto en Transporte Unitario (€)=%{x}<br>Salario Unitario (€)=%{y}<extra></extra>",
         "legendgroup": "Servicios",
         "marker": {
          "color": "#C08C83",
          "size": 12,
          "symbol": "circle"
         },
         "mode": "markers",
         "name": "Servicios",
         "orientation": "v",
         "showlegend": false,
         "type": "scatter",
         "x": [
          7.54
         ],
         "xaxis": "x8",
         "y": [
          28236.98
         ],
         "yaxis": "y8"
        },
        {
         "hovertemplate": "Sector=Servicios<br>Comunidad autónoma=Rioja, La<br>Gasto en Transporte Unitario (€)=%{x}<br>Salario Unitario (€)=%{y}<extra></extra>",
         "legendgroup": "Servicios",
         "marker": {
          "color": "#C08C83",
          "size": 12,
          "symbol": "circle"
         },
         "mode": "markers",
         "name": "Servicios",
         "orientation": "v",
         "showlegend": false,
         "type": "scatter",
         "x": [
          7.7
         ],
         "xaxis": "x",
         "y": [
          23139.17
         ],
         "yaxis": "y"
        }
       ],
       "layout": {
        "annotations": [
         {
          "font": {},
          "showarrow": false,
          "text": "Comunidad autónoma=Rioja, La",
          "x": 0.1175,
          "xanchor": "center",
          "xref": "paper",
          "y": 0.144,
          "yanchor": "bottom",
          "yref": "paper"
         },
         {
          "font": {},
          "showarrow": false,
          "text": "Comunidad autónoma=Madrid, Comunidad de",
          "x": 0.1175,
          "xanchor": "center",
          "xref": "paper",
          "y": 0.358,
          "yanchor": "bottom",
          "yref": "paper"
         },
         {
          "font": {},
          "showarrow": false,
          "text": "Comunidad autónoma=Murcia, Región de",
          "x": 0.3725,
          "xanchor": "center",
          "xref": "paper",
          "y": 0.358,
          "yanchor": "bottom",
          "yref": "paper"
         },
         {
          "font": {},
          "showarrow": false,
          "text": "Comunidad autónoma=Navarra, Comunidad Foral de",
          "x": 0.6275,
          "xanchor": "center",
          "xref": "paper",
          "y": 0.358,
          "yanchor": "bottom",
          "yref": "paper"
         },
         {
          "font": {},
          "showarrow": false,
          "text": "Comunidad autónoma=País Vasco",
          "x": 0.8824999999999998,
          "xanchor": "center",
          "xref": "paper",
          "y": 0.358,
          "yanchor": "bottom",
          "yref": "paper"
         },
         {
          "font": {},
          "showarrow": false,
          "text": "Comunidad autónoma=Cataluña",
          "x": 0.1175,
          "xanchor": "center",
          "xref": "paper",
          "y": 0.572,
          "yanchor": "bottom",
          "yref": "paper"
         },
         {
          "font": {},
          "showarrow": false,
          "text": "Comunidad autónoma=Comunitat Valenciana",
          "x": 0.3725,
          "xanchor": "center",
          "xref": "paper",
          "y": 0.572,
          "yanchor": "bottom",
          "yref": "paper"
         },
         {
          "font": {},
          "showarrow": false,
          "text": "Comunidad autónoma=Extremadura",
          "x": 0.6275,
          "xanchor": "center",
          "xref": "paper",
          "y": 0.572,
          "yanchor": "bottom",
          "yref": "paper"
         },
         {
          "font": {},
          "showarrow": false,
          "text": "Comunidad autónoma=Galicia",
          "x": 0.8824999999999998,
          "xanchor": "center",
          "xref": "paper",
          "y": 0.572,
          "yanchor": "bottom",
          "yref": "paper"
         },
         {
          "font": {},
          "showarrow": false,
          "text": "Comunidad autónoma=Canarias",
          "x": 0.1175,
          "xanchor": "center",
          "xref": "paper",
          "y": 0.7859999999999999,
          "yanchor": "bottom",
          "yref": "paper"
         },
         {
          "font": {},
          "showarrow": false,
          "text": "Comunidad autónoma=Cantabria",
          "x": 0.3725,
          "xanchor": "center",
          "xref": "paper",
          "y": 0.7859999999999999,
          "yanchor": "bottom",
          "yref": "paper"
         },
         {
          "font": {},
          "showarrow": false,
          "text": "Comunidad autónoma=Castilla - La Mancha",
          "x": 0.6275,
          "xanchor": "center",
          "xref": "paper",
          "y": 0.7859999999999999,
          "yanchor": "bottom",
          "yref": "paper"
         },
         {
          "font": {},
          "showarrow": false,
          "text": "Comunidad autónoma=Castilla y León",
          "x": 0.8824999999999998,
          "xanchor": "center",
          "xref": "paper",
          "y": 0.7859999999999999,
          "yanchor": "bottom",
          "yref": "paper"
         },
         {
          "font": {},
          "showarrow": false,
          "text": "Comunidad autónoma=Andalucía",
          "x": 0.1175,
          "xanchor": "center",
          "xref": "paper",
          "y": 1,
          "yanchor": "bottom",
          "yref": "paper"
         },
         {
          "font": {},
          "showarrow": false,
          "text": "Comunidad autónoma=Aragón",
          "x": 0.3725,
          "xanchor": "center",
          "xref": "paper",
          "y": 1,
          "yanchor": "bottom",
          "yref": "paper"
         },
         {
          "font": {},
          "showarrow": false,
          "text": "Comunidad autónoma=Asturias, Principado de",
          "x": 0.6275,
          "xanchor": "center",
          "xref": "paper",
          "y": 1,
          "yanchor": "bottom",
          "yref": "paper"
         },
         {
          "font": {},
          "showarrow": false,
          "text": "Comunidad autónoma=Balears, Illes",
          "x": 0.8824999999999998,
          "xanchor": "center",
          "xref": "paper",
          "y": 1,
          "yanchor": "bottom",
          "yref": "paper"
         }
        ],
        "height": 1000,
        "legend": {
         "title": {
          "text": "Sector"
         },
         "tracegroupgap": 0
        },
        "template": {
         "data": {
          "bar": [
           {
            "error_x": {
             "color": "#2a3f5f"
            },
            "error_y": {
             "color": "#2a3f5f"
            },
            "marker": {
             "line": {
              "color": "#E5ECF6",
              "width": 0.5
             },
             "pattern": {
              "fillmode": "overlay",
              "size": 10,
              "solidity": 0.2
             }
            },
            "type": "bar"
           }
          ],
          "barpolar": [
           {
            "marker": {
             "line": {
              "color": "#E5ECF6",
              "width": 0.5
             },
             "pattern": {
              "fillmode": "overlay",
              "size": 10,
              "solidity": 0.2
             }
            },
            "type": "barpolar"
           }
          ],
          "carpet": [
           {
            "aaxis": {
             "endlinecolor": "#2a3f5f",
             "gridcolor": "white",
             "linecolor": "white",
             "minorgridcolor": "white",
             "startlinecolor": "#2a3f5f"
            },
            "baxis": {
             "endlinecolor": "#2a3f5f",
             "gridcolor": "white",
             "linecolor": "white",
             "minorgridcolor": "white",
             "startlinecolor": "#2a3f5f"
            },
            "type": "carpet"
           }
          ],
          "choropleth": [
           {
            "colorbar": {
             "outlinewidth": 0,
             "ticks": ""
            },
            "type": "choropleth"
           }
          ],
          "contour": [
           {
            "colorbar": {
             "outlinewidth": 0,
             "ticks": ""
            },
            "colorscale": [
             [
              0,
              "#0d0887"
             ],
             [
              0.1111111111111111,
              "#46039f"
             ],
             [
              0.2222222222222222,
              "#7201a8"
             ],
             [
              0.3333333333333333,
              "#9c179e"
             ],
             [
              0.4444444444444444,
              "#bd3786"
             ],
             [
              0.5555555555555556,
              "#d8576b"
             ],
             [
              0.6666666666666666,
              "#ed7953"
             ],
             [
              0.7777777777777778,
              "#fb9f3a"
             ],
             [
              0.8888888888888888,
              "#fdca26"
             ],
             [
              1,
              "#f0f921"
             ]
            ],
            "type": "contour"
           }
          ],
          "contourcarpet": [
           {
            "colorbar": {
             "outlinewidth": 0,
             "ticks": ""
            },
            "type": "contourcarpet"
           }
          ],
          "heatmap": [
           {
            "colorbar": {
             "outlinewidth": 0,
             "ticks": ""
            },
            "colorscale": [
             [
              0,
              "#0d0887"
             ],
             [
              0.1111111111111111,
              "#46039f"
             ],
             [
              0.2222222222222222,
              "#7201a8"
             ],
             [
              0.3333333333333333,
              "#9c179e"
             ],
             [
              0.4444444444444444,
              "#bd3786"
             ],
             [
              0.5555555555555556,
              "#d8576b"
             ],
             [
              0.6666666666666666,
              "#ed7953"
             ],
             [
              0.7777777777777778,
              "#fb9f3a"
             ],
             [
              0.8888888888888888,
              "#fdca26"
             ],
             [
              1,
              "#f0f921"
             ]
            ],
            "type": "heatmap"
           }
          ],
          "heatmapgl": [
           {
            "colorbar": {
             "outlinewidth": 0,
             "ticks": ""
            },
            "colorscale": [
             [
              0,
              "#0d0887"
             ],
             [
              0.1111111111111111,
              "#46039f"
             ],
             [
              0.2222222222222222,
              "#7201a8"
             ],
             [
              0.3333333333333333,
              "#9c179e"
             ],
             [
              0.4444444444444444,
              "#bd3786"
             ],
             [
              0.5555555555555556,
              "#d8576b"
             ],
             [
              0.6666666666666666,
              "#ed7953"
             ],
             [
              0.7777777777777778,
              "#fb9f3a"
             ],
             [
              0.8888888888888888,
              "#fdca26"
             ],
             [
              1,
              "#f0f921"
             ]
            ],
            "type": "heatmapgl"
           }
          ],
          "histogram": [
           {
            "marker": {
             "pattern": {
              "fillmode": "overlay",
              "size": 10,
              "solidity": 0.2
             }
            },
            "type": "histogram"
           }
          ],
          "histogram2d": [
           {
            "colorbar": {
             "outlinewidth": 0,
             "ticks": ""
            },
            "colorscale": [
             [
              0,
              "#0d0887"
             ],
             [
              0.1111111111111111,
              "#46039f"
             ],
             [
              0.2222222222222222,
              "#7201a8"
             ],
             [
              0.3333333333333333,
              "#9c179e"
             ],
             [
              0.4444444444444444,
              "#bd3786"
             ],
             [
              0.5555555555555556,
              "#d8576b"
             ],
             [
              0.6666666666666666,
              "#ed7953"
             ],
             [
              0.7777777777777778,
              "#fb9f3a"
             ],
             [
              0.8888888888888888,
              "#fdca26"
             ],
             [
              1,
              "#f0f921"
             ]
            ],
            "type": "histogram2d"
           }
          ],
          "histogram2dcontour": [
           {
            "colorbar": {
             "outlinewidth": 0,
             "ticks": ""
            },
            "colorscale": [
             [
              0,
              "#0d0887"
             ],
             [
              0.1111111111111111,
              "#46039f"
             ],
             [
              0.2222222222222222,
              "#7201a8"
             ],
             [
              0.3333333333333333,
              "#9c179e"
             ],
             [
              0.4444444444444444,
              "#bd3786"
             ],
             [
              0.5555555555555556,
              "#d8576b"
             ],
             [
              0.6666666666666666,
              "#ed7953"
             ],
             [
              0.7777777777777778,
              "#fb9f3a"
             ],
             [
              0.8888888888888888,
              "#fdca26"
             ],
             [
              1,
              "#f0f921"
             ]
            ],
            "type": "histogram2dcontour"
           }
          ],
          "mesh3d": [
           {
            "colorbar": {
             "outlinewidth": 0,
             "ticks": ""
            },
            "type": "mesh3d"
           }
          ],
          "parcoords": [
           {
            "line": {
             "colorbar": {
              "outlinewidth": 0,
              "ticks": ""
             }
            },
            "type": "parcoords"
           }
          ],
          "pie": [
           {
            "automargin": true,
            "type": "pie"
           }
          ],
          "scatter": [
           {
            "marker": {
             "colorbar": {
              "outlinewidth": 0,
              "ticks": ""
             }
            },
            "type": "scatter"
           }
          ],
          "scatter3d": [
           {
            "line": {
             "colorbar": {
              "outlinewidth": 0,
              "ticks": ""
             }
            },
            "marker": {
             "colorbar": {
              "outlinewidth": 0,
              "ticks": ""
             }
            },
            "type": "scatter3d"
           }
          ],
          "scattercarpet": [
           {
            "marker": {
             "colorbar": {
              "outlinewidth": 0,
              "ticks": ""
             }
            },
            "type": "scattercarpet"
           }
          ],
          "scattergeo": [
           {
            "marker": {
             "colorbar": {
              "outlinewidth": 0,
              "ticks": ""
             }
            },
            "type": "scattergeo"
           }
          ],
          "scattergl": [
           {
            "marker": {
             "colorbar": {
              "outlinewidth": 0,
              "ticks": ""
             }
            },
            "type": "scattergl"
           }
          ],
          "scattermapbox": [
           {
            "marker": {
             "colorbar": {
              "outlinewidth": 0,
              "ticks": ""
             }
            },
            "type": "scattermapbox"
           }
          ],
          "scatterpolar": [
           {
            "marker": {
             "colorbar": {
              "outlinewidth": 0,
              "ticks": ""
             }
            },
            "type": "scatterpolar"
           }
          ],
          "scatterpolargl": [
           {
            "marker": {
             "colorbar": {
              "outlinewidth": 0,
              "ticks": ""
             }
            },
            "type": "scatterpolargl"
           }
          ],
          "scatterternary": [
           {
            "marker": {
             "colorbar": {
              "outlinewidth": 0,
              "ticks": ""
             }
            },
            "type": "scatterternary"
           }
          ],
          "surface": [
           {
            "colorbar": {
             "outlinewidth": 0,
             "ticks": ""
            },
            "colorscale": [
             [
              0,
              "#0d0887"
             ],
             [
              0.1111111111111111,
              "#46039f"
             ],
             [
              0.2222222222222222,
              "#7201a8"
             ],
             [
              0.3333333333333333,
              "#9c179e"
             ],
             [
              0.4444444444444444,
              "#bd3786"
             ],
             [
              0.5555555555555556,
              "#d8576b"
             ],
             [
              0.6666666666666666,
              "#ed7953"
             ],
             [
              0.7777777777777778,
              "#fb9f3a"
             ],
             [
              0.8888888888888888,
              "#fdca26"
             ],
             [
              1,
              "#f0f921"
             ]
            ],
            "type": "surface"
           }
          ],
          "table": [
           {
            "cells": {
             "fill": {
              "color": "#EBF0F8"
             },
             "line": {
              "color": "white"
             }
            },
            "header": {
             "fill": {
              "color": "#C8D4E3"
             },
             "line": {
              "color": "white"
             }
            },
            "type": "table"
           }
          ]
         },
         "layout": {
          "annotationdefaults": {
           "arrowcolor": "#2a3f5f",
           "arrowhead": 0,
           "arrowwidth": 1
          },
          "autotypenumbers": "strict",
          "coloraxis": {
           "colorbar": {
            "outlinewidth": 0,
            "ticks": ""
           }
          },
          "colorscale": {
           "diverging": [
            [
             0,
             "#8e0152"
            ],
            [
             0.1,
             "#c51b7d"
            ],
            [
             0.2,
             "#de77ae"
            ],
            [
             0.3,
             "#f1b6da"
            ],
            [
             0.4,
             "#fde0ef"
            ],
            [
             0.5,
             "#f7f7f7"
            ],
            [
             0.6,
             "#e6f5d0"
            ],
            [
             0.7,
             "#b8e186"
            ],
            [
             0.8,
             "#7fbc41"
            ],
            [
             0.9,
             "#4d9221"
            ],
            [
             1,
             "#276419"
            ]
           ],
           "sequential": [
            [
             0,
             "#0d0887"
            ],
            [
             0.1111111111111111,
             "#46039f"
            ],
            [
             0.2222222222222222,
             "#7201a8"
            ],
            [
             0.3333333333333333,
             "#9c179e"
            ],
            [
             0.4444444444444444,
             "#bd3786"
            ],
            [
             0.5555555555555556,
             "#d8576b"
            ],
            [
             0.6666666666666666,
             "#ed7953"
            ],
            [
             0.7777777777777778,
             "#fb9f3a"
            ],
            [
             0.8888888888888888,
             "#fdca26"
            ],
            [
             1,
             "#f0f921"
            ]
           ],
           "sequentialminus": [
            [
             0,
             "#0d0887"
            ],
            [
             0.1111111111111111,
             "#46039f"
            ],
            [
             0.2222222222222222,
             "#7201a8"
            ],
            [
             0.3333333333333333,
             "#9c179e"
            ],
            [
             0.4444444444444444,
             "#bd3786"
            ],
            [
             0.5555555555555556,
             "#d8576b"
            ],
            [
             0.6666666666666666,
             "#ed7953"
            ],
            [
             0.7777777777777778,
             "#fb9f3a"
            ],
            [
             0.8888888888888888,
             "#fdca26"
            ],
            [
             1,
             "#f0f921"
            ]
           ]
          },
          "colorway": [
           "#636efa",
           "#EF553B",
           "#00cc96",
           "#ab63fa",
           "#FFA15A",
           "#19d3f3",
           "#FF6692",
           "#B6E880",
           "#FF97FF",
           "#FECB52"
          ],
          "font": {
           "color": "#2a3f5f"
          },
          "geo": {
           "bgcolor": "white",
           "lakecolor": "white",
           "landcolor": "#E5ECF6",
           "showlakes": true,
           "showland": true,
           "subunitcolor": "white"
          },
          "hoverlabel": {
           "align": "left"
          },
          "hovermode": "closest",
          "mapbox": {
           "style": "light"
          },
          "paper_bgcolor": "white",
          "plot_bgcolor": "#E5ECF6",
          "polar": {
           "angularaxis": {
            "gridcolor": "white",
            "linecolor": "white",
            "ticks": ""
           },
           "bgcolor": "#E5ECF6",
           "radialaxis": {
            "gridcolor": "white",
            "linecolor": "white",
            "ticks": ""
           }
          },
          "scene": {
           "xaxis": {
            "backgroundcolor": "#E5ECF6",
            "gridcolor": "white",
            "gridwidth": 2,
            "linecolor": "white",
            "showbackground": true,
            "ticks": "",
            "zerolinecolor": "white"
           },
           "yaxis": {
            "backgroundcolor": "#E5ECF6",
            "gridcolor": "white",
            "gridwidth": 2,
            "linecolor": "white",
            "showbackground": true,
            "ticks": "",
            "zerolinecolor": "white"
           },
           "zaxis": {
            "backgroundcolor": "#E5ECF6",
            "gridcolor": "white",
            "gridwidth": 2,
            "linecolor": "white",
            "showbackground": true,
            "ticks": "",
            "zerolinecolor": "white"
           }
          },
          "shapedefaults": {
           "line": {
            "color": "#2a3f5f"
           }
          },
          "ternary": {
           "aaxis": {
            "gridcolor": "white",
            "linecolor": "white",
            "ticks": ""
           },
           "baxis": {
            "gridcolor": "white",
            "linecolor": "white",
            "ticks": ""
           },
           "bgcolor": "#E5ECF6",
           "caxis": {
            "gridcolor": "white",
            "linecolor": "white",
            "ticks": ""
           }
          },
          "title": {
           "x": 0.05
          },
          "xaxis": {
           "automargin": true,
           "gridcolor": "white",
           "linecolor": "white",
           "ticks": "",
           "title": {
            "standoff": 15
           },
           "zerolinecolor": "white",
           "zerolinewidth": 2
          },
          "yaxis": {
           "automargin": true,
           "gridcolor": "white",
           "linecolor": "white",
           "ticks": "",
           "title": {
            "standoff": 15
           },
           "zerolinecolor": "white",
           "zerolinewidth": 2
          }
         }
        },
        "title": {
         "text": "Relación entre Gastos en Transporte Unitarios y Sueldos Unitarios por Sector y Comunidad Autónoma (2023)"
        },
        "xaxis": {
         "anchor": "y",
         "domain": [
          0,
          0.235
         ],
         "title": {
          "text": "Gasto en Transporte Unitario (€)"
         }
        },
        "xaxis10": {
         "anchor": "y10",
         "domain": [
          0.255,
          0.49
         ],
         "matches": "x",
         "showticklabels": false
        },
        "xaxis11": {
         "anchor": "y11",
         "domain": [
          0.51,
          0.745
         ],
         "matches": "x",
         "showticklabels": false
        },
        "xaxis12": {
         "anchor": "y12",
         "domain": [
          0.7649999999999999,
          0.9999999999999999
         ],
         "matches": "x",
         "showticklabels": false
        },
        "xaxis13": {
         "anchor": "y13",
         "domain": [
          0,
          0.235
         ],
         "matches": "x",
         "showticklabels": false
        },
        "xaxis14": {
         "anchor": "y14",
         "domain": [
          0.255,
          0.49
         ],
         "matches": "x",
         "showticklabels": false
        },
        "xaxis15": {
         "anchor": "y15",
         "domain": [
          0.51,
          0.745
         ],
         "matches": "x",
         "showticklabels": false
        },
        "xaxis16": {
         "anchor": "y16",
         "domain": [
          0.7649999999999999,
          0.9999999999999999
         ],
         "matches": "x",
         "showticklabels": false
        },
        "xaxis17": {
         "anchor": "y17",
         "domain": [
          0,
          0.235
         ],
         "matches": "x",
         "showticklabels": false
        },
        "xaxis18": {
         "anchor": "y18",
         "domain": [
          0.255,
          0.49
         ],
         "matches": "x",
         "showticklabels": false
        },
        "xaxis19": {
         "anchor": "y19",
         "domain": [
          0.51,
          0.745
         ],
         "matches": "x",
         "showticklabels": false
        },
        "xaxis2": {
         "anchor": "y2",
         "domain": [
          0.255,
          0.49
         ],
         "matches": "x",
         "title": {
          "text": "Gasto en Transporte Unitario (€)"
         }
        },
        "xaxis20": {
         "anchor": "y20",
         "domain": [
          0.7649999999999999,
          0.9999999999999999
         ],
         "matches": "x",
         "showticklabels": false
        },
        "xaxis3": {
         "anchor": "y3",
         "domain": [
          0.51,
          0.745
         ],
         "matches": "x",
         "title": {
          "text": "Gasto en Transporte Unitario (€)"
         }
        },
        "xaxis4": {
         "anchor": "y4",
         "domain": [
          0.7649999999999999,
          0.9999999999999999
         ],
         "matches": "x",
         "title": {
          "text": "Gasto en Transporte Unitario (€)"
         }
        },
        "xaxis5": {
         "anchor": "y5",
         "domain": [
          0,
          0.235
         ],
         "matches": "x",
         "showticklabels": false
        },
        "xaxis6": {
         "anchor": "y6",
         "domain": [
          0.255,
          0.49
         ],
         "matches": "x",
         "showticklabels": false
        },
        "xaxis7": {
         "anchor": "y7",
         "domain": [
          0.51,
          0.745
         ],
         "matches": "x",
         "showticklabels": false
        },
        "xaxis8": {
         "anchor": "y8",
         "domain": [
          0.7649999999999999,
          0.9999999999999999
         ],
         "matches": "x",
         "showticklabels": false
        },
        "xaxis9": {
         "anchor": "y9",
         "domain": [
          0,
          0.235
         ],
         "matches": "x",
         "showticklabels": false
        },
        "yaxis": {
         "anchor": "x",
         "domain": [
          0,
          0.144
         ],
         "title": {
          "text": "Salario Unitario (€)"
         }
        },
        "yaxis10": {
         "anchor": "x10",
         "domain": [
          0.428,
          0.572
         ],
         "matches": "y",
         "showticklabels": false
        },
        "yaxis11": {
         "anchor": "x11",
         "domain": [
          0.428,
          0.572
         ],
         "matches": "y",
         "showticklabels": false
        },
        "yaxis12": {
         "anchor": "x12",
         "domain": [
          0.428,
          0.572
         ],
         "matches": "y",
         "showticklabels": false
        },
        "yaxis13": {
         "anchor": "x13",
         "domain": [
          0.6419999999999999,
          0.7859999999999999
         ],
         "matches": "y",
         "title": {
          "text": "Salario Unitario (€)"
         }
        },
        "yaxis14": {
         "anchor": "x14",
         "domain": [
          0.6419999999999999,
          0.7859999999999999
         ],
         "matches": "y",
         "showticklabels": false
        },
        "yaxis15": {
         "anchor": "x15",
         "domain": [
          0.6419999999999999,
          0.7859999999999999
         ],
         "matches": "y",
         "showticklabels": false
        },
        "yaxis16": {
         "anchor": "x16",
         "domain": [
          0.6419999999999999,
          0.7859999999999999
         ],
         "matches": "y",
         "showticklabels": false
        },
        "yaxis17": {
         "anchor": "x17",
         "domain": [
          0.856,
          1
         ],
         "matches": "y",
         "title": {
          "text": "Salario Unitario (€)"
         }
        },
        "yaxis18": {
         "anchor": "x18",
         "domain": [
          0.856,
          1
         ],
         "matches": "y",
         "showticklabels": false
        },
        "yaxis19": {
         "anchor": "x19",
         "domain": [
          0.856,
          1
         ],
         "matches": "y",
         "showticklabels": false
        },
        "yaxis2": {
         "anchor": "x2",
         "domain": [
          0,
          0.144
         ],
         "matches": "y",
         "showticklabels": false
        },
        "yaxis20": {
         "anchor": "x20",
         "domain": [
          0.856,
          1
         ],
         "matches": "y",
         "showticklabels": false
        },
        "yaxis3": {
         "anchor": "x3",
         "domain": [
          0,
          0.144
         ],
         "matches": "y",
         "showticklabels": false
        },
        "yaxis4": {
         "anchor": "x4",
         "domain": [
          0,
          0.144
         ],
         "matches": "y",
         "showticklabels": false
        },
        "yaxis5": {
         "anchor": "x5",
         "domain": [
          0.214,
          0.358
         ],
         "matches": "y",
         "title": {
          "text": "Salario Unitario (€)"
         }
        },
        "yaxis6": {
         "anchor": "x6",
         "domain": [
          0.214,
          0.358
         ],
         "matches": "y",
         "showticklabels": false
        },
        "yaxis7": {
         "anchor": "x7",
         "domain": [
          0.214,
          0.358
         ],
         "matches": "y",
         "showticklabels": false
        },
        "yaxis8": {
         "anchor": "x8",
         "domain": [
          0.214,
          0.358
         ],
         "matches": "y",
         "showticklabels": false
        },
        "yaxis9": {
         "anchor": "x9",
         "domain": [
          0.428,
          0.572
         ],
         "matches": "y",
         "title": {
          "text": "Salario Unitario (€)"
         }
        }
       }
      }
     },
     "metadata": {},
     "output_type": "display_data"
    }
   ],
   "source": [
    "\n",
    "# Filtrar datos del año más reciente para un análisis comparativo\n",
    "df_2023 = df_poblacion[df_poblacion['AÑO'] == 2023]\n",
    "\n",
    "# Crear gráfico de dispersión con facetas por comunidad autónoma\n",
    "fig = px.scatter(\n",
    "    df_2023,\n",
    "    x='Gastos en transporte unitarios',\n",
    "    y='Sueldos y salarios unitarios',\n",
    "    color='Sector',\n",
    "    facet_col='Comunidad autónoma',\n",
    "    facet_col_wrap=4,  # Para ajustar cuántas columnas de subgráficos deseas\n",
    "    color_discrete_sequence=custom_palette,\n",
    "    title=\"Relación entre Gastos en Transporte Unitarios y Sueldos Unitarios por Sector y Comunidad Autónoma (2023)\",\n",
    "    labels={\n",
    "        'Gastos en transporte unitarios': 'Gasto en Transporte Unitario (€)',\n",
    "        'Sueldos y salarios unitarios': 'Salario Unitario (€)'\n",
    "    }\n",
    ")\n",
    "\n",
    "# Ajustar el tamaño de los puntos\n",
    "fig.update_traces(marker=dict(size=12))\n",
    "\n",
    "# Ajustar el layout para mejorar la legibilidad\n",
    "fig.update_layout(height=1000, legend_title=\"Sector\")\n",
    "\n",
    "# Mostrar el gráfico\n",
    "fig.show()\n",
    "\n"
   ]
  }
 ],
 "metadata": {
  "kernelspec": {
   "display_name": "Python 3",
   "language": "python",
   "name": "python3"
  },
  "language_info": {
   "codemirror_mode": {
    "name": "ipython",
    "version": 3
   },
   "file_extension": ".py",
   "mimetype": "text/x-python",
   "name": "python",
   "nbconvert_exporter": "python",
   "pygments_lexer": "ipython3",
   "version": "3.7.9"
  }
 },
 "nbformat": 4,
 "nbformat_minor": 2
}
