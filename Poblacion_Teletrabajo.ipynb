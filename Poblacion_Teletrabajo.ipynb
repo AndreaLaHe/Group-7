{
 "cells": [
  {
   "cell_type": "code",
   "execution_count": 1,
   "metadata": {},
   "outputs": [],
   "source": [
    "# Importamos pandas y numpy\n",
    "import pandas as pd\n",
    "import numpy as np\n",
    "import re"
   ]
  },
  {
   "cell_type": "code",
   "execution_count": 2,
   "metadata": {},
   "outputs": [],
   "source": [
    "#Expecificamos ruta\n",
    "\n",
    "url = r'https://raw.githubusercontent.com/cdeniaca/Group-7/refs/heads/main/Poblacion_Teletrabajo.csv'"
   ]
  },
  {
   "cell_type": "code",
   "execution_count": 3,
   "metadata": {},
   "outputs": [],
   "source": [
    "#Cargamos el df\n",
    "\n",
    "población_teletrabajo_df = pd.read_csv(url, sep=';')"
   ]
  },
  {
   "cell_type": "code",
   "execution_count": 4,
   "metadata": {},
   "outputs": [
    {
     "data": {
      "text/html": [
       "<div>\n",
       "<style scoped>\n",
       "    .dataframe tbody tr th:only-of-type {\n",
       "        vertical-align: middle;\n",
       "    }\n",
       "\n",
       "    .dataframe tbody tr th {\n",
       "        vertical-align: top;\n",
       "    }\n",
       "\n",
       "    .dataframe thead th {\n",
       "        text-align: right;\n",
       "    }\n",
       "</style>\n",
       "<table border=\"1\" class=\"dataframe\">\n",
       "  <thead>\n",
       "    <tr style=\"text-align: right;\">\n",
       "      <th></th>\n",
       "      <th>Año</th>\n",
       "      <th>Comunidades y Ciudades Autónomas</th>\n",
       "      <th>Teletrabajo</th>\n",
       "      <th>Total</th>\n",
       "    </tr>\n",
       "  </thead>\n",
       "  <tbody>\n",
       "    <tr>\n",
       "      <th>0</th>\n",
       "      <td>2022</td>\n",
       "      <td>01 Andalucía</td>\n",
       "      <td>Han teletrabajado</td>\n",
       "      <td>5</td>\n",
       "    </tr>\n",
       "    <tr>\n",
       "      <th>1</th>\n",
       "      <td>2022</td>\n",
       "      <td>01 Andalucía</td>\n",
       "      <td>No han teletrabajado aunque su trabajo les per...</td>\n",
       "      <td>9,5</td>\n",
       "    </tr>\n",
       "    <tr>\n",
       "      <th>2</th>\n",
       "      <td>2022</td>\n",
       "      <td>01 Andalucía</td>\n",
       "      <td>No han teletrabajado porque su trabajo no les ...</td>\n",
       "      <td>38,8</td>\n",
       "    </tr>\n",
       "    <tr>\n",
       "      <th>3</th>\n",
       "      <td>2022</td>\n",
       "      <td>01 Andalucía</td>\n",
       "      <td>No han trabajado</td>\n",
       "      <td>46,8</td>\n",
       "    </tr>\n",
       "    <tr>\n",
       "      <th>4</th>\n",
       "      <td>2022</td>\n",
       "      <td>02 Aragón</td>\n",
       "      <td>Han teletrabajado</td>\n",
       "      <td>4,6</td>\n",
       "    </tr>\n",
       "    <tr>\n",
       "      <th>...</th>\n",
       "      <td>...</td>\n",
       "      <td>...</td>\n",
       "      <td>...</td>\n",
       "      <td>...</td>\n",
       "    </tr>\n",
       "    <tr>\n",
       "      <th>451</th>\n",
       "      <td>2021</td>\n",
       "      <td>Ceuta</td>\n",
       "      <td>Personas que no han trabajado</td>\n",
       "      <td>..</td>\n",
       "    </tr>\n",
       "    <tr>\n",
       "      <th>452</th>\n",
       "      <td>2021</td>\n",
       "      <td>Melilla</td>\n",
       "      <td>Personas que han teletrabajado</td>\n",
       "      <td>6,7</td>\n",
       "    </tr>\n",
       "    <tr>\n",
       "      <th>453</th>\n",
       "      <td>2021</td>\n",
       "      <td>Melilla</td>\n",
       "      <td>Personas que no han teletrabajado aunque su tr...</td>\n",
       "      <td>10,1</td>\n",
       "    </tr>\n",
       "    <tr>\n",
       "      <th>454</th>\n",
       "      <td>2021</td>\n",
       "      <td>Melilla</td>\n",
       "      <td>Personas que no han teletrabajado porque su tr...</td>\n",
       "      <td>83,2</td>\n",
       "    </tr>\n",
       "    <tr>\n",
       "      <th>455</th>\n",
       "      <td>2021</td>\n",
       "      <td>Melilla</td>\n",
       "      <td>Personas que no han trabajado</td>\n",
       "      <td>..</td>\n",
       "    </tr>\n",
       "  </tbody>\n",
       "</table>\n",
       "<p>456 rows × 4 columns</p>\n",
       "</div>"
      ],
      "text/plain": [
       "      Año Comunidades y Ciudades Autónomas  \\\n",
       "0    2022                     01 Andalucía   \n",
       "1    2022                     01 Andalucía   \n",
       "2    2022                     01 Andalucía   \n",
       "3    2022                     01 Andalucía   \n",
       "4    2022                        02 Aragón   \n",
       "..    ...                              ...   \n",
       "451  2021                            Ceuta   \n",
       "452  2021                          Melilla   \n",
       "453  2021                          Melilla   \n",
       "454  2021                          Melilla   \n",
       "455  2021                          Melilla   \n",
       "\n",
       "                                           Teletrabajo Total  \n",
       "0                                    Han teletrabajado     5  \n",
       "1    No han teletrabajado aunque su trabajo les per...   9,5  \n",
       "2    No han teletrabajado porque su trabajo no les ...  38,8  \n",
       "3                                     No han trabajado  46,8  \n",
       "4                                    Han teletrabajado   4,6  \n",
       "..                                                 ...   ...  \n",
       "451                      Personas que no han trabajado    ..  \n",
       "452                     Personas que han teletrabajado   6,7  \n",
       "453  Personas que no han teletrabajado aunque su tr...  10,1  \n",
       "454  Personas que no han teletrabajado porque su tr...  83,2  \n",
       "455                      Personas que no han trabajado    ..  \n",
       "\n",
       "[456 rows x 4 columns]"
      ]
     },
     "execution_count": 4,
     "metadata": {},
     "output_type": "execute_result"
    }
   ],
   "source": [
    "población_teletrabajo_df"
   ]
  },
  {
   "cell_type": "code",
   "execution_count": 5,
   "metadata": {},
   "outputs": [],
   "source": [
    "# Reemplazamos el punto por una cadena vacía para eliminar el separador de miles\n",
    "población_teletrabajo_df['Total'] = población_teletrabajo_df['Total'].str.replace('.', '', regex=False)\n",
    "\n",
    "# Reemplazamos la coma por un punto para que pandas pueda interpretarlo como decimal\n",
    "población_teletrabajo_df['Total'] = población_teletrabajo_df['Total'].str.replace(',', '.', regex=False)"
   ]
  },
  {
   "cell_type": "code",
   "execution_count": 6,
   "metadata": {},
   "outputs": [],
   "source": [
    "# Convertimos la columna a tipo numérico\n",
    "población_teletrabajo_df['Total'] = pd.to_numeric(población_teletrabajo_df['Total'], errors='coerce')\n"
   ]
  },
  {
   "cell_type": "code",
   "execution_count": 7,
   "metadata": {},
   "outputs": [],
   "source": [
    "# Quitar el texto hasta el primer espacio, pero solo si existe un espacio\n",
    "población_teletrabajo_df['Comunidades y Ciudades Autónomas'] = población_teletrabajo_df['Comunidades y Ciudades Autónomas'].apply(\n",
    "    lambda x: x.split(' ', 1)[1] if ' ' in x else x\n",
    ")\n"
   ]
  },
  {
   "cell_type": "code",
   "execution_count": 8,
   "metadata": {},
   "outputs": [
    {
     "data": {
      "text/html": [
       "<div>\n",
       "<style scoped>\n",
       "    .dataframe tbody tr th:only-of-type {\n",
       "        vertical-align: middle;\n",
       "    }\n",
       "\n",
       "    .dataframe tbody tr th {\n",
       "        vertical-align: top;\n",
       "    }\n",
       "\n",
       "    .dataframe thead th {\n",
       "        text-align: right;\n",
       "    }\n",
       "</style>\n",
       "<table border=\"1\" class=\"dataframe\">\n",
       "  <thead>\n",
       "    <tr style=\"text-align: right;\">\n",
       "      <th></th>\n",
       "      <th>Año</th>\n",
       "      <th>Comunidades y Ciudades Autónomas</th>\n",
       "      <th>Teletrabajo</th>\n",
       "      <th>Total</th>\n",
       "    </tr>\n",
       "  </thead>\n",
       "  <tbody>\n",
       "    <tr>\n",
       "      <th>0</th>\n",
       "      <td>2022</td>\n",
       "      <td>Andalucía</td>\n",
       "      <td>Han teletrabajado</td>\n",
       "      <td>5.0</td>\n",
       "    </tr>\n",
       "    <tr>\n",
       "      <th>1</th>\n",
       "      <td>2022</td>\n",
       "      <td>Andalucía</td>\n",
       "      <td>No han teletrabajado aunque su trabajo les per...</td>\n",
       "      <td>9.5</td>\n",
       "    </tr>\n",
       "    <tr>\n",
       "      <th>2</th>\n",
       "      <td>2022</td>\n",
       "      <td>Andalucía</td>\n",
       "      <td>No han teletrabajado porque su trabajo no les ...</td>\n",
       "      <td>38.8</td>\n",
       "    </tr>\n",
       "    <tr>\n",
       "      <th>3</th>\n",
       "      <td>2022</td>\n",
       "      <td>Andalucía</td>\n",
       "      <td>No han trabajado</td>\n",
       "      <td>46.8</td>\n",
       "    </tr>\n",
       "    <tr>\n",
       "      <th>4</th>\n",
       "      <td>2022</td>\n",
       "      <td>Aragón</td>\n",
       "      <td>Han teletrabajado</td>\n",
       "      <td>4.6</td>\n",
       "    </tr>\n",
       "    <tr>\n",
       "      <th>...</th>\n",
       "      <td>...</td>\n",
       "      <td>...</td>\n",
       "      <td>...</td>\n",
       "      <td>...</td>\n",
       "    </tr>\n",
       "    <tr>\n",
       "      <th>451</th>\n",
       "      <td>2021</td>\n",
       "      <td>Ceuta</td>\n",
       "      <td>Personas que no han trabajado</td>\n",
       "      <td>NaN</td>\n",
       "    </tr>\n",
       "    <tr>\n",
       "      <th>452</th>\n",
       "      <td>2021</td>\n",
       "      <td>Melilla</td>\n",
       "      <td>Personas que han teletrabajado</td>\n",
       "      <td>6.7</td>\n",
       "    </tr>\n",
       "    <tr>\n",
       "      <th>453</th>\n",
       "      <td>2021</td>\n",
       "      <td>Melilla</td>\n",
       "      <td>Personas que no han teletrabajado aunque su tr...</td>\n",
       "      <td>10.1</td>\n",
       "    </tr>\n",
       "    <tr>\n",
       "      <th>454</th>\n",
       "      <td>2021</td>\n",
       "      <td>Melilla</td>\n",
       "      <td>Personas que no han teletrabajado porque su tr...</td>\n",
       "      <td>83.2</td>\n",
       "    </tr>\n",
       "    <tr>\n",
       "      <th>455</th>\n",
       "      <td>2021</td>\n",
       "      <td>Melilla</td>\n",
       "      <td>Personas que no han trabajado</td>\n",
       "      <td>NaN</td>\n",
       "    </tr>\n",
       "  </tbody>\n",
       "</table>\n",
       "<p>456 rows × 4 columns</p>\n",
       "</div>"
      ],
      "text/plain": [
       "      Año Comunidades y Ciudades Autónomas  \\\n",
       "0    2022                        Andalucía   \n",
       "1    2022                        Andalucía   \n",
       "2    2022                        Andalucía   \n",
       "3    2022                        Andalucía   \n",
       "4    2022                           Aragón   \n",
       "..    ...                              ...   \n",
       "451  2021                            Ceuta   \n",
       "452  2021                          Melilla   \n",
       "453  2021                          Melilla   \n",
       "454  2021                          Melilla   \n",
       "455  2021                          Melilla   \n",
       "\n",
       "                                           Teletrabajo  Total  \n",
       "0                                    Han teletrabajado    5.0  \n",
       "1    No han teletrabajado aunque su trabajo les per...    9.5  \n",
       "2    No han teletrabajado porque su trabajo no les ...   38.8  \n",
       "3                                     No han trabajado   46.8  \n",
       "4                                    Han teletrabajado    4.6  \n",
       "..                                                 ...    ...  \n",
       "451                      Personas que no han trabajado    NaN  \n",
       "452                     Personas que han teletrabajado    6.7  \n",
       "453  Personas que no han teletrabajado aunque su tr...   10.1  \n",
       "454  Personas que no han teletrabajado porque su tr...   83.2  \n",
       "455                      Personas que no han trabajado    NaN  \n",
       "\n",
       "[456 rows x 4 columns]"
      ]
     },
     "execution_count": 8,
     "metadata": {},
     "output_type": "execute_result"
    }
   ],
   "source": [
    "población_teletrabajo_df"
   ]
  },
  {
   "cell_type": "code",
   "execution_count": 9,
   "metadata": {},
   "outputs": [
    {
     "name": "stdout",
     "output_type": "stream",
     "text": [
      "Año                                   int64\n",
      "Comunidades y Ciudades Autónomas     object\n",
      "Teletrabajo                          object\n",
      "Total                               float64\n",
      "dtype: object\n"
     ]
    }
   ],
   "source": [
    "# Muestra los tipos de datos de cada columna\n",
    "print(población_teletrabajo_df.dtypes)"
   ]
  },
  {
   "cell_type": "code",
   "execution_count": 10,
   "metadata": {},
   "outputs": [],
   "source": [
    "# Elimina filas donde 'Total' tenga NaN\n",
    "población_teletrabajo_df = población_teletrabajo_df.dropna(subset=['Total'])\n"
   ]
  },
  {
   "cell_type": "code",
   "execution_count": 11,
   "metadata": {},
   "outputs": [
    {
     "name": "stdout",
     "output_type": "stream",
     "text": [
      "['Andalucía' 'Aragón' 'Asturias, Principado de' 'Balears, Illes'\n",
      " 'Canarias' 'Cantabria' 'Castilla y León' 'Castilla - La Mancha'\n",
      " 'Cataluña' 'Comunitat Valenciana' 'Extremadura' 'Galicia'\n",
      " 'Madrid, Comunidad de' 'Murcia, Región de' 'Navarra, Comunidad Foral de'\n",
      " 'País Vasco' 'Rioja, La' 'Ceuta' 'Melilla' 'Principado de' 'Illes'\n",
      " 'y León' 'Mancha' 'Valenciana' 'Comunidad de' 'Región de'\n",
      " 'Comunidad Foral de' 'Vasco' 'La']\n"
     ]
    }
   ],
   "source": [
    "print(población_teletrabajo_df['Comunidades y Ciudades Autónomas'].unique())\n"
   ]
  },
  {
   "cell_type": "code",
   "execution_count": 12,
   "metadata": {},
   "outputs": [
    {
     "name": "stdout",
     "output_type": "stream",
     "text": [
      "['Han teletrabajado'\n",
      " 'No han teletrabajado aunque su trabajo les permitiría teletrabajar'\n",
      " 'No han teletrabajado porque su trabajo no les permitiría teletrabajar'\n",
      " 'No han trabajado' 'Personas que han teletrabajado'\n",
      " 'Personas que no han teletrabajado aunque su trabajo les permitiría teletrabajar'\n",
      " 'Personas que no han teletrabajado porque su trabajo no les permitiría teletrabajar'\n",
      " 'Personas que no han trabajado']\n"
     ]
    }
   ],
   "source": [
    "print(población_teletrabajo_df['Teletrabajo'].unique())\n"
   ]
  }
 ],
 "metadata": {
  "kernelspec": {
   "display_name": "Python 3",
   "language": "python",
   "name": "python3"
  },
  "language_info": {
   "codemirror_mode": {
    "name": "ipython",
    "version": 3
   },
   "file_extension": ".py",
   "mimetype": "text/x-python",
   "name": "python",
   "nbconvert_exporter": "python",
   "pygments_lexer": "ipython3",
   "version": "3.11.9"
  }
 },
 "nbformat": 4,
 "nbformat_minor": 2
}
