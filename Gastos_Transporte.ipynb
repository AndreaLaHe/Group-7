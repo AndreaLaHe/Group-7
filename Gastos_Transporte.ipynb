{
 "cells": [
  {
   "cell_type": "code",
   "execution_count": 1,
   "metadata": {},
   "outputs": [],
   "source": [
    "# Importamos pandas y numpy\n",
    "import pandas as pd\n",
    "import numpy as np\n",
    "import re\n",
    "import seaborn as sns\n",
    "import matplotlib.pyplot as plt\n",
    "import numpy as np\n",
    "import scipy.stats as stats"
   ]
  },
  {
   "cell_type": "code",
   "execution_count": 2,
   "metadata": {},
   "outputs": [],
   "source": [
    "#Expecificamos ruta\n",
    "\n",
    "url = r'Gastos_Trasnporte.csv'"
   ]
  },
  {
   "cell_type": "code",
   "execution_count": 3,
   "metadata": {},
   "outputs": [],
   "source": [
    "gasto_transporte_df = pd.read_csv(url, sep=';', encoding='latin-1')\n"
   ]
  },
  {
   "cell_type": "code",
   "execution_count": 4,
   "metadata": {},
   "outputs": [
    {
     "data": {
      "text/html": [
       "<div><div id=6ad13fde-4c20-42ef-a0e0-cc3207cd6a12 style=\"display:none; background-color:#9D6CFF; color:white; width:200px; height:30px; padding-left:5px; border-radius:4px; flex-direction:row; justify-content:space-around; align-items:center;\" onmouseover=\"this.style.backgroundColor='#BA9BF8'\" onmouseout=\"this.style.backgroundColor='#9D6CFF'\" onclick=\"window.commands?.execute('create-mitosheet-from-dataframe-output');\">See Full Dataframe in Mito</div> <script> if (window.commands?.hasCommand('create-mitosheet-from-dataframe-output')) document.getElementById('6ad13fde-4c20-42ef-a0e0-cc3207cd6a12').style.display = 'flex' </script> <table border=\"1\" class=\"dataframe\">\n",
       "  <thead>\n",
       "    <tr style=\"text-align: right;\">\n",
       "      <th></th>\n",
       "      <th>Comunidades y Ciudades Autónomas</th>\n",
       "      <th>Sectores de actividad</th>\n",
       "      <th>Tipo de indicador</th>\n",
       "      <th>Componentes del coste</th>\n",
       "      <th>Periodo</th>\n",
       "      <th>Total</th>\n",
       "    </tr>\n",
       "  </thead>\n",
       "  <tbody>\n",
       "    <tr>\n",
       "      <th>0</th>\n",
       "      <td>01 Andalucía</td>\n",
       "      <td>Industria</td>\n",
       "      <td>Valor absoluto</td>\n",
       "      <td>Gastos en transporte</td>\n",
       "      <td>2023</td>\n",
       "      <td>22,59</td>\n",
       "    </tr>\n",
       "    <tr>\n",
       "      <th>1</th>\n",
       "      <td>01 Andalucía</td>\n",
       "      <td>Industria</td>\n",
       "      <td>Valor absoluto</td>\n",
       "      <td>Gastos en transporte</td>\n",
       "      <td>2022</td>\n",
       "      <td>19,65</td>\n",
       "    </tr>\n",
       "    <tr>\n",
       "      <th>2</th>\n",
       "      <td>01 Andalucía</td>\n",
       "      <td>Industria</td>\n",
       "      <td>Valor absoluto</td>\n",
       "      <td>Gastos en transporte</td>\n",
       "      <td>2021</td>\n",
       "      <td>17,36</td>\n",
       "    </tr>\n",
       "    <tr>\n",
       "      <th>3</th>\n",
       "      <td>01 Andalucía</td>\n",
       "      <td>Industria</td>\n",
       "      <td>Valor absoluto</td>\n",
       "      <td>Gastos en transporte</td>\n",
       "      <td>2020</td>\n",
       "      <td>17,02</td>\n",
       "    </tr>\n",
       "    <tr>\n",
       "      <th>4</th>\n",
       "      <td>01 Andalucía</td>\n",
       "      <td>Industria</td>\n",
       "      <td>Valor absoluto</td>\n",
       "      <td>Gastos en transporte</td>\n",
       "      <td>2019</td>\n",
       "      <td>22,43</td>\n",
       "    </tr>\n",
       "    <tr>\n",
       "      <th>...</th>\n",
       "      <td>...</td>\n",
       "      <td>...</td>\n",
       "      <td>...</td>\n",
       "      <td>...</td>\n",
       "      <td>...</td>\n",
       "      <td>...</td>\n",
       "    </tr>\n",
       "    <tr>\n",
       "      <th>301</th>\n",
       "      <td>17 Rioja, La</td>\n",
       "      <td>Servicios</td>\n",
       "      <td>Valor absoluto</td>\n",
       "      <td>Gastos en transporte</td>\n",
       "      <td>2022</td>\n",
       "      <td>1,10</td>\n",
       "    </tr>\n",
       "    <tr>\n",
       "      <th>302</th>\n",
       "      <td>17 Rioja, La</td>\n",
       "      <td>Servicios</td>\n",
       "      <td>Valor absoluto</td>\n",
       "      <td>Gastos en transporte</td>\n",
       "      <td>2021</td>\n",
       "      <td>6,09</td>\n",
       "    </tr>\n",
       "    <tr>\n",
       "      <th>303</th>\n",
       "      <td>17 Rioja, La</td>\n",
       "      <td>Servicios</td>\n",
       "      <td>Valor absoluto</td>\n",
       "      <td>Gastos en transporte</td>\n",
       "      <td>2020</td>\n",
       "      <td>7,84</td>\n",
       "    </tr>\n",
       "    <tr>\n",
       "      <th>304</th>\n",
       "      <td>17 Rioja, La</td>\n",
       "      <td>Servicios</td>\n",
       "      <td>Valor absoluto</td>\n",
       "      <td>Gastos en transporte</td>\n",
       "      <td>2019</td>\n",
       "      <td>1,86</td>\n",
       "    </tr>\n",
       "    <tr>\n",
       "      <th>305</th>\n",
       "      <td>17 Rioja, La</td>\n",
       "      <td>Servicios</td>\n",
       "      <td>Valor absoluto</td>\n",
       "      <td>Gastos en transporte</td>\n",
       "      <td>2018</td>\n",
       "      <td>2,48</td>\n",
       "    </tr>\n",
       "  </tbody>\n",
       "</table></div>"
      ],
      "text/plain": [
       "    Comunidades y Ciudades Autónomas Sectores de actividad Tipo de indicador  \\\n",
       "0                       01 Andalucía             Industria    Valor absoluto   \n",
       "1                       01 Andalucía             Industria    Valor absoluto   \n",
       "2                       01 Andalucía             Industria    Valor absoluto   \n",
       "3                       01 Andalucía             Industria    Valor absoluto   \n",
       "4                       01 Andalucía             Industria    Valor absoluto   \n",
       "..                               ...                   ...               ...   \n",
       "301                     17 Rioja, La             Servicios    Valor absoluto   \n",
       "302                     17 Rioja, La             Servicios    Valor absoluto   \n",
       "303                     17 Rioja, La             Servicios    Valor absoluto   \n",
       "304                     17 Rioja, La             Servicios    Valor absoluto   \n",
       "305                     17 Rioja, La             Servicios    Valor absoluto   \n",
       "\n",
       "    Componentes del coste  Periodo  Total  \n",
       "0    Gastos en transporte     2023  22,59  \n",
       "1    Gastos en transporte     2022  19,65  \n",
       "2    Gastos en transporte     2021  17,36  \n",
       "3    Gastos en transporte     2020  17,02  \n",
       "4    Gastos en transporte     2019  22,43  \n",
       "..                    ...      ...    ...  \n",
       "301  Gastos en transporte     2022   1,10  \n",
       "302  Gastos en transporte     2021   6,09  \n",
       "303  Gastos en transporte     2020   7,84  \n",
       "304  Gastos en transporte     2019   1,86  \n",
       "305  Gastos en transporte     2018   2,48  \n",
       "\n",
       "[306 rows x 6 columns]"
      ]
     },
     "execution_count": 4,
     "metadata": {},
     "output_type": "execute_result"
    }
   ],
   "source": [
    "#Imprimimos el df\n",
    "\n",
    "gasto_transporte_df"
   ]
  },
  {
   "cell_type": "code",
   "execution_count": 5,
   "metadata": {},
   "outputs": [],
   "source": [
    "#Renombrar columnas\n",
    "gasto_transporte_df = gasto_transporte_df.rename(columns={'Comunidades y Ciudades Autónomas': 'Comunidades_Autonomas', 'Sectores de actividad': 'Sector', 'Componentes del coste': 'Tipo_Coste'})"
   ]
  },
  {
   "cell_type": "code",
   "execution_count": 6,
   "metadata": {},
   "outputs": [],
   "source": [
    "#Eliminar columnas innecesarias\n",
    "gasto_transporte_df = gasto_transporte_df.drop(columns=['Tipo de indicador'])"
   ]
  },
  {
   "cell_type": "code",
   "execution_count": 7,
   "metadata": {},
   "outputs": [
    {
     "data": {
      "text/plain": [
       "array(['01 Andalucía', '02 Aragón', '03 Asturias, Principado de',\n",
       "       '04 Balears, Illes', '05 Canarias', '06 Cantabria',\n",
       "       '07 Castilla y León', '08 Castilla - La Mancha', '09 Cataluña',\n",
       "       '10 Comunitat Valenciana', '11 Extremadura', '12 Galicia',\n",
       "       '13 Madrid, Comunidad de', '14 Murcia, Región de',\n",
       "       '15 Navarra, Comunidad Foral de', '16 País Vasco', '17 Rioja, La'],\n",
       "      dtype=object)"
      ]
     },
     "execution_count": 7,
     "metadata": {},
     "output_type": "execute_result"
    }
   ],
   "source": [
    "gasto_transporte_df['Comunidades_Autonomas'].unique()"
   ]
  },
  {
   "cell_type": "code",
   "execution_count": 14,
   "metadata": {},
   "outputs": [
    {
     "data": {
      "text/html": [
       "<div><div id=b20c24d0-a238-4271-8a0c-f2091b6829c5 style=\"display:none; background-color:#9D6CFF; color:white; width:200px; height:30px; padding-left:5px; border-radius:4px; flex-direction:row; justify-content:space-around; align-items:center;\" onmouseover=\"this.style.backgroundColor='#BA9BF8'\" onmouseout=\"this.style.backgroundColor='#9D6CFF'\" onclick=\"window.commands?.execute('create-mitosheet-from-dataframe-output');\">See Full Dataframe in Mito</div> <script> if (window.commands?.hasCommand('create-mitosheet-from-dataframe-output')) document.getElementById('b20c24d0-a238-4271-8a0c-f2091b6829c5').style.display = 'flex' </script> <table border=\"1\" class=\"dataframe\">\n",
       "  <thead>\n",
       "    <tr style=\"text-align: right;\">\n",
       "      <th></th>\n",
       "      <th>Comunidades_Autonomas</th>\n",
       "      <th>Sector</th>\n",
       "      <th>Tipo_Coste</th>\n",
       "      <th>Periodo</th>\n",
       "      <th>Total</th>\n",
       "    </tr>\n",
       "  </thead>\n",
       "  <tbody>\n",
       "    <tr>\n",
       "      <th>0</th>\n",
       "      <td>Andalucía</td>\n",
       "      <td>Industria</td>\n",
       "      <td>Gastos en transporte</td>\n",
       "      <td>2023</td>\n",
       "      <td>22.59</td>\n",
       "    </tr>\n",
       "    <tr>\n",
       "      <th>1</th>\n",
       "      <td>Andalucía</td>\n",
       "      <td>Industria</td>\n",
       "      <td>Gastos en transporte</td>\n",
       "      <td>2022</td>\n",
       "      <td>19.65</td>\n",
       "    </tr>\n",
       "    <tr>\n",
       "      <th>2</th>\n",
       "      <td>Andalucía</td>\n",
       "      <td>Industria</td>\n",
       "      <td>Gastos en transporte</td>\n",
       "      <td>2021</td>\n",
       "      <td>17.36</td>\n",
       "    </tr>\n",
       "    <tr>\n",
       "      <th>3</th>\n",
       "      <td>Andalucía</td>\n",
       "      <td>Industria</td>\n",
       "      <td>Gastos en transporte</td>\n",
       "      <td>2020</td>\n",
       "      <td>17.02</td>\n",
       "    </tr>\n",
       "    <tr>\n",
       "      <th>4</th>\n",
       "      <td>Andalucía</td>\n",
       "      <td>Industria</td>\n",
       "      <td>Gastos en transporte</td>\n",
       "      <td>2019</td>\n",
       "      <td>22.43</td>\n",
       "    </tr>\n",
       "    <tr>\n",
       "      <th>...</th>\n",
       "      <td>...</td>\n",
       "      <td>...</td>\n",
       "      <td>...</td>\n",
       "      <td>...</td>\n",
       "      <td>...</td>\n",
       "    </tr>\n",
       "    <tr>\n",
       "      <th>301</th>\n",
       "      <td>Rioja, La</td>\n",
       "      <td>Servicios</td>\n",
       "      <td>Gastos en transporte</td>\n",
       "      <td>2022</td>\n",
       "      <td>1.10</td>\n",
       "    </tr>\n",
       "    <tr>\n",
       "      <th>302</th>\n",
       "      <td>Rioja, La</td>\n",
       "      <td>Servicios</td>\n",
       "      <td>Gastos en transporte</td>\n",
       "      <td>2021</td>\n",
       "      <td>6.09</td>\n",
       "    </tr>\n",
       "    <tr>\n",
       "      <th>303</th>\n",
       "      <td>Rioja, La</td>\n",
       "      <td>Servicios</td>\n",
       "      <td>Gastos en transporte</td>\n",
       "      <td>2020</td>\n",
       "      <td>7.84</td>\n",
       "    </tr>\n",
       "    <tr>\n",
       "      <th>304</th>\n",
       "      <td>Rioja, La</td>\n",
       "      <td>Servicios</td>\n",
       "      <td>Gastos en transporte</td>\n",
       "      <td>2019</td>\n",
       "      <td>1.86</td>\n",
       "    </tr>\n",
       "    <tr>\n",
       "      <th>305</th>\n",
       "      <td>Rioja, La</td>\n",
       "      <td>Servicios</td>\n",
       "      <td>Gastos en transporte</td>\n",
       "      <td>2018</td>\n",
       "      <td>2.48</td>\n",
       "    </tr>\n",
       "  </tbody>\n",
       "</table></div>"
      ],
      "text/plain": [
       "    Comunidades_Autonomas     Sector            Tipo_Coste  Periodo  Total\n",
       "0               Andalucía  Industria  Gastos en transporte     2023  22.59\n",
       "1               Andalucía  Industria  Gastos en transporte     2022  19.65\n",
       "2               Andalucía  Industria  Gastos en transporte     2021  17.36\n",
       "3               Andalucía  Industria  Gastos en transporte     2020  17.02\n",
       "4               Andalucía  Industria  Gastos en transporte     2019  22.43\n",
       "..                    ...        ...                   ...      ...    ...\n",
       "301             Rioja, La  Servicios  Gastos en transporte     2022   1.10\n",
       "302             Rioja, La  Servicios  Gastos en transporte     2021   6.09\n",
       "303             Rioja, La  Servicios  Gastos en transporte     2020   7.84\n",
       "304             Rioja, La  Servicios  Gastos en transporte     2019   1.86\n",
       "305             Rioja, La  Servicios  Gastos en transporte     2018   2.48\n",
       "\n",
       "[306 rows x 5 columns]"
      ]
     },
     "execution_count": 14,
     "metadata": {},
     "output_type": "execute_result"
    }
   ],
   "source": [
    "# Quitamos el número en las comunidades \n",
    "# Eliminar los dos dígitos y el espacio al inicio de cada valor en la columna\n",
    "gasto_transporte_df['Comunidades_Autonomas'] = gasto_transporte_df['Comunidades_Autonomas'].str.replace(r'^\\d{2} ', '', regex=True)\n",
    "gasto_transporte_df"
   ]
  },
  {
   "cell_type": "code",
   "execution_count": 8,
   "metadata": {},
   "outputs": [
    {
     "name": "stdout",
     "output_type": "stream",
     "text": [
      "Comunidades_Autonomas    object\n",
      "Sector                   object\n",
      "Tipo_Coste               object\n",
      "Periodo                   int64\n",
      "Total                    object\n",
      "dtype: object\n"
     ]
    }
   ],
   "source": [
    "# Muestra los tipos de datos de cada columna\n",
    "print(gasto_transporte_df.dtypes)\n"
   ]
  },
  {
   "cell_type": "code",
   "execution_count": null,
   "metadata": {},
   "outputs": [],
   "source": [
    "# Reemplazar comas por puntos y convertir a tipo numérico\n",
    "gasto_transporte_df['Total'] = gasto_transporte_df['Total'].str.replace(',', '.').astype(float)\n"
   ]
  },
  {
   "cell_type": "code",
   "execution_count": 10,
   "metadata": {},
   "outputs": [
    {
     "name": "stdout",
     "output_type": "stream",
     "text": [
      "  Comunidades_Autonomas     Sector            Tipo_Coste  Periodo  Total\n",
      "0          01 Andalucía  Industria  Gastos en transporte     2023  22.59\n",
      "1          01 Andalucía  Industria  Gastos en transporte     2022  19.65\n",
      "2          01 Andalucía  Industria  Gastos en transporte     2021  17.36\n",
      "3          01 Andalucía  Industria  Gastos en transporte     2020  17.02\n",
      "4          01 Andalucía  Industria  Gastos en transporte     2019  22.43\n"
     ]
    }
   ],
   "source": [
    "print(gasto_transporte_df.head())\n"
   ]
  },
  {
   "cell_type": "code",
   "execution_count": 11,
   "metadata": {},
   "outputs": [
    {
     "name": "stdout",
     "output_type": "stream",
     "text": [
      "Número de filas duplicadas: 0\n"
     ]
    }
   ],
   "source": [
    "# Contar las filas duplicadas\n",
    "duplicados = gasto_transporte_df.duplicated().sum()\n",
    "print(f\"Número de filas duplicadas: {duplicados}\")\n"
   ]
  },
  {
   "cell_type": "code",
   "execution_count": 12,
   "metadata": {},
   "outputs": [
    {
     "name": "stdout",
     "output_type": "stream",
     "text": [
      "Número de valores nulos en cada columna:\n",
      "Comunidades_Autonomas    0\n",
      "Sector                   0\n",
      "Tipo_Coste               0\n",
      "Periodo                  0\n",
      "Total                    0\n",
      "dtype: int64\n"
     ]
    }
   ],
   "source": [
    "# Contar los valores nulos en cada columna\n",
    "nulos = gasto_transporte_df.isnull().sum()\n",
    "print(\"Número de valores nulos en cada columna:\")\n",
    "print(nulos)\n"
   ]
  },
  {
   "cell_type": "code",
   "execution_count": 13,
   "metadata": {},
   "outputs": [],
   "source": [
    "gasto_transporte_df.to_csv(r'C:\\Users\\Andre\\OneDrive\\Documents\\GitHub\\Group-7\\Group-7\\Gastos_Transporte.csv', index=False, encoding='utf-8')\n"
   ]
  }
 ],
 "metadata": {
  "kernelspec": {
   "display_name": "Python 3",
   "language": "python",
   "name": "python3"
  },
  "language_info": {
   "codemirror_mode": {
    "name": "ipython",
    "version": 3
   },
   "file_extension": ".py",
   "mimetype": "text/x-python",
   "name": "python",
   "nbconvert_exporter": "python",
   "pygments_lexer": "ipython3",
   "version": "3.7.9"
  }
 },
 "nbformat": 4,
 "nbformat_minor": 2
}
