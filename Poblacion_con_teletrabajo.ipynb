{
 "cells": [
  {
   "cell_type": "code",
   "execution_count": 1,
   "metadata": {},
   "outputs": [],
   "source": [
    "# Importamos pandas y numpy\n",
    "import pandas as pd\n",
    "import numpy as np\n",
    "import re\n",
    "import seaborn as sns\n",
    "import matplotlib.pyplot as plt\n",
    "import numpy as np\n",
    "import scipy.stats as stats"
   ]
  },
  {
   "cell_type": "code",
   "execution_count": 2,
   "metadata": {},
   "outputs": [],
   "source": [
    "pd.options.display.float_format = '{:,.2f}'.format"
   ]
  },
  {
   "cell_type": "code",
   "execution_count": 3,
   "metadata": {},
   "outputs": [],
   "source": [
    "#Expecificamos ruta\n",
    "\n",
    "url = r'https://raw.githubusercontent.com/cdeniaca/Group-7/76322e4482f3f9e2d42538a322aeb517e693a958/Poblacion_Activa.csv'"
   ]
  },
  {
   "cell_type": "code",
   "execution_count": 4,
   "metadata": {},
   "outputs": [],
   "source": [
    "#Cargamos el df\n",
    "\n",
    "población_activa_df = pd.read_csv(url, sep=';')\n"
   ]
  },
  {
   "cell_type": "code",
   "execution_count": null,
   "metadata": {},
   "outputs": [],
   "source": [
    "#Imprimimos el df\n",
    "\n",
    "print(población_activa_df)"
   ]
  },
  {
   "cell_type": "code",
   "execution_count": null,
   "metadata": {},
   "outputs": [],
   "source": [
    "# Muestra los tipos de datos de cada columna\n",
    "print(población_activa_df.dtypes)\n"
   ]
  },
  {
   "cell_type": "code",
   "execution_count": 7,
   "metadata": {},
   "outputs": [],
   "source": [
    "# Reemplazamos el punto por una cadena vacía para eliminar el separador de miles\n",
    "población_activa_df['Total'] = población_activa_df['Total'].str.replace('.', '', regex=False)\n",
    "\n",
    "# Reemplazamos la coma por un punto para que pandas pueda interpretarlo como decimal\n",
    "población_activa_df['Total'] = población_activa_df['Total'].str.replace(',', '.', regex=False)"
   ]
  },
  {
   "cell_type": "code",
   "execution_count": null,
   "metadata": {},
   "outputs": [],
   "source": [
    "# Convertimos la columna a tipo numérico\n",
    "población_activa_df['Total'] = pd.to_numeric(población_activa_df['Total'], errors='coerce')\n",
    "\n",
    "# Verificamos el resultado\n",
    "print(población_activa_df['Total'].head())\n"
   ]
  },
  {
   "cell_type": "code",
   "execution_count": 9,
   "metadata": {},
   "outputs": [],
   "source": [
    "# Asegúrate de que la columna 'Total' exista en tu DataFrame\n",
    "if 'Total' in población_activa_df.columns:\n",
    "    población_activa_df['Total'] = población_activa_df['Total'] * 1000\n",
    "else:\n",
    "    print(\"La columna 'Total' no se encuentra en el DataFrame.\")"
   ]
  },
  {
   "cell_type": "code",
   "execution_count": 10,
   "metadata": {},
   "outputs": [],
   "source": [
    "# Crear una columna 'AÑO' con los primeros 4 caracteres de 'Periodo'\n",
    "población_activa_df['AÑO'] = población_activa_df['Periodo'].str[:4]\n",
    "\n",
    "# Crear una columna 'Trimestre' con los caracteres restantes de 'Periodo'\n",
    "población_activa_df['Trimestre'] = población_activa_df['Periodo'].str[4:]\n",
    "\n",
    "# Crear una columna 'Trimestre' con los caracteres restantes de 'Tip'\n",
    "\n"
   ]
  },
  {
   "cell_type": "code",
   "execution_count": 11,
   "metadata": {},
   "outputs": [],
   "source": [
    "# Filtrar el DataFrame para que solo contenga los años de 2018 a 2023\n",
    "años_filtrados = ['2018', '2019', '2020', '2021', '2022', '2023']\n",
    "población_activa_df = población_activa_df[\n",
    "    población_activa_df['AÑO'].isin(años_filtrados) &\n",
    "    (población_activa_df['Comunidad autónoma'] != 'Total Nacional') &\n",
    "    (población_activa_df['Relación con la actividad en el trimestre actual'] != 'Total (trimestre actual)') &\n",
    "    (población_activa_df['Relación con la actividad en el trimestre anterior'] == 'Total (trimestre anterior)')\n",
    "]"
   ]
  },
  {
   "cell_type": "code",
   "execution_count": 12,
   "metadata": {},
   "outputs": [],
   "source": [
    "# Usa apply() con una función lambda para separar y quedarte solo con la segunda parte de la cadena\n",
    "población_activa_df['Comunidad autónoma'] = población_activa_df['Comunidad autónoma'].apply(lambda x: x.split(' ', 1)[1] if ' ' in x else x)\n"
   ]
  },
  {
   "cell_type": "code",
   "execution_count": null,
   "metadata": {},
   "outputs": [],
   "source": [
    "población_activa_df"
   ]
  },
  {
   "cell_type": "code",
   "execution_count": null,
   "metadata": {},
   "outputs": [],
   "source": [
    "# Contar las filas duplicadas\n",
    "duplicados = población_activa_df.duplicated().sum()\n",
    "print(f\"Número de filas duplicadas: {duplicados}\")\n"
   ]
  },
  {
   "cell_type": "code",
   "execution_count": null,
   "metadata": {},
   "outputs": [],
   "source": [
    "# Contar los valores nulos en cada columna\n",
    "nulos = población_activa_df.isnull().sum()\n",
    "print(\"Número de valores nulos en cada columna:\")\n",
    "print(nulos)\n"
   ]
  },
  {
   "cell_type": "code",
   "execution_count": null,
   "metadata": {},
   "outputs": [],
   "source": [
    "# Filtrar las filas que tienen al menos un valor nulo\n",
    "filas_nulas = población_activa_df[población_activa_df.isnull().any(axis=1)]\n",
    "\n",
    "# Mostrar las filas con valores nulos\n",
    "print(\"Filas con valores nulos:\")\n",
    "print(filas_nulas)\n",
    "\n"
   ]
  },
  {
   "cell_type": "code",
   "execution_count": null,
   "metadata": {},
   "outputs": [],
   "source": [
    "print(población_activa_df['Comunidad autónoma'].unique())\n"
   ]
  },
  {
   "cell_type": "code",
   "execution_count": null,
   "metadata": {},
   "outputs": [],
   "source": [
    "print(población_activa_df['Relación con la actividad en el trimestre actual'].unique())\n"
   ]
  },
  {
   "cell_type": "code",
   "execution_count": null,
   "metadata": {},
   "outputs": [],
   "source": [
    "# Comprobar duplicados en las combinaciones de índice\n",
    "duplicados = población_activa_df.duplicated(subset=['Periodo', 'Comunidad autónoma', 'AÑO', 'Trimestre', 'Relación con la actividad en el trimestre actual'], keep=False)\n",
    "if duplicados.any():\n",
    "    print(\"Hay duplicados en los datos:\")\n",
    "    print(población_activa_df[duplicados])\n",
    "else:\n",
    "    print(\"No hay duplicados, puedes usar pivot() sin problemas.\")\n"
   ]
  },
  {
   "cell_type": "code",
   "execution_count": 20,
   "metadata": {},
   "outputs": [],
   "source": [
    "# Eliminar duplicados\n",
    "población_activa_df = población_activa_df.drop_duplicates(subset=['Periodo', 'Comunidad autónoma', 'AÑO', 'Trimestre', 'Relación con la actividad en el trimestre actual'])\n"
   ]
  },
  {
   "cell_type": "code",
   "execution_count": null,
   "metadata": {},
   "outputs": [],
   "source": [
    "print(población_activa_df['Relación con la actividad en el trimestre actual'].unique())\n"
   ]
  },
  {
   "cell_type": "code",
   "execution_count": 22,
   "metadata": {},
   "outputs": [],
   "source": [
    "# Crear un DataFrame pivotado\n",
    "df_pivot = pd.pivot_table(\n",
    "    población_activa_df,\n",
    "    index=['Periodo', 'Comunidad autónoma', 'AÑO', 'Trimestre'],  # Índices de filas\n",
    "    columns='Relación con la actividad en el trimestre actual',  # Nuevas columnas\n",
    "    values='Total',  # Valores a pivotar\n",
    "    aggfunc='sum',  # Función de agregación\n",
    "    fill_value=0  # Opcional: reemplaza valores NaN por 0\n",
    ")\n"
   ]
  },
  {
   "cell_type": "code",
   "execution_count": 23,
   "metadata": {},
   "outputs": [],
   "source": [
    "# Restablecer el índice para convertirlo en columnas regulares\n",
    "df_pivot_reset = df_pivot.reset_index()"
   ]
  },
  {
   "cell_type": "code",
   "execution_count": null,
   "metadata": {},
   "outputs": [],
   "source": [
    "# Imprimir las columnas para verificar los nombres\n",
    "print(df_pivot_reset.columns)"
   ]
  },
  {
   "cell_type": "code",
   "execution_count": 25,
   "metadata": {},
   "outputs": [],
   "source": [
    "df_pivot = df_pivot_reset"
   ]
  },
  {
   "cell_type": "code",
   "execution_count": null,
   "metadata": {},
   "outputs": [],
   "source": [
    "df_pivot"
   ]
  },
  {
   "cell_type": "code",
   "execution_count": 27,
   "metadata": {},
   "outputs": [],
   "source": [
    "# Renombrar las columnas específicas en el DataFrame\n",
    "df_pivot = df_pivot.rename(columns={\n",
    "    'Inactivos (trimestre actual)': 'Inactivos',\n",
    "    'Ocupados (trimestre actual)': 'Ocupados',\n",
    "    'Parados (trimestre actual)': 'Parados'\n",
    "})"
   ]
  },
  {
   "cell_type": "code",
   "execution_count": 28,
   "metadata": {},
   "outputs": [],
   "source": [
    "# Crear la nueva columna \"Total Actividad\" \n",
    "df_pivot['Total Actividad'] = (\n",
    "    df_pivot['Inactivos'].fillna(0) +  # Considerar nulos como 0\n",
    "    df_pivot['Ocupados'].fillna(0) +   # Considerar nulos como 0\n",
    "    df_pivot['Parados'].fillna(0)      # Considerar nulos como 0\n",
    ")\n"
   ]
  },
  {
   "cell_type": "code",
   "execution_count": null,
   "metadata": {},
   "outputs": [],
   "source": [
    "df_pivot"
   ]
  },
  {
   "cell_type": "code",
   "execution_count": 30,
   "metadata": {},
   "outputs": [],
   "source": [
    "#Dataframe Ocupados"
   ]
  },
  {
   "cell_type": "code",
   "execution_count": null,
   "metadata": {},
   "outputs": [],
   "source": [
    "print(df_pivot.columns)\n"
   ]
  },
  {
   "cell_type": "code",
   "execution_count": 32,
   "metadata": {},
   "outputs": [],
   "source": [
    "# Seleccionar las columnas deseadas de df_pivot\n",
    "df_nuevo = df_pivot[['Comunidad autónoma', 'AÑO', 'Ocupados', 'Parados', 'Inactivos', 'Total Actividad']]\n",
    "\n"
   ]
  },
  {
   "cell_type": "code",
   "execution_count": null,
   "metadata": {},
   "outputs": [],
   "source": [
    "df_nuevo"
   ]
  },
  {
   "cell_type": "code",
   "execution_count": 34,
   "metadata": {},
   "outputs": [],
   "source": [
    "# Agrupar por \"AÑO\" y \"Comunidad autónoma\" y calcular la media de \"Ocupados\" y \"Total Actividad\"\n",
    "df_nuevo_agrupado = df_nuevo.groupby(['AÑO', 'Comunidad autónoma']).mean().reset_index()\n",
    "\n"
   ]
  },
  {
   "cell_type": "code",
   "execution_count": null,
   "metadata": {},
   "outputs": [],
   "source": [
    "df_nuevo_agrupado"
   ]
  },
  {
   "cell_type": "code",
   "execution_count": 36,
   "metadata": {},
   "outputs": [],
   "source": [
    "df_nuevo_agrupado.to_csv('Poblacion_Ocupada_Agrupado.csv', index=False)"
   ]
  },
  {
   "cell_type": "code",
   "execution_count": 37,
   "metadata": {},
   "outputs": [],
   "source": [
    "df_pivot.to_csv('Poblacion_Activa_Limpia.csv', index=False)"
   ]
  },
  {
   "cell_type": "markdown",
   "metadata": {},
   "source": []
  },
  {
   "cell_type": "markdown",
   "metadata": {},
   "source": [
    "_____________________________________________________________________________________________________________________________________________________________________________________________"
   ]
  },
  {
   "cell_type": "markdown",
   "metadata": {},
   "source": [
    "############################################## NUEVO CSV - TELETRABAJO ########################################################"
   ]
  },
  {
   "cell_type": "code",
   "execution_count": 38,
   "metadata": {},
   "outputs": [],
   "source": [
    "#Expecificamos ruta\n",
    "\n",
    "url_teletrabajo = r'https://raw.githubusercontent.com/cdeniaca/Group-7/refs/heads/main/Poblacion_Teletrabajo.csv'"
   ]
  },
  {
   "cell_type": "code",
   "execution_count": 39,
   "metadata": {},
   "outputs": [],
   "source": [
    "#Cargamos el df\n",
    "\n",
    "población_teletrabajo_df = pd.read_csv(url_teletrabajo, sep=';')"
   ]
  },
  {
   "cell_type": "code",
   "execution_count": 40,
   "metadata": {},
   "outputs": [],
   "source": [
    "# Reemplazamos el punto por una cadena vacía para eliminar el separador de miles\n",
    "población_teletrabajo_df['Total'] = población_teletrabajo_df['Total'].str.replace('.', '', regex=False)\n",
    "\n",
    "# Reemplazamos la coma por un punto para que pandas pueda interpretarlo como decimal\n",
    "población_teletrabajo_df['Total'] = población_teletrabajo_df['Total'].str.replace(',', '.', regex=False)"
   ]
  },
  {
   "cell_type": "code",
   "execution_count": 41,
   "metadata": {},
   "outputs": [],
   "source": [
    "# Convertimos la columna a tipo numérico\n",
    "población_teletrabajo_df['Total'] = pd.to_numeric(población_teletrabajo_df['Total'], errors='coerce')\n"
   ]
  },
  {
   "cell_type": "code",
   "execution_count": 42,
   "metadata": {},
   "outputs": [],
   "source": [
    "población_teletrabajo_df['Comunidades y Ciudades Autónomas'] = población_teletrabajo_df['Comunidades y Ciudades Autónomas'].apply(\n",
    "    lambda x: x[3:]\n",
    ")\n"
   ]
  },
  {
   "cell_type": "code",
   "execution_count": null,
   "metadata": {},
   "outputs": [],
   "source": [
    "# Muestra los tipos de datos de cada columna\n",
    "print(población_teletrabajo_df.dtypes)"
   ]
  },
  {
   "cell_type": "code",
   "execution_count": 44,
   "metadata": {},
   "outputs": [],
   "source": [
    "# Elimina filas donde 'Total' tenga NaN\n",
    "población_teletrabajo_df = población_teletrabajo_df.dropna(subset=['Total'])\n"
   ]
  },
  {
   "cell_type": "code",
   "execution_count": 45,
   "metadata": {},
   "outputs": [],
   "source": [
    "población_teletrabajo_df.rename(columns={'Comunidades y Ciudades Autónomas': 'Comunidad autónoma'}, inplace=True)\n",
    "población_teletrabajo_df.rename(columns={'Año': 'AÑO'}, inplace=True)"
   ]
  },
  {
   "cell_type": "code",
   "execution_count": null,
   "metadata": {},
   "outputs": [],
   "source": [
    "print(población_teletrabajo_df['Comunidad autónoma'].unique())\n"
   ]
  },
  {
   "cell_type": "code",
   "execution_count": null,
   "metadata": {},
   "outputs": [],
   "source": [
    "print(población_teletrabajo_df['Teletrabajo'].unique())"
   ]
  },
  {
   "cell_type": "code",
   "execution_count": null,
   "metadata": {},
   "outputs": [],
   "source": [
    "print(población_teletrabajo_df['AÑO'].unique())"
   ]
  },
  {
   "cell_type": "code",
   "execution_count": 49,
   "metadata": {},
   "outputs": [],
   "source": [
    "# Crear un DataFrame pivotado\n",
    "df_pivot_teletrabajo = pd.pivot_table(\n",
    "    población_teletrabajo_df,\n",
    "    index=['AÑO', 'Comunidad autónoma'],  # Asegúrate de usar el nombre correcto\n",
    "    columns='Teletrabajo',\n",
    "    values='Total',\n",
    "    aggfunc='sum',\n",
    "    fill_value=0\n",
    ")\n"
   ]
  },
  {
   "cell_type": "code",
   "execution_count": 50,
   "metadata": {},
   "outputs": [],
   "source": [
    "# Restablecer el índice para convertirlo en columnas regulares\n",
    "df_pivot_teletrabajo = df_pivot_teletrabajo.reset_index()"
   ]
  },
  {
   "cell_type": "code",
   "execution_count": 51,
   "metadata": {},
   "outputs": [],
   "source": [
    "# Multiplicación y división para calcular valores absolutos basados en porcentajes\n",
    "df_pivot_teletrabajo['Han teletrabajado'] = df_pivot_teletrabajo['Han teletrabajado'] * df_pivot_teletrabajo['Total'] / 100\n",
    "df_pivot_teletrabajo['No han teletrabajado aunque su trabajo les permitiría teletrabajar'] = df_pivot_teletrabajo['No han teletrabajado aunque su trabajo les permitiría teletrabajar'] * df_pivot_teletrabajo['Total'] / 100\n",
    "df_pivot_teletrabajo['No han teletrabajado porque su trabajo no les permitiría teletrabajar'] = df_pivot_teletrabajo['No han teletrabajado porque su trabajo no les permitiría teletrabajar'] * df_pivot_teletrabajo['Total'] / 100"
   ]
  },
  {
   "cell_type": "code",
   "execution_count": 52,
   "metadata": {},
   "outputs": [],
   "source": [
    "df_pivot_teletrabajo = df_pivot_teletrabajo[['AÑO', 'Comunidad autónoma', 'Han teletrabajado', 'No han teletrabajado aunque su trabajo les permitiría teletrabajar', 'No han teletrabajado porque su trabajo no les permitiría teletrabajar']]\n"
   ]
  },
  {
   "cell_type": "code",
   "execution_count": 53,
   "metadata": {},
   "outputs": [],
   "source": [
    "# Dividir las columnas seleccionadas entre 1000 para cambiar de millones a miles\n",
    "columnas_a_convertir = [\n",
    "    'No han teletrabajado aunque su trabajo les permitiría teletrabajar',\n",
    "    'Han teletrabajado',\n",
    "    'No han teletrabajado porque su trabajo no les permitiría teletrabajar'\n",
    "]\n",
    "\n",
    "# Realizar la conversión\n",
    "df_pivot_teletrabajo[columnas_a_convertir] = df_pivot_teletrabajo[columnas_a_convertir] / 1000\n"
   ]
  },
  {
   "cell_type": "code",
   "execution_count": 54,
   "metadata": {},
   "outputs": [],
   "source": [
    "media_por_año = df_pivot_teletrabajo.groupby('AÑO')[[\n",
    "    'No han teletrabajado aunque su trabajo les permitiría teletrabajar',\n",
    "    'Han teletrabajado',\n",
    "    'No han teletrabajado porque su trabajo no les permitiría teletrabajar'\n",
    "]].mean().reset_index()"
   ]
  },
  {
   "cell_type": "code",
   "execution_count": 55,
   "metadata": {},
   "outputs": [],
   "source": [
    "# Convertir la columna 'AÑO' a tipo int en ambos DataFrames, o cambiar a str si prefieres.\n",
    "df_nuevo_agrupado['AÑO'] = df_nuevo_agrupado['AÑO'].astype(int)\n",
    "df_pivot_teletrabajo['AÑO'] = df_pivot_teletrabajo['AÑO'].astype(int)\n",
    "\n",
    "# O convertir ambas a string\n",
    "# df_nuevo_agrupado['AÑO'] = df_nuevo_agrupado['AÑO'].astype(str)\n",
    "# población_teletrabajo_df['AÑO'] = población_teletrabajo_df['AÑO'].astype(str)\n"
   ]
  },
  {
   "cell_type": "code",
   "execution_count": 56,
   "metadata": {},
   "outputs": [],
   "source": [
    "df_final_teletrabajo = pd.merge(df_nuevo_agrupado, df_pivot_teletrabajo, on=['Comunidad autónoma', 'AÑO'], how='inner')\n"
   ]
  },
  {
   "cell_type": "code",
   "execution_count": null,
   "metadata": {},
   "outputs": [],
   "source": [
    "df_final_teletrabajo\n"
   ]
  },
  {
   "cell_type": "markdown",
   "metadata": {},
   "source": [
    "_________________________________________________________________________________________________________________________________________________________________________________"
   ]
  },
  {
   "cell_type": "markdown",
   "metadata": {},
   "source": [
    "################################################### CSV - GASTOS TRANSPORTES ###################################################"
   ]
  },
  {
   "cell_type": "markdown",
   "metadata": {},
   "source": [
    "_________________________________________________________________________________________________________________________________________________________________________________"
   ]
  },
  {
   "cell_type": "code",
   "execution_count": 58,
   "metadata": {},
   "outputs": [],
   "source": [
    "#Expecificamos ruta gastos\n",
    "\n",
    "url_gastos = r'https://raw.githubusercontent.com/cdeniaca/Group-7/refs/heads/main/Gastos_Transporte_Limpio.csv'"
   ]
  },
  {
   "cell_type": "code",
   "execution_count": 59,
   "metadata": {},
   "outputs": [],
   "source": [
    "gasto_transporte_df = pd.read_csv(url_gastos,  sep=',')"
   ]
  },
  {
   "cell_type": "code",
   "execution_count": null,
   "metadata": {},
   "outputs": [],
   "source": [
    "gasto_transporte_df"
   ]
  },
  {
   "cell_type": "code",
   "execution_count": 61,
   "metadata": {},
   "outputs": [],
   "source": [
    "# Filtrar para excluir \"Ceuta y Melilla\" en la columna \"Comunidad autónoma\" usando query\n",
    "df_nuevo_agrupado_filtrado = df_nuevo_agrupado.query(\"`Comunidad autónoma` != 'Ceuta y Melilla'\")"
   ]
  },
  {
   "cell_type": "code",
   "execution_count": 62,
   "metadata": {},
   "outputs": [],
   "source": [
    "# Convertir la columna 'AÑO' a tipo int en ambos DataFrames, o cambiar a str si prefieres.\n",
    "df_nuevo_agrupado_filtrado['AÑO'] = df_nuevo_agrupado_filtrado['AÑO'].astype(int)\n",
    "gasto_transporte_df['Periodo'] = gasto_transporte_df['Periodo'].astype(int)"
   ]
  },
  {
   "cell_type": "code",
   "execution_count": 63,
   "metadata": {},
   "outputs": [],
   "source": [
    "gasto_transporte_df.rename(columns={'Comunidades_Autonomas': 'Comunidad autónoma'}, inplace=True)\n",
    "gasto_transporte_df.rename(columns={'Periodo': 'AÑO'}, inplace=True)\n",
    "gasto_transporte_df.rename(columns={'Total': 'Gastos en transporte unitarios'}, inplace=True)"
   ]
  },
  {
   "cell_type": "code",
   "execution_count": 64,
   "metadata": {},
   "outputs": [],
   "source": [
    "df_final_gastos = pd.merge(df_nuevo_agrupado_filtrado, gasto_transporte_df, on=['Comunidad autónoma', 'AÑO'], how='inner')"
   ]
  },
  {
   "cell_type": "code",
   "execution_count": 65,
   "metadata": {},
   "outputs": [],
   "source": [
    "df_final_gastos['Gasto total en transporte'] = df_final_gastos['Ocupados'] * df_final_gastos['Gastos en transporte unitarios']\n"
   ]
  },
  {
   "cell_type": "code",
   "execution_count": 66,
   "metadata": {},
   "outputs": [],
   "source": [
    "df_final_gastos = df_final_gastos.drop(columns=['Tipo_Coste'])\n"
   ]
  },
  {
   "cell_type": "code",
   "execution_count": null,
   "metadata": {},
   "outputs": [],
   "source": [
    "df_final_gastos"
   ]
  },
  {
   "cell_type": "markdown",
   "metadata": {},
   "source": [
    "_________________________________________________________________________________________________________________________________________________________________________________"
   ]
  },
  {
   "cell_type": "markdown",
   "metadata": {},
   "source": [
    "################################################### CSV - SALARIOS ###################################################"
   ]
  },
  {
   "cell_type": "markdown",
   "metadata": {},
   "source": [
    "_________________________________________________________________________________________________________________________________________________________________________________"
   ]
  },
  {
   "cell_type": "code",
   "execution_count": 102,
   "metadata": {},
   "outputs": [],
   "source": [
    "#Expecificamos ruta salarios\n",
    "\n",
    "url_salarios = r'https://raw.githubusercontent.com/cdeniaca/Group-7/refs/heads/main/Salarios_Limpio.csv'"
   ]
  },
  {
   "cell_type": "code",
   "execution_count": 103,
   "metadata": {},
   "outputs": [],
   "source": [
    "salarios_df = pd.read_csv(url_salarios,  sep=',')"
   ]
  },
  {
   "cell_type": "code",
   "execution_count": 104,
   "metadata": {},
   "outputs": [],
   "source": [
    "salarios_df['Periodo'] = salarios_df['Periodo'].astype(int)\n"
   ]
  },
  {
   "cell_type": "code",
   "execution_count": 105,
   "metadata": {},
   "outputs": [],
   "source": [
    "# Convertir la columna 'Total'\n",
    "salarios_df['Total'] = (\n",
    "    salarios_df['Total']\n",
    "    .astype(str)\n",
    "    .str.replace('.', '', regex=False)  # Quitar el punto\n",
    "    .str.replace(',', '.', regex=False)  # Cambiar la coma por punto\n",
    "    .astype(float)  # Convertir a float\n",
    ")"
   ]
  },
  {
   "cell_type": "code",
   "execution_count": 107,
   "metadata": {},
   "outputs": [],
   "source": [
    "salarios_df.rename(columns={'Comunidades_Autonomas': 'Comunidad autónoma'}, inplace=True)\n",
    "salarios_df.rename(columns={'Periodo': 'AÑO'}, inplace=True)\n",
    "salarios_df.rename(columns={'Total': 'Sueldos y salarios unitarios'}, inplace=True)"
   ]
  },
  {
   "cell_type": "code",
   "execution_count": 108,
   "metadata": {},
   "outputs": [],
   "source": [
    "df_final_salarios= pd.merge(df_nuevo_agrupado_filtrado, salarios_df, on=['Comunidad autónoma', 'AÑO'], how='inner')"
   ]
  },
  {
   "cell_type": "code",
   "execution_count": 109,
   "metadata": {},
   "outputs": [],
   "source": [
    "df_final_salarios['Sueldos y salarios totales'] = df_final_salarios['Ocupados'] * df_final_salarios['Sueldos y salarios unitarios']"
   ]
  },
  {
   "cell_type": "code",
   "execution_count": 110,
   "metadata": {},
   "outputs": [],
   "source": [
    "df_final_salarios = df_final_salarios.drop(columns=['Tipo_Coste'])"
   ]
  },
  {
   "cell_type": "code",
   "execution_count": 111,
   "metadata": {},
   "outputs": [
    {
     "data": {
      "text/html": [
       "<div>\n",
       "<style scoped>\n",
       "    .dataframe tbody tr th:only-of-type {\n",
       "        vertical-align: middle;\n",
       "    }\n",
       "\n",
       "    .dataframe tbody tr th {\n",
       "        vertical-align: top;\n",
       "    }\n",
       "\n",
       "    .dataframe thead th {\n",
       "        text-align: right;\n",
       "    }\n",
       "</style>\n",
       "<table border=\"1\" class=\"dataframe\">\n",
       "  <thead>\n",
       "    <tr style=\"text-align: right;\">\n",
       "      <th></th>\n",
       "      <th>AÑO</th>\n",
       "      <th>Comunidad autónoma</th>\n",
       "      <th>Ocupados</th>\n",
       "      <th>Parados</th>\n",
       "      <th>Inactivos</th>\n",
       "      <th>Total Actividad</th>\n",
       "      <th>Sector</th>\n",
       "      <th>Sueldos y salarios unitarios</th>\n",
       "      <th>Sueldos y salarios totales</th>\n",
       "    </tr>\n",
       "  </thead>\n",
       "  <tbody>\n",
       "    <tr>\n",
       "      <th>0</th>\n",
       "      <td>2018</td>\n",
       "      <td>Andalucía</td>\n",
       "      <td>3,030,750.00</td>\n",
       "      <td>904,625.00</td>\n",
       "      <td>2,983,100.00</td>\n",
       "      <td>6,918,475.00</td>\n",
       "      <td>Industria</td>\n",
       "      <td>24,335.01</td>\n",
       "      <td>73,753,331,557.50</td>\n",
       "    </tr>\n",
       "    <tr>\n",
       "      <th>1</th>\n",
       "      <td>2018</td>\n",
       "      <td>Andalucía</td>\n",
       "      <td>3,030,750.00</td>\n",
       "      <td>904,625.00</td>\n",
       "      <td>2,983,100.00</td>\n",
       "      <td>6,918,475.00</td>\n",
       "      <td>Construcción</td>\n",
       "      <td>20,853.79</td>\n",
       "      <td>63,202,624,042.50</td>\n",
       "    </tr>\n",
       "    <tr>\n",
       "      <th>2</th>\n",
       "      <td>2018</td>\n",
       "      <td>Andalucía</td>\n",
       "      <td>3,030,750.00</td>\n",
       "      <td>904,625.00</td>\n",
       "      <td>2,983,100.00</td>\n",
       "      <td>6,918,475.00</td>\n",
       "      <td>Servicios</td>\n",
       "      <td>19,438.66</td>\n",
       "      <td>58,913,718,795.00</td>\n",
       "    </tr>\n",
       "    <tr>\n",
       "      <th>3</th>\n",
       "      <td>2018</td>\n",
       "      <td>Aragón</td>\n",
       "      <td>573,825.00</td>\n",
       "      <td>68,250.00</td>\n",
       "      <td>452,275.00</td>\n",
       "      <td>1,094,350.00</td>\n",
       "      <td>Industria</td>\n",
       "      <td>26,716.39</td>\n",
       "      <td>15,330,532,491.75</td>\n",
       "    </tr>\n",
       "    <tr>\n",
       "      <th>4</th>\n",
       "      <td>2018</td>\n",
       "      <td>Aragón</td>\n",
       "      <td>573,825.00</td>\n",
       "      <td>68,250.00</td>\n",
       "      <td>452,275.00</td>\n",
       "      <td>1,094,350.00</td>\n",
       "      <td>Construcción</td>\n",
       "      <td>23,471.18</td>\n",
       "      <td>13,468,349,863.50</td>\n",
       "    </tr>\n",
       "    <tr>\n",
       "      <th>...</th>\n",
       "      <td>...</td>\n",
       "      <td>...</td>\n",
       "      <td>...</td>\n",
       "      <td>...</td>\n",
       "      <td>...</td>\n",
       "      <td>...</td>\n",
       "      <td>...</td>\n",
       "      <td>...</td>\n",
       "      <td>...</td>\n",
       "    </tr>\n",
       "    <tr>\n",
       "      <th>301</th>\n",
       "      <td>2023</td>\n",
       "      <td>País Vasco</td>\n",
       "      <td>995,750.00</td>\n",
       "      <td>83,375.00</td>\n",
       "      <td>818,725.00</td>\n",
       "      <td>1,897,850.00</td>\n",
       "      <td>Construcción</td>\n",
       "      <td>29,392.81</td>\n",
       "      <td>29,267,890,557.50</td>\n",
       "    </tr>\n",
       "    <tr>\n",
       "      <th>302</th>\n",
       "      <td>2023</td>\n",
       "      <td>País Vasco</td>\n",
       "      <td>995,750.00</td>\n",
       "      <td>83,375.00</td>\n",
       "      <td>818,725.00</td>\n",
       "      <td>1,897,850.00</td>\n",
       "      <td>Servicios</td>\n",
       "      <td>28,236.98</td>\n",
       "      <td>28,116,972,835.00</td>\n",
       "    </tr>\n",
       "    <tr>\n",
       "      <th>303</th>\n",
       "      <td>2023</td>\n",
       "      <td>Rioja, La</td>\n",
       "      <td>146,625.00</td>\n",
       "      <td>15,150.00</td>\n",
       "      <td>112,600.00</td>\n",
       "      <td>274,375.00</td>\n",
       "      <td>Industria</td>\n",
       "      <td>25,845.14</td>\n",
       "      <td>3,789,543,652.50</td>\n",
       "    </tr>\n",
       "    <tr>\n",
       "      <th>304</th>\n",
       "      <td>2023</td>\n",
       "      <td>Rioja, La</td>\n",
       "      <td>146,625.00</td>\n",
       "      <td>15,150.00</td>\n",
       "      <td>112,600.00</td>\n",
       "      <td>274,375.00</td>\n",
       "      <td>Construcción</td>\n",
       "      <td>25,321.95</td>\n",
       "      <td>3,712,830,918.75</td>\n",
       "    </tr>\n",
       "    <tr>\n",
       "      <th>305</th>\n",
       "      <td>2023</td>\n",
       "      <td>Rioja, La</td>\n",
       "      <td>146,625.00</td>\n",
       "      <td>15,150.00</td>\n",
       "      <td>112,600.00</td>\n",
       "      <td>274,375.00</td>\n",
       "      <td>Servicios</td>\n",
       "      <td>23,139.17</td>\n",
       "      <td>3,392,780,801.25</td>\n",
       "    </tr>\n",
       "  </tbody>\n",
       "</table>\n",
       "<p>306 rows × 9 columns</p>\n",
       "</div>"
      ],
      "text/plain": [
       "      AÑO Comunidad autónoma     Ocupados    Parados    Inactivos  \\\n",
       "0    2018          Andalucía 3,030,750.00 904,625.00 2,983,100.00   \n",
       "1    2018          Andalucía 3,030,750.00 904,625.00 2,983,100.00   \n",
       "2    2018          Andalucía 3,030,750.00 904,625.00 2,983,100.00   \n",
       "3    2018             Aragón   573,825.00  68,250.00   452,275.00   \n",
       "4    2018             Aragón   573,825.00  68,250.00   452,275.00   \n",
       "..    ...                ...          ...        ...          ...   \n",
       "301  2023         País Vasco   995,750.00  83,375.00   818,725.00   \n",
       "302  2023         País Vasco   995,750.00  83,375.00   818,725.00   \n",
       "303  2023          Rioja, La   146,625.00  15,150.00   112,600.00   \n",
       "304  2023          Rioja, La   146,625.00  15,150.00   112,600.00   \n",
       "305  2023          Rioja, La   146,625.00  15,150.00   112,600.00   \n",
       "\n",
       "     Total Actividad        Sector  Sueldos y salarios unitarios  \\\n",
       "0       6,918,475.00     Industria                     24,335.01   \n",
       "1       6,918,475.00  Construcción                     20,853.79   \n",
       "2       6,918,475.00     Servicios                     19,438.66   \n",
       "3       1,094,350.00     Industria                     26,716.39   \n",
       "4       1,094,350.00  Construcción                     23,471.18   \n",
       "..               ...           ...                           ...   \n",
       "301     1,897,850.00  Construcción                     29,392.81   \n",
       "302     1,897,850.00     Servicios                     28,236.98   \n",
       "303       274,375.00     Industria                     25,845.14   \n",
       "304       274,375.00  Construcción                     25,321.95   \n",
       "305       274,375.00     Servicios                     23,139.17   \n",
       "\n",
       "     Sueldos y salarios totales  \n",
       "0             73,753,331,557.50  \n",
       "1             63,202,624,042.50  \n",
       "2             58,913,718,795.00  \n",
       "3             15,330,532,491.75  \n",
       "4             13,468,349,863.50  \n",
       "..                          ...  \n",
       "301           29,267,890,557.50  \n",
       "302           28,116,972,835.00  \n",
       "303            3,789,543,652.50  \n",
       "304            3,712,830,918.75  \n",
       "305            3,392,780,801.25  \n",
       "\n",
       "[306 rows x 9 columns]"
      ]
     },
     "execution_count": 111,
     "metadata": {},
     "output_type": "execute_result"
    }
   ],
   "source": [
    "df_final_salarios"
   ]
  },
  {
   "cell_type": "code",
   "execution_count": 112,
   "metadata": {},
   "outputs": [],
   "source": [
    "df_final_gst_salario= pd.merge(df_final_gastos, df_final_salarios, on=['Comunidad autónoma', 'AÑO', 'Sector', 'Ocupados', 'Parados', 'Inactivos', 'Total Actividad'], how='inner')"
   ]
  },
  {
   "cell_type": "code",
   "execution_count": 113,
   "metadata": {},
   "outputs": [
    {
     "data": {
      "text/html": [
       "<div>\n",
       "<style scoped>\n",
       "    .dataframe tbody tr th:only-of-type {\n",
       "        vertical-align: middle;\n",
       "    }\n",
       "\n",
       "    .dataframe tbody tr th {\n",
       "        vertical-align: top;\n",
       "    }\n",
       "\n",
       "    .dataframe thead th {\n",
       "        text-align: right;\n",
       "    }\n",
       "</style>\n",
       "<table border=\"1\" class=\"dataframe\">\n",
       "  <thead>\n",
       "    <tr style=\"text-align: right;\">\n",
       "      <th></th>\n",
       "      <th>AÑO</th>\n",
       "      <th>Comunidad autónoma</th>\n",
       "      <th>Ocupados</th>\n",
       "      <th>Parados</th>\n",
       "      <th>Inactivos</th>\n",
       "      <th>Total Actividad</th>\n",
       "      <th>Sector</th>\n",
       "      <th>Gastos en transporte unitarios</th>\n",
       "      <th>Gasto total en transporte</th>\n",
       "      <th>Sueldos y salarios unitarios</th>\n",
       "      <th>Sueldos y salarios totales</th>\n",
       "    </tr>\n",
       "  </thead>\n",
       "  <tbody>\n",
       "    <tr>\n",
       "      <th>0</th>\n",
       "      <td>2018</td>\n",
       "      <td>Andalucía</td>\n",
       "      <td>3,030,750.00</td>\n",
       "      <td>904,625.00</td>\n",
       "      <td>2,983,100.00</td>\n",
       "      <td>6,918,475.00</td>\n",
       "      <td>Industria</td>\n",
       "      <td>37.15</td>\n",
       "      <td>112,592,362.50</td>\n",
       "      <td>24,335.01</td>\n",
       "      <td>73,753,331,557.50</td>\n",
       "    </tr>\n",
       "    <tr>\n",
       "      <th>1</th>\n",
       "      <td>2018</td>\n",
       "      <td>Andalucía</td>\n",
       "      <td>3,030,750.00</td>\n",
       "      <td>904,625.00</td>\n",
       "      <td>2,983,100.00</td>\n",
       "      <td>6,918,475.00</td>\n",
       "      <td>Construcción</td>\n",
       "      <td>21.25</td>\n",
       "      <td>64,403,437.50</td>\n",
       "      <td>20,853.79</td>\n",
       "      <td>63,202,624,042.50</td>\n",
       "    </tr>\n",
       "    <tr>\n",
       "      <th>2</th>\n",
       "      <td>2018</td>\n",
       "      <td>Andalucía</td>\n",
       "      <td>3,030,750.00</td>\n",
       "      <td>904,625.00</td>\n",
       "      <td>2,983,100.00</td>\n",
       "      <td>6,918,475.00</td>\n",
       "      <td>Servicios</td>\n",
       "      <td>3.39</td>\n",
       "      <td>10,274,242.50</td>\n",
       "      <td>19,438.66</td>\n",
       "      <td>58,913,718,795.00</td>\n",
       "    </tr>\n",
       "    <tr>\n",
       "      <th>3</th>\n",
       "      <td>2018</td>\n",
       "      <td>Aragón</td>\n",
       "      <td>573,825.00</td>\n",
       "      <td>68,250.00</td>\n",
       "      <td>452,275.00</td>\n",
       "      <td>1,094,350.00</td>\n",
       "      <td>Industria</td>\n",
       "      <td>109.99</td>\n",
       "      <td>63,115,011.75</td>\n",
       "      <td>26,716.39</td>\n",
       "      <td>15,330,532,491.75</td>\n",
       "    </tr>\n",
       "    <tr>\n",
       "      <th>4</th>\n",
       "      <td>2018</td>\n",
       "      <td>Aragón</td>\n",
       "      <td>573,825.00</td>\n",
       "      <td>68,250.00</td>\n",
       "      <td>452,275.00</td>\n",
       "      <td>1,094,350.00</td>\n",
       "      <td>Construcción</td>\n",
       "      <td>5.97</td>\n",
       "      <td>3,425,735.25</td>\n",
       "      <td>23,471.18</td>\n",
       "      <td>13,468,349,863.50</td>\n",
       "    </tr>\n",
       "    <tr>\n",
       "      <th>...</th>\n",
       "      <td>...</td>\n",
       "      <td>...</td>\n",
       "      <td>...</td>\n",
       "      <td>...</td>\n",
       "      <td>...</td>\n",
       "      <td>...</td>\n",
       "      <td>...</td>\n",
       "      <td>...</td>\n",
       "      <td>...</td>\n",
       "      <td>...</td>\n",
       "      <td>...</td>\n",
       "    </tr>\n",
       "    <tr>\n",
       "      <th>301</th>\n",
       "      <td>2023</td>\n",
       "      <td>País Vasco</td>\n",
       "      <td>995,750.00</td>\n",
       "      <td>83,375.00</td>\n",
       "      <td>818,725.00</td>\n",
       "      <td>1,897,850.00</td>\n",
       "      <td>Construcción</td>\n",
       "      <td>30.82</td>\n",
       "      <td>30,689,015.00</td>\n",
       "      <td>29,392.81</td>\n",
       "      <td>29,267,890,557.50</td>\n",
       "    </tr>\n",
       "    <tr>\n",
       "      <th>302</th>\n",
       "      <td>2023</td>\n",
       "      <td>País Vasco</td>\n",
       "      <td>995,750.00</td>\n",
       "      <td>83,375.00</td>\n",
       "      <td>818,725.00</td>\n",
       "      <td>1,897,850.00</td>\n",
       "      <td>Servicios</td>\n",
       "      <td>7.54</td>\n",
       "      <td>7,507,955.00</td>\n",
       "      <td>28,236.98</td>\n",
       "      <td>28,116,972,835.00</td>\n",
       "    </tr>\n",
       "    <tr>\n",
       "      <th>303</th>\n",
       "      <td>2023</td>\n",
       "      <td>Rioja, La</td>\n",
       "      <td>146,625.00</td>\n",
       "      <td>15,150.00</td>\n",
       "      <td>112,600.00</td>\n",
       "      <td>274,375.00</td>\n",
       "      <td>Industria</td>\n",
       "      <td>16.48</td>\n",
       "      <td>2,416,380.00</td>\n",
       "      <td>25,845.14</td>\n",
       "      <td>3,789,543,652.50</td>\n",
       "    </tr>\n",
       "    <tr>\n",
       "      <th>304</th>\n",
       "      <td>2023</td>\n",
       "      <td>Rioja, La</td>\n",
       "      <td>146,625.00</td>\n",
       "      <td>15,150.00</td>\n",
       "      <td>112,600.00</td>\n",
       "      <td>274,375.00</td>\n",
       "      <td>Construcción</td>\n",
       "      <td>11.38</td>\n",
       "      <td>1,668,592.50</td>\n",
       "      <td>25,321.95</td>\n",
       "      <td>3,712,830,918.75</td>\n",
       "    </tr>\n",
       "    <tr>\n",
       "      <th>305</th>\n",
       "      <td>2023</td>\n",
       "      <td>Rioja, La</td>\n",
       "      <td>146,625.00</td>\n",
       "      <td>15,150.00</td>\n",
       "      <td>112,600.00</td>\n",
       "      <td>274,375.00</td>\n",
       "      <td>Servicios</td>\n",
       "      <td>7.70</td>\n",
       "      <td>1,129,012.50</td>\n",
       "      <td>23,139.17</td>\n",
       "      <td>3,392,780,801.25</td>\n",
       "    </tr>\n",
       "  </tbody>\n",
       "</table>\n",
       "<p>306 rows × 11 columns</p>\n",
       "</div>"
      ],
      "text/plain": [
       "      AÑO Comunidad autónoma     Ocupados    Parados    Inactivos  \\\n",
       "0    2018          Andalucía 3,030,750.00 904,625.00 2,983,100.00   \n",
       "1    2018          Andalucía 3,030,750.00 904,625.00 2,983,100.00   \n",
       "2    2018          Andalucía 3,030,750.00 904,625.00 2,983,100.00   \n",
       "3    2018             Aragón   573,825.00  68,250.00   452,275.00   \n",
       "4    2018             Aragón   573,825.00  68,250.00   452,275.00   \n",
       "..    ...                ...          ...        ...          ...   \n",
       "301  2023         País Vasco   995,750.00  83,375.00   818,725.00   \n",
       "302  2023         País Vasco   995,750.00  83,375.00   818,725.00   \n",
       "303  2023          Rioja, La   146,625.00  15,150.00   112,600.00   \n",
       "304  2023          Rioja, La   146,625.00  15,150.00   112,600.00   \n",
       "305  2023          Rioja, La   146,625.00  15,150.00   112,600.00   \n",
       "\n",
       "     Total Actividad        Sector  Gastos en transporte unitarios  \\\n",
       "0       6,918,475.00     Industria                           37.15   \n",
       "1       6,918,475.00  Construcción                           21.25   \n",
       "2       6,918,475.00     Servicios                            3.39   \n",
       "3       1,094,350.00     Industria                          109.99   \n",
       "4       1,094,350.00  Construcción                            5.97   \n",
       "..               ...           ...                             ...   \n",
       "301     1,897,850.00  Construcción                           30.82   \n",
       "302     1,897,850.00     Servicios                            7.54   \n",
       "303       274,375.00     Industria                           16.48   \n",
       "304       274,375.00  Construcción                           11.38   \n",
       "305       274,375.00     Servicios                            7.70   \n",
       "\n",
       "     Gasto total en transporte  Sueldos y salarios unitarios  \\\n",
       "0               112,592,362.50                     24,335.01   \n",
       "1                64,403,437.50                     20,853.79   \n",
       "2                10,274,242.50                     19,438.66   \n",
       "3                63,115,011.75                     26,716.39   \n",
       "4                 3,425,735.25                     23,471.18   \n",
       "..                         ...                           ...   \n",
       "301              30,689,015.00                     29,392.81   \n",
       "302               7,507,955.00                     28,236.98   \n",
       "303               2,416,380.00                     25,845.14   \n",
       "304               1,668,592.50                     25,321.95   \n",
       "305               1,129,012.50                     23,139.17   \n",
       "\n",
       "     Sueldos y salarios totales  \n",
       "0             73,753,331,557.50  \n",
       "1             63,202,624,042.50  \n",
       "2             58,913,718,795.00  \n",
       "3             15,330,532,491.75  \n",
       "4             13,468,349,863.50  \n",
       "..                          ...  \n",
       "301           29,267,890,557.50  \n",
       "302           28,116,972,835.00  \n",
       "303            3,789,543,652.50  \n",
       "304            3,712,830,918.75  \n",
       "305            3,392,780,801.25  \n",
       "\n",
       "[306 rows x 11 columns]"
      ]
     },
     "execution_count": 113,
     "metadata": {},
     "output_type": "execute_result"
    }
   ],
   "source": [
    "df_final_gst_salario"
   ]
  },
  {
   "cell_type": "code",
   "execution_count": 114,
   "metadata": {},
   "outputs": [],
   "source": [
    "df_final_gst_salario.to_csv('Poblacion_Salarios_Gastos.csv', index=False)"
   ]
  }
 ],
 "metadata": {
  "kernelspec": {
   "display_name": "Python 3",
   "language": "python",
   "name": "python3"
  },
  "language_info": {
   "codemirror_mode": {
    "name": "ipython",
    "version": 3
   },
   "file_extension": ".py",
   "mimetype": "text/x-python",
   "name": "python",
   "nbconvert_exporter": "python",
   "pygments_lexer": "ipython3",
   "version": "3.11.9"
  }
 },
 "nbformat": 4,
 "nbformat_minor": 2
}
