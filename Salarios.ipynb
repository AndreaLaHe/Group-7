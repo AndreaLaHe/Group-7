{
 "cells": [
  {
   "cell_type": "code",
   "execution_count": 1,
   "metadata": {},
   "outputs": [],
   "source": [
    "# Importamos pandas y numpy\n",
    "import pandas as pd\n",
    "import numpy as np\n",
    "import re\n",
    "import seaborn as sns\n",
    "import matplotlib.pyplot as plt\n",
    "import numpy as np\n",
    "import scipy.stats as stats"
   ]
  },
  {
   "cell_type": "code",
   "execution_count": 2,
   "metadata": {},
   "outputs": [],
   "source": [
    "#Expecificamos ruta\n",
    "\n",
    "url = r'Salarios_Empleado.csv'"
   ]
  },
  {
   "cell_type": "code",
   "execution_count": 3,
   "metadata": {},
   "outputs": [],
   "source": [
    "salarios_df = pd.read_csv(url, sep=';', encoding='latin-1')\n"
   ]
  },
  {
   "cell_type": "code",
   "execution_count": 4,
   "metadata": {},
   "outputs": [
    {
     "data": {
      "text/html": [
       "<div><div id=cc32a689-4ab8-4fa0-879d-18efbf1a2b9b style=\"display:none; background-color:#9D6CFF; color:white; width:200px; height:30px; padding-left:5px; border-radius:4px; flex-direction:row; justify-content:space-around; align-items:center;\" onmouseover=\"this.style.backgroundColor='#BA9BF8'\" onmouseout=\"this.style.backgroundColor='#9D6CFF'\" onclick=\"window.commands?.execute('create-mitosheet-from-dataframe-output');\">See Full Dataframe in Mito</div> <script> if (window.commands?.hasCommand('create-mitosheet-from-dataframe-output')) document.getElementById('cc32a689-4ab8-4fa0-879d-18efbf1a2b9b').style.display = 'flex' </script> <table border=\"1\" class=\"dataframe\">\n",
       "  <thead>\n",
       "    <tr style=\"text-align: right;\">\n",
       "      <th></th>\n",
       "      <th>Comunidades y Ciudades Autónomas</th>\n",
       "      <th>Sectores de actividad</th>\n",
       "      <th>Tipo de indicador</th>\n",
       "      <th>Componentes del coste</th>\n",
       "      <th>Periodo</th>\n",
       "      <th>Total</th>\n",
       "    </tr>\n",
       "  </thead>\n",
       "  <tbody>\n",
       "    <tr>\n",
       "      <th>0</th>\n",
       "      <td>01 Andalucía</td>\n",
       "      <td>Industria</td>\n",
       "      <td>Valor absoluto</td>\n",
       "      <td>Sueldos y salarios</td>\n",
       "      <td>2023</td>\n",
       "      <td>25.915,32</td>\n",
       "    </tr>\n",
       "    <tr>\n",
       "      <th>1</th>\n",
       "      <td>01 Andalucía</td>\n",
       "      <td>Industria</td>\n",
       "      <td>Valor absoluto</td>\n",
       "      <td>Sueldos y salarios</td>\n",
       "      <td>2022</td>\n",
       "      <td>25.069,75</td>\n",
       "    </tr>\n",
       "    <tr>\n",
       "      <th>2</th>\n",
       "      <td>01 Andalucía</td>\n",
       "      <td>Industria</td>\n",
       "      <td>Valor absoluto</td>\n",
       "      <td>Sueldos y salarios</td>\n",
       "      <td>2021</td>\n",
       "      <td>23.746,67</td>\n",
       "    </tr>\n",
       "    <tr>\n",
       "      <th>3</th>\n",
       "      <td>01 Andalucía</td>\n",
       "      <td>Industria</td>\n",
       "      <td>Valor absoluto</td>\n",
       "      <td>Sueldos y salarios</td>\n",
       "      <td>2020</td>\n",
       "      <td>22.426,66</td>\n",
       "    </tr>\n",
       "    <tr>\n",
       "      <th>4</th>\n",
       "      <td>01 Andalucía</td>\n",
       "      <td>Industria</td>\n",
       "      <td>Valor absoluto</td>\n",
       "      <td>Sueldos y salarios</td>\n",
       "      <td>2019</td>\n",
       "      <td>23.548,70</td>\n",
       "    </tr>\n",
       "    <tr>\n",
       "      <th>...</th>\n",
       "      <td>...</td>\n",
       "      <td>...</td>\n",
       "      <td>...</td>\n",
       "      <td>...</td>\n",
       "      <td>...</td>\n",
       "      <td>...</td>\n",
       "    </tr>\n",
       "    <tr>\n",
       "      <th>301</th>\n",
       "      <td>17 Rioja, La</td>\n",
       "      <td>Servicios</td>\n",
       "      <td>Valor absoluto</td>\n",
       "      <td>Sueldos y salarios</td>\n",
       "      <td>2022</td>\n",
       "      <td>21.843,20</td>\n",
       "    </tr>\n",
       "    <tr>\n",
       "      <th>302</th>\n",
       "      <td>17 Rioja, La</td>\n",
       "      <td>Servicios</td>\n",
       "      <td>Valor absoluto</td>\n",
       "      <td>Sueldos y salarios</td>\n",
       "      <td>2021</td>\n",
       "      <td>20.492,86</td>\n",
       "    </tr>\n",
       "    <tr>\n",
       "      <th>303</th>\n",
       "      <td>17 Rioja, La</td>\n",
       "      <td>Servicios</td>\n",
       "      <td>Valor absoluto</td>\n",
       "      <td>Sueldos y salarios</td>\n",
       "      <td>2020</td>\n",
       "      <td>19.531,01</td>\n",
       "    </tr>\n",
       "    <tr>\n",
       "      <th>304</th>\n",
       "      <td>17 Rioja, La</td>\n",
       "      <td>Servicios</td>\n",
       "      <td>Valor absoluto</td>\n",
       "      <td>Sueldos y salarios</td>\n",
       "      <td>2019</td>\n",
       "      <td>20.046,38</td>\n",
       "    </tr>\n",
       "    <tr>\n",
       "      <th>305</th>\n",
       "      <td>17 Rioja, La</td>\n",
       "      <td>Servicios</td>\n",
       "      <td>Valor absoluto</td>\n",
       "      <td>Sueldos y salarios</td>\n",
       "      <td>2018</td>\n",
       "      <td>19.405,68</td>\n",
       "    </tr>\n",
       "  </tbody>\n",
       "</table></div>"
      ],
      "text/plain": [
       "    Comunidades y Ciudades Autónomas Sectores de actividad Tipo de indicador  \\\n",
       "0                       01 Andalucía             Industria    Valor absoluto   \n",
       "1                       01 Andalucía             Industria    Valor absoluto   \n",
       "2                       01 Andalucía             Industria    Valor absoluto   \n",
       "3                       01 Andalucía             Industria    Valor absoluto   \n",
       "4                       01 Andalucía             Industria    Valor absoluto   \n",
       "..                               ...                   ...               ...   \n",
       "301                     17 Rioja, La             Servicios    Valor absoluto   \n",
       "302                     17 Rioja, La             Servicios    Valor absoluto   \n",
       "303                     17 Rioja, La             Servicios    Valor absoluto   \n",
       "304                     17 Rioja, La             Servicios    Valor absoluto   \n",
       "305                     17 Rioja, La             Servicios    Valor absoluto   \n",
       "\n",
       "    Componentes del coste  Periodo      Total  \n",
       "0      Sueldos y salarios     2023  25.915,32  \n",
       "1      Sueldos y salarios     2022  25.069,75  \n",
       "2      Sueldos y salarios     2021  23.746,67  \n",
       "3      Sueldos y salarios     2020  22.426,66  \n",
       "4      Sueldos y salarios     2019  23.548,70  \n",
       "..                    ...      ...        ...  \n",
       "301    Sueldos y salarios     2022  21.843,20  \n",
       "302    Sueldos y salarios     2021  20.492,86  \n",
       "303    Sueldos y salarios     2020  19.531,01  \n",
       "304    Sueldos y salarios     2019  20.046,38  \n",
       "305    Sueldos y salarios     2018  19.405,68  \n",
       "\n",
       "[306 rows x 6 columns]"
      ]
     },
     "execution_count": 4,
     "metadata": {},
     "output_type": "execute_result"
    }
   ],
   "source": [
    "#Imprimimos el df\n",
    "\n",
    "salarios_df"
   ]
  },
  {
   "cell_type": "code",
   "execution_count": 5,
   "metadata": {},
   "outputs": [],
   "source": [
    "#Renombrar columnas\n",
    "salarios_df = salarios_df.rename(columns={'Comunidades y Ciudades Autónomas': 'Comunidades_Autonomas', 'Sectores de actividad': 'Sector', 'Componentes del coste': 'Tipo_Coste'})"
   ]
  },
  {
   "cell_type": "code",
   "execution_count": 6,
   "metadata": {},
   "outputs": [],
   "source": [
    "#Eliminar columnas innecesarias\n",
    "salarios_df = salarios_df.drop(columns=['Tipo de indicador'])"
   ]
  },
  {
   "cell_type": "code",
   "execution_count": 7,
   "metadata": {},
   "outputs": [
    {
     "data": {
      "text/plain": [
       "array(['01 Andalucía', '02 Aragón', '03 Asturias, Principado de',\n",
       "       '04 Balears, Illes', '05 Canarias', '06 Cantabria',\n",
       "       '07 Castilla y León', '08 Castilla - La Mancha', '09 Cataluña',\n",
       "       '10 Comunitat Valenciana', '11 Extremadura', '12 Galicia',\n",
       "       '13 Madrid, Comunidad de', '14 Murcia, Región de',\n",
       "       '15 Navarra, Comunidad Foral de', '16 País Vasco', '17 Rioja, La'],\n",
       "      dtype=object)"
      ]
     },
     "execution_count": 7,
     "metadata": {},
     "output_type": "execute_result"
    }
   ],
   "source": [
    "salarios_df['Comunidades_Autonomas'].unique()"
   ]
  },
  {
   "cell_type": "code",
   "execution_count": 8,
   "metadata": {},
   "outputs": [
    {
     "data": {
      "text/html": [
       "<div><div id=76f524dd-be1c-47df-83a7-9dfd2bc56135 style=\"display:none; background-color:#9D6CFF; color:white; width:200px; height:30px; padding-left:5px; border-radius:4px; flex-direction:row; justify-content:space-around; align-items:center;\" onmouseover=\"this.style.backgroundColor='#BA9BF8'\" onmouseout=\"this.style.backgroundColor='#9D6CFF'\" onclick=\"window.commands?.execute('create-mitosheet-from-dataframe-output');\">See Full Dataframe in Mito</div> <script> if (window.commands?.hasCommand('create-mitosheet-from-dataframe-output')) document.getElementById('76f524dd-be1c-47df-83a7-9dfd2bc56135').style.display = 'flex' </script> <table border=\"1\" class=\"dataframe\">\n",
       "  <thead>\n",
       "    <tr style=\"text-align: right;\">\n",
       "      <th></th>\n",
       "      <th>Comunidades_Autonomas</th>\n",
       "      <th>Sector</th>\n",
       "      <th>Tipo_Coste</th>\n",
       "      <th>Periodo</th>\n",
       "      <th>Total</th>\n",
       "    </tr>\n",
       "  </thead>\n",
       "  <tbody>\n",
       "    <tr>\n",
       "      <th>0</th>\n",
       "      <td>Andalucía</td>\n",
       "      <td>Industria</td>\n",
       "      <td>Sueldos y salarios</td>\n",
       "      <td>2023</td>\n",
       "      <td>25.915,32</td>\n",
       "    </tr>\n",
       "    <tr>\n",
       "      <th>1</th>\n",
       "      <td>Andalucía</td>\n",
       "      <td>Industria</td>\n",
       "      <td>Sueldos y salarios</td>\n",
       "      <td>2022</td>\n",
       "      <td>25.069,75</td>\n",
       "    </tr>\n",
       "    <tr>\n",
       "      <th>2</th>\n",
       "      <td>Andalucía</td>\n",
       "      <td>Industria</td>\n",
       "      <td>Sueldos y salarios</td>\n",
       "      <td>2021</td>\n",
       "      <td>23.746,67</td>\n",
       "    </tr>\n",
       "    <tr>\n",
       "      <th>3</th>\n",
       "      <td>Andalucía</td>\n",
       "      <td>Industria</td>\n",
       "      <td>Sueldos y salarios</td>\n",
       "      <td>2020</td>\n",
       "      <td>22.426,66</td>\n",
       "    </tr>\n",
       "    <tr>\n",
       "      <th>4</th>\n",
       "      <td>Andalucía</td>\n",
       "      <td>Industria</td>\n",
       "      <td>Sueldos y salarios</td>\n",
       "      <td>2019</td>\n",
       "      <td>23.548,70</td>\n",
       "    </tr>\n",
       "    <tr>\n",
       "      <th>...</th>\n",
       "      <td>...</td>\n",
       "      <td>...</td>\n",
       "      <td>...</td>\n",
       "      <td>...</td>\n",
       "      <td>...</td>\n",
       "    </tr>\n",
       "    <tr>\n",
       "      <th>301</th>\n",
       "      <td>Rioja, La</td>\n",
       "      <td>Servicios</td>\n",
       "      <td>Sueldos y salarios</td>\n",
       "      <td>2022</td>\n",
       "      <td>21.843,20</td>\n",
       "    </tr>\n",
       "    <tr>\n",
       "      <th>302</th>\n",
       "      <td>Rioja, La</td>\n",
       "      <td>Servicios</td>\n",
       "      <td>Sueldos y salarios</td>\n",
       "      <td>2021</td>\n",
       "      <td>20.492,86</td>\n",
       "    </tr>\n",
       "    <tr>\n",
       "      <th>303</th>\n",
       "      <td>Rioja, La</td>\n",
       "      <td>Servicios</td>\n",
       "      <td>Sueldos y salarios</td>\n",
       "      <td>2020</td>\n",
       "      <td>19.531,01</td>\n",
       "    </tr>\n",
       "    <tr>\n",
       "      <th>304</th>\n",
       "      <td>Rioja, La</td>\n",
       "      <td>Servicios</td>\n",
       "      <td>Sueldos y salarios</td>\n",
       "      <td>2019</td>\n",
       "      <td>20.046,38</td>\n",
       "    </tr>\n",
       "    <tr>\n",
       "      <th>305</th>\n",
       "      <td>Rioja, La</td>\n",
       "      <td>Servicios</td>\n",
       "      <td>Sueldos y salarios</td>\n",
       "      <td>2018</td>\n",
       "      <td>19.405,68</td>\n",
       "    </tr>\n",
       "  </tbody>\n",
       "</table></div>"
      ],
      "text/plain": [
       "    Comunidades_Autonomas     Sector          Tipo_Coste  Periodo      Total\n",
       "0               Andalucía  Industria  Sueldos y salarios     2023  25.915,32\n",
       "1               Andalucía  Industria  Sueldos y salarios     2022  25.069,75\n",
       "2               Andalucía  Industria  Sueldos y salarios     2021  23.746,67\n",
       "3               Andalucía  Industria  Sueldos y salarios     2020  22.426,66\n",
       "4               Andalucía  Industria  Sueldos y salarios     2019  23.548,70\n",
       "..                    ...        ...                 ...      ...        ...\n",
       "301             Rioja, La  Servicios  Sueldos y salarios     2022  21.843,20\n",
       "302             Rioja, La  Servicios  Sueldos y salarios     2021  20.492,86\n",
       "303             Rioja, La  Servicios  Sueldos y salarios     2020  19.531,01\n",
       "304             Rioja, La  Servicios  Sueldos y salarios     2019  20.046,38\n",
       "305             Rioja, La  Servicios  Sueldos y salarios     2018  19.405,68\n",
       "\n",
       "[306 rows x 5 columns]"
      ]
     },
     "execution_count": 8,
     "metadata": {},
     "output_type": "execute_result"
    }
   ],
   "source": [
    "# Quitamos el número en las comunidades \n",
    "# Eliminar los dos dígitos y el espacio al inicio de cada valor en la columna\n",
    "salarios_df['Comunidades_Autonomas'] = salarios_df['Comunidades_Autonomas'].str.replace(r'^\\d{2} ', '', regex=True)\n",
    "salarios_df"
   ]
  },
  {
   "cell_type": "code",
   "execution_count": 9,
   "metadata": {},
   "outputs": [
    {
     "name": "stdout",
     "output_type": "stream",
     "text": [
      "Comunidades_Autonomas    object\n",
      "Sector                   object\n",
      "Tipo_Coste               object\n",
      "Periodo                   int64\n",
      "Total                    object\n",
      "dtype: object\n"
     ]
    }
   ],
   "source": [
    "# Muestra los tipos de datos de cada columna\n",
    "print(salarios_df.dtypes)\n"
   ]
  },
  {
   "cell_type": "code",
   "execution_count": 10,
   "metadata": {},
   "outputs": [
    {
     "name": "stdout",
     "output_type": "stream",
     "text": [
      "0   NaN\n",
      "1   NaN\n",
      "2   NaN\n",
      "3   NaN\n",
      "4   NaN\n",
      "Name: Total, dtype: float64\n"
     ]
    }
   ],
   "source": [
    "# Convertimos la columna a tipo numérico\n",
    "salarios_df['Total'] = pd.to_numeric(salarios_df['Total'], errors='coerce')\n",
    "\n",
    "# Verificamos el resultado\n",
    "print(salarios_df['Total'].head())\n"
   ]
  },
  {
   "cell_type": "code",
   "execution_count": 11,
   "metadata": {},
   "outputs": [
    {
     "name": "stdout",
     "output_type": "stream",
     "text": [
      "  Comunidades_Autonomas     Sector          Tipo_Coste  Periodo  Total\n",
      "0             Andalucía  Industria  Sueldos y salarios     2023    NaN\n",
      "1             Andalucía  Industria  Sueldos y salarios     2022    NaN\n",
      "2             Andalucía  Industria  Sueldos y salarios     2021    NaN\n",
      "3             Andalucía  Industria  Sueldos y salarios     2020    NaN\n",
      "4             Andalucía  Industria  Sueldos y salarios     2019    NaN\n"
     ]
    }
   ],
   "source": [
    "print(salarios_df.head())\n"
   ]
  },
  {
   "cell_type": "code",
   "execution_count": 12,
   "metadata": {},
   "outputs": [
    {
     "name": "stdout",
     "output_type": "stream",
     "text": [
      "Número de filas duplicadas: 0\n"
     ]
    }
   ],
   "source": [
    "# Contar las filas duplicadas\n",
    "duplicados = salarios_df.duplicated().sum()\n",
    "print(f\"Número de filas duplicadas: {duplicados}\")\n"
   ]
  },
  {
   "cell_type": "code",
   "execution_count": 13,
   "metadata": {},
   "outputs": [
    {
     "name": "stdout",
     "output_type": "stream",
     "text": [
      "Número de valores nulos en cada columna:\n",
      "Comunidades_Autonomas      0\n",
      "Sector                     0\n",
      "Tipo_Coste                 0\n",
      "Periodo                    0\n",
      "Total                    306\n",
      "dtype: int64\n"
     ]
    }
   ],
   "source": [
    "# Contar los valores nulos en cada columna\n",
    "nulos = salarios_df.isnull().sum()\n",
    "print(\"Número de valores nulos en cada columna:\")\n",
    "print(nulos)\n"
   ]
  },
  {
   "cell_type": "code",
   "execution_count": 14,
   "metadata": {},
   "outputs": [],
   "source": [
    "salarios_df.to_csv(r'C:\\Users\\Andre\\OneDrive\\Documents\\GitHub\\Group-7\\Group-7\\Salarios_Limpio.csv', index=False, encoding='utf-8')\n"
   ]
  }
 ],
 "metadata": {
  "kernelspec": {
   "display_name": "Python 3",
   "language": "python",
   "name": "python3"
  },
  "language_info": {
   "codemirror_mode": {
    "name": "ipython",
    "version": 3
   },
   "file_extension": ".py",
   "mimetype": "text/x-python",
   "name": "python",
   "nbconvert_exporter": "python",
   "pygments_lexer": "ipython3",
   "version": "3.7.9"
  }
 },
 "nbformat": 4,
 "nbformat_minor": 2
}
